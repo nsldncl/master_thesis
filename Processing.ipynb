{
  "nbformat": 4,
  "nbformat_minor": 0,
  "metadata": {
    "colab": {
      "name": "Processing.ipynb",
      "provenance": [],
      "collapsed_sections": []
    },
    "kernelspec": {
      "display_name": "Python 3",
      "name": "python3"
    },
    "language_info": {
      "name": "python"
    }
  },
  "cells": [
    {
      "cell_type": "code",
      "metadata": {
        "id": "2P1Rz4Dvlp0l"
      },
      "source": [
        "import pandas as pd\n",
        "from dateutil import relativedelta, parser\n",
        "from pandas.tseries.offsets import BDay\n",
        "from datetime import datetime, date, time\n",
        "import numpy as np\n",
        "import pickle\n",
        "import time\n",
        "import re\n",
        "import matplotlib.pyplot as plt\n",
        "import pandas_datareader.data as reader"
      ],
      "execution_count": null,
      "outputs": []
    },
    {
      "cell_type": "code",
      "metadata": {
        "id": "tMfq485YpFF8",
        "colab": {
          "base_uri": "https://localhost:8080/"
        },
        "outputId": "fc639963-0b73-467c-ccfe-b9802cf0eb68"
      },
      "source": [
        "from google.colab import drive\n",
        "drive.mount('/content/drive')"
      ],
      "execution_count": null,
      "outputs": [
        {
          "output_type": "stream",
          "text": [
            "Mounted at /content/drive\n"
          ],
          "name": "stdout"
        }
      ]
    },
    {
      "cell_type": "code",
      "metadata": {
        "id": "7b1lBd1ro8NH"
      },
      "source": [
        "df = pd.read_pickle(\"/content/drive/MyDrive/Colab Notebooks/2019.QTR1.pkl\")\n",
        "df2 = pd.read_pickle(\"/content/drive/MyDrive/Colab Notebooks/2019.QTR2.pkl\")\n",
        "df = pd.concat([df, df2], ignore_index=True, sort=False)\n",
        "df.dropna(inplace=True)\n",
        "df = df.reset_index(drop=True)"
      ],
      "execution_count": null,
      "outputs": []
    },
    {
      "cell_type": "code",
      "metadata": {
        "id": "cdhIqlT0Lf-A"
      },
      "source": [
        "df[\"texts\"] = \"\""
      ],
      "execution_count": null,
      "outputs": []
    },
    {
      "cell_type": "code",
      "metadata": {
        "id": "UGoBCQ7o8ZxF"
      },
      "source": [
        "# get the content between first item and signatures\n",
        "\n",
        "#define the pattern\n",
        "pattern1 = r\"Item \\d{1,2}\\.\\d{2}[\\s\\S]*SIGNATURE\"\n",
        "\n",
        "#define the function\n",
        "def get_content(row):\n",
        "    newtext = re.search(pattern1, row, flags=re.I)\n",
        "    if newtext:\n",
        "        return newtext.group().rstrip(\"SIGNATURE\")\n",
        "    else:\n",
        "        return None\n",
        "\n",
        "# apply the function\n",
        "df[\"texts\"] = df.string.apply(get_content)"
      ],
      "execution_count": null,
      "outputs": []
    },
    {
      "cell_type": "code",
      "metadata": {
        "colab": {
          "base_uri": "https://localhost:8080/"
        },
        "id": "vmF6ahQE9jLS",
        "outputId": "a58c7a43-d91b-4074-d5cb-c6089f742d59"
      },
      "source": [
        "df.isnull().sum()"
      ],
      "execution_count": null,
      "outputs": [
        {
          "output_type": "execute_result",
          "data": {
            "text/plain": [
              "symbol             0\n",
              "cik                0\n",
              "form               0\n",
              "access_number      0\n",
              "filed_date         0\n",
              "accepted_date      0\n",
              "report_url         0\n",
              "filing_url         0\n",
              "string             0\n",
              "texts            335\n",
              "items              0\n",
              "dtype: int64"
            ]
          },
          "metadata": {
            "tags": []
          },
          "execution_count": 19
        }
      ]
    },
    {
      "cell_type": "code",
      "metadata": {
        "id": "lCvGEA4Y9qfl"
      },
      "source": [
        "df.dropna(inplace=True)\n",
        "df = df.reset_index(drop=True)"
      ],
      "execution_count": null,
      "outputs": []
    },
    {
      "cell_type": "code",
      "metadata": {
        "id": "E3aEu5-duKUk"
      },
      "source": [
        "# get document lengths\n",
        "df[\"lens\"] = df.texts.apply(lambda x: len(x.split()))"
      ],
      "execution_count": null,
      "outputs": []
    },
    {
      "cell_type": "code",
      "metadata": {
        "colab": {
          "base_uri": "https://localhost:8080/",
          "height": 265
        },
        "id": "Ptjg7t3KvMlp",
        "outputId": "c4fd5e2e-3437-4344-d167-0a87908dd483"
      },
      "source": [
        "plt.plot(df.lens)\n",
        "plt.show()"
      ],
      "execution_count": null,
      "outputs": [
        {
          "output_type": "display_data",
          "data": {
            "image/png": "[encoded data removed]",
            "text/plain": [
              "<Figure size 432x288 with 1 Axes>"
            ]
          },
          "metadata": {
            "tags": [],
            "needs_background": "light"
          }
        }
      ]
    },
    {
      "cell_type": "code",
      "metadata": {
        "id": "cGRz-VB3vTWI"
      },
      "source": [
        "df = df[df.lens < df.lens.quantile(.90)]"
      ],
      "execution_count": null,
      "outputs": []
    },
    {
      "cell_type": "code",
      "metadata": {
        "id": "Q7jlt-Vjg1jQ"
      },
      "source": [
        "df = df.reset_index(drop=True).copy()"
      ],
      "execution_count": null,
      "outputs": []
    },
    {
      "cell_type": "code",
      "metadata": {
        "colab": {
          "base_uri": "https://localhost:8080/",
          "height": 267
        },
        "id": "yKSVwvbnvZbk",
        "outputId": "07670cc7-07a7-40ec-9175-6d83c68c57cf"
      },
      "source": [
        "plt.plot(df.lens)\n",
        "plt.show()"
      ],
      "execution_count": null,
      "outputs": [
        {
          "output_type": "display_data",
          "data": {
            "image/png": "[encoded data removed]",
            "text/plain": [
              "<Figure size 432x288 with 1 Axes>"
            ]
          },
          "metadata": {
            "tags": [],
            "needs_background": "light"
          }
        }
      ]
    },
    {
      "cell_type": "code",
      "metadata": {
        "colab": {
          "base_uri": "https://localhost:8080/"
        },
        "id": "NuCqExxjJpKV",
        "outputId": "d1cfc65d-26b6-4b99-e6fd-2deda9ac7769"
      },
      "source": [
        "np.max(df[\"lens\"])"
      ],
      "execution_count": null,
      "outputs": [
        {
          "output_type": "execute_result",
          "data": {
            "text/plain": [
              "962"
            ]
          },
          "metadata": {
            "tags": []
          },
          "execution_count": 27
        }
      ]
    },
    {
      "cell_type": "code",
      "metadata": {
        "id": "f8vBTxn0hOMK"
      },
      "source": [
        "# get unique symbol list for market data query\n",
        "symbol_list = list(df.symbol.unique())\n",
        "np.savetxt('symbols.txt',symbol_list,fmt='%s')"
      ],
      "execution_count": null,
      "outputs": []
    },
    {
      "cell_type": "code",
      "metadata": {
        "id": "f5YFpz5ehOZE",
        "colab": {
          "base_uri": "https://localhost:8080/",
          "height": 204
        },
        "outputId": "d55ea61d-792e-4879-85c2-20a6018de781"
      },
      "source": [
        "# load market data\n",
        "df_wrds = pd.read_csv(\"/content/drive/MyDrive/Colab Notebooks/262dl80hiicwin8b.csv\")\n",
        "df_wrds.head()"
      ],
      "execution_count": null,
      "outputs": [
        {
          "output_type": "execute_result",
          "data": {
            "text/html": [
              "<div>\n",
              "<style scoped>\n",
              "    .dataframe tbody tr th:only-of-type {\n",
              "        vertical-align: middle;\n",
              "    }\n",
              "\n",
              "    .dataframe tbody tr th {\n",
              "        vertical-align: top;\n",
              "    }\n",
              "\n",
              "    .dataframe thead th {\n",
              "        text-align: right;\n",
              "    }\n",
              "</style>\n",
              "<table border=\"1\" class=\"dataframe\">\n",
              "  <thead>\n",
              "    <tr style=\"text-align: right;\">\n",
              "      <th></th>\n",
              "      <th>PERMNO</th>\n",
              "      <th>DATE</th>\n",
              "      <th>n</th>\n",
              "      <th>RET</th>\n",
              "      <th>b_mkt</th>\n",
              "      <th>alpha</th>\n",
              "      <th>ivol</th>\n",
              "      <th>tvol</th>\n",
              "      <th>R2</th>\n",
              "      <th>exret</th>\n",
              "      <th>TICKER</th>\n",
              "    </tr>\n",
              "  </thead>\n",
              "  <tbody>\n",
              "    <tr>\n",
              "      <th>0</th>\n",
              "      <td>10026</td>\n",
              "      <td>2019/02/20</td>\n",
              "      <td>252</td>\n",
              "      <td>-0.1147%</td>\n",
              "      <td>0.4087</td>\n",
              "      <td>0.0005</td>\n",
              "      <td>1.4233%</td>\n",
              "      <td>1.4875%</td>\n",
              "      <td>8.4436%</td>\n",
              "      <td>-0.2024%</td>\n",
              "      <td>JJSF</td>\n",
              "    </tr>\n",
              "    <tr>\n",
              "      <th>1</th>\n",
              "      <td>10026</td>\n",
              "      <td>2019/01/17</td>\n",
              "      <td>252</td>\n",
              "      <td>1.3348%</td>\n",
              "      <td>0.4774</td>\n",
              "      <td>-0.0000</td>\n",
              "      <td>1.2455%</td>\n",
              "      <td>1.3557%</td>\n",
              "      <td>15.5948%</td>\n",
              "      <td>0.9611%</td>\n",
              "      <td>JJSF</td>\n",
              "    </tr>\n",
              "    <tr>\n",
              "      <th>2</th>\n",
              "      <td>10026</td>\n",
              "      <td>2019/07/18</td>\n",
              "      <td>252</td>\n",
              "      <td>0.9715%</td>\n",
              "      <td>0.3061</td>\n",
              "      <td>0.0002</td>\n",
              "      <td>1.3836%</td>\n",
              "      <td>1.4171%</td>\n",
              "      <td>4.6774%</td>\n",
              "      <td>0.8553%</td>\n",
              "      <td>JJSF</td>\n",
              "    </tr>\n",
              "    <tr>\n",
              "      <th>3</th>\n",
              "      <td>10026</td>\n",
              "      <td>2019/01/15</td>\n",
              "      <td>252</td>\n",
              "      <td>-1.1510%</td>\n",
              "      <td>0.4860</td>\n",
              "      <td>0.0002</td>\n",
              "      <td>1.2564%</td>\n",
              "      <td>1.3696%</td>\n",
              "      <td>15.8559%</td>\n",
              "      <td>-1.6814%</td>\n",
              "      <td>JJSF</td>\n",
              "    </tr>\n",
              "    <tr>\n",
              "      <th>4</th>\n",
              "      <td>10026</td>\n",
              "      <td>2019/04/26</td>\n",
              "      <td>252</td>\n",
              "      <td>1.1806%</td>\n",
              "      <td>0.3405</td>\n",
              "      <td>0.0003</td>\n",
              "      <td>1.4358%</td>\n",
              "      <td>1.4733%</td>\n",
              "      <td>5.0328%</td>\n",
              "      <td>0.9912%</td>\n",
              "      <td>JJSF</td>\n",
              "    </tr>\n",
              "  </tbody>\n",
              "</table>\n",
              "</div>"
            ],
            "text/plain": [
              "   PERMNO        DATE    n       RET  ...     tvol        R2     exret TICKER\n",
              "0   10026  2019/02/20  252  -0.1147%  ...  1.4875%   8.4436%  -0.2024%   JJSF\n",
              "1   10026  2019/01/17  252   1.3348%  ...  1.3557%  15.5948%   0.9611%   JJSF\n",
              "2   10026  2019/07/18  252   0.9715%  ...  1.4171%   4.6774%   0.8553%   JJSF\n",
              "3   10026  2019/01/15  252  -1.1510%  ...  1.3696%  15.8559%  -1.6814%   JJSF\n",
              "4   10026  2019/04/26  252   1.1806%  ...  1.4733%   5.0328%   0.9912%   JJSF\n",
              "\n",
              "[5 rows x 11 columns]"
            ]
          },
          "metadata": {
            "tags": []
          },
          "execution_count": 31
        }
      ]
    },
    {
      "cell_type": "code",
      "metadata": {
        "id": "NdcYJQWRg1m6"
      },
      "source": [
        "df = df[df[\"symbol\"].isin(df_wrds[\"TICKER\"])]"
      ],
      "execution_count": null,
      "outputs": []
    },
    {
      "cell_type": "code",
      "metadata": {
        "id": "kOe1VNh6m1d8"
      },
      "source": [
        "# define function to process return columns\n",
        "def to_float(x):\n",
        "  try:\n",
        "    x = float(x.strip('%'))/100\n",
        "  except:\n",
        "    x = np.nan\n",
        "  return x"
      ],
      "execution_count": null,
      "outputs": []
    },
    {
      "cell_type": "code",
      "metadata": {
        "id": "RCib6x5om8kT"
      },
      "source": [
        "df_wrds[\"RET\"] = df_wrds[\"RET\"].apply(to_float)\n",
        "df_wrds[\"exret\"] = df_wrds[\"exret\"].apply(to_float)"
      ],
      "execution_count": null,
      "outputs": []
    },
    {
      "cell_type": "code",
      "metadata": {
        "id": "60S1ph8Hm8pI"
      },
      "source": [
        "# define function to take one-day percentage change\n",
        "def get_pct1(row):\n",
        "    h = int(row[\"accepted_date\"].split()[1].split(\":\")[0])\n",
        "    \n",
        "    tckr = row[\"symbol\"]\n",
        "\n",
        "    if h>=16:\n",
        "        start_date =datetime.strptime(row[\"accepted_date\"].split()[0], \"%Y-%m-%d\")\n",
        "        start_date_str = start_date.strftime (\"%Y/%m/%d\")\n",
        "\n",
        "        end_date = start_date + BDay(1)\n",
        "        end_date_str = end_date.strftime (\"%Y/%m/%d\")\n",
        "        \n",
        "        temp = df_wrds[df_wrds[\"TICKER\"] == tckr]\n",
        "        try:\n",
        "          pct_change = temp[temp[\"DATE\"] == end_date_str][\"RET\"].values[0]\n",
        "        except:\n",
        "           pct_change = np.nan    \n",
        "    \n",
        "    else:\n",
        "        start_date =datetime.strptime(row[\"accepted_date\"].split()[0], \"%Y-%m-%d\")\n",
        "        start_date_str = start_date.strftime (\"%Y/%m/%d\")\n",
        "        end_date = start_date\n",
        "        end_date_str = end_date.strftime (\"%Y/%m/%d\")\n",
        "        temp = df_wrds[df_wrds[\"TICKER\"] == tckr]\n",
        "        try:\n",
        "          pct_change = temp[temp[\"DATE\"] == end_date_str][\"RET\"].values[0]\n",
        "        except:\n",
        "          pct_change = np.nan\n",
        "\n",
        "    return pct_change"
      ],
      "execution_count": null,
      "outputs": []
    },
    {
      "cell_type": "code",
      "metadata": {
        "id": "C8mwzZLclXHt"
      },
      "source": [
        "# define function to get 2-day percentage change\n",
        "def get_pct2(row):\n",
        "    h = int(row[\"accepted_date\"].split()[1].split(\":\")[0])\n",
        "    \n",
        "    tckr = row[\"symbol\"]\n",
        "\n",
        "    if h>=16:\n",
        "        start_date =datetime.strptime(row[\"accepted_date\"].split()[0], \"%Y-%m-%d\")\n",
        "        start_date_str = start_date.strftime (\"%Y/%m/%d\")\n",
        "\n",
        "        end_date = start_date + BDay(1)\n",
        "        end_date_str = end_date.strftime (\"%Y/%m/%d\")\n",
        "        \n",
        "        temp = df_wrds[df_wrds[\"TICKER\"] == tckr]\n",
        "        try:\n",
        "          pct_change = temp[temp[\"DATE\"] == end_date_str][\"RET\"].values[0]\n",
        "        except:\n",
        "           pct_change = np.nan    \n",
        "    \n",
        "    else:\n",
        "        start_date =datetime.strptime(row[\"accepted_date\"].split()[0], \"%Y-%m-%d\")\n",
        "        start_date_str = start_date.strftime (\"%Y/%m/%d\")\n",
        "        end_date = start_date + BDay(1)\n",
        "        end_date_str = end_date.strftime (\"%Y/%m/%d\")\n",
        "        temp = df_wrds[df_wrds[\"TICKER\"] == tckr]\n",
        "        try:\n",
        "          pct_change1 = temp[temp[\"DATE\"] == start_date_str][\"RET\"].values[0]\n",
        "          pct_change2 = temp[temp[\"DATE\"] == end_date_str][\"RET\"].values[0]\n",
        "          pct_change = (1+pct_change1)*(1+pct_change2)-1\n",
        "        except:\n",
        "          pct_change = np.nan\n",
        "\n",
        "    return pct_change"
      ],
      "execution_count": null,
      "outputs": []
    },
    {
      "cell_type": "code",
      "metadata": {
        "id": "qfZwmdjFlXMv"
      },
      "source": [
        "# apply the functions\n",
        "df[\"pct_change1\"] = df.apply(get_pct1, axis=1)\n",
        "df[\"pct_change2\"] = df.apply(get_pct2, axis=1)"
      ],
      "execution_count": null,
      "outputs": []
    },
    {
      "cell_type": "code",
      "metadata": {
        "id": "xlCry5ZelXQ2"
      },
      "source": [
        "# define function to get one-day stock beta\n",
        "def get_beta1(row):\n",
        "    h = int(row[\"accepted_date\"].split()[1].split(\":\")[0])\n",
        "    \n",
        "    tckr = row[\"symbol\"]\n",
        "\n",
        "    if h>=16:\n",
        "        start_date =datetime.strptime(row[\"accepted_date\"].split()[0], \"%Y-%m-%d\")\n",
        "        start_date_str = start_date.strftime (\"%Y/%m/%d\")\n",
        "\n",
        "        end_date = start_date + BDay(1)\n",
        "        end_date_str = end_date.strftime (\"%Y/%m/%d\")\n",
        "        \n",
        "        temp = df_wrds[df_wrds[\"TICKER\"] == tckr]\n",
        "        try:\n",
        "          beta = temp[temp[\"DATE\"] == end_date_str][\"b_mkt\"].values[0]\n",
        "        except:\n",
        "           beta = np.nan    \n",
        "    \n",
        "    else:\n",
        "        start_date =datetime.strptime(row[\"accepted_date\"].split()[0], \"%Y-%m-%d\")\n",
        "        start_date_str = start_date.strftime (\"%Y/%m/%d\")\n",
        "        end_date = start_date\n",
        "        end_date_str = end_date.strftime (\"%Y/%m/%d\")\n",
        "        temp = df_wrds[df_wrds[\"TICKER\"] == tckr]\n",
        "        try:\n",
        "          beta = temp[temp[\"DATE\"] == end_date_str][\"b_mkt\"].values[0]\n",
        "\n",
        "        except:\n",
        "          beta = np.nan\n",
        "\n",
        "    return beta"
      ],
      "execution_count": null,
      "outputs": []
    },
    {
      "cell_type": "code",
      "metadata": {
        "id": "ucLNx7AzlXUe"
      },
      "source": [
        "# define funtion to get 2-day arithmetic mean stock beta\n",
        "def get_beta2(row):\n",
        "    h = int(row[\"accepted_date\"].split()[1].split(\":\")[0])\n",
        "    \n",
        "    tckr = row[\"symbol\"]\n",
        "\n",
        "    if h>=16:\n",
        "        start_date =datetime.strptime(row[\"accepted_date\"].split()[0], \"%Y-%m-%d\")\n",
        "        start_date_str = start_date.strftime (\"%Y/%m/%d\")\n",
        "\n",
        "        end_date = start_date + BDay(1)\n",
        "        end_date_str = end_date.strftime (\"%Y/%m/%d\")\n",
        "        \n",
        "        temp = df_wrds[df_wrds[\"TICKER\"] == tckr]\n",
        "        try:\n",
        "          beta = temp[temp[\"DATE\"] == end_date_str][\"b_mkt\"].values[0]\n",
        "        except:\n",
        "           beta = np.nan    \n",
        "    \n",
        "    else:\n",
        "        start_date =datetime.strptime(row[\"accepted_date\"].split()[0], \"%Y-%m-%d\")\n",
        "        start_date_str = start_date.strftime (\"%Y/%m/%d\")\n",
        "        end_date = start_date + BDay(1)\n",
        "        end_date_str = end_date.strftime (\"%Y/%m/%d\")\n",
        "        temp = df_wrds[df_wrds[\"TICKER\"] == tckr]\n",
        "        try:\n",
        "          beta1 = temp[temp[\"DATE\"] == end_date_str][\"b_mkt\"].values[0]\n",
        "          beta2 = temp[temp[\"DATE\"] == start_date_str][\"b_mkt\"].values[0]\n",
        "          beta = (beta1 + beta2)/2\n",
        "\n",
        "        except:\n",
        "          beta = np.nan\n",
        "\n",
        "    return beta"
      ],
      "execution_count": null,
      "outputs": []
    },
    {
      "cell_type": "code",
      "metadata": {
        "id": "mgIOvN6UoQ28"
      },
      "source": [
        "# apply the functions\n",
        "df[\"beta1\"] = df.apply(get_beta1, axis=1)\n",
        "df[\"beta2\"] = df.apply(get_beta2, axis=1)"
      ],
      "execution_count": null,
      "outputs": []
    },
    {
      "cell_type": "code",
      "metadata": {
        "id": "sNKzqCx6ohmK"
      },
      "source": [
        "# define the function to get one-day market return\n",
        "def get_mkt_ret1(row):\n",
        "    h = int(row[\"accepted_date\"].split()[1].split(\":\")[0])\n",
        "    \n",
        "    tckr = row[\"symbol\"]\n",
        "\n",
        "    if h>=16:\n",
        "        start_date =datetime.strptime(row[\"accepted_date\"].split()[0], \"%Y-%m-%d\")\n",
        "        start_date_str = start_date.strftime (\"%Y/%m/%d\")\n",
        "\n",
        "        end_date = start_date + BDay(1)\n",
        "        end_date_str = end_date.strftime (\"%Y/%m/%d\")\n",
        "        \n",
        "        temp = df_wrds[df_wrds[\"TICKER\"] == tckr]\n",
        "        try:\n",
        "          exret = temp[temp[\"DATE\"] == end_date_str][\"exret\"].values[0]\n",
        "        except:\n",
        "           exret = np.nan    \n",
        "    \n",
        "    else:\n",
        "        start_date =datetime.strptime(row[\"accepted_date\"].split()[0], \"%Y-%m-%d\")\n",
        "        start_date_str = start_date.strftime (\"%Y/%m/%d\")\n",
        "        end_date = start_date\n",
        "        end_date_str = end_date.strftime (\"%Y/%m/%d\")\n",
        "        temp = df_wrds[df_wrds[\"TICKER\"] == tckr]\n",
        "        try:\n",
        "          exret = temp[temp[\"DATE\"] == start_date_str][\"exret\"].values[0]\n",
        "          #exret2 = temp[temp[\"DATE\"] == end_date_str][\"exret\"].values[0]\n",
        "          #exret = (1+exret1)*(1+exret2)-1\n",
        "\n",
        "        except:\n",
        "          exret = np.nan\n",
        "\n",
        "    return exret"
      ],
      "execution_count": null,
      "outputs": []
    },
    {
      "cell_type": "code",
      "metadata": {
        "id": "vmDh33_6ohpu"
      },
      "source": [
        "# define the function to get 2-day market return\n",
        "def get_mkt_ret2(row):\n",
        "    h = int(row[\"accepted_date\"].split()[1].split(\":\")[0])\n",
        "    \n",
        "    tckr = row[\"symbol\"]\n",
        "\n",
        "    if h>=16:\n",
        "        start_date =datetime.strptime(row[\"accepted_date\"].split()[0], \"%Y-%m-%d\")\n",
        "        start_date_str = start_date.strftime (\"%Y/%m/%d\")\n",
        "\n",
        "        end_date = start_date + BDay(1)\n",
        "        end_date_str = end_date.strftime (\"%Y/%m/%d\")\n",
        "        \n",
        "        temp = df_wrds[df_wrds[\"TICKER\"] == tckr]\n",
        "        try:\n",
        "          exret = temp[temp[\"DATE\"] == end_date_str][\"exret\"].values[0]\n",
        "        except:\n",
        "           exret = np.nan    \n",
        "    \n",
        "    else:\n",
        "        start_date =datetime.strptime(row[\"accepted_date\"].split()[0], \"%Y-%m-%d\")\n",
        "        start_date_str = start_date.strftime (\"%Y/%m/%d\")\n",
        "        end_date = start_date + BDay(1)\n",
        "        end_date_str = end_date.strftime (\"%Y/%m/%d\")\n",
        "        temp = df_wrds[df_wrds[\"TICKER\"] == tckr]\n",
        "        try:\n",
        "          exret1 = temp[temp[\"DATE\"] == start_date_str][\"exret\"].values[0]\n",
        "          exret2 = temp[temp[\"DATE\"] == end_date_str][\"exret\"].values[0]\n",
        "          exret = (1+exret1)*(1+exret2)-1\n",
        "\n",
        "        except:\n",
        "          exret = np.nan\n",
        "\n",
        "    return exret"
      ],
      "execution_count": null,
      "outputs": []
    },
    {
      "cell_type": "code",
      "metadata": {
        "id": "z6DBjV6hohtr"
      },
      "source": [
        "# apply the functions\n",
        "df[\"mkt_excess1\"] = df.apply(get_mkt_ret1, axis=1)\n",
        "df[\"mkt_excess2\"] = df.apply(get_mkt_ret2, axis=1)"
      ],
      "execution_count": null,
      "outputs": []
    },
    {
      "cell_type": "code",
      "metadata": {
        "colab": {
          "base_uri": "https://localhost:8080/"
        },
        "id": "t4SwmDuECgpN",
        "outputId": "90265fb5-2dc4-4ed6-ecda-2bd5ad66dbe7"
      },
      "source": [
        "df.isnull().sum()"
      ],
      "execution_count": null,
      "outputs": [
        {
          "output_type": "execute_result",
          "data": {
            "text/plain": [
              "symbol              0\n",
              "cik                 0\n",
              "form                0\n",
              "access_number       0\n",
              "filed_date          0\n",
              "accepted_date       0\n",
              "report_url          0\n",
              "filing_url          0\n",
              "string              0\n",
              "texts               0\n",
              "lens                0\n",
              "pct_change1      1534\n",
              "pct_change2      1833\n",
              "beta1            1532\n",
              "beta2            1831\n",
              "mkt_excess1      1542\n",
              "mkt_excess2      1841\n",
              "dtype: int64"
            ]
          },
          "metadata": {
            "tags": []
          },
          "execution_count": 37
        }
      ]
    },
    {
      "cell_type": "code",
      "metadata": {
        "id": "OyS_2lmCohxf"
      },
      "source": [
        "# save to pickle\n",
        "df.to_pickle(\"/content/drive/MyDrive/Colab Notebooks/wholething.pkl\")"
      ],
      "execution_count": null,
      "outputs": []
    },
    {
      "cell_type": "code",
      "metadata": {
        "id": "Iz14C93fQQDg"
      },
      "source": [
        "df = pd.read_pickle(\"/content/drive/MyDrive/Colab Notebooks/wholething.pkl\")"
      ],
      "execution_count": null,
      "outputs": []
    },
    {
      "cell_type": "code",
      "metadata": {
        "id": "5szkXgJq2bQs"
      },
      "source": [
        "# define function to get industry of the registrant\n",
        "def get_industry(row):\n",
        "  \n",
        "    tckr = row[\"symbol\"]\n",
        "\n",
        "    try:\n",
        "      industry = ft[ft[\"TICKER\"] == tckr][\"NAICS\"].values[0]\n",
        "    except:\n",
        "      industry = np.nan\n",
        "  \n",
        "    return industry"
      ],
      "execution_count": null,
      "outputs": []
    },
    {
      "cell_type": "code",
      "metadata": {
        "id": "r800-3gp2QGr"
      },
      "source": [
        "df[\"ind\"] = df.apply(get_industry, axis = 1)"
      ],
      "execution_count": null,
      "outputs": []
    },
    {
      "cell_type": "code",
      "metadata": {
        "id": "ViuXbEPp4nsM"
      },
      "source": [
        "df.to_pickle(\"/content/drive/MyDrive/Colab Notebooks/wholething_ind.pkl\")"
      ],
      "execution_count": null,
      "outputs": []
    }
  ]
}