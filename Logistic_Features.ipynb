{
  "nbformat": 4,
  "nbformat_minor": 0,
  "metadata": {
    "colab": {
      "name": "Logistic_Features.ipynb",
      "provenance": [],
      "collapsed_sections": []
    },
    "kernelspec": {
      "name": "python3",
      "display_name": "Python 3"
    },
    "language_info": {
      "name": "python"
    }
  },
  "cells": [
    {
      "cell_type": "markdown",
      "metadata": {
        "id": "phfeFGB-jQFH"
      },
      "source": [
        "## Logistic Regression - Numerical Features\n"
      ]
    },
    {
      "cell_type": "code",
      "metadata": {
        "id": "LNF2Q7L5jId7"
      },
      "source": [
        "import time\n",
        "import pandas as pd\n",
        "import pickle\n",
        "import matplotlib.pyplot as plt\n",
        "import numpy as np\n",
        "from sklearn.linear_model import LogisticRegression\n",
        "import sklearn.model_selection\n",
        "import sklearn.preprocessing as preproc\n",
        "import warnings\n",
        "warnings.filterwarnings(\"ignore\")\n",
        "from sklearn.metrics import classification_report\n",
        "from sklearn.model_selection import train_test_split\n",
        "from sklearn.preprocessing import StandardScaler"
      ],
      "execution_count": null,
      "outputs": []
    },
    {
      "cell_type": "code",
      "metadata": {
        "colab": {
          "base_uri": "https://localhost:8080/"
        },
        "id": "tuGFo3vqjuEc",
        "outputId": "1be0a53f-3dc1-492e-bf6f-3e49fb8bdac9"
      },
      "source": [
        "from google.colab import drive\n",
        "drive.mount('/content/drive')"
      ],
      "execution_count": null,
      "outputs": [
        {
          "output_type": "stream",
          "text": [
            "Mounted at /content/drive\n"
          ],
          "name": "stdout"
        }
      ]
    },
    {
      "cell_type": "code",
      "metadata": {
        "colab": {
          "base_uri": "https://localhost:8080/",
          "height": 632
        },
        "id": "th5UFQNwj_D6",
        "outputId": "37543fc9-242d-4db3-a464-7c43a609f8cf"
      },
      "source": [
        "df = pd.read_pickle(\"/content/drive/MyDrive/Colab Notebooks/with_all_ft_clean.pkl\")\n",
        "df.head()"
      ],
      "execution_count": null,
      "outputs": [
        {
          "output_type": "execute_result",
          "data": {
            "text/html": [
              "<div>\n",
              "<style scoped>\n",
              "    .dataframe tbody tr th:only-of-type {\n",
              "        vertical-align: middle;\n",
              "    }\n",
              "\n",
              "    .dataframe tbody tr th {\n",
              "        vertical-align: top;\n",
              "    }\n",
              "\n",
              "    .dataframe thead th {\n",
              "        text-align: right;\n",
              "    }\n",
              "</style>\n",
              "<table border=\"1\" class=\"dataframe\">\n",
              "  <thead>\n",
              "    <tr style=\"text-align: right;\">\n",
              "      <th></th>\n",
              "      <th>texts</th>\n",
              "      <th>pct_change1</th>\n",
              "      <th>pct_change2</th>\n",
              "      <th>beta1</th>\n",
              "      <th>beta2</th>\n",
              "      <th>mkt_excess1</th>\n",
              "      <th>mkt_excess2</th>\n",
              "      <th>item 1.01</th>\n",
              "      <th>item 1.02</th>\n",
              "      <th>item 1.03</th>\n",
              "      <th>item 1.04</th>\n",
              "      <th>item 2.01</th>\n",
              "      <th>item 2.02</th>\n",
              "      <th>item 2.03</th>\n",
              "      <th>item 2.04</th>\n",
              "      <th>item 2.05</th>\n",
              "      <th>item 2.06</th>\n",
              "      <th>item 2.10</th>\n",
              "      <th>item 3.01</th>\n",
              "      <th>item 3.02</th>\n",
              "      <th>item 3.03</th>\n",
              "      <th>item 4.01</th>\n",
              "      <th>item 4.02</th>\n",
              "      <th>item 4.04</th>\n",
              "      <th>item 5.01</th>\n",
              "      <th>item 5.02</th>\n",
              "      <th>item 5.03</th>\n",
              "      <th>item 5.04</th>\n",
              "      <th>item 5.05</th>\n",
              "      <th>item 5.07</th>\n",
              "      <th>item 5.08</th>\n",
              "      <th>item 7.01</th>\n",
              "      <th>item 7.02</th>\n",
              "      <th>item 8.01</th>\n",
              "      <th>item 9.01</th>\n",
              "      <th>item 9.02</th>\n",
              "      <th>VIX</th>\n",
              "      <th>label1</th>\n",
              "      <th>label2</th>\n",
              "      <th>SHRCD_12.0</th>\n",
              "      <th>SHRCD_14.0</th>\n",
              "      <th>SHRCD_18.0</th>\n",
              "      <th>SHRCD_21.0</th>\n",
              "      <th>SHRCD_31.0</th>\n",
              "      <th>SHRCD_41.0</th>\n",
              "      <th>SHRCD_44.0</th>\n",
              "      <th>SHRCD_48.0</th>\n",
              "      <th>SHRCD_71.0</th>\n",
              "      <th>SHRCD_72.0</th>\n",
              "      <th>SHRCD_73.0</th>\n",
              "      <th>SHRCD_74.0</th>\n",
              "      <th>ind_21</th>\n",
              "      <th>ind_22</th>\n",
              "      <th>ind_23</th>\n",
              "      <th>ind_31</th>\n",
              "      <th>ind_32</th>\n",
              "      <th>ind_33</th>\n",
              "      <th>ind_42</th>\n",
              "      <th>ind_44</th>\n",
              "      <th>ind_45</th>\n",
              "      <th>ind_48</th>\n",
              "      <th>ind_49</th>\n",
              "      <th>ind_51</th>\n",
              "      <th>ind_52</th>\n",
              "      <th>ind_53</th>\n",
              "      <th>ind_54</th>\n",
              "      <th>ind_55</th>\n",
              "      <th>ind_56</th>\n",
              "      <th>ind_61</th>\n",
              "      <th>ind_62</th>\n",
              "      <th>ind_71</th>\n",
              "      <th>ind_72</th>\n",
              "      <th>ind_81</th>\n",
              "      <th>ind_na</th>\n",
              "      <th>EXCHCD_1.0</th>\n",
              "      <th>EXCHCD_2.0</th>\n",
              "      <th>EXCHCD_3.0</th>\n",
              "      <th>EXCHCD_4.0</th>\n",
              "      <th>Mkt_Cap</th>\n",
              "    </tr>\n",
              "  </thead>\n",
              "  <tbody>\n",
              "    <tr>\n",
              "      <th>0</th>\n",
              "      <td>Item 2.02\\nResults of Operations and Financial...</td>\n",
              "      <td>0.039772</td>\n",
              "      <td>0.018824</td>\n",
              "      <td>0.1235</td>\n",
              "      <td>0.12100</td>\n",
              "      <td>0.039502</td>\n",
              "      <td>0.017531</td>\n",
              "      <td>0</td>\n",
              "      <td>0</td>\n",
              "      <td>0</td>\n",
              "      <td>0</td>\n",
              "      <td>0</td>\n",
              "      <td>1</td>\n",
              "      <td>0</td>\n",
              "      <td>0</td>\n",
              "      <td>0</td>\n",
              "      <td>0</td>\n",
              "      <td>0</td>\n",
              "      <td>0</td>\n",
              "      <td>0</td>\n",
              "      <td>0</td>\n",
              "      <td>0</td>\n",
              "      <td>0</td>\n",
              "      <td>0</td>\n",
              "      <td>0</td>\n",
              "      <td>0</td>\n",
              "      <td>0</td>\n",
              "      <td>0</td>\n",
              "      <td>0</td>\n",
              "      <td>0</td>\n",
              "      <td>0</td>\n",
              "      <td>0</td>\n",
              "      <td>0</td>\n",
              "      <td>0</td>\n",
              "      <td>1</td>\n",
              "      <td>0</td>\n",
              "      <td>16.14</td>\n",
              "      <td>pos</td>\n",
              "      <td>pos</td>\n",
              "      <td>1</td>\n",
              "      <td>0</td>\n",
              "      <td>0</td>\n",
              "      <td>0</td>\n",
              "      <td>0</td>\n",
              "      <td>0</td>\n",
              "      <td>0</td>\n",
              "      <td>0</td>\n",
              "      <td>0</td>\n",
              "      <td>0</td>\n",
              "      <td>0</td>\n",
              "      <td>0</td>\n",
              "      <td>0</td>\n",
              "      <td>0</td>\n",
              "      <td>0</td>\n",
              "      <td>0</td>\n",
              "      <td>0</td>\n",
              "      <td>0</td>\n",
              "      <td>0</td>\n",
              "      <td>0</td>\n",
              "      <td>0</td>\n",
              "      <td>0</td>\n",
              "      <td>0</td>\n",
              "      <td>0</td>\n",
              "      <td>1</td>\n",
              "      <td>0</td>\n",
              "      <td>0</td>\n",
              "      <td>0</td>\n",
              "      <td>0</td>\n",
              "      <td>0</td>\n",
              "      <td>0</td>\n",
              "      <td>0</td>\n",
              "      <td>0</td>\n",
              "      <td>0</td>\n",
              "      <td>0</td>\n",
              "      <td>0</td>\n",
              "      <td>0</td>\n",
              "      <td>1</td>\n",
              "      <td>0</td>\n",
              "      <td>86355.36</td>\n",
              "    </tr>\n",
              "    <tr>\n",
              "      <th>1</th>\n",
              "      <td>Item 2.02 Results of Operations and Financial ...</td>\n",
              "      <td>0.005894</td>\n",
              "      <td>0.019647</td>\n",
              "      <td>0.9098</td>\n",
              "      <td>0.91085</td>\n",
              "      <td>-0.003435</td>\n",
              "      <td>0.005013</td>\n",
              "      <td>0</td>\n",
              "      <td>0</td>\n",
              "      <td>0</td>\n",
              "      <td>0</td>\n",
              "      <td>0</td>\n",
              "      <td>1</td>\n",
              "      <td>0</td>\n",
              "      <td>0</td>\n",
              "      <td>0</td>\n",
              "      <td>0</td>\n",
              "      <td>0</td>\n",
              "      <td>0</td>\n",
              "      <td>0</td>\n",
              "      <td>0</td>\n",
              "      <td>0</td>\n",
              "      <td>0</td>\n",
              "      <td>0</td>\n",
              "      <td>0</td>\n",
              "      <td>0</td>\n",
              "      <td>0</td>\n",
              "      <td>0</td>\n",
              "      <td>0</td>\n",
              "      <td>0</td>\n",
              "      <td>0</td>\n",
              "      <td>1</td>\n",
              "      <td>0</td>\n",
              "      <td>0</td>\n",
              "      <td>1</td>\n",
              "      <td>0</td>\n",
              "      <td>20.47</td>\n",
              "      <td>pos</td>\n",
              "      <td>pos</td>\n",
              "      <td>0</td>\n",
              "      <td>0</td>\n",
              "      <td>0</td>\n",
              "      <td>0</td>\n",
              "      <td>0</td>\n",
              "      <td>0</td>\n",
              "      <td>0</td>\n",
              "      <td>0</td>\n",
              "      <td>0</td>\n",
              "      <td>0</td>\n",
              "      <td>0</td>\n",
              "      <td>0</td>\n",
              "      <td>0</td>\n",
              "      <td>0</td>\n",
              "      <td>0</td>\n",
              "      <td>0</td>\n",
              "      <td>0</td>\n",
              "      <td>0</td>\n",
              "      <td>0</td>\n",
              "      <td>0</td>\n",
              "      <td>0</td>\n",
              "      <td>0</td>\n",
              "      <td>0</td>\n",
              "      <td>0</td>\n",
              "      <td>1</td>\n",
              "      <td>0</td>\n",
              "      <td>0</td>\n",
              "      <td>0</td>\n",
              "      <td>0</td>\n",
              "      <td>0</td>\n",
              "      <td>0</td>\n",
              "      <td>0</td>\n",
              "      <td>0</td>\n",
              "      <td>0</td>\n",
              "      <td>0</td>\n",
              "      <td>0</td>\n",
              "      <td>0</td>\n",
              "      <td>1</td>\n",
              "      <td>0</td>\n",
              "      <td>125102.08</td>\n",
              "    </tr>\n",
              "    <tr>\n",
              "      <th>2</th>\n",
              "      <td>ITEM 1.01.\\nENTRY INTO A MATERIAL DEFINITIVE A...</td>\n",
              "      <td>-0.019268</td>\n",
              "      <td>-0.019268</td>\n",
              "      <td>0.8742</td>\n",
              "      <td>0.87420</td>\n",
              "      <td>-0.013888</td>\n",
              "      <td>-0.013888</td>\n",
              "      <td>1</td>\n",
              "      <td>0</td>\n",
              "      <td>0</td>\n",
              "      <td>0</td>\n",
              "      <td>0</td>\n",
              "      <td>0</td>\n",
              "      <td>0</td>\n",
              "      <td>0</td>\n",
              "      <td>0</td>\n",
              "      <td>0</td>\n",
              "      <td>0</td>\n",
              "      <td>0</td>\n",
              "      <td>0</td>\n",
              "      <td>0</td>\n",
              "      <td>0</td>\n",
              "      <td>0</td>\n",
              "      <td>0</td>\n",
              "      <td>0</td>\n",
              "      <td>0</td>\n",
              "      <td>0</td>\n",
              "      <td>0</td>\n",
              "      <td>0</td>\n",
              "      <td>0</td>\n",
              "      <td>0</td>\n",
              "      <td>0</td>\n",
              "      <td>0</td>\n",
              "      <td>0</td>\n",
              "      <td>1</td>\n",
              "      <td>0</td>\n",
              "      <td>19.07</td>\n",
              "      <td>neg</td>\n",
              "      <td>neg</td>\n",
              "      <td>0</td>\n",
              "      <td>0</td>\n",
              "      <td>0</td>\n",
              "      <td>0</td>\n",
              "      <td>0</td>\n",
              "      <td>0</td>\n",
              "      <td>0</td>\n",
              "      <td>0</td>\n",
              "      <td>0</td>\n",
              "      <td>0</td>\n",
              "      <td>0</td>\n",
              "      <td>0</td>\n",
              "      <td>0</td>\n",
              "      <td>0</td>\n",
              "      <td>0</td>\n",
              "      <td>0</td>\n",
              "      <td>0</td>\n",
              "      <td>0</td>\n",
              "      <td>0</td>\n",
              "      <td>0</td>\n",
              "      <td>0</td>\n",
              "      <td>0</td>\n",
              "      <td>0</td>\n",
              "      <td>0</td>\n",
              "      <td>1</td>\n",
              "      <td>0</td>\n",
              "      <td>0</td>\n",
              "      <td>0</td>\n",
              "      <td>0</td>\n",
              "      <td>0</td>\n",
              "      <td>0</td>\n",
              "      <td>0</td>\n",
              "      <td>0</td>\n",
              "      <td>0</td>\n",
              "      <td>0</td>\n",
              "      <td>0</td>\n",
              "      <td>0</td>\n",
              "      <td>1</td>\n",
              "      <td>0</td>\n",
              "      <td>126812.46</td>\n",
              "    </tr>\n",
              "    <tr>\n",
              "      <th>3</th>\n",
              "      <td>ITEM 1.01.\\nENTRY INTO A MATERIAL DEFINITIVE A...</td>\n",
              "      <td>0.077505</td>\n",
              "      <td>0.035918</td>\n",
              "      <td>0.8901</td>\n",
              "      <td>0.88485</td>\n",
              "      <td>0.076161</td>\n",
              "      <td>0.027620</td>\n",
              "      <td>1</td>\n",
              "      <td>0</td>\n",
              "      <td>0</td>\n",
              "      <td>0</td>\n",
              "      <td>0</td>\n",
              "      <td>0</td>\n",
              "      <td>0</td>\n",
              "      <td>0</td>\n",
              "      <td>0</td>\n",
              "      <td>0</td>\n",
              "      <td>0</td>\n",
              "      <td>0</td>\n",
              "      <td>0</td>\n",
              "      <td>0</td>\n",
              "      <td>0</td>\n",
              "      <td>0</td>\n",
              "      <td>0</td>\n",
              "      <td>0</td>\n",
              "      <td>0</td>\n",
              "      <td>0</td>\n",
              "      <td>0</td>\n",
              "      <td>0</td>\n",
              "      <td>0</td>\n",
              "      <td>0</td>\n",
              "      <td>0</td>\n",
              "      <td>0</td>\n",
              "      <td>0</td>\n",
              "      <td>1</td>\n",
              "      <td>0</td>\n",
              "      <td>16.14</td>\n",
              "      <td>pos</td>\n",
              "      <td>pos</td>\n",
              "      <td>0</td>\n",
              "      <td>0</td>\n",
              "      <td>0</td>\n",
              "      <td>0</td>\n",
              "      <td>0</td>\n",
              "      <td>0</td>\n",
              "      <td>0</td>\n",
              "      <td>0</td>\n",
              "      <td>0</td>\n",
              "      <td>0</td>\n",
              "      <td>0</td>\n",
              "      <td>0</td>\n",
              "      <td>0</td>\n",
              "      <td>0</td>\n",
              "      <td>0</td>\n",
              "      <td>0</td>\n",
              "      <td>0</td>\n",
              "      <td>0</td>\n",
              "      <td>0</td>\n",
              "      <td>0</td>\n",
              "      <td>0</td>\n",
              "      <td>0</td>\n",
              "      <td>0</td>\n",
              "      <td>0</td>\n",
              "      <td>1</td>\n",
              "      <td>0</td>\n",
              "      <td>0</td>\n",
              "      <td>0</td>\n",
              "      <td>0</td>\n",
              "      <td>0</td>\n",
              "      <td>0</td>\n",
              "      <td>0</td>\n",
              "      <td>0</td>\n",
              "      <td>0</td>\n",
              "      <td>0</td>\n",
              "      <td>0</td>\n",
              "      <td>0</td>\n",
              "      <td>1</td>\n",
              "      <td>0</td>\n",
              "      <td>139273.80</td>\n",
              "    </tr>\n",
              "    <tr>\n",
              "      <th>4</th>\n",
              "      <td>ITEM 1.01.\\nENTRY INTO A MATERIAL DEFINITIVE A...</td>\n",
              "      <td>0.076013</td>\n",
              "      <td>0.076013</td>\n",
              "      <td>0.9225</td>\n",
              "      <td>0.92250</td>\n",
              "      <td>0.070040</td>\n",
              "      <td>0.070040</td>\n",
              "      <td>1</td>\n",
              "      <td>0</td>\n",
              "      <td>0</td>\n",
              "      <td>0</td>\n",
              "      <td>0</td>\n",
              "      <td>0</td>\n",
              "      <td>0</td>\n",
              "      <td>0</td>\n",
              "      <td>0</td>\n",
              "      <td>0</td>\n",
              "      <td>0</td>\n",
              "      <td>0</td>\n",
              "      <td>0</td>\n",
              "      <td>0</td>\n",
              "      <td>0</td>\n",
              "      <td>0</td>\n",
              "      <td>0</td>\n",
              "      <td>0</td>\n",
              "      <td>0</td>\n",
              "      <td>0</td>\n",
              "      <td>0</td>\n",
              "      <td>0</td>\n",
              "      <td>0</td>\n",
              "      <td>0</td>\n",
              "      <td>0</td>\n",
              "      <td>0</td>\n",
              "      <td>0</td>\n",
              "      <td>1</td>\n",
              "      <td>0</td>\n",
              "      <td>13.51</td>\n",
              "      <td>pos</td>\n",
              "      <td>pos</td>\n",
              "      <td>0</td>\n",
              "      <td>0</td>\n",
              "      <td>0</td>\n",
              "      <td>0</td>\n",
              "      <td>0</td>\n",
              "      <td>0</td>\n",
              "      <td>0</td>\n",
              "      <td>0</td>\n",
              "      <td>0</td>\n",
              "      <td>0</td>\n",
              "      <td>0</td>\n",
              "      <td>0</td>\n",
              "      <td>0</td>\n",
              "      <td>0</td>\n",
              "      <td>0</td>\n",
              "      <td>0</td>\n",
              "      <td>0</td>\n",
              "      <td>0</td>\n",
              "      <td>0</td>\n",
              "      <td>0</td>\n",
              "      <td>0</td>\n",
              "      <td>0</td>\n",
              "      <td>0</td>\n",
              "      <td>0</td>\n",
              "      <td>1</td>\n",
              "      <td>0</td>\n",
              "      <td>0</td>\n",
              "      <td>0</td>\n",
              "      <td>0</td>\n",
              "      <td>0</td>\n",
              "      <td>0</td>\n",
              "      <td>0</td>\n",
              "      <td>0</td>\n",
              "      <td>0</td>\n",
              "      <td>0</td>\n",
              "      <td>0</td>\n",
              "      <td>0</td>\n",
              "      <td>1</td>\n",
              "      <td>0</td>\n",
              "      <td>144649.28</td>\n",
              "    </tr>\n",
              "  </tbody>\n",
              "</table>\n",
              "</div>"
            ],
            "text/plain": [
              "                                               texts  ...    Mkt_Cap\n",
              "0  Item 2.02\\nResults of Operations and Financial...  ...   86355.36\n",
              "1  Item 2.02 Results of Operations and Financial ...  ...  125102.08\n",
              "2  ITEM 1.01.\\nENTRY INTO A MATERIAL DEFINITIVE A...  ...  126812.46\n",
              "3  ITEM 1.01.\\nENTRY INTO A MATERIAL DEFINITIVE A...  ...  139273.80\n",
              "4  ITEM 1.01.\\nENTRY INTO A MATERIAL DEFINITIVE A...  ...  144649.28\n",
              "\n",
              "[5 rows x 79 columns]"
            ]
          },
          "metadata": {
            "tags": []
          },
          "execution_count": 3
        }
      ]
    },
    {
      "cell_type": "code",
      "metadata": {
        "id": "oXOVw9hQjxY_"
      },
      "source": [
        "def label1(row):\n",
        "    if row[\"pct_change1\"] > row[\"mkt_excess1\"]:\n",
        "        return \"pos\"\n",
        "    else:\n",
        "        return \"neg\"\n",
        "\n",
        "def label2(row):\n",
        "    if row[\"pct_change2\"] > row[\"mkt_excess2\"]:\n",
        "        return \"pos\"\n",
        "    else:\n",
        "        return \"neg\"\n",
        "\n",
        "def label3(row):\n",
        "    if row[\"pct_change2\"] > row[\"mkt_excess2\"] + 0.005:\n",
        "        return \"positive\"\n",
        "    elif row[\"pct_change2\"] < row[\"mkt_excess2\"] - 0.005:\n",
        "        return \"negative\"\n",
        "    else:\n",
        "        return \"neutral\""
      ],
      "execution_count": null,
      "outputs": []
    },
    {
      "cell_type": "code",
      "metadata": {
        "id": "pxbvLasbkT1-"
      },
      "source": [
        "df[\"label1\"] = df.apply(label1, axis = 1)\n",
        "df[\"label2\"] = df.apply(label2, axis = 1)\n",
        "df[\"label3\"] = df.apply(label3, axis = 1)"
      ],
      "execution_count": null,
      "outputs": []
    },
    {
      "cell_type": "code",
      "metadata": {
        "id": "UgsxsQcxkaE4"
      },
      "source": [
        "# get column names of categorical features\n",
        "item_list = [i for i in df.columns if not i.find(\"item\")]\n",
        "ind_list = [i for i in df.columns if not i.find(\"ind\")]\n",
        "shrcd_list = [i for i in df.columns if not i.find(\"SHRCD\")]\n",
        "exc_list = [i for i in df.columns if not i.find(\"EXCHCD\")]"
      ],
      "execution_count": null,
      "outputs": []
    },
    {
      "cell_type": "code",
      "metadata": {
        "id": "H_gGYOfokhvx"
      },
      "source": [
        "# combine all feature column names\n",
        "cols = ['VIX', \"Mkt_Cap\"]\n",
        "cols.extend(item_list)\n",
        "cols.extend(ind_list)\n",
        "cols.extend(shrcd_list)\n",
        "cols.extend(exc_list)"
      ],
      "execution_count": null,
      "outputs": []
    },
    {
      "cell_type": "code",
      "metadata": {
        "id": "bTpZgNpqklJf"
      },
      "source": [
        "# Separate into features, documents and label\n",
        "cols = ['VIX', \"Mkt_Cap\"]\n",
        "cols.extend(item_list)\n",
        "cols.extend(ind_list)\n",
        "cols.extend(shrcd_list)\n",
        "cols.extend(exc_list)\n",
        "\n",
        "X = df[cols]\n",
        "\n",
        "y = df['label2']"
      ],
      "execution_count": null,
      "outputs": []
    },
    {
      "cell_type": "code",
      "metadata": {
        "id": "oGh8IFRtl6AO"
      },
      "source": [
        "# Split into train and test data\n",
        "X_train, X_test, y_train, y_test = train_test_split(X, y,\n",
        "                                                    stratify=y, \n",
        "                                                    test_size=0.2)"
      ],
      "execution_count": null,
      "outputs": []
    },
    {
      "cell_type": "code",
      "metadata": {
        "id": "K1DffTS9mmBr"
      },
      "source": [
        "# standardize volatility index and market cap by mean and standard deviation (standardize train and test sets separately)\n",
        "x_scaler = StandardScaler()\n",
        "X_train[\"VIX\"] = x_scaler.fit_transform(np.array(X_train[\"VIX\"]).reshape(-1,1))\n",
        "X_test[\"VIX\"] = x_scaler.transform(np.array(X_test[\"VIX\"]).reshape(-1,1))\n",
        "X_train[\"Mkt_Cap\"] = x_scaler.fit_transform(np.array(X_train[\"Mkt_Cap\"]).reshape(-1,1))\n",
        "X_test[\"Mkt_Cap\"] = x_scaler.transform(np.array(X_test[\"Mkt_Cap\"]).reshape(-1,1))"
      ],
      "execution_count": null,
      "outputs": []
    },
    {
      "cell_type": "code",
      "metadata": {
        "id": "-5ym3cFwnw6z"
      },
      "source": [
        "# define logistic regression classifier\n",
        "def simple_logistic_classify(X_tr, y_tr, X_test, y_test, _C=1.0):\n",
        "    model = LogisticRegression(C=_C).fit(X_tr, y_tr)\n",
        "    score = model.score(X_test, y_test)\n",
        "    print('Test Score with features', score)\n",
        "    return model"
      ],
      "execution_count": null,
      "outputs": []
    },
    {
      "cell_type": "code",
      "metadata": {
        "colab": {
          "base_uri": "https://localhost:8080/"
        },
        "id": "gwtvH5dpn1Mz",
        "outputId": "24e4b5aa-a9d1-4605-e67d-15f1d5e4545d"
      },
      "source": [
        "# fit the model to numerical features\n",
        "model = simple_logistic_classify(X_train, y_train, X_test, y_test)"
      ],
      "execution_count": null,
      "outputs": [
        {
          "output_type": "stream",
          "text": [
            "Test Score with features 0.60423865468786\n"
          ],
          "name": "stdout"
        }
      ]
    },
    {
      "cell_type": "code",
      "metadata": {
        "id": "y6U1WbqXoqRJ"
      },
      "source": [
        "# Hyperparameter tuning\n",
        "\n",
        "# grid search parameters\n",
        "param_grid_ = [{'C': [1e-5, 1e-3, 1e-1, 1e0, 1e1, 1e2], 'penalty':[\"l1\", \"l2\", \"elasticnet\"]}]\n",
        "\n",
        "#create grid search with 5-fold cross validation\n",
        "model_search = sklearn.model_selection.GridSearchCV(LogisticRegression(), cv=5, param_grid=param_grid_)"
      ],
      "execution_count": null,
      "outputs": []
    },
    {
      "cell_type": "code",
      "metadata": {
        "colab": {
          "base_uri": "https://localhost:8080/"
        },
        "id": "XDUlDx9ypSuB",
        "outputId": "41061c7f-2414-4732-a14b-1b3eb990ec37"
      },
      "source": [
        "model_search.fit(X_train, y_train)"
      ],
      "execution_count": null,
      "outputs": [
        {
          "output_type": "execute_result",
          "data": {
            "text/plain": [
              "GridSearchCV(cv=5, error_score=nan,\n",
              "             estimator=LogisticRegression(C=1.0, class_weight=None, dual=False,\n",
              "                                          fit_intercept=True,\n",
              "                                          intercept_scaling=1, l1_ratio=None,\n",
              "                                          max_iter=100, multi_class='auto',\n",
              "                                          n_jobs=None, penalty='l2',\n",
              "                                          random_state=None, solver='lbfgs',\n",
              "                                          tol=0.0001, verbose=0,\n",
              "                                          warm_start=False),\n",
              "             iid='deprecated', n_jobs=None,\n",
              "             param_grid=[{'C': [1e-05, 0.001, 0.1, 1.0, 10.0, 100.0],\n",
              "                          'penalty': ['l1', 'l2', 'elasticnet']}],\n",
              "             pre_dispatch='2*n_jobs', refit=True, return_train_score=False,\n",
              "             scoring=None, verbose=0)"
            ]
          },
          "metadata": {
            "tags": []
          },
          "execution_count": 14
        }
      ]
    },
    {
      "cell_type": "code",
      "metadata": {
        "id": "tT8Ufm0FjPVp",
        "colab": {
          "base_uri": "https://localhost:8080/"
        },
        "outputId": "aad196c8-5939-4554-b368-71d639c83747"
      },
      "source": [
        "model_search.best_estimator_"
      ],
      "execution_count": null,
      "outputs": [
        {
          "output_type": "execute_result",
          "data": {
            "text/plain": [
              "LogisticRegression(C=0.1, class_weight=None, dual=False, fit_intercept=True,\n",
              "                   intercept_scaling=1, l1_ratio=None, max_iter=100,\n",
              "                   multi_class='auto', n_jobs=None, penalty='l2',\n",
              "                   random_state=None, solver='lbfgs', tol=0.0001, verbose=0,\n",
              "                   warm_start=False)"
            ]
          },
          "metadata": {
            "tags": []
          },
          "execution_count": 15
        }
      ]
    },
    {
      "cell_type": "code",
      "metadata": {
        "colab": {
          "base_uri": "https://localhost:8080/"
        },
        "id": "3kxSYevKpkP4",
        "outputId": "d3ea5cd7-be4c-406f-faaa-efe2d8725890"
      },
      "source": [
        "model_search.best_score_"
      ],
      "execution_count": null,
      "outputs": [
        {
          "output_type": "execute_result",
          "data": {
            "text/plain": [
              "0.6003116868641701"
            ]
          },
          "metadata": {
            "tags": []
          },
          "execution_count": 16
        }
      ]
    },
    {
      "cell_type": "code",
      "metadata": {
        "id": "166pcj58pvwi"
      },
      "source": [
        "# get best models' predictions\n",
        "pred = model_search.predict(X_test)"
      ],
      "execution_count": null,
      "outputs": []
    },
    {
      "cell_type": "code",
      "metadata": {
        "colab": {
          "base_uri": "https://localhost:8080/"
        },
        "id": "47KnWgK4p3F0",
        "outputId": "28cee2fa-63c3-49b4-bd40-12a597220740"
      },
      "source": [
        "print(classification_report(y_test, pred))"
      ],
      "execution_count": null,
      "outputs": [
        {
          "output_type": "stream",
          "text": [
            "              precision    recall  f1-score   support\n",
            "\n",
            "         neg       0.56      0.18      0.27      1792\n",
            "         pos       0.61      0.90      0.73      2549\n",
            "\n",
            "    accuracy                           0.60      4341\n",
            "   macro avg       0.58      0.54      0.50      4341\n",
            "weighted avg       0.59      0.60      0.54      4341\n",
            "\n"
          ],
          "name": "stdout"
        }
      ]
    },
    {
      "cell_type": "code",
      "metadata": {
        "id": "le-ICgKMTqO-"
      },
      "source": [
        ""
      ],
      "execution_count": null,
      "outputs": []
    }
  ]
}