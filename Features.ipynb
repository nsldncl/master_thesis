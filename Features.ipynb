{
  "nbformat": 4,
  "nbformat_minor": 0,
  "metadata": {
    "colab": {
      "name": "Features.ipynb",
      "provenance": [],
      "collapsed_sections": []
    },
    "kernelspec": {
      "name": "python3",
      "display_name": "Python 3"
    },
    "language_info": {
      "name": "python"
    }
  },
  "cells": [
    {
      "cell_type": "markdown",
      "metadata": {
        "id": "j5PKWP4eYhiK"
      },
      "source": [
        "## Feature Engineering"
      ]
    },
    {
      "cell_type": "code",
      "metadata": {
        "id": "8hCWkxp-IVOJ"
      },
      "source": [
        "import pandas as pd\n",
        "from dateutil import relativedelta, parser\n",
        "from pandas.tseries.offsets import BDay\n",
        "from datetime import datetime, date, time\n",
        "import numpy as np\n",
        "import pickle\n",
        "import time\n",
        "import re\n",
        "import pandas_datareader.data as reader"
      ],
      "execution_count": 1,
      "outputs": []
    },
    {
      "cell_type": "code",
      "metadata": {
        "colab": {
          "base_uri": "https://localhost:8080/"
        },
        "id": "Stq8LvOuYz9b",
        "outputId": "27148732-0e3a-4bee-fc44-ba17efa8880a"
      },
      "source": [
        "from google.colab import drive\n",
        "drive.mount('/content/drive')"
      ],
      "execution_count": 2,
      "outputs": [
        {
          "output_type": "stream",
          "text": [
            "Mounted at /content/drive\n"
          ],
          "name": "stdout"
        }
      ]
    },
    {
      "cell_type": "code",
      "metadata": {
        "id": "EXKslI6Pc5-K"
      },
      "source": [
        "df = pd.read_pickle(\"/content/drive/MyDrive/Colab Notebooks/wholething.pkl\")"
      ],
      "execution_count": 23,
      "outputs": []
    },
    {
      "cell_type": "code",
      "metadata": {
        "colab": {
          "base_uri": "https://localhost:8080/",
          "height": 258
        },
        "id": "4it5n-4NY448",
        "outputId": "04a193f4-39b2-4181-cd34-faf5e6640967"
      },
      "source": [
        "ft = pd.read_csv(\"/content/drive/MyDrive/Colab Notebooks/wamzbfqpfebjta3d.csv\")\n",
        "ft = ft.drop(['SHRCLS', 'SHRFLG', 'FACPR', 'NMSIND', 'VOL', 'FACSHR'], axis=1)\n",
        "ft = ft[ft[\"TICKER\"].isin(df[\"symbol\"])]\n",
        "ft.head()"
      ],
      "execution_count": 24,
      "outputs": [
        {
          "output_type": "stream",
          "text": [
            "/usr/local/lib/python3.7/dist-packages/IPython/core/interactiveshell.py:2718: DtypeWarning: Columns (5) have mixed types.Specify dtype option on import or set low_memory=False.\n",
            "  interactivity=interactivity, compiler=compiler, result=result)\n"
          ],
          "name": "stderr"
        },
        {
          "output_type": "execute_result",
          "data": {
            "text/html": [
              "<div>\n",
              "<style scoped>\n",
              "    .dataframe tbody tr th:only-of-type {\n",
              "        vertical-align: middle;\n",
              "    }\n",
              "\n",
              "    .dataframe tbody tr th {\n",
              "        vertical-align: top;\n",
              "    }\n",
              "\n",
              "    .dataframe thead th {\n",
              "        text-align: right;\n",
              "    }\n",
              "</style>\n",
              "<table border=\"1\" class=\"dataframe\">\n",
              "  <thead>\n",
              "    <tr style=\"text-align: right;\">\n",
              "      <th></th>\n",
              "      <th>PERMNO</th>\n",
              "      <th>date</th>\n",
              "      <th>SHRCD</th>\n",
              "      <th>EXCHCD</th>\n",
              "      <th>TICKER</th>\n",
              "      <th>NAICS</th>\n",
              "      <th>PRC</th>\n",
              "      <th>SHROUT</th>\n",
              "      <th>CFACPR</th>\n",
              "      <th>CFACSHR</th>\n",
              "    </tr>\n",
              "  </thead>\n",
              "  <tbody>\n",
              "    <tr>\n",
              "      <th>0</th>\n",
              "      <td>10026</td>\n",
              "      <td>2018/01/02</td>\n",
              "      <td>11.0</td>\n",
              "      <td>3.0</td>\n",
              "      <td>JJSF</td>\n",
              "      <td>311821.0</td>\n",
              "      <td>149.17999</td>\n",
              "      <td>18668.0</td>\n",
              "      <td>1.0</td>\n",
              "      <td>1.0</td>\n",
              "    </tr>\n",
              "    <tr>\n",
              "      <th>1</th>\n",
              "      <td>10026</td>\n",
              "      <td>2018/01/03</td>\n",
              "      <td>11.0</td>\n",
              "      <td>3.0</td>\n",
              "      <td>JJSF</td>\n",
              "      <td>311821.0</td>\n",
              "      <td>147.69000</td>\n",
              "      <td>18668.0</td>\n",
              "      <td>1.0</td>\n",
              "      <td>1.0</td>\n",
              "    </tr>\n",
              "    <tr>\n",
              "      <th>2</th>\n",
              "      <td>10026</td>\n",
              "      <td>2018/01/04</td>\n",
              "      <td>11.0</td>\n",
              "      <td>3.0</td>\n",
              "      <td>JJSF</td>\n",
              "      <td>311821.0</td>\n",
              "      <td>149.73000</td>\n",
              "      <td>18668.0</td>\n",
              "      <td>1.0</td>\n",
              "      <td>1.0</td>\n",
              "    </tr>\n",
              "    <tr>\n",
              "      <th>3</th>\n",
              "      <td>10026</td>\n",
              "      <td>2018/01/05</td>\n",
              "      <td>11.0</td>\n",
              "      <td>3.0</td>\n",
              "      <td>JJSF</td>\n",
              "      <td>311821.0</td>\n",
              "      <td>148.30000</td>\n",
              "      <td>18668.0</td>\n",
              "      <td>1.0</td>\n",
              "      <td>1.0</td>\n",
              "    </tr>\n",
              "    <tr>\n",
              "      <th>4</th>\n",
              "      <td>10026</td>\n",
              "      <td>2018/01/08</td>\n",
              "      <td>11.0</td>\n",
              "      <td>3.0</td>\n",
              "      <td>JJSF</td>\n",
              "      <td>311821.0</td>\n",
              "      <td>148.41000</td>\n",
              "      <td>18668.0</td>\n",
              "      <td>1.0</td>\n",
              "      <td>1.0</td>\n",
              "    </tr>\n",
              "  </tbody>\n",
              "</table>\n",
              "</div>"
            ],
            "text/plain": [
              "   PERMNO        date  SHRCD  EXCHCD  ...        PRC   SHROUT  CFACPR  CFACSHR\n",
              "0   10026  2018/01/02   11.0     3.0  ...  149.17999  18668.0     1.0      1.0\n",
              "1   10026  2018/01/03   11.0     3.0  ...  147.69000  18668.0     1.0      1.0\n",
              "2   10026  2018/01/04   11.0     3.0  ...  149.73000  18668.0     1.0      1.0\n",
              "3   10026  2018/01/05   11.0     3.0  ...  148.30000  18668.0     1.0      1.0\n",
              "4   10026  2018/01/08   11.0     3.0  ...  148.41000  18668.0     1.0      1.0\n",
              "\n",
              "[5 rows x 10 columns]"
            ]
          },
          "metadata": {
            "tags": []
          },
          "execution_count": 24
        }
      ]
    },
    {
      "cell_type": "code",
      "metadata": {
        "colab": {
          "base_uri": "https://localhost:8080/",
          "height": 204
        },
        "id": "YU9L6jmtZYat",
        "outputId": "2280d8a5-5269-4f3b-d127-f54a7ae37069"
      },
      "source": [
        "# calculate market capitalization\n",
        "ft[\"Mkt_Size\"] = ft[\"PRC\"]*ft[\"SHROUT\"]\n",
        "ft.head()"
      ],
      "execution_count": 25,
      "outputs": [
        {
          "output_type": "execute_result",
          "data": {
            "text/html": [
              "<div>\n",
              "<style scoped>\n",
              "    .dataframe tbody tr th:only-of-type {\n",
              "        vertical-align: middle;\n",
              "    }\n",
              "\n",
              "    .dataframe tbody tr th {\n",
              "        vertical-align: top;\n",
              "    }\n",
              "\n",
              "    .dataframe thead th {\n",
              "        text-align: right;\n",
              "    }\n",
              "</style>\n",
              "<table border=\"1\" class=\"dataframe\">\n",
              "  <thead>\n",
              "    <tr style=\"text-align: right;\">\n",
              "      <th></th>\n",
              "      <th>PERMNO</th>\n",
              "      <th>date</th>\n",
              "      <th>SHRCD</th>\n",
              "      <th>EXCHCD</th>\n",
              "      <th>TICKER</th>\n",
              "      <th>NAICS</th>\n",
              "      <th>PRC</th>\n",
              "      <th>SHROUT</th>\n",
              "      <th>CFACPR</th>\n",
              "      <th>CFACSHR</th>\n",
              "      <th>Mkt_Size</th>\n",
              "    </tr>\n",
              "  </thead>\n",
              "  <tbody>\n",
              "    <tr>\n",
              "      <th>0</th>\n",
              "      <td>10026</td>\n",
              "      <td>2018/01/02</td>\n",
              "      <td>11.0</td>\n",
              "      <td>3.0</td>\n",
              "      <td>JJSF</td>\n",
              "      <td>311821.0</td>\n",
              "      <td>149.17999</td>\n",
              "      <td>18668.0</td>\n",
              "      <td>1.0</td>\n",
              "      <td>1.0</td>\n",
              "      <td>2.784892e+06</td>\n",
              "    </tr>\n",
              "    <tr>\n",
              "      <th>1</th>\n",
              "      <td>10026</td>\n",
              "      <td>2018/01/03</td>\n",
              "      <td>11.0</td>\n",
              "      <td>3.0</td>\n",
              "      <td>JJSF</td>\n",
              "      <td>311821.0</td>\n",
              "      <td>147.69000</td>\n",
              "      <td>18668.0</td>\n",
              "      <td>1.0</td>\n",
              "      <td>1.0</td>\n",
              "      <td>2.757077e+06</td>\n",
              "    </tr>\n",
              "    <tr>\n",
              "      <th>2</th>\n",
              "      <td>10026</td>\n",
              "      <td>2018/01/04</td>\n",
              "      <td>11.0</td>\n",
              "      <td>3.0</td>\n",
              "      <td>JJSF</td>\n",
              "      <td>311821.0</td>\n",
              "      <td>149.73000</td>\n",
              "      <td>18668.0</td>\n",
              "      <td>1.0</td>\n",
              "      <td>1.0</td>\n",
              "      <td>2.795160e+06</td>\n",
              "    </tr>\n",
              "    <tr>\n",
              "      <th>3</th>\n",
              "      <td>10026</td>\n",
              "      <td>2018/01/05</td>\n",
              "      <td>11.0</td>\n",
              "      <td>3.0</td>\n",
              "      <td>JJSF</td>\n",
              "      <td>311821.0</td>\n",
              "      <td>148.30000</td>\n",
              "      <td>18668.0</td>\n",
              "      <td>1.0</td>\n",
              "      <td>1.0</td>\n",
              "      <td>2.768464e+06</td>\n",
              "    </tr>\n",
              "    <tr>\n",
              "      <th>4</th>\n",
              "      <td>10026</td>\n",
              "      <td>2018/01/08</td>\n",
              "      <td>11.0</td>\n",
              "      <td>3.0</td>\n",
              "      <td>JJSF</td>\n",
              "      <td>311821.0</td>\n",
              "      <td>148.41000</td>\n",
              "      <td>18668.0</td>\n",
              "      <td>1.0</td>\n",
              "      <td>1.0</td>\n",
              "      <td>2.770518e+06</td>\n",
              "    </tr>\n",
              "  </tbody>\n",
              "</table>\n",
              "</div>"
            ],
            "text/plain": [
              "   PERMNO        date  SHRCD  EXCHCD  ...   SHROUT  CFACPR  CFACSHR      Mkt_Size\n",
              "0   10026  2018/01/02   11.0     3.0  ...  18668.0     1.0      1.0  2.784892e+06\n",
              "1   10026  2018/01/03   11.0     3.0  ...  18668.0     1.0      1.0  2.757077e+06\n",
              "2   10026  2018/01/04   11.0     3.0  ...  18668.0     1.0      1.0  2.795160e+06\n",
              "3   10026  2018/01/05   11.0     3.0  ...  18668.0     1.0      1.0  2.768464e+06\n",
              "4   10026  2018/01/08   11.0     3.0  ...  18668.0     1.0      1.0  2.770518e+06\n",
              "\n",
              "[5 rows x 11 columns]"
            ]
          },
          "metadata": {
            "tags": []
          },
          "execution_count": 25
        }
      ]
    },
    {
      "cell_type": "code",
      "metadata": {
        "id": "aN2ZQM8mZvBY"
      },
      "source": [
        "# define the function to get industries\n",
        "\n",
        "def get_industry(row):\n",
        "    tckr = row[\"symbol\"]\n",
        "    try:\n",
        "      industry = ft[ft[\"TICKER\"] == tckr][\"NAICS\"].values[0]\n",
        "    except:\n",
        "      industry = np.nan \n",
        "    return industry"
      ],
      "execution_count": null,
      "outputs": []
    },
    {
      "cell_type": "code",
      "metadata": {
        "id": "lE8PueesaElm"
      },
      "source": [
        "# apply the function\n",
        "df[\"ind\"] = df.apply(get_industry, axis = 1)"
      ],
      "execution_count": null,
      "outputs": []
    },
    {
      "cell_type": "code",
      "metadata": {
        "id": "0hpYAZ2XaMcu"
      },
      "source": [
        "#save to pickle\n",
        "df.to_pickle(\"/content/drive/MyDrive/Colab Notebooks/wholething_ind.pkl\")"
      ],
      "execution_count": null,
      "outputs": []
    },
    {
      "cell_type": "code",
      "metadata": {
        "colab": {
          "base_uri": "https://localhost:8080/",
          "height": 615
        },
        "id": "8wK3i3JzaT3S",
        "outputId": "77f00af7-c155-45cf-8879-9fd4fc8890b9"
      },
      "source": [
        "df = pd.read_pickle(\"/content/drive/MyDrive/Colab Notebooks/wholething_ind.pkl\")\n",
        "df.head()"
      ],
      "execution_count": 26,
      "outputs": [
        {
          "output_type": "execute_result",
          "data": {
            "text/html": [
              "<div>\n",
              "<style scoped>\n",
              "    .dataframe tbody tr th:only-of-type {\n",
              "        vertical-align: middle;\n",
              "    }\n",
              "\n",
              "    .dataframe tbody tr th {\n",
              "        vertical-align: top;\n",
              "    }\n",
              "\n",
              "    .dataframe thead th {\n",
              "        text-align: right;\n",
              "    }\n",
              "</style>\n",
              "<table border=\"1\" class=\"dataframe\">\n",
              "  <thead>\n",
              "    <tr style=\"text-align: right;\">\n",
              "      <th></th>\n",
              "      <th>symbol</th>\n",
              "      <th>cik</th>\n",
              "      <th>form</th>\n",
              "      <th>access_number</th>\n",
              "      <th>filed_date</th>\n",
              "      <th>accepted_date</th>\n",
              "      <th>report_url</th>\n",
              "      <th>filing_url</th>\n",
              "      <th>string</th>\n",
              "      <th>texts</th>\n",
              "      <th>lens</th>\n",
              "      <th>pct_change1</th>\n",
              "      <th>pct_change2</th>\n",
              "      <th>beta1</th>\n",
              "      <th>beta2</th>\n",
              "      <th>mkt_excess1</th>\n",
              "      <th>mkt_excess2</th>\n",
              "      <th>ind</th>\n",
              "    </tr>\n",
              "  </thead>\n",
              "  <tbody>\n",
              "    <tr>\n",
              "      <th>0</th>\n",
              "      <td>NICK</td>\n",
              "      <td>1000045</td>\n",
              "      <td>8-K</td>\n",
              "      <td>0001193125-19-024617</td>\n",
              "      <td>2019-02-01</td>\n",
              "      <td>2019-02-01 06:31:07</td>\n",
              "      <td>https://www.sec.gov/Archives/edgar/data/100004...</td>\n",
              "      <td>https://www.sec.gov/Archives/edgar/data/100004...</td>\n",
              "      <td>8-K 1 d675768d8k.htm FORM 8-K\\n    UNITED STAT...</td>\n",
              "      <td>Item 2.02\\nResults of Operations and Financial...</td>\n",
              "      <td>182</td>\n",
              "      <td>0.039772</td>\n",
              "      <td>0.018824</td>\n",
              "      <td>0.1235</td>\n",
              "      <td>0.12100</td>\n",
              "      <td>0.039502</td>\n",
              "      <td>0.017531</td>\n",
              "      <td>523910.0</td>\n",
              "    </tr>\n",
              "    <tr>\n",
              "      <th>1</th>\n",
              "      <td>MFIN</td>\n",
              "      <td>1000209</td>\n",
              "      <td>8-K</td>\n",
              "      <td>0001193125-19-004285</td>\n",
              "      <td>2019-01-08</td>\n",
              "      <td>2019-01-08 09:10:35</td>\n",
              "      <td>https://www.sec.gov/Archives/edgar/data/100020...</td>\n",
              "      <td>https://www.sec.gov/Archives/edgar/data/100020...</td>\n",
              "      <td>8-K 1 d685338d8k.htm 8-K\\n    UNITED STATES\\nS...</td>\n",
              "      <td>Item 2.02 Results of Operations and Financial ...</td>\n",
              "      <td>711</td>\n",
              "      <td>0.005894</td>\n",
              "      <td>0.019647</td>\n",
              "      <td>0.9098</td>\n",
              "      <td>0.91085</td>\n",
              "      <td>-0.003435</td>\n",
              "      <td>0.005013</td>\n",
              "      <td>525990.0</td>\n",
              "    </tr>\n",
              "    <tr>\n",
              "      <th>2</th>\n",
              "      <td>MFIN</td>\n",
              "      <td>1000209</td>\n",
              "      <td>8-K</td>\n",
              "      <td>0001193125-19-007413</td>\n",
              "      <td>2019-01-11</td>\n",
              "      <td>2019-01-11 16:32:03</td>\n",
              "      <td>https://www.sec.gov/Archives/edgar/data/100020...</td>\n",
              "      <td>https://www.sec.gov/Archives/edgar/data/100020...</td>\n",
              "      <td>8-K 1 d682501d8k.htm FORM 8-K\\n    UNITED STAT...</td>\n",
              "      <td>ITEM 1.01.\\nENTRY INTO A MATERIAL DEFINITIVE A...</td>\n",
              "      <td>261</td>\n",
              "      <td>-0.019268</td>\n",
              "      <td>-0.019268</td>\n",
              "      <td>0.8742</td>\n",
              "      <td>0.87420</td>\n",
              "      <td>-0.013888</td>\n",
              "      <td>-0.013888</td>\n",
              "      <td>525990.0</td>\n",
              "    </tr>\n",
              "    <tr>\n",
              "      <th>3</th>\n",
              "      <td>MFIN</td>\n",
              "      <td>1000209</td>\n",
              "      <td>8-K</td>\n",
              "      <td>0001193125-19-024926</td>\n",
              "      <td>2019-02-01</td>\n",
              "      <td>2019-02-01 08:50:35</td>\n",
              "      <td>https://www.sec.gov/Archives/edgar/data/100020...</td>\n",
              "      <td>https://www.sec.gov/Archives/edgar/data/100020...</td>\n",
              "      <td>8-K 1 d671008d8k.htm FORM 8-K\\n    UNITED STAT...</td>\n",
              "      <td>ITEM 1.01.\\nENTRY INTO A MATERIAL DEFINITIVE A...</td>\n",
              "      <td>257</td>\n",
              "      <td>0.077505</td>\n",
              "      <td>0.035918</td>\n",
              "      <td>0.8901</td>\n",
              "      <td>0.88485</td>\n",
              "      <td>0.076161</td>\n",
              "      <td>0.027620</td>\n",
              "      <td>525990.0</td>\n",
              "    </tr>\n",
              "    <tr>\n",
              "      <th>4</th>\n",
              "      <td>MFIN</td>\n",
              "      <td>1000209</td>\n",
              "      <td>8-K</td>\n",
              "      <td>0001193125-19-047009</td>\n",
              "      <td>2019-02-21</td>\n",
              "      <td>2019-02-21 16:13:02</td>\n",
              "      <td>https://www.sec.gov/Archives/edgar/data/100020...</td>\n",
              "      <td>https://www.sec.gov/Archives/edgar/data/100020...</td>\n",
              "      <td>8-K 1 d711389d8k.htm 8-K\\n    UNITED STATES\\nS...</td>\n",
              "      <td>ITEM 1.01.\\nENTRY INTO A MATERIAL DEFINITIVE A...</td>\n",
              "      <td>257</td>\n",
              "      <td>0.076013</td>\n",
              "      <td>0.076013</td>\n",
              "      <td>0.9225</td>\n",
              "      <td>0.92250</td>\n",
              "      <td>0.070040</td>\n",
              "      <td>0.070040</td>\n",
              "      <td>525990.0</td>\n",
              "    </tr>\n",
              "  </tbody>\n",
              "</table>\n",
              "</div>"
            ],
            "text/plain": [
              "  symbol      cik form  ... mkt_excess1 mkt_excess2       ind\n",
              "0   NICK  1000045  8-K  ...    0.039502    0.017531  523910.0\n",
              "1   MFIN  1000209  8-K  ...   -0.003435    0.005013  525990.0\n",
              "2   MFIN  1000209  8-K  ...   -0.013888   -0.013888  525990.0\n",
              "3   MFIN  1000209  8-K  ...    0.076161    0.027620  525990.0\n",
              "4   MFIN  1000209  8-K  ...    0.070040    0.070040  525990.0\n",
              "\n",
              "[5 rows x 18 columns]"
            ]
          },
          "metadata": {
            "tags": []
          },
          "execution_count": 26
        }
      ]
    },
    {
      "cell_type": "code",
      "metadata": {
        "colab": {
          "base_uri": "https://localhost:8080/"
        },
        "id": "NlVKY_DJcO9K",
        "outputId": "e8e58be2-1446-4d62-8fb6-c0f111dd7b49"
      },
      "source": [
        "#check the number of unique sub-sectors and their counts\n",
        "df.ind.value_counts()"
      ],
      "execution_count": 27,
      "outputs": [
        {
          "output_type": "execute_result",
          "data": {
            "text/plain": [
              "325412.0    1632\n",
              "522110.0    1551\n",
              "525990.0     567\n",
              "531110.0     528\n",
              "511210.0     437\n",
              "            ... \n",
              "812921.0       2\n",
              "322220.0       2\n",
              "112310.0       2\n",
              "561611.0       1\n",
              "711410.0       1\n",
              "Name: ind, Length: 581, dtype: int64"
            ]
          },
          "metadata": {
            "tags": []
          },
          "execution_count": 27
        }
      ]
    },
    {
      "cell_type": "code",
      "metadata": {
        "colab": {
          "base_uri": "https://localhost:8080/"
        },
        "id": "Y6PGeleaaV_s",
        "outputId": "24345d88-3186-4eca-a0f7-47e26ea748c1"
      },
      "source": [
        "df.ind.isnull().sum()"
      ],
      "execution_count": 28,
      "outputs": [
        {
          "output_type": "execute_result",
          "data": {
            "text/plain": [
              "917"
            ]
          },
          "metadata": {
            "tags": []
          },
          "execution_count": 28
        }
      ]
    },
    {
      "cell_type": "code",
      "metadata": {
        "id": "tH-ytf_obf99"
      },
      "source": [
        "# replace null values with nan string\n",
        "df.loc[df[\"ind\"].isnull(), \"ind\"] = \"nan\""
      ],
      "execution_count": 29,
      "outputs": []
    },
    {
      "cell_type": "code",
      "metadata": {
        "id": "80AxJX7cbuJR"
      },
      "source": [
        "# turn the industry type to string to get the first two digits/characters off all observations\n",
        "df[\"ind\"] = df[\"ind\"].astype(\"string\")"
      ],
      "execution_count": 30,
      "outputs": []
    },
    {
      "cell_type": "code",
      "metadata": {
        "colab": {
          "base_uri": "https://localhost:8080/"
        },
        "id": "S_RUeKBzb-rM",
        "outputId": "7b98ea17-ab61-4af8-98a5-1c64d08422f6"
      },
      "source": [
        "# get parent sectors\n",
        "df[\"ind\"] = df[\"ind\"].str[:2]\n",
        "\n",
        "# parent sector value counts\n",
        "df.ind.value_counts()"
      ],
      "execution_count": 31,
      "outputs": [
        {
          "output_type": "execute_result",
          "data": {
            "text/plain": [
              "52    4454\n",
              "33    3688\n",
              "32    3006\n",
              "54    1535\n",
              "51    1495\n",
              "53    1236\n",
              "21    1206\n",
              "na     917\n",
              "42     739\n",
              "22     691\n",
              "44     666\n",
              "48     582\n",
              "56     577\n",
              "62     511\n",
              "31     500\n",
              "55     408\n",
              "72     392\n",
              "45     334\n",
              "23     258\n",
              "71     144\n",
              "81      76\n",
              "11      69\n",
              "61      63\n",
              "49      37\n",
              "Name: ind, dtype: Int64"
            ]
          },
          "metadata": {
            "tags": []
          },
          "execution_count": 31
        }
      ]
    },
    {
      "cell_type": "code",
      "metadata": {
        "colab": {
          "base_uri": "https://localhost:8080/"
        },
        "id": "gbaD3Ka-cnJQ",
        "outputId": "f612c488-af0d-4e41-be46-7e890221031d"
      },
      "source": [
        "# check value counts of share types\n",
        "ft.SHRCD.value_counts()"
      ],
      "execution_count": 32,
      "outputs": [
        {
          "output_type": "execute_result",
          "data": {
            "text/plain": [
              "11.0    1626712\n",
              "12.0      88689\n",
              "18.0      84737\n",
              "71.0      47219\n",
              "14.0      24119\n",
              "48.0      16723\n",
              "73.0      16399\n",
              "31.0       6446\n",
              "74.0       4527\n",
              "44.0       2012\n",
              "41.0       1006\n",
              "21.0        503\n",
              "72.0        503\n",
              "Name: SHRCD, dtype: int64"
            ]
          },
          "metadata": {
            "tags": []
          },
          "execution_count": 32
        }
      ]
    },
    {
      "cell_type": "code",
      "metadata": {
        "colab": {
          "base_uri": "https://localhost:8080/"
        },
        "id": "53TP5wO9dfM-",
        "outputId": "7a293f94-7ed1-46d8-d8c9-f7e8bc184740"
      },
      "source": [
        "# check value counts of exhchange traded\n",
        "ft.EXCHCD.value_counts()"
      ],
      "execution_count": 33,
      "outputs": [
        {
          "output_type": "execute_result",
          "data": {
            "text/plain": [
              " 3.0    1046678\n",
              " 1.0     770626\n",
              " 2.0      80654\n",
              " 4.0      20926\n",
              " 5.0        325\n",
              " 6.0        251\n",
              "-1.0        135\n",
              "Name: EXCHCD, dtype: int64"
            ]
          },
          "metadata": {
            "tags": []
          },
          "execution_count": 33
        }
      ]
    },
    {
      "cell_type": "code",
      "metadata": {
        "id": "ubGFTKsHdm_T"
      },
      "source": [
        "# get item numbers\n",
        "\n",
        "pattern = r\"Item \\d{1,2}\\.\\d{2}\"\n",
        "\n",
        "def get_items(row):\n",
        "    item_list = sorted(set(re.findall(pattern, row.lower(), re.IGNORECASE)))\n",
        "    return item_list\n",
        "\n",
        "df[\"items\"] = df.texts.apply(get_items)"
      ],
      "execution_count": 34,
      "outputs": []
    },
    {
      "cell_type": "code",
      "metadata": {
        "colab": {
          "base_uri": "https://localhost:8080/"
        },
        "id": "Pj0l2z3FeHaN",
        "outputId": "0c46333c-7fad-4da2-ec73-0fb4aad575e0"
      },
      "source": [
        "# get CBOE Volatility Index\n",
        "\n",
        "start = datetime(2019, 1, 1)\n",
        "end = datetime(2019, 8, 1)\n",
        "\n",
        "vix = reader.DataReader(\"VIXCLS\", \"fred\", start, end)\n",
        "print(len(vix))\n",
        "print(vix.tail())\n",
        "print('\\n')"
      ],
      "execution_count": 39,
      "outputs": [
        {
          "output_type": "stream",
          "text": [
            "153\n",
            "            VIXCLS\n",
            "DATE              \n",
            "2019-07-26   12.16\n",
            "2019-07-29   12.83\n",
            "2019-07-30   13.94\n",
            "2019-07-31   16.12\n",
            "2019-08-01   17.87\n",
            "\n",
            "\n"
          ],
          "name": "stdout"
        }
      ]
    },
    {
      "cell_type": "code",
      "metadata": {
        "id": "gMZALvtpecNv"
      },
      "source": [
        "# get VIX data & add to df as column\n",
        "def get_vix(row):\n",
        "  h = int(row[\"accepted_date\"].split()[1].split(\":\")[0])\n",
        "    \n",
        "  if h>=16:\n",
        "    start_date =datetime.strptime(row[\"accepted_date\"].split()[0], \"%Y-%m-%d\")\n",
        "    start_date_str = start_date.strftime (\"%Y-%m-%d\")\n",
        "    end_date = start_date + BDay(1)\n",
        "    end_date_str = end_date.strftime (\"%Y-%m-%d\")\n",
        "        \n",
        "    v = vix[vix.index == end_date_str].values[0]   \n",
        "    \n",
        "  else:\n",
        "    start_date =datetime.strptime(row[\"accepted_date\"].split()[0], \"%Y-%m-%d\")\n",
        "    start_date_str = start_date.strftime (\"%Y-%m-%d\")\n",
        "    \n",
        "    v = vix[vix.index == start_date_str].values[0]\n",
        "  return v"
      ],
      "execution_count": null,
      "outputs": []
    },
    {
      "cell_type": "code",
      "metadata": {
        "id": "WaxCFZxpfHr3"
      },
      "source": [
        "df[\"VIX\"] = df.apply(get_vix, axis = 1)"
      ],
      "execution_count": null,
      "outputs": []
    },
    {
      "cell_type": "code",
      "metadata": {
        "id": "OIZe4-lQfKmx"
      },
      "source": [
        "#get share type & add to df as column\n",
        "def get_shrcd(row):\n",
        "  tckr = row[\"symbol\"]\n",
        "  try:\n",
        "    shrcd = ft[ft[\"TICKER\"] == tckr][\"SHRCD\"].values[0]\n",
        "  except:\n",
        "    shrcd = np.nan\n",
        "  return shrcd"
      ],
      "execution_count": null,
      "outputs": []
    },
    {
      "cell_type": "code",
      "metadata": {
        "id": "RngDzjBCfM8M"
      },
      "source": [
        "df[\"SHRCD\"] = df.apply(get_shrcd, axis = 1)"
      ],
      "execution_count": null,
      "outputs": []
    },
    {
      "cell_type": "code",
      "metadata": {
        "id": "6MXgNXe0fbUL"
      },
      "source": [
        "# get exchange code and & add to df as column\n",
        "def get_exchange(row):\n",
        "  tckr = row[\"symbol\"]\n",
        "  try:\n",
        "    exchange = ft[ft[\"TICKER\"] == tckr][\"EXCHCD\"].values[0]\n",
        "  except:\n",
        "    exchange = np.nan\n",
        "  return exchange"
      ],
      "execution_count": null,
      "outputs": []
    },
    {
      "cell_type": "code",
      "metadata": {
        "id": "RSOfQT5gfoos"
      },
      "source": [
        "df[\"EXCHCD\"] = df.apply(get_exchange, axis = 1)"
      ],
      "execution_count": null,
      "outputs": []
    },
    {
      "cell_type": "code",
      "metadata": {
        "id": "E1pEqZFjhvV0"
      },
      "source": [
        "# get market capitalization & add to df as column\n",
        "def get_size(row):\n",
        "  tckr = row[\"symbol\"]\n",
        "  date = datetime.strptime(row[\"accepted_date\"].split()[0], \"%Y-%m-%d\")\n",
        "  date_str = date.strftime (\"%Y/%m/%d\")\n",
        "  \n",
        "  temp = ft[ft[\"TICKER\"] == tckr]\n",
        "  try:\n",
        "    cap = temp[temp[\"date\"] == date_str][\"Mkt_Size\"].values[0]\n",
        "  except:\n",
        "    cap = np.nan\n",
        "  return cap"
      ],
      "execution_count": null,
      "outputs": []
    },
    {
      "cell_type": "code",
      "metadata": {
        "id": "bDrb0UmfiLx9"
      },
      "source": [
        "df[\"Mkt_Cap\"] = df.apply(get_size, axis=1)"
      ],
      "execution_count": null,
      "outputs": []
    },
    {
      "cell_type": "code",
      "metadata": {
        "id": "wbXsh8wNgM7J"
      },
      "source": [
        "# get dummies of categorical variables\n",
        "df = pd.get_dummies(data = df, columns = [\"SHRCD\", \"ind\", \"EXCHCD\", \"items\"], drop_first=True)"
      ],
      "execution_count": null,
      "outputs": []
    },
    {
      "cell_type": "code",
      "metadata": {
        "id": "LHGRSzbxfTlI"
      },
      "source": [
        "# change VIX data to float\n",
        "df[\"VIX\"] = df[\"VIX\"].astype(\"float\")"
      ],
      "execution_count": null,
      "outputs": []
    },
    {
      "cell_type": "code",
      "metadata": {
        "id": "mMTWS1dkilBH"
      },
      "source": [
        "df.to_pickle(\"/content/drive/MyDrive/Colab Notebooks/with_all_ft.pkl\")"
      ],
      "execution_count": null,
      "outputs": []
    },
    {
      "cell_type": "code",
      "metadata": {
        "colab": {
          "base_uri": "https://localhost:8080/",
          "height": 632
        },
        "id": "019ThhcoirsS",
        "outputId": "243ada9a-a502-48f4-e721-66b93bddf0af"
      },
      "source": [
        "dfr = pd.read_pickle(\"/content/drive/MyDrive/Colab Notebooks/with_all_ft.pkl\")\n",
        "dfr.dropna(inplace=True)\n",
        "df = dfr.reset_index(drop = True)\n",
        "df = df.drop(['symbol', 'cik', 'form', 'access_number', 'filed_date','accepted_date', 'report_url', 'filing_url', 'string', 'lens' ], axis=1)\n",
        "df.head()"
      ],
      "execution_count": 46,
      "outputs": [
        {
          "output_type": "execute_result",
          "data": {
            "text/html": [
              "<div>\n",
              "<style scoped>\n",
              "    .dataframe tbody tr th:only-of-type {\n",
              "        vertical-align: middle;\n",
              "    }\n",
              "\n",
              "    .dataframe tbody tr th {\n",
              "        vertical-align: top;\n",
              "    }\n",
              "\n",
              "    .dataframe thead th {\n",
              "        text-align: right;\n",
              "    }\n",
              "</style>\n",
              "<table border=\"1\" class=\"dataframe\">\n",
              "  <thead>\n",
              "    <tr style=\"text-align: right;\">\n",
              "      <th></th>\n",
              "      <th>texts</th>\n",
              "      <th>pct_change1</th>\n",
              "      <th>pct_change2</th>\n",
              "      <th>beta1</th>\n",
              "      <th>beta2</th>\n",
              "      <th>mkt_excess1</th>\n",
              "      <th>mkt_excess2</th>\n",
              "      <th>item 1.01</th>\n",
              "      <th>item 1.02</th>\n",
              "      <th>item 1.03</th>\n",
              "      <th>item 1.04</th>\n",
              "      <th>item 2.01</th>\n",
              "      <th>item 2.02</th>\n",
              "      <th>item 2.03</th>\n",
              "      <th>item 2.04</th>\n",
              "      <th>item 2.05</th>\n",
              "      <th>item 2.06</th>\n",
              "      <th>item 2.10</th>\n",
              "      <th>item 3.01</th>\n",
              "      <th>item 3.02</th>\n",
              "      <th>item 3.03</th>\n",
              "      <th>item 4.01</th>\n",
              "      <th>item 4.02</th>\n",
              "      <th>item 4.04</th>\n",
              "      <th>item 5.01</th>\n",
              "      <th>item 5.02</th>\n",
              "      <th>item 5.03</th>\n",
              "      <th>item 5.04</th>\n",
              "      <th>item 5.05</th>\n",
              "      <th>item 5.07</th>\n",
              "      <th>item 5.08</th>\n",
              "      <th>item 7.01</th>\n",
              "      <th>item 7.02</th>\n",
              "      <th>item 8.01</th>\n",
              "      <th>item 9.01</th>\n",
              "      <th>item 9.02</th>\n",
              "      <th>VIX</th>\n",
              "      <th>label1</th>\n",
              "      <th>label2</th>\n",
              "      <th>SHRCD_12.0</th>\n",
              "      <th>SHRCD_14.0</th>\n",
              "      <th>SHRCD_18.0</th>\n",
              "      <th>SHRCD_21.0</th>\n",
              "      <th>SHRCD_31.0</th>\n",
              "      <th>SHRCD_41.0</th>\n",
              "      <th>SHRCD_44.0</th>\n",
              "      <th>SHRCD_48.0</th>\n",
              "      <th>SHRCD_71.0</th>\n",
              "      <th>SHRCD_72.0</th>\n",
              "      <th>SHRCD_73.0</th>\n",
              "      <th>SHRCD_74.0</th>\n",
              "      <th>ind_21</th>\n",
              "      <th>ind_22</th>\n",
              "      <th>ind_23</th>\n",
              "      <th>ind_31</th>\n",
              "      <th>ind_32</th>\n",
              "      <th>ind_33</th>\n",
              "      <th>ind_42</th>\n",
              "      <th>ind_44</th>\n",
              "      <th>ind_45</th>\n",
              "      <th>ind_48</th>\n",
              "      <th>ind_49</th>\n",
              "      <th>ind_51</th>\n",
              "      <th>ind_52</th>\n",
              "      <th>ind_53</th>\n",
              "      <th>ind_54</th>\n",
              "      <th>ind_55</th>\n",
              "      <th>ind_56</th>\n",
              "      <th>ind_61</th>\n",
              "      <th>ind_62</th>\n",
              "      <th>ind_71</th>\n",
              "      <th>ind_72</th>\n",
              "      <th>ind_81</th>\n",
              "      <th>ind_na</th>\n",
              "      <th>EXCHCD_1.0</th>\n",
              "      <th>EXCHCD_2.0</th>\n",
              "      <th>EXCHCD_3.0</th>\n",
              "      <th>EXCHCD_4.0</th>\n",
              "      <th>Mkt_Cap</th>\n",
              "    </tr>\n",
              "  </thead>\n",
              "  <tbody>\n",
              "    <tr>\n",
              "      <th>0</th>\n",
              "      <td>Item 2.02\\nResults of Operations and Financial...</td>\n",
              "      <td>0.039772</td>\n",
              "      <td>0.018824</td>\n",
              "      <td>0.1235</td>\n",
              "      <td>0.12100</td>\n",
              "      <td>0.039502</td>\n",
              "      <td>0.017531</td>\n",
              "      <td>0</td>\n",
              "      <td>0</td>\n",
              "      <td>0</td>\n",
              "      <td>0</td>\n",
              "      <td>0</td>\n",
              "      <td>1</td>\n",
              "      <td>0</td>\n",
              "      <td>0</td>\n",
              "      <td>0</td>\n",
              "      <td>0</td>\n",
              "      <td>0</td>\n",
              "      <td>0</td>\n",
              "      <td>0</td>\n",
              "      <td>0</td>\n",
              "      <td>0</td>\n",
              "      <td>0</td>\n",
              "      <td>0</td>\n",
              "      <td>0</td>\n",
              "      <td>0</td>\n",
              "      <td>0</td>\n",
              "      <td>0</td>\n",
              "      <td>0</td>\n",
              "      <td>0</td>\n",
              "      <td>0</td>\n",
              "      <td>0</td>\n",
              "      <td>0</td>\n",
              "      <td>0</td>\n",
              "      <td>1</td>\n",
              "      <td>0</td>\n",
              "      <td>16.14</td>\n",
              "      <td>pos</td>\n",
              "      <td>pos</td>\n",
              "      <td>1</td>\n",
              "      <td>0</td>\n",
              "      <td>0</td>\n",
              "      <td>0</td>\n",
              "      <td>0</td>\n",
              "      <td>0</td>\n",
              "      <td>0</td>\n",
              "      <td>0</td>\n",
              "      <td>0</td>\n",
              "      <td>0</td>\n",
              "      <td>0</td>\n",
              "      <td>0</td>\n",
              "      <td>0</td>\n",
              "      <td>0</td>\n",
              "      <td>0</td>\n",
              "      <td>0</td>\n",
              "      <td>0</td>\n",
              "      <td>0</td>\n",
              "      <td>0</td>\n",
              "      <td>0</td>\n",
              "      <td>0</td>\n",
              "      <td>0</td>\n",
              "      <td>0</td>\n",
              "      <td>0</td>\n",
              "      <td>1</td>\n",
              "      <td>0</td>\n",
              "      <td>0</td>\n",
              "      <td>0</td>\n",
              "      <td>0</td>\n",
              "      <td>0</td>\n",
              "      <td>0</td>\n",
              "      <td>0</td>\n",
              "      <td>0</td>\n",
              "      <td>0</td>\n",
              "      <td>0</td>\n",
              "      <td>0</td>\n",
              "      <td>0</td>\n",
              "      <td>1</td>\n",
              "      <td>0</td>\n",
              "      <td>86355.36</td>\n",
              "    </tr>\n",
              "    <tr>\n",
              "      <th>1</th>\n",
              "      <td>Item 2.02 Results of Operations and Financial ...</td>\n",
              "      <td>0.005894</td>\n",
              "      <td>0.019647</td>\n",
              "      <td>0.9098</td>\n",
              "      <td>0.91085</td>\n",
              "      <td>-0.003435</td>\n",
              "      <td>0.005013</td>\n",
              "      <td>0</td>\n",
              "      <td>0</td>\n",
              "      <td>0</td>\n",
              "      <td>0</td>\n",
              "      <td>0</td>\n",
              "      <td>1</td>\n",
              "      <td>0</td>\n",
              "      <td>0</td>\n",
              "      <td>0</td>\n",
              "      <td>0</td>\n",
              "      <td>0</td>\n",
              "      <td>0</td>\n",
              "      <td>0</td>\n",
              "      <td>0</td>\n",
              "      <td>0</td>\n",
              "      <td>0</td>\n",
              "      <td>0</td>\n",
              "      <td>0</td>\n",
              "      <td>0</td>\n",
              "      <td>0</td>\n",
              "      <td>0</td>\n",
              "      <td>0</td>\n",
              "      <td>0</td>\n",
              "      <td>0</td>\n",
              "      <td>1</td>\n",
              "      <td>0</td>\n",
              "      <td>0</td>\n",
              "      <td>1</td>\n",
              "      <td>0</td>\n",
              "      <td>20.47</td>\n",
              "      <td>pos</td>\n",
              "      <td>pos</td>\n",
              "      <td>0</td>\n",
              "      <td>0</td>\n",
              "      <td>0</td>\n",
              "      <td>0</td>\n",
              "      <td>0</td>\n",
              "      <td>0</td>\n",
              "      <td>0</td>\n",
              "      <td>0</td>\n",
              "      <td>0</td>\n",
              "      <td>0</td>\n",
              "      <td>0</td>\n",
              "      <td>0</td>\n",
              "      <td>0</td>\n",
              "      <td>0</td>\n",
              "      <td>0</td>\n",
              "      <td>0</td>\n",
              "      <td>0</td>\n",
              "      <td>0</td>\n",
              "      <td>0</td>\n",
              "      <td>0</td>\n",
              "      <td>0</td>\n",
              "      <td>0</td>\n",
              "      <td>0</td>\n",
              "      <td>0</td>\n",
              "      <td>1</td>\n",
              "      <td>0</td>\n",
              "      <td>0</td>\n",
              "      <td>0</td>\n",
              "      <td>0</td>\n",
              "      <td>0</td>\n",
              "      <td>0</td>\n",
              "      <td>0</td>\n",
              "      <td>0</td>\n",
              "      <td>0</td>\n",
              "      <td>0</td>\n",
              "      <td>0</td>\n",
              "      <td>0</td>\n",
              "      <td>1</td>\n",
              "      <td>0</td>\n",
              "      <td>125102.08</td>\n",
              "    </tr>\n",
              "    <tr>\n",
              "      <th>2</th>\n",
              "      <td>ITEM 1.01.\\nENTRY INTO A MATERIAL DEFINITIVE A...</td>\n",
              "      <td>-0.019268</td>\n",
              "      <td>-0.019268</td>\n",
              "      <td>0.8742</td>\n",
              "      <td>0.87420</td>\n",
              "      <td>-0.013888</td>\n",
              "      <td>-0.013888</td>\n",
              "      <td>1</td>\n",
              "      <td>0</td>\n",
              "      <td>0</td>\n",
              "      <td>0</td>\n",
              "      <td>0</td>\n",
              "      <td>0</td>\n",
              "      <td>0</td>\n",
              "      <td>0</td>\n",
              "      <td>0</td>\n",
              "      <td>0</td>\n",
              "      <td>0</td>\n",
              "      <td>0</td>\n",
              "      <td>0</td>\n",
              "      <td>0</td>\n",
              "      <td>0</td>\n",
              "      <td>0</td>\n",
              "      <td>0</td>\n",
              "      <td>0</td>\n",
              "      <td>0</td>\n",
              "      <td>0</td>\n",
              "      <td>0</td>\n",
              "      <td>0</td>\n",
              "      <td>0</td>\n",
              "      <td>0</td>\n",
              "      <td>0</td>\n",
              "      <td>0</td>\n",
              "      <td>0</td>\n",
              "      <td>1</td>\n",
              "      <td>0</td>\n",
              "      <td>19.07</td>\n",
              "      <td>neg</td>\n",
              "      <td>neg</td>\n",
              "      <td>0</td>\n",
              "      <td>0</td>\n",
              "      <td>0</td>\n",
              "      <td>0</td>\n",
              "      <td>0</td>\n",
              "      <td>0</td>\n",
              "      <td>0</td>\n",
              "      <td>0</td>\n",
              "      <td>0</td>\n",
              "      <td>0</td>\n",
              "      <td>0</td>\n",
              "      <td>0</td>\n",
              "      <td>0</td>\n",
              "      <td>0</td>\n",
              "      <td>0</td>\n",
              "      <td>0</td>\n",
              "      <td>0</td>\n",
              "      <td>0</td>\n",
              "      <td>0</td>\n",
              "      <td>0</td>\n",
              "      <td>0</td>\n",
              "      <td>0</td>\n",
              "      <td>0</td>\n",
              "      <td>0</td>\n",
              "      <td>1</td>\n",
              "      <td>0</td>\n",
              "      <td>0</td>\n",
              "      <td>0</td>\n",
              "      <td>0</td>\n",
              "      <td>0</td>\n",
              "      <td>0</td>\n",
              "      <td>0</td>\n",
              "      <td>0</td>\n",
              "      <td>0</td>\n",
              "      <td>0</td>\n",
              "      <td>0</td>\n",
              "      <td>0</td>\n",
              "      <td>1</td>\n",
              "      <td>0</td>\n",
              "      <td>126812.46</td>\n",
              "    </tr>\n",
              "    <tr>\n",
              "      <th>3</th>\n",
              "      <td>ITEM 1.01.\\nENTRY INTO A MATERIAL DEFINITIVE A...</td>\n",
              "      <td>0.077505</td>\n",
              "      <td>0.035918</td>\n",
              "      <td>0.8901</td>\n",
              "      <td>0.88485</td>\n",
              "      <td>0.076161</td>\n",
              "      <td>0.027620</td>\n",
              "      <td>1</td>\n",
              "      <td>0</td>\n",
              "      <td>0</td>\n",
              "      <td>0</td>\n",
              "      <td>0</td>\n",
              "      <td>0</td>\n",
              "      <td>0</td>\n",
              "      <td>0</td>\n",
              "      <td>0</td>\n",
              "      <td>0</td>\n",
              "      <td>0</td>\n",
              "      <td>0</td>\n",
              "      <td>0</td>\n",
              "      <td>0</td>\n",
              "      <td>0</td>\n",
              "      <td>0</td>\n",
              "      <td>0</td>\n",
              "      <td>0</td>\n",
              "      <td>0</td>\n",
              "      <td>0</td>\n",
              "      <td>0</td>\n",
              "      <td>0</td>\n",
              "      <td>0</td>\n",
              "      <td>0</td>\n",
              "      <td>0</td>\n",
              "      <td>0</td>\n",
              "      <td>0</td>\n",
              "      <td>1</td>\n",
              "      <td>0</td>\n",
              "      <td>16.14</td>\n",
              "      <td>pos</td>\n",
              "      <td>pos</td>\n",
              "      <td>0</td>\n",
              "      <td>0</td>\n",
              "      <td>0</td>\n",
              "      <td>0</td>\n",
              "      <td>0</td>\n",
              "      <td>0</td>\n",
              "      <td>0</td>\n",
              "      <td>0</td>\n",
              "      <td>0</td>\n",
              "      <td>0</td>\n",
              "      <td>0</td>\n",
              "      <td>0</td>\n",
              "      <td>0</td>\n",
              "      <td>0</td>\n",
              "      <td>0</td>\n",
              "      <td>0</td>\n",
              "      <td>0</td>\n",
              "      <td>0</td>\n",
              "      <td>0</td>\n",
              "      <td>0</td>\n",
              "      <td>0</td>\n",
              "      <td>0</td>\n",
              "      <td>0</td>\n",
              "      <td>0</td>\n",
              "      <td>1</td>\n",
              "      <td>0</td>\n",
              "      <td>0</td>\n",
              "      <td>0</td>\n",
              "      <td>0</td>\n",
              "      <td>0</td>\n",
              "      <td>0</td>\n",
              "      <td>0</td>\n",
              "      <td>0</td>\n",
              "      <td>0</td>\n",
              "      <td>0</td>\n",
              "      <td>0</td>\n",
              "      <td>0</td>\n",
              "      <td>1</td>\n",
              "      <td>0</td>\n",
              "      <td>139273.80</td>\n",
              "    </tr>\n",
              "    <tr>\n",
              "      <th>4</th>\n",
              "      <td>ITEM 1.01.\\nENTRY INTO A MATERIAL DEFINITIVE A...</td>\n",
              "      <td>0.076013</td>\n",
              "      <td>0.076013</td>\n",
              "      <td>0.9225</td>\n",
              "      <td>0.92250</td>\n",
              "      <td>0.070040</td>\n",
              "      <td>0.070040</td>\n",
              "      <td>1</td>\n",
              "      <td>0</td>\n",
              "      <td>0</td>\n",
              "      <td>0</td>\n",
              "      <td>0</td>\n",
              "      <td>0</td>\n",
              "      <td>0</td>\n",
              "      <td>0</td>\n",
              "      <td>0</td>\n",
              "      <td>0</td>\n",
              "      <td>0</td>\n",
              "      <td>0</td>\n",
              "      <td>0</td>\n",
              "      <td>0</td>\n",
              "      <td>0</td>\n",
              "      <td>0</td>\n",
              "      <td>0</td>\n",
              "      <td>0</td>\n",
              "      <td>0</td>\n",
              "      <td>0</td>\n",
              "      <td>0</td>\n",
              "      <td>0</td>\n",
              "      <td>0</td>\n",
              "      <td>0</td>\n",
              "      <td>0</td>\n",
              "      <td>0</td>\n",
              "      <td>0</td>\n",
              "      <td>1</td>\n",
              "      <td>0</td>\n",
              "      <td>13.51</td>\n",
              "      <td>pos</td>\n",
              "      <td>pos</td>\n",
              "      <td>0</td>\n",
              "      <td>0</td>\n",
              "      <td>0</td>\n",
              "      <td>0</td>\n",
              "      <td>0</td>\n",
              "      <td>0</td>\n",
              "      <td>0</td>\n",
              "      <td>0</td>\n",
              "      <td>0</td>\n",
              "      <td>0</td>\n",
              "      <td>0</td>\n",
              "      <td>0</td>\n",
              "      <td>0</td>\n",
              "      <td>0</td>\n",
              "      <td>0</td>\n",
              "      <td>0</td>\n",
              "      <td>0</td>\n",
              "      <td>0</td>\n",
              "      <td>0</td>\n",
              "      <td>0</td>\n",
              "      <td>0</td>\n",
              "      <td>0</td>\n",
              "      <td>0</td>\n",
              "      <td>0</td>\n",
              "      <td>1</td>\n",
              "      <td>0</td>\n",
              "      <td>0</td>\n",
              "      <td>0</td>\n",
              "      <td>0</td>\n",
              "      <td>0</td>\n",
              "      <td>0</td>\n",
              "      <td>0</td>\n",
              "      <td>0</td>\n",
              "      <td>0</td>\n",
              "      <td>0</td>\n",
              "      <td>0</td>\n",
              "      <td>0</td>\n",
              "      <td>1</td>\n",
              "      <td>0</td>\n",
              "      <td>144649.28</td>\n",
              "    </tr>\n",
              "  </tbody>\n",
              "</table>\n",
              "</div>"
            ],
            "text/plain": [
              "                                               texts  ...    Mkt_Cap\n",
              "0  Item 2.02\\nResults of Operations and Financial...  ...   86355.36\n",
              "1  Item 2.02 Results of Operations and Financial ...  ...  125102.08\n",
              "2  ITEM 1.01.\\nENTRY INTO A MATERIAL DEFINITIVE A...  ...  126812.46\n",
              "3  ITEM 1.01.\\nENTRY INTO A MATERIAL DEFINITIVE A...  ...  139273.80\n",
              "4  ITEM 1.01.\\nENTRY INTO A MATERIAL DEFINITIVE A...  ...  144649.28\n",
              "\n",
              "[5 rows x 79 columns]"
            ]
          },
          "metadata": {
            "tags": []
          },
          "execution_count": 46
        }
      ]
    }
  ]
}