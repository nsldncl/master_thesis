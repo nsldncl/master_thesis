{
  "nbformat": 4,
  "nbformat_minor": 0,
  "metadata": {
    "accelerator": "GPU",
    "colab": {
      "name": "MLP_Features.ipynb",
      "provenance": [],
      "collapsed_sections": []
    },
    "kernelspec": {
      "display_name": "Python [conda env:pytenv]",
      "language": "python",
      "name": "conda-env-pytenv-py"
    },
    "language_info": {
      "codemirror_mode": {
        "name": "ipython",
        "version": 3
      },
      "file_extension": ".py",
      "mimetype": "text/x-python",
      "name": "python",
      "nbconvert_exporter": "python",
      "pygments_lexer": "ipython3",
      "version": "3.9.4"
    }
  },
  "cells": [
    {
      "cell_type": "code",
      "metadata": {
        "id": "JNKsaMnFnFRe"
      },
      "source": [
        "import pandas as pd\n",
        "from dateutil import relativedelta, parser\n",
        "from pandas.tseries.offsets import BDay \n",
        "from datetime import datetime, date, time\n",
        "import numpy as np\n",
        "import pickle\n",
        "import time\n",
        "import re\n",
        "import matplotlib.pyplot as plt\n",
        "import pandas_datareader.data as reader\n",
        "from sklearn.model_selection import train_test_split\n",
        "from keras.wrappers.scikit_learn import KerasClassifier\n",
        "from sklearn.model_selection import GridSearchCV\n",
        "from keras.models import Sequential\n",
        "from keras.layers import Dense, Dropout\n",
        "from sklearn.metrics import classification_report\n",
        "\n",
        "import os\n",
        "from torch.utils.tensorboard import SummaryWriter"
      ],
      "execution_count": 64,
      "outputs": []
    },
    {
      "cell_type": "code",
      "metadata": {
        "colab": {
          "base_uri": "https://localhost:8080/"
        },
        "id": "c6pxPu_3nQ4a",
        "outputId": "d65c2ad3-54b9-433e-a939-34d06a27d152"
      },
      "source": [
        "from google.colab import drive\n",
        "drive.mount('/content/drive')"
      ],
      "execution_count": 2,
      "outputs": [
        {
          "output_type": "stream",
          "text": [
            "Mounted at /content/drive\n"
          ],
          "name": "stdout"
        }
      ]
    },
    {
      "cell_type": "code",
      "metadata": {
        "colab": {
          "base_uri": "https://localhost:8080/"
        },
        "id": "lyCy_7Dn4ISQ",
        "outputId": "273201f1-1d62-48a0-eaa1-0638029f1a5a"
      },
      "source": [
        "path_root = f\"{os.getcwd()}\"\n",
        "path_root = \"/content/drive/MyDrive/Colab Notebooks\"\n",
        "print(path_root)"
      ],
      "execution_count": 3,
      "outputs": [
        {
          "output_type": "stream",
          "text": [
            "/content/drive/MyDrive/Colab Notebooks\n"
          ],
          "name": "stdout"
        }
      ]
    },
    {
      "cell_type": "code",
      "metadata": {
        "id": "YSEE-TU2nH0-"
      },
      "source": [
        "df = pd.read_pickle(f\"{path_root}/with_all_ft_clean.pkl\")\n",
        "df.head()"
      ],
      "execution_count": null,
      "outputs": []
    },
    {
      "cell_type": "code",
      "metadata": {
        "id": "3BUyfrGeOZoj"
      },
      "source": [
        "def label1(row):\n",
        "    if row[\"pct_change1\"] > row[\"mkt_excess1\"]:\n",
        "        return 1\n",
        "    else:\n",
        "        return 0\n",
        "\n",
        "def label2(row):\n",
        "    if row[\"pct_change2\"] > row[\"mkt_excess2\"]:\n",
        "        return 1\n",
        "    else:\n",
        "        return 0"
      ],
      "execution_count": 5,
      "outputs": []
    },
    {
      "cell_type": "code",
      "metadata": {
        "id": "NTteuOmSOkO1"
      },
      "source": [
        "df[\"label1\"] = df.apply(label1, axis = 1)\n",
        "df[\"label2\"] = df.apply(label2, axis = 1)"
      ],
      "execution_count": 6,
      "outputs": []
    },
    {
      "cell_type": "code",
      "metadata": {
        "id": "ksH-RmjeLiad"
      },
      "source": [
        "# Split into train and test data\n",
        "X_train, X_test, y_train, y_test = train_test_split(df.index, df[\"label2\"],\n",
        "                                                    stratify=df[\"label2\"], \n",
        "                                                    test_size=0.2,\n",
        "                                                    random_state = 20)\n",
        "\n",
        "X_train, X_val, y_train, y_val = train_test_split(X_train, y_train,\n",
        "                                                    stratify=y_train, \n",
        "                                                    test_size=0.2,\n",
        "                                                    random_state = 20)"
      ],
      "execution_count": 7,
      "outputs": []
    },
    {
      "cell_type": "code",
      "metadata": {
        "id": "1UxD9rvk9Vdy"
      },
      "source": [
        "# get column names of categorical features\n",
        "item_list = [i for i in df.columns if not i.find(\"item\")]\n",
        "ind_list = [i for i in df.columns if not i.find(\"ind\")]\n",
        "shrcd_list = [i for i in df.columns if not i.find(\"SHRCD\")]\n",
        "exc_list = [i for i in df.columns if not i.find(\"EXCHCD\")]"
      ],
      "execution_count": 8,
      "outputs": []
    },
    {
      "cell_type": "code",
      "metadata": {
        "id": "8AXLJsba9ViF"
      },
      "source": [
        "# combine all feature column names\n",
        "cols = ['VIX', \"Mkt_Cap\"]\n",
        "cols.extend(item_list)\n",
        "cols.extend(ind_list)\n",
        "cols.extend(shrcd_list)\n",
        "cols.extend(exc_list)"
      ],
      "execution_count": 9,
      "outputs": []
    },
    {
      "cell_type": "code",
      "metadata": {
        "colab": {
          "base_uri": "https://localhost:8080/"
        },
        "id": "3qqX3Q6iMZkD",
        "outputId": "60554207-9e5f-4690-c469-8c854f773415"
      },
      "source": [
        "# get numerical features\n",
        "num_train = df.loc[X_train, cols]\n",
        "num_val = df.loc[X_val, cols]\n",
        "num_test = df.loc[X_test, cols]\n",
        "\n",
        "#get texts\n",
        "#text_train = df.loc[X_train, 'texts']\n",
        "#text_val = df.loc[X_val, 'texts']\n",
        "#text_test = df.loc[X_test, 'texts']\n",
        "\n",
        "N, D = num_train.shape\n",
        "print(\"num_train.shape\", num_train.shape)\n",
        "print(\"num_val.shape \", num_val.shape)\n",
        "print(\"num_test.shape \", num_test.shape)\n",
        "\n",
        "print(\"N:\", N, \"D:\", D)"
      ],
      "execution_count": 10,
      "outputs": [
        {
          "output_type": "stream",
          "text": [
            "num_train.shape (13888, 70)\n",
            "num_val.shape  (3473, 70)\n",
            "num_test.shape  (4341, 70)\n",
            "N: 13888 D: 70\n"
          ],
          "name": "stdout"
        }
      ]
    },
    {
      "cell_type": "code",
      "metadata": {
        "id": "Q39wADAEYfvA"
      },
      "source": [
        "from sklearn.preprocessing import StandardScaler\n",
        "\n",
        "x_scaler = StandardScaler()\n",
        "\n",
        "# standardize volatility index and market cap by mean and standard deviation (standardize train and test sets separately)\n",
        "num_train[\"VIX\"] = x_scaler.fit_transform(np.array(num_train[\"VIX\"]).reshape(-1,1))\n",
        "num_val[\"VIX\"] = x_scaler.transform(np.array(num_val[\"VIX\"]).reshape(-1,1))\n",
        "num_test[\"VIX\"] = x_scaler.transform(np.array(num_test[\"VIX\"]).reshape(-1,1))\n",
        "num_train[\"Mkt_Cap\"] = x_scaler.fit_transform(np.array(num_train[\"Mkt_Cap\"]).reshape(-1,1))\n",
        "num_val[\"Mkt_Cap\"] = x_scaler.transform(np.array(num_val[\"Mkt_Cap\"]).reshape(-1,1))\n",
        "num_test[\"Mkt_Cap\"] = x_scaler.transform(np.array(num_test[\"Mkt_Cap\"]).reshape(-1,1))"
      ],
      "execution_count": 11,
      "outputs": []
    },
    {
      "cell_type": "code",
      "metadata": {
        "colab": {
          "base_uri": "https://localhost:8080/"
        },
        "id": "E8wP1l0906LR",
        "outputId": "6bb7fb8d-7d67-4b24-e764-71f163ca35c9"
      },
      "source": [
        "y_train.shape"
      ],
      "execution_count": 12,
      "outputs": [
        {
          "output_type": "execute_result",
          "data": {
            "text/plain": [
              "(13888,)"
            ]
          },
          "metadata": {
            "tags": []
          },
          "execution_count": 12
        }
      ]
    },
    {
      "cell_type": "code",
      "metadata": {
        "id": "k7_93AxwTVz4"
      },
      "source": [
        "def create_model(dropout_rate=0):\n",
        "    # create model\n",
        "    model = Sequential()\n",
        "\n",
        "    model.add(Dense(60, input_dim=70, activation='relu'))\n",
        "\n",
        "    # add a dropout layer if rate is not null\n",
        "    if dropout_rate != 0:\n",
        "        model.add(Dropout(rate=dropout_rate))\n",
        "\n",
        "    \n",
        "    model.add(Dense(1, activation='sigmoid'))\n",
        "\n",
        "\n",
        "    # Compile model\n",
        "    model.compile( \n",
        "        optimizer='adam',\n",
        "        loss='binary_crossentropy',\n",
        "        metrics=['accuracy'],\n",
        "        )    \n",
        "    return model\n",
        "\n",
        "# define function to display the results of the grid search\n",
        "def display_cv_results(search_results):\n",
        "    print('Best score = {:.4f} using {}'.format(search_results.best_score_, search_results.best_params_))\n",
        "    means = search_results.cv_results_['mean_test_score']\n",
        "    stds = search_results.cv_results_['std_test_score']\n",
        "    params = search_results.cv_results_['params']\n",
        "    for mean, stdev, param in zip(means, stds, params):\n",
        "        print('mean test accuracy +/- std = {:.4f} +/- {:.4f} with: {}'.format(mean, stdev, param))    \n",
        "    "
      ],
      "execution_count": 17,
      "outputs": []
    },
    {
      "cell_type": "code",
      "metadata": {
        "id": "oZ1w0llcoson"
      },
      "source": [
        "model = KerasClassifier(build_fn=create_model, verbose=1)"
      ],
      "execution_count": 18,
      "outputs": []
    },
    {
      "cell_type": "code",
      "metadata": {
        "id": "9IzOPy1RLuZE",
        "colab": {
          "base_uri": "https://localhost:8080/"
        },
        "outputId": "d5a607bb-220f-4d23-f143-5e9f41a58389"
      },
      "source": [
        "%tensorflow_version 2.x\n",
        "import tensorflow as tf\n",
        "device_name = tf.test.gpu_device_name()\n",
        "if device_name != '/device:GPU:0':\n",
        "  raise SystemError('GPU device not found')\n",
        "print('Found GPU at: {}'.format(device_name))"
      ],
      "execution_count": 19,
      "outputs": [
        {
          "output_type": "stream",
          "text": [
            "Found GPU at: /device:GPU:0\n"
          ],
          "name": "stdout"
        }
      ]
    },
    {
      "cell_type": "code",
      "metadata": {
        "id": "JT4uJXxf5jZq"
      },
      "source": [
        "# define parameters and values for grid search \n",
        "param_grid = {\n",
        "    'batch_size': [16, 32, 64],\n",
        "    'epochs': [10,20,30],\n",
        "    'dropout_rate': [0.10, 0.20, 0.30],\n",
        "}"
      ],
      "execution_count": 20,
      "outputs": []
    },
    {
      "cell_type": "code",
      "metadata": {
        "id": "Xi6FvjZqo38k"
      },
      "source": [
        "grid = GridSearchCV(estimator=model, param_grid=param_grid, n_jobs=-1, cv=3)"
      ],
      "execution_count": 23,
      "outputs": []
    },
    {
      "cell_type": "code",
      "metadata": {
        "colab": {
          "base_uri": "https://localhost:8080/"
        },
        "id": "1hfMLJI6sWpN",
        "outputId": "0e01c4e2-5b85-48f7-9071-ab87f132b186"
      },
      "source": [
        "with tf.device('/device:GPU:0'):\n",
        "  grid_result = grid.fit(num_train, y_train)"
      ],
      "execution_count": 30,
      "outputs": [
        {
          "output_type": "stream",
          "text": [
            "/usr/local/lib/python3.7/dist-packages/joblib/externals/loky/process_executor.py:691: UserWarning: A worker stopped while some jobs were given to the executor. This can be caused by a too short worker timeout or by a memory leak.\n",
            "  \"timeout or by a memory leak.\", UserWarning\n"
          ],
          "name": "stderr"
        },
        {
          "output_type": "stream",
          "text": [
            "Epoch 1/10\n",
            "434/434 [==============================] - 12s 2ms/step - loss: 0.6822 - accuracy: 0.5647\n",
            "Epoch 2/10\n",
            "434/434 [==============================] - 1s 2ms/step - loss: 0.6665 - accuracy: 0.6013\n",
            "Epoch 3/10\n",
            "434/434 [==============================] - 1s 2ms/step - loss: 0.6601 - accuracy: 0.6104\n",
            "Epoch 4/10\n",
            "434/434 [==============================] - 1s 2ms/step - loss: 0.6576 - accuracy: 0.6112\n",
            "Epoch 5/10\n",
            "434/434 [==============================] - 1s 2ms/step - loss: 0.6569 - accuracy: 0.6109\n",
            "Epoch 6/10\n",
            "434/434 [==============================] - 1s 2ms/step - loss: 0.6511 - accuracy: 0.6167\n",
            "Epoch 7/10\n",
            "434/434 [==============================] - 1s 2ms/step - loss: 0.6472 - accuracy: 0.6208\n",
            "Epoch 8/10\n",
            "434/434 [==============================] - 1s 2ms/step - loss: 0.6515 - accuracy: 0.6174\n",
            "Epoch 9/10\n",
            "434/434 [==============================] - 1s 2ms/step - loss: 0.6476 - accuracy: 0.6186\n",
            "Epoch 10/10\n",
            "434/434 [==============================] - 1s 2ms/step - loss: 0.6465 - accuracy: 0.6221\n"
          ],
          "name": "stdout"
        }
      ]
    },
    {
      "cell_type": "code",
      "metadata": {
        "colab": {
          "base_uri": "https://localhost:8080/"
        },
        "id": "ucbuKH3GsWsu",
        "outputId": "b4e93173-ae4f-476b-f354-8a8e428050f8"
      },
      "source": [
        "#print('time for grid search = {:.0f} sec'.format(time()-start))\n",
        "display_cv_results(grid_result)"
      ],
      "execution_count": 35,
      "outputs": [
        {
          "output_type": "stream",
          "text": [
            "Best score = 0.6047 using {'batch_size': 32, 'dropout_rate': 0.2, 'epochs': 10}\n",
            "mean test accuracy +/- std = 0.6017 +/- 0.0089 with: {'batch_size': 16, 'dropout_rate': 0.1, 'epochs': 10}\n",
            "mean test accuracy +/- std = 0.5934 +/- 0.0068 with: {'batch_size': 16, 'dropout_rate': 0.1, 'epochs': 20}\n",
            "mean test accuracy +/- std = 0.5926 +/- 0.0113 with: {'batch_size': 16, 'dropout_rate': 0.1, 'epochs': 30}\n",
            "mean test accuracy +/- std = 0.5997 +/- 0.0045 with: {'batch_size': 16, 'dropout_rate': 0.2, 'epochs': 10}\n",
            "mean test accuracy +/- std = 0.5986 +/- 0.0068 with: {'batch_size': 16, 'dropout_rate': 0.2, 'epochs': 20}\n",
            "mean test accuracy +/- std = 0.6021 +/- 0.0051 with: {'batch_size': 16, 'dropout_rate': 0.2, 'epochs': 30}\n",
            "mean test accuracy +/- std = 0.6025 +/- 0.0069 with: {'batch_size': 16, 'dropout_rate': 0.3, 'epochs': 10}\n",
            "mean test accuracy +/- std = 0.5944 +/- 0.0061 with: {'batch_size': 16, 'dropout_rate': 0.3, 'epochs': 20}\n",
            "mean test accuracy +/- std = 0.5982 +/- 0.0064 with: {'batch_size': 16, 'dropout_rate': 0.3, 'epochs': 30}\n",
            "mean test accuracy +/- std = 0.6025 +/- 0.0085 with: {'batch_size': 32, 'dropout_rate': 0.1, 'epochs': 10}\n",
            "mean test accuracy +/- std = 0.6004 +/- 0.0078 with: {'batch_size': 32, 'dropout_rate': 0.1, 'epochs': 20}\n",
            "mean test accuracy +/- std = 0.5984 +/- 0.0076 with: {'batch_size': 32, 'dropout_rate': 0.1, 'epochs': 30}\n",
            "mean test accuracy +/- std = 0.6047 +/- 0.0061 with: {'batch_size': 32, 'dropout_rate': 0.2, 'epochs': 10}\n",
            "mean test accuracy +/- std = 0.6005 +/- 0.0117 with: {'batch_size': 32, 'dropout_rate': 0.2, 'epochs': 20}\n",
            "mean test accuracy +/- std = 0.5984 +/- 0.0047 with: {'batch_size': 32, 'dropout_rate': 0.2, 'epochs': 30}\n",
            "mean test accuracy +/- std = 0.6036 +/- 0.0045 with: {'batch_size': 32, 'dropout_rate': 0.3, 'epochs': 10}\n",
            "mean test accuracy +/- std = 0.6010 +/- 0.0087 with: {'batch_size': 32, 'dropout_rate': 0.3, 'epochs': 20}\n",
            "mean test accuracy +/- std = 0.6002 +/- 0.0031 with: {'batch_size': 32, 'dropout_rate': 0.3, 'epochs': 30}\n",
            "mean test accuracy +/- std = 0.6020 +/- 0.0086 with: {'batch_size': 64, 'dropout_rate': 0.1, 'epochs': 10}\n",
            "mean test accuracy +/- std = 0.5986 +/- 0.0059 with: {'batch_size': 64, 'dropout_rate': 0.1, 'epochs': 20}\n",
            "mean test accuracy +/- std = 0.5964 +/- 0.0077 with: {'batch_size': 64, 'dropout_rate': 0.1, 'epochs': 30}\n",
            "mean test accuracy +/- std = 0.6012 +/- 0.0028 with: {'batch_size': 64, 'dropout_rate': 0.2, 'epochs': 10}\n",
            "mean test accuracy +/- std = 0.6024 +/- 0.0039 with: {'batch_size': 64, 'dropout_rate': 0.2, 'epochs': 20}\n",
            "mean test accuracy +/- std = 0.5972 +/- 0.0048 with: {'batch_size': 64, 'dropout_rate': 0.2, 'epochs': 30}\n",
            "mean test accuracy +/- std = 0.5992 +/- 0.0079 with: {'batch_size': 64, 'dropout_rate': 0.3, 'epochs': 10}\n",
            "mean test accuracy +/- std = 0.6007 +/- 0.0055 with: {'batch_size': 64, 'dropout_rate': 0.3, 'epochs': 20}\n",
            "mean test accuracy +/- std = 0.6024 +/- 0.0069 with: {'batch_size': 64, 'dropout_rate': 0.3, 'epochs': 30}\n"
          ],
          "name": "stdout"
        }
      ]
    },
    {
      "cell_type": "code",
      "metadata": {
        "id": "G-Xyt_aosWw5"
      },
      "source": [
        "def create_model():\n",
        "    # best model\n",
        "    model = Sequential()\n",
        "    model.add(Dense(60, input_dim=70, activation='relu'))\n",
        "    model.add(Dropout(0.2))\n",
        "    model.add(Dense(1, activation='sigmoid'))\n",
        "\n",
        "    # Compile model\n",
        "    model.compile( \n",
        "        optimizer='adam',\n",
        "        loss='binary_crossentropy',\n",
        "        metrics=['accuracy'],\n",
        "        )    \n",
        "    return model "
      ],
      "execution_count": 36,
      "outputs": []
    },
    {
      "cell_type": "code",
      "metadata": {
        "id": "0I4Tv_BW0Eog"
      },
      "source": [
        "model = KerasClassifier(build_fn=create_model, verbose=1)"
      ],
      "execution_count": 37,
      "outputs": []
    },
    {
      "cell_type": "code",
      "metadata": {
        "id": "iXUWbo3-7tds"
      },
      "source": [
        "num_val = np.array(num_val)"
      ],
      "execution_count": 38,
      "outputs": []
    },
    {
      "cell_type": "code",
      "metadata": {
        "id": "ec3BGzD675UK"
      },
      "source": [
        "y_val = np.array(y_val)"
      ],
      "execution_count": 39,
      "outputs": []
    },
    {
      "cell_type": "code",
      "metadata": {
        "colab": {
          "base_uri": "https://localhost:8080/"
        },
        "id": "g217or5bsW0C",
        "outputId": "db6c90b6-a866-4de4-bfee-34cc05edea09"
      },
      "source": [
        "with tf.device('/device:GPU:0'):\n",
        "  hist =model.fit(num_train, y_train, epochs=10,batch_size=32, validation_data = (np.array(num_val), np.array(y_val)))"
      ],
      "execution_count": 40,
      "outputs": [
        {
          "output_type": "stream",
          "text": [
            "Epoch 1/10\n",
            "434/434 [==============================] - 2s 3ms/step - loss: 0.6777 - accuracy: 0.5845 - val_loss: 0.6701 - val_accuracy: 0.5940\n",
            "Epoch 2/10\n",
            "434/434 [==============================] - 1s 2ms/step - loss: 0.6668 - accuracy: 0.5924 - val_loss: 0.6692 - val_accuracy: 0.5983\n",
            "Epoch 3/10\n",
            "434/434 [==============================] - 1s 2ms/step - loss: 0.6614 - accuracy: 0.6028 - val_loss: 0.6695 - val_accuracy: 0.6067\n",
            "Epoch 4/10\n",
            "434/434 [==============================] - 1s 2ms/step - loss: 0.6560 - accuracy: 0.6082 - val_loss: 0.6690 - val_accuracy: 0.6041\n",
            "Epoch 5/10\n",
            "434/434 [==============================] - 1s 2ms/step - loss: 0.6534 - accuracy: 0.6099 - val_loss: 0.6688 - val_accuracy: 0.5978\n",
            "Epoch 6/10\n",
            "434/434 [==============================] - 1s 2ms/step - loss: 0.6535 - accuracy: 0.6127 - val_loss: 0.6690 - val_accuracy: 0.5980\n",
            "Epoch 7/10\n",
            "434/434 [==============================] - 1s 2ms/step - loss: 0.6543 - accuracy: 0.6095 - val_loss: 0.6689 - val_accuracy: 0.6009\n",
            "Epoch 8/10\n",
            "434/434 [==============================] - 1s 2ms/step - loss: 0.6478 - accuracy: 0.6161 - val_loss: 0.6695 - val_accuracy: 0.5931\n",
            "Epoch 9/10\n",
            "434/434 [==============================] - 1s 2ms/step - loss: 0.6507 - accuracy: 0.6150 - val_loss: 0.6701 - val_accuracy: 0.6026\n",
            "Epoch 10/10\n",
            "434/434 [==============================] - 1s 2ms/step - loss: 0.6476 - accuracy: 0.6202 - val_loss: 0.6719 - val_accuracy: 0.5998\n"
          ],
          "name": "stdout"
        }
      ]
    },
    {
      "cell_type": "code",
      "metadata": {
        "id": "u0qVjW3H2MmR"
      },
      "source": [
        "# Split into train and test data\n",
        "X_train, X_test, y_train, y_test = train_test_split(df.index, df[\"label2\"],\n",
        "                                                    stratify=df[\"label2\"], \n",
        "                                                    test_size=0.2,\n",
        "                                                    random_state = 20)"
      ],
      "execution_count": 56,
      "outputs": []
    },
    {
      "cell_type": "code",
      "metadata": {
        "id": "XGptYH_okbXU"
      },
      "source": [
        "# get numerical features\n",
        "num_train = df.loc[X_train, cols]\n",
        "num_test = df.loc[X_test, cols]"
      ],
      "execution_count": 57,
      "outputs": []
    },
    {
      "cell_type": "code",
      "metadata": {
        "id": "mIOtVN-emsAz"
      },
      "source": [
        "from sklearn.preprocessing import StandardScaler\n",
        "\n",
        "x_scaler = StandardScaler()\n",
        "\n",
        "# standardize volatility index and market cap by mean and standard deviation (standardize train and test sets separately)\n",
        "num_train[\"VIX\"] = x_scaler.fit_transform(np.array(num_train[\"VIX\"]).reshape(-1,1))\n",
        "num_test[\"VIX\"] = x_scaler.transform(np.array(num_test[\"VIX\"]).reshape(-1,1))\n",
        "num_train[\"Mkt_Cap\"] = x_scaler.fit_transform(np.array(num_train[\"Mkt_Cap\"]).reshape(-1,1))\n",
        "num_test[\"Mkt_Cap\"] = x_scaler.transform(np.array(num_test[\"Mkt_Cap\"]).reshape(-1,1))"
      ],
      "execution_count": 59,
      "outputs": []
    },
    {
      "cell_type": "code",
      "metadata": {
        "id": "Z0LVaE2498o-",
        "colab": {
          "base_uri": "https://localhost:8080/"
        },
        "outputId": "4472e0e7-a11c-4ef6-ee01-e2a4e96e93cf"
      },
      "source": [
        "with tf.device('/device:GPU:0'):\n",
        "  hist =model.fit(num_train, y_train, epochs=10,batch_size=32, validation_data = (np.array(num_test), np.array(y_test)))"
      ],
      "execution_count": 60,
      "outputs": [
        {
          "output_type": "stream",
          "text": [
            "Epoch 1/10\n",
            "543/543 [==============================] - 2s 3ms/step - loss: 0.6814 - accuracy: 0.5662 - val_loss: 0.6697 - val_accuracy: 0.5886\n",
            "Epoch 2/10\n",
            "543/543 [==============================] - 1s 3ms/step - loss: 0.6661 - accuracy: 0.5972 - val_loss: 0.6686 - val_accuracy: 0.5964\n",
            "Epoch 3/10\n",
            "543/543 [==============================] - 1s 3ms/step - loss: 0.6613 - accuracy: 0.6027 - val_loss: 0.6670 - val_accuracy: 0.6024\n",
            "Epoch 4/10\n",
            "543/543 [==============================] - 1s 3ms/step - loss: 0.6594 - accuracy: 0.6047 - val_loss: 0.6664 - val_accuracy: 0.5985\n",
            "Epoch 5/10\n",
            "543/543 [==============================] - 1s 3ms/step - loss: 0.6577 - accuracy: 0.6098 - val_loss: 0.6662 - val_accuracy: 0.6008\n",
            "Epoch 6/10\n",
            "543/543 [==============================] - 1s 3ms/step - loss: 0.6564 - accuracy: 0.6134 - val_loss: 0.6653 - val_accuracy: 0.5976\n",
            "Epoch 7/10\n",
            "543/543 [==============================] - 1s 2ms/step - loss: 0.6505 - accuracy: 0.6210 - val_loss: 0.6652 - val_accuracy: 0.5999\n",
            "Epoch 8/10\n",
            "543/543 [==============================] - 1s 2ms/step - loss: 0.6491 - accuracy: 0.6205 - val_loss: 0.6641 - val_accuracy: 0.6022\n",
            "Epoch 9/10\n",
            "543/543 [==============================] - 1s 2ms/step - loss: 0.6493 - accuracy: 0.6133 - val_loss: 0.6652 - val_accuracy: 0.5982\n",
            "Epoch 10/10\n",
            "543/543 [==============================] - 1s 2ms/step - loss: 0.6490 - accuracy: 0.6186 - val_loss: 0.6652 - val_accuracy: 0.5932\n"
          ],
          "name": "stdout"
        }
      ]
    },
    {
      "cell_type": "code",
      "metadata": {
        "id": "jz224_25mNUi"
      },
      "source": [
        "preds = model.predict(num_test)"
      ],
      "execution_count": null,
      "outputs": []
    },
    {
      "cell_type": "code",
      "metadata": {
        "colab": {
          "base_uri": "https://localhost:8080/"
        },
        "id": "2lenG2cqnHnI",
        "outputId": "0a56dbf2-413b-4beb-f695-a627c3e15a5e"
      },
      "source": [
        "print(classification_report(y_test, preds))"
      ],
      "execution_count": 65,
      "outputs": [
        {
          "output_type": "stream",
          "text": [
            "              precision    recall  f1-score   support\n",
            "\n",
            "           0       0.51      0.25      0.34      1792\n",
            "           1       0.61      0.83      0.71      2549\n",
            "\n",
            "    accuracy                           0.59      4341\n",
            "   macro avg       0.56      0.54      0.52      4341\n",
            "weighted avg       0.57      0.59      0.55      4341\n",
            "\n"
          ],
          "name": "stdout"
        }
      ]
    },
    {
      "cell_type": "code",
      "metadata": {
        "id": "uaNHns0UnS04"
      },
      "source": [
        ""
      ],
      "execution_count": null,
      "outputs": []
    }
  ]
}