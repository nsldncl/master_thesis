{
  "nbformat": 4,
  "nbformat_minor": 0,
  "metadata": {
    "kernelspec": {
      "display_name": "Python 3",
      "language": "python",
      "name": "python3"
    },
    "language_info": {
      "codemirror_mode": {
        "name": "ipython",
        "version": 3
      },
      "file_extension": ".py",
      "mimetype": "text/x-python",
      "name": "python",
      "nbconvert_exporter": "python",
      "pygments_lexer": "ipython3",
      "version": "3.8.5"
    },
    "colab": {
      "name": "model_testing.ipynb",
      "provenance": [],
      "collapsed_sections": []
    },
    "accelerator": "GPU",
    "widgets": {
      "application/vnd.jupyter.widget-state+json": {
        "722571ec922b4156bfafc204e58d7645": {
          "model_module": "@jupyter-widgets/controls",
          "model_name": "HBoxModel",
          "state": {
            "_view_name": "HBoxView",
            "_dom_classes": [],
            "_model_name": "HBoxModel",
            "_view_module": "@jupyter-widgets/controls",
            "_model_module_version": "1.5.0",
            "_view_count": null,
            "_view_module_version": "1.5.0",
            "box_style": "",
            "layout": "IPY_MODEL_b8fdfa99293a46588b3ebf48bdcd04b5",
            "_model_module": "@jupyter-widgets/controls",
            "children": [
              "IPY_MODEL_7ef8cd1273f64900be53012269e0e37d",
              "IPY_MODEL_d3addfd2b6de4e77bdbfbe9901b437da"
            ]
          }
        },
        "b8fdfa99293a46588b3ebf48bdcd04b5": {
          "model_module": "@jupyter-widgets/base",
          "model_name": "LayoutModel",
          "state": {
            "_view_name": "LayoutView",
            "grid_template_rows": null,
            "right": null,
            "justify_content": null,
            "_view_module": "@jupyter-widgets/base",
            "overflow": null,
            "_model_module_version": "1.2.0",
            "_view_count": null,
            "flex_flow": null,
            "width": null,
            "min_width": null,
            "border": null,
            "align_items": null,
            "bottom": null,
            "_model_module": "@jupyter-widgets/base",
            "top": null,
            "grid_column": null,
            "overflow_y": null,
            "overflow_x": null,
            "grid_auto_flow": null,
            "grid_area": null,
            "grid_template_columns": null,
            "flex": null,
            "_model_name": "LayoutModel",
            "justify_items": null,
            "grid_row": null,
            "max_height": null,
            "align_content": null,
            "visibility": null,
            "align_self": null,
            "height": null,
            "min_height": null,
            "padding": null,
            "grid_auto_rows": null,
            "grid_gap": null,
            "max_width": null,
            "order": null,
            "_view_module_version": "1.2.0",
            "grid_template_areas": null,
            "object_position": null,
            "object_fit": null,
            "grid_auto_columns": null,
            "margin": null,
            "display": null,
            "left": null
          }
        },
        "7ef8cd1273f64900be53012269e0e37d": {
          "model_module": "@jupyter-widgets/controls",
          "model_name": "FloatProgressModel",
          "state": {
            "_view_name": "ProgressView",
            "style": "IPY_MODEL_8311038a7cb84358a5e713d84ced3027",
            "_dom_classes": [],
            "description": "Downloading: 100%",
            "_model_name": "FloatProgressModel",
            "bar_style": "success",
            "max": 231508,
            "_view_module": "@jupyter-widgets/controls",
            "_model_module_version": "1.5.0",
            "value": 231508,
            "_view_count": null,
            "_view_module_version": "1.5.0",
            "orientation": "horizontal",
            "min": 0,
            "description_tooltip": null,
            "_model_module": "@jupyter-widgets/controls",
            "layout": "IPY_MODEL_e50c4de6e887451589565d8e94ea0082"
          }
        },
        "d3addfd2b6de4e77bdbfbe9901b437da": {
          "model_module": "@jupyter-widgets/controls",
          "model_name": "HTMLModel",
          "state": {
            "_view_name": "HTMLView",
            "style": "IPY_MODEL_b7901cf7f1144d469e5a316eec2ab47d",
            "_dom_classes": [],
            "description": "",
            "_model_name": "HTMLModel",
            "placeholder": "​",
            "_view_module": "@jupyter-widgets/controls",
            "_model_module_version": "1.5.0",
            "value": " 232k/232k [00:01&lt;00:00, 127kB/s]",
            "_view_count": null,
            "_view_module_version": "1.5.0",
            "description_tooltip": null,
            "_model_module": "@jupyter-widgets/controls",
            "layout": "IPY_MODEL_7790bd5467e0483fbd57cfa8e1520fa2"
          }
        },
        "8311038a7cb84358a5e713d84ced3027": {
          "model_module": "@jupyter-widgets/controls",
          "model_name": "ProgressStyleModel",
          "state": {
            "_view_name": "StyleView",
            "_model_name": "ProgressStyleModel",
            "description_width": "initial",
            "_view_module": "@jupyter-widgets/base",
            "_model_module_version": "1.5.0",
            "_view_count": null,
            "_view_module_version": "1.2.0",
            "bar_color": null,
            "_model_module": "@jupyter-widgets/controls"
          }
        },
        "e50c4de6e887451589565d8e94ea0082": {
          "model_module": "@jupyter-widgets/base",
          "model_name": "LayoutModel",
          "state": {
            "_view_name": "LayoutView",
            "grid_template_rows": null,
            "right": null,
            "justify_content": null,
            "_view_module": "@jupyter-widgets/base",
            "overflow": null,
            "_model_module_version": "1.2.0",
            "_view_count": null,
            "flex_flow": null,
            "width": null,
            "min_width": null,
            "border": null,
            "align_items": null,
            "bottom": null,
            "_model_module": "@jupyter-widgets/base",
            "top": null,
            "grid_column": null,
            "overflow_y": null,
            "overflow_x": null,
            "grid_auto_flow": null,
            "grid_area": null,
            "grid_template_columns": null,
            "flex": null,
            "_model_name": "LayoutModel",
            "justify_items": null,
            "grid_row": null,
            "max_height": null,
            "align_content": null,
            "visibility": null,
            "align_self": null,
            "height": null,
            "min_height": null,
            "padding": null,
            "grid_auto_rows": null,
            "grid_gap": null,
            "max_width": null,
            "order": null,
            "_view_module_version": "1.2.0",
            "grid_template_areas": null,
            "object_position": null,
            "object_fit": null,
            "grid_auto_columns": null,
            "margin": null,
            "display": null,
            "left": null
          }
        },
        "b7901cf7f1144d469e5a316eec2ab47d": {
          "model_module": "@jupyter-widgets/controls",
          "model_name": "DescriptionStyleModel",
          "state": {
            "_view_name": "StyleView",
            "_model_name": "DescriptionStyleModel",
            "description_width": "",
            "_view_module": "@jupyter-widgets/base",
            "_model_module_version": "1.5.0",
            "_view_count": null,
            "_view_module_version": "1.2.0",
            "_model_module": "@jupyter-widgets/controls"
          }
        },
        "7790bd5467e0483fbd57cfa8e1520fa2": {
          "model_module": "@jupyter-widgets/base",
          "model_name": "LayoutModel",
          "state": {
            "_view_name": "LayoutView",
            "grid_template_rows": null,
            "right": null,
            "justify_content": null,
            "_view_module": "@jupyter-widgets/base",
            "overflow": null,
            "_model_module_version": "1.2.0",
            "_view_count": null,
            "flex_flow": null,
            "width": null,
            "min_width": null,
            "border": null,
            "align_items": null,
            "bottom": null,
            "_model_module": "@jupyter-widgets/base",
            "top": null,
            "grid_column": null,
            "overflow_y": null,
            "overflow_x": null,
            "grid_auto_flow": null,
            "grid_area": null,
            "grid_template_columns": null,
            "flex": null,
            "_model_name": "LayoutModel",
            "justify_items": null,
            "grid_row": null,
            "max_height": null,
            "align_content": null,
            "visibility": null,
            "align_self": null,
            "height": null,
            "min_height": null,
            "padding": null,
            "grid_auto_rows": null,
            "grid_gap": null,
            "max_width": null,
            "order": null,
            "_view_module_version": "1.2.0",
            "grid_template_areas": null,
            "object_position": null,
            "object_fit": null,
            "grid_auto_columns": null,
            "margin": null,
            "display": null,
            "left": null
          }
        },
        "ddd834ddcc6246649897f767dc841f87": {
          "model_module": "@jupyter-widgets/controls",
          "model_name": "HBoxModel",
          "state": {
            "_view_name": "HBoxView",
            "_dom_classes": [],
            "_model_name": "HBoxModel",
            "_view_module": "@jupyter-widgets/controls",
            "_model_module_version": "1.5.0",
            "_view_count": null,
            "_view_module_version": "1.5.0",
            "box_style": "",
            "layout": "IPY_MODEL_7671ee2c5861495bb7cfe5a3eaa50379",
            "_model_module": "@jupyter-widgets/controls",
            "children": [
              "IPY_MODEL_cb54cb48c9224d1d8f18df154b15a69b",
              "IPY_MODEL_62f7f9f6c8ef4d9aaaaa39911d72a7f6"
            ]
          }
        },
        "7671ee2c5861495bb7cfe5a3eaa50379": {
          "model_module": "@jupyter-widgets/base",
          "model_name": "LayoutModel",
          "state": {
            "_view_name": "LayoutView",
            "grid_template_rows": null,
            "right": null,
            "justify_content": null,
            "_view_module": "@jupyter-widgets/base",
            "overflow": null,
            "_model_module_version": "1.2.0",
            "_view_count": null,
            "flex_flow": null,
            "width": null,
            "min_width": null,
            "border": null,
            "align_items": null,
            "bottom": null,
            "_model_module": "@jupyter-widgets/base",
            "top": null,
            "grid_column": null,
            "overflow_y": null,
            "overflow_x": null,
            "grid_auto_flow": null,
            "grid_area": null,
            "grid_template_columns": null,
            "flex": null,
            "_model_name": "LayoutModel",
            "justify_items": null,
            "grid_row": null,
            "max_height": null,
            "align_content": null,
            "visibility": null,
            "align_self": null,
            "height": null,
            "min_height": null,
            "padding": null,
            "grid_auto_rows": null,
            "grid_gap": null,
            "max_width": null,
            "order": null,
            "_view_module_version": "1.2.0",
            "grid_template_areas": null,
            "object_position": null,
            "object_fit": null,
            "grid_auto_columns": null,
            "margin": null,
            "display": null,
            "left": null
          }
        },
        "cb54cb48c9224d1d8f18df154b15a69b": {
          "model_module": "@jupyter-widgets/controls",
          "model_name": "FloatProgressModel",
          "state": {
            "_view_name": "ProgressView",
            "style": "IPY_MODEL_31fd28121beb409d9f9a4a63c2951964",
            "_dom_classes": [],
            "description": "Downloading: 100%",
            "_model_name": "FloatProgressModel",
            "bar_style": "success",
            "max": 466062,
            "_view_module": "@jupyter-widgets/controls",
            "_model_module_version": "1.5.0",
            "value": 466062,
            "_view_count": null,
            "_view_module_version": "1.5.0",
            "orientation": "horizontal",
            "min": 0,
            "description_tooltip": null,
            "_model_module": "@jupyter-widgets/controls",
            "layout": "IPY_MODEL_28dc49c993054c3eaeda032ff4aa9747"
          }
        },
        "62f7f9f6c8ef4d9aaaaa39911d72a7f6": {
          "model_module": "@jupyter-widgets/controls",
          "model_name": "HTMLModel",
          "state": {
            "_view_name": "HTMLView",
            "style": "IPY_MODEL_d9c53e5430324c19957c4ecec614f2e6",
            "_dom_classes": [],
            "description": "",
            "_model_name": "HTMLModel",
            "placeholder": "​",
            "_view_module": "@jupyter-widgets/controls",
            "_model_module_version": "1.5.0",
            "value": " 466k/466k [00:01&lt;00:00, 406kB/s]",
            "_view_count": null,
            "_view_module_version": "1.5.0",
            "description_tooltip": null,
            "_model_module": "@jupyter-widgets/controls",
            "layout": "IPY_MODEL_da8598f4d1264b7bb04b106551cb27f4"
          }
        },
        "31fd28121beb409d9f9a4a63c2951964": {
          "model_module": "@jupyter-widgets/controls",
          "model_name": "ProgressStyleModel",
          "state": {
            "_view_name": "StyleView",
            "_model_name": "ProgressStyleModel",
            "description_width": "initial",
            "_view_module": "@jupyter-widgets/base",
            "_model_module_version": "1.5.0",
            "_view_count": null,
            "_view_module_version": "1.2.0",
            "bar_color": null,
            "_model_module": "@jupyter-widgets/controls"
          }
        },
        "28dc49c993054c3eaeda032ff4aa9747": {
          "model_module": "@jupyter-widgets/base",
          "model_name": "LayoutModel",
          "state": {
            "_view_name": "LayoutView",
            "grid_template_rows": null,
            "right": null,
            "justify_content": null,
            "_view_module": "@jupyter-widgets/base",
            "overflow": null,
            "_model_module_version": "1.2.0",
            "_view_count": null,
            "flex_flow": null,
            "width": null,
            "min_width": null,
            "border": null,
            "align_items": null,
            "bottom": null,
            "_model_module": "@jupyter-widgets/base",
            "top": null,
            "grid_column": null,
            "overflow_y": null,
            "overflow_x": null,
            "grid_auto_flow": null,
            "grid_area": null,
            "grid_template_columns": null,
            "flex": null,
            "_model_name": "LayoutModel",
            "justify_items": null,
            "grid_row": null,
            "max_height": null,
            "align_content": null,
            "visibility": null,
            "align_self": null,
            "height": null,
            "min_height": null,
            "padding": null,
            "grid_auto_rows": null,
            "grid_gap": null,
            "max_width": null,
            "order": null,
            "_view_module_version": "1.2.0",
            "grid_template_areas": null,
            "object_position": null,
            "object_fit": null,
            "grid_auto_columns": null,
            "margin": null,
            "display": null,
            "left": null
          }
        },
        "d9c53e5430324c19957c4ecec614f2e6": {
          "model_module": "@jupyter-widgets/controls",
          "model_name": "DescriptionStyleModel",
          "state": {
            "_view_name": "StyleView",
            "_model_name": "DescriptionStyleModel",
            "description_width": "",
            "_view_module": "@jupyter-widgets/base",
            "_model_module_version": "1.5.0",
            "_view_count": null,
            "_view_module_version": "1.2.0",
            "_model_module": "@jupyter-widgets/controls"
          }
        },
        "da8598f4d1264b7bb04b106551cb27f4": {
          "model_module": "@jupyter-widgets/base",
          "model_name": "LayoutModel",
          "state": {
            "_view_name": "LayoutView",
            "grid_template_rows": null,
            "right": null,
            "justify_content": null,
            "_view_module": "@jupyter-widgets/base",
            "overflow": null,
            "_model_module_version": "1.2.0",
            "_view_count": null,
            "flex_flow": null,
            "width": null,
            "min_width": null,
            "border": null,
            "align_items": null,
            "bottom": null,
            "_model_module": "@jupyter-widgets/base",
            "top": null,
            "grid_column": null,
            "overflow_y": null,
            "overflow_x": null,
            "grid_auto_flow": null,
            "grid_area": null,
            "grid_template_columns": null,
            "flex": null,
            "_model_name": "LayoutModel",
            "justify_items": null,
            "grid_row": null,
            "max_height": null,
            "align_content": null,
            "visibility": null,
            "align_self": null,
            "height": null,
            "min_height": null,
            "padding": null,
            "grid_auto_rows": null,
            "grid_gap": null,
            "max_width": null,
            "order": null,
            "_view_module_version": "1.2.0",
            "grid_template_areas": null,
            "object_position": null,
            "object_fit": null,
            "grid_auto_columns": null,
            "margin": null,
            "display": null,
            "left": null
          }
        },
        "bebc0bec99b44ae5aff235264a46624b": {
          "model_module": "@jupyter-widgets/controls",
          "model_name": "HBoxModel",
          "state": {
            "_view_name": "HBoxView",
            "_dom_classes": [],
            "_model_name": "HBoxModel",
            "_view_module": "@jupyter-widgets/controls",
            "_model_module_version": "1.5.0",
            "_view_count": null,
            "_view_module_version": "1.5.0",
            "box_style": "",
            "layout": "IPY_MODEL_1c981956b0394e37840345d05710b8d4",
            "_model_module": "@jupyter-widgets/controls",
            "children": [
              "IPY_MODEL_79422b1aa1a64ab59c1b84c5186273cc",
              "IPY_MODEL_d934046cc36443f0a8ab4131aa48faac"
            ]
          }
        },
        "1c981956b0394e37840345d05710b8d4": {
          "model_module": "@jupyter-widgets/base",
          "model_name": "LayoutModel",
          "state": {
            "_view_name": "LayoutView",
            "grid_template_rows": null,
            "right": null,
            "justify_content": null,
            "_view_module": "@jupyter-widgets/base",
            "overflow": null,
            "_model_module_version": "1.2.0",
            "_view_count": null,
            "flex_flow": null,
            "width": null,
            "min_width": null,
            "border": null,
            "align_items": null,
            "bottom": null,
            "_model_module": "@jupyter-widgets/base",
            "top": null,
            "grid_column": null,
            "overflow_y": null,
            "overflow_x": null,
            "grid_auto_flow": null,
            "grid_area": null,
            "grid_template_columns": null,
            "flex": null,
            "_model_name": "LayoutModel",
            "justify_items": null,
            "grid_row": null,
            "max_height": null,
            "align_content": null,
            "visibility": null,
            "align_self": null,
            "height": null,
            "min_height": null,
            "padding": null,
            "grid_auto_rows": null,
            "grid_gap": null,
            "max_width": null,
            "order": null,
            "_view_module_version": "1.2.0",
            "grid_template_areas": null,
            "object_position": null,
            "object_fit": null,
            "grid_auto_columns": null,
            "margin": null,
            "display": null,
            "left": null
          }
        },
        "79422b1aa1a64ab59c1b84c5186273cc": {
          "model_module": "@jupyter-widgets/controls",
          "model_name": "FloatProgressModel",
          "state": {
            "_view_name": "ProgressView",
            "style": "IPY_MODEL_f157e3b7a21249788e3bf93b0dde7d32",
            "_dom_classes": [],
            "description": "Downloading: 100%",
            "_model_name": "FloatProgressModel",
            "bar_style": "success",
            "max": 28,
            "_view_module": "@jupyter-widgets/controls",
            "_model_module_version": "1.5.0",
            "value": 28,
            "_view_count": null,
            "_view_module_version": "1.5.0",
            "orientation": "horizontal",
            "min": 0,
            "description_tooltip": null,
            "_model_module": "@jupyter-widgets/controls",
            "layout": "IPY_MODEL_35a6fce1f0eb479d932bfae012669841"
          }
        },
        "d934046cc36443f0a8ab4131aa48faac": {
          "model_module": "@jupyter-widgets/controls",
          "model_name": "HTMLModel",
          "state": {
            "_view_name": "HTMLView",
            "style": "IPY_MODEL_3a18ae91ad4540008333d52cda201158",
            "_dom_classes": [],
            "description": "",
            "_model_name": "HTMLModel",
            "placeholder": "​",
            "_view_module": "@jupyter-widgets/controls",
            "_model_module_version": "1.5.0",
            "value": " 28.0/28.0 [00:23&lt;00:00, 1.19B/s]",
            "_view_count": null,
            "_view_module_version": "1.5.0",
            "description_tooltip": null,
            "_model_module": "@jupyter-widgets/controls",
            "layout": "IPY_MODEL_ea5d52bc52b9421d82f32d037b5ffd75"
          }
        },
        "f157e3b7a21249788e3bf93b0dde7d32": {
          "model_module": "@jupyter-widgets/controls",
          "model_name": "ProgressStyleModel",
          "state": {
            "_view_name": "StyleView",
            "_model_name": "ProgressStyleModel",
            "description_width": "initial",
            "_view_module": "@jupyter-widgets/base",
            "_model_module_version": "1.5.0",
            "_view_count": null,
            "_view_module_version": "1.2.0",
            "bar_color": null,
            "_model_module": "@jupyter-widgets/controls"
          }
        },
        "35a6fce1f0eb479d932bfae012669841": {
          "model_module": "@jupyter-widgets/base",
          "model_name": "LayoutModel",
          "state": {
            "_view_name": "LayoutView",
            "grid_template_rows": null,
            "right": null,
            "justify_content": null,
            "_view_module": "@jupyter-widgets/base",
            "overflow": null,
            "_model_module_version": "1.2.0",
            "_view_count": null,
            "flex_flow": null,
            "width": null,
            "min_width": null,
            "border": null,
            "align_items": null,
            "bottom": null,
            "_model_module": "@jupyter-widgets/base",
            "top": null,
            "grid_column": null,
            "overflow_y": null,
            "overflow_x": null,
            "grid_auto_flow": null,
            "grid_area": null,
            "grid_template_columns": null,
            "flex": null,
            "_model_name": "LayoutModel",
            "justify_items": null,
            "grid_row": null,
            "max_height": null,
            "align_content": null,
            "visibility": null,
            "align_self": null,
            "height": null,
            "min_height": null,
            "padding": null,
            "grid_auto_rows": null,
            "grid_gap": null,
            "max_width": null,
            "order": null,
            "_view_module_version": "1.2.0",
            "grid_template_areas": null,
            "object_position": null,
            "object_fit": null,
            "grid_auto_columns": null,
            "margin": null,
            "display": null,
            "left": null
          }
        },
        "3a18ae91ad4540008333d52cda201158": {
          "model_module": "@jupyter-widgets/controls",
          "model_name": "DescriptionStyleModel",
          "state": {
            "_view_name": "StyleView",
            "_model_name": "DescriptionStyleModel",
            "description_width": "",
            "_view_module": "@jupyter-widgets/base",
            "_model_module_version": "1.5.0",
            "_view_count": null,
            "_view_module_version": "1.2.0",
            "_model_module": "@jupyter-widgets/controls"
          }
        },
        "ea5d52bc52b9421d82f32d037b5ffd75": {
          "model_module": "@jupyter-widgets/base",
          "model_name": "LayoutModel",
          "state": {
            "_view_name": "LayoutView",
            "grid_template_rows": null,
            "right": null,
            "justify_content": null,
            "_view_module": "@jupyter-widgets/base",
            "overflow": null,
            "_model_module_version": "1.2.0",
            "_view_count": null,
            "flex_flow": null,
            "width": null,
            "min_width": null,
            "border": null,
            "align_items": null,
            "bottom": null,
            "_model_module": "@jupyter-widgets/base",
            "top": null,
            "grid_column": null,
            "overflow_y": null,
            "overflow_x": null,
            "grid_auto_flow": null,
            "grid_area": null,
            "grid_template_columns": null,
            "flex": null,
            "_model_name": "LayoutModel",
            "justify_items": null,
            "grid_row": null,
            "max_height": null,
            "align_content": null,
            "visibility": null,
            "align_self": null,
            "height": null,
            "min_height": null,
            "padding": null,
            "grid_auto_rows": null,
            "grid_gap": null,
            "max_width": null,
            "order": null,
            "_view_module_version": "1.2.0",
            "grid_template_areas": null,
            "object_position": null,
            "object_fit": null,
            "grid_auto_columns": null,
            "margin": null,
            "display": null,
            "left": null
          }
        },
        "d792349e32c64cf9ac34faf60f58dc0f": {
          "model_module": "@jupyter-widgets/controls",
          "model_name": "HBoxModel",
          "state": {
            "_view_name": "HBoxView",
            "_dom_classes": [],
            "_model_name": "HBoxModel",
            "_view_module": "@jupyter-widgets/controls",
            "_model_module_version": "1.5.0",
            "_view_count": null,
            "_view_module_version": "1.5.0",
            "box_style": "",
            "layout": "IPY_MODEL_3982121d80b24a53a68e6bd08c87e616",
            "_model_module": "@jupyter-widgets/controls",
            "children": [
              "IPY_MODEL_85f999b60ee14c16b382bb2bc957598e",
              "IPY_MODEL_af45d23de0d242fd8b0a5df2c232393d"
            ]
          }
        },
        "3982121d80b24a53a68e6bd08c87e616": {
          "model_module": "@jupyter-widgets/base",
          "model_name": "LayoutModel",
          "state": {
            "_view_name": "LayoutView",
            "grid_template_rows": null,
            "right": null,
            "justify_content": null,
            "_view_module": "@jupyter-widgets/base",
            "overflow": null,
            "_model_module_version": "1.2.0",
            "_view_count": null,
            "flex_flow": null,
            "width": null,
            "min_width": null,
            "border": null,
            "align_items": null,
            "bottom": null,
            "_model_module": "@jupyter-widgets/base",
            "top": null,
            "grid_column": null,
            "overflow_y": null,
            "overflow_x": null,
            "grid_auto_flow": null,
            "grid_area": null,
            "grid_template_columns": null,
            "flex": null,
            "_model_name": "LayoutModel",
            "justify_items": null,
            "grid_row": null,
            "max_height": null,
            "align_content": null,
            "visibility": null,
            "align_self": null,
            "height": null,
            "min_height": null,
            "padding": null,
            "grid_auto_rows": null,
            "grid_gap": null,
            "max_width": null,
            "order": null,
            "_view_module_version": "1.2.0",
            "grid_template_areas": null,
            "object_position": null,
            "object_fit": null,
            "grid_auto_columns": null,
            "margin": null,
            "display": null,
            "left": null
          }
        },
        "85f999b60ee14c16b382bb2bc957598e": {
          "model_module": "@jupyter-widgets/controls",
          "model_name": "FloatProgressModel",
          "state": {
            "_view_name": "ProgressView",
            "style": "IPY_MODEL_5c9864e406c741089fe9660e52c437c0",
            "_dom_classes": [],
            "description": "Downloading: 100%",
            "_model_name": "FloatProgressModel",
            "bar_style": "success",
            "max": 570,
            "_view_module": "@jupyter-widgets/controls",
            "_model_module_version": "1.5.0",
            "value": 570,
            "_view_count": null,
            "_view_module_version": "1.5.0",
            "orientation": "horizontal",
            "min": 0,
            "description_tooltip": null,
            "_model_module": "@jupyter-widgets/controls",
            "layout": "IPY_MODEL_7ef30e8fdc294e7d895a8bc86b290fbb"
          }
        },
        "af45d23de0d242fd8b0a5df2c232393d": {
          "model_module": "@jupyter-widgets/controls",
          "model_name": "HTMLModel",
          "state": {
            "_view_name": "HTMLView",
            "style": "IPY_MODEL_5a4e97898e5b49a498e4359d0ca90f4a",
            "_dom_classes": [],
            "description": "",
            "_model_name": "HTMLModel",
            "placeholder": "​",
            "_view_module": "@jupyter-widgets/controls",
            "_model_module_version": "1.5.0",
            "value": " 570/570 [00:09&lt;00:00, 60.7B/s]",
            "_view_count": null,
            "_view_module_version": "1.5.0",
            "description_tooltip": null,
            "_model_module": "@jupyter-widgets/controls",
            "layout": "IPY_MODEL_d69c223978b24567a8f4ece66cf089f9"
          }
        },
        "5c9864e406c741089fe9660e52c437c0": {
          "model_module": "@jupyter-widgets/controls",
          "model_name": "ProgressStyleModel",
          "state": {
            "_view_name": "StyleView",
            "_model_name": "ProgressStyleModel",
            "description_width": "initial",
            "_view_module": "@jupyter-widgets/base",
            "_model_module_version": "1.5.0",
            "_view_count": null,
            "_view_module_version": "1.2.0",
            "bar_color": null,
            "_model_module": "@jupyter-widgets/controls"
          }
        },
        "7ef30e8fdc294e7d895a8bc86b290fbb": {
          "model_module": "@jupyter-widgets/base",
          "model_name": "LayoutModel",
          "state": {
            "_view_name": "LayoutView",
            "grid_template_rows": null,
            "right": null,
            "justify_content": null,
            "_view_module": "@jupyter-widgets/base",
            "overflow": null,
            "_model_module_version": "1.2.0",
            "_view_count": null,
            "flex_flow": null,
            "width": null,
            "min_width": null,
            "border": null,
            "align_items": null,
            "bottom": null,
            "_model_module": "@jupyter-widgets/base",
            "top": null,
            "grid_column": null,
            "overflow_y": null,
            "overflow_x": null,
            "grid_auto_flow": null,
            "grid_area": null,
            "grid_template_columns": null,
            "flex": null,
            "_model_name": "LayoutModel",
            "justify_items": null,
            "grid_row": null,
            "max_height": null,
            "align_content": null,
            "visibility": null,
            "align_self": null,
            "height": null,
            "min_height": null,
            "padding": null,
            "grid_auto_rows": null,
            "grid_gap": null,
            "max_width": null,
            "order": null,
            "_view_module_version": "1.2.0",
            "grid_template_areas": null,
            "object_position": null,
            "object_fit": null,
            "grid_auto_columns": null,
            "margin": null,
            "display": null,
            "left": null
          }
        },
        "5a4e97898e5b49a498e4359d0ca90f4a": {
          "model_module": "@jupyter-widgets/controls",
          "model_name": "DescriptionStyleModel",
          "state": {
            "_view_name": "StyleView",
            "_model_name": "DescriptionStyleModel",
            "description_width": "",
            "_view_module": "@jupyter-widgets/base",
            "_model_module_version": "1.5.0",
            "_view_count": null,
            "_view_module_version": "1.2.0",
            "_model_module": "@jupyter-widgets/controls"
          }
        },
        "d69c223978b24567a8f4ece66cf089f9": {
          "model_module": "@jupyter-widgets/base",
          "model_name": "LayoutModel",
          "state": {
            "_view_name": "LayoutView",
            "grid_template_rows": null,
            "right": null,
            "justify_content": null,
            "_view_module": "@jupyter-widgets/base",
            "overflow": null,
            "_model_module_version": "1.2.0",
            "_view_count": null,
            "flex_flow": null,
            "width": null,
            "min_width": null,
            "border": null,
            "align_items": null,
            "bottom": null,
            "_model_module": "@jupyter-widgets/base",
            "top": null,
            "grid_column": null,
            "overflow_y": null,
            "overflow_x": null,
            "grid_auto_flow": null,
            "grid_area": null,
            "grid_template_columns": null,
            "flex": null,
            "_model_name": "LayoutModel",
            "justify_items": null,
            "grid_row": null,
            "max_height": null,
            "align_content": null,
            "visibility": null,
            "align_self": null,
            "height": null,
            "min_height": null,
            "padding": null,
            "grid_auto_rows": null,
            "grid_gap": null,
            "max_width": null,
            "order": null,
            "_view_module_version": "1.2.0",
            "grid_template_areas": null,
            "object_position": null,
            "object_fit": null,
            "grid_auto_columns": null,
            "margin": null,
            "display": null,
            "left": null
          }
        },
        "c4188f9f5a0a4a4e9281ede6597200b4": {
          "model_module": "@jupyter-widgets/controls",
          "model_name": "HBoxModel",
          "state": {
            "_view_name": "HBoxView",
            "_dom_classes": [],
            "_model_name": "HBoxModel",
            "_view_module": "@jupyter-widgets/controls",
            "_model_module_version": "1.5.0",
            "_view_count": null,
            "_view_module_version": "1.5.0",
            "box_style": "",
            "layout": "IPY_MODEL_b74343363bea43bda9acaf6692a5e236",
            "_model_module": "@jupyter-widgets/controls",
            "children": [
              "IPY_MODEL_1e7ce41edc914b01883372eb8e224162",
              "IPY_MODEL_449587e424564a93b0692740c8d5ac1a"
            ]
          }
        },
        "b74343363bea43bda9acaf6692a5e236": {
          "model_module": "@jupyter-widgets/base",
          "model_name": "LayoutModel",
          "state": {
            "_view_name": "LayoutView",
            "grid_template_rows": null,
            "right": null,
            "justify_content": null,
            "_view_module": "@jupyter-widgets/base",
            "overflow": null,
            "_model_module_version": "1.2.0",
            "_view_count": null,
            "flex_flow": null,
            "width": null,
            "min_width": null,
            "border": null,
            "align_items": null,
            "bottom": null,
            "_model_module": "@jupyter-widgets/base",
            "top": null,
            "grid_column": null,
            "overflow_y": null,
            "overflow_x": null,
            "grid_auto_flow": null,
            "grid_area": null,
            "grid_template_columns": null,
            "flex": null,
            "_model_name": "LayoutModel",
            "justify_items": null,
            "grid_row": null,
            "max_height": null,
            "align_content": null,
            "visibility": null,
            "align_self": null,
            "height": null,
            "min_height": null,
            "padding": null,
            "grid_auto_rows": null,
            "grid_gap": null,
            "max_width": null,
            "order": null,
            "_view_module_version": "1.2.0",
            "grid_template_areas": null,
            "object_position": null,
            "object_fit": null,
            "grid_auto_columns": null,
            "margin": null,
            "display": null,
            "left": null
          }
        },
        "1e7ce41edc914b01883372eb8e224162": {
          "model_module": "@jupyter-widgets/controls",
          "model_name": "FloatProgressModel",
          "state": {
            "_view_name": "ProgressView",
            "style": "IPY_MODEL_36ddc9fce472439588f83ebc1f022352",
            "_dom_classes": [],
            "description": "Downloading: 100%",
            "_model_name": "FloatProgressModel",
            "bar_style": "success",
            "max": 440473133,
            "_view_module": "@jupyter-widgets/controls",
            "_model_module_version": "1.5.0",
            "value": 440473133,
            "_view_count": null,
            "_view_module_version": "1.5.0",
            "orientation": "horizontal",
            "min": 0,
            "description_tooltip": null,
            "_model_module": "@jupyter-widgets/controls",
            "layout": "IPY_MODEL_98cd6fece903401e9fbb018f3c104b96"
          }
        },
        "449587e424564a93b0692740c8d5ac1a": {
          "model_module": "@jupyter-widgets/controls",
          "model_name": "HTMLModel",
          "state": {
            "_view_name": "HTMLView",
            "style": "IPY_MODEL_06805dc5aa7f48cea2336239e9467d94",
            "_dom_classes": [],
            "description": "",
            "_model_name": "HTMLModel",
            "placeholder": "​",
            "_view_module": "@jupyter-widgets/controls",
            "_model_module_version": "1.5.0",
            "value": " 440M/440M [01:41&lt;00:00, 4.32MB/s]",
            "_view_count": null,
            "_view_module_version": "1.5.0",
            "description_tooltip": null,
            "_model_module": "@jupyter-widgets/controls",
            "layout": "IPY_MODEL_7764c893d6c941b790fdda3fddc4e9f3"
          }
        },
        "36ddc9fce472439588f83ebc1f022352": {
          "model_module": "@jupyter-widgets/controls",
          "model_name": "ProgressStyleModel",
          "state": {
            "_view_name": "StyleView",
            "_model_name": "ProgressStyleModel",
            "description_width": "initial",
            "_view_module": "@jupyter-widgets/base",
            "_model_module_version": "1.5.0",
            "_view_count": null,
            "_view_module_version": "1.2.0",
            "bar_color": null,
            "_model_module": "@jupyter-widgets/controls"
          }
        },
        "98cd6fece903401e9fbb018f3c104b96": {
          "model_module": "@jupyter-widgets/base",
          "model_name": "LayoutModel",
          "state": {
            "_view_name": "LayoutView",
            "grid_template_rows": null,
            "right": null,
            "justify_content": null,
            "_view_module": "@jupyter-widgets/base",
            "overflow": null,
            "_model_module_version": "1.2.0",
            "_view_count": null,
            "flex_flow": null,
            "width": null,
            "min_width": null,
            "border": null,
            "align_items": null,
            "bottom": null,
            "_model_module": "@jupyter-widgets/base",
            "top": null,
            "grid_column": null,
            "overflow_y": null,
            "overflow_x": null,
            "grid_auto_flow": null,
            "grid_area": null,
            "grid_template_columns": null,
            "flex": null,
            "_model_name": "LayoutModel",
            "justify_items": null,
            "grid_row": null,
            "max_height": null,
            "align_content": null,
            "visibility": null,
            "align_self": null,
            "height": null,
            "min_height": null,
            "padding": null,
            "grid_auto_rows": null,
            "grid_gap": null,
            "max_width": null,
            "order": null,
            "_view_module_version": "1.2.0",
            "grid_template_areas": null,
            "object_position": null,
            "object_fit": null,
            "grid_auto_columns": null,
            "margin": null,
            "display": null,
            "left": null
          }
        },
        "06805dc5aa7f48cea2336239e9467d94": {
          "model_module": "@jupyter-widgets/controls",
          "model_name": "DescriptionStyleModel",
          "state": {
            "_view_name": "StyleView",
            "_model_name": "DescriptionStyleModel",
            "description_width": "",
            "_view_module": "@jupyter-widgets/base",
            "_model_module_version": "1.5.0",
            "_view_count": null,
            "_view_module_version": "1.2.0",
            "_model_module": "@jupyter-widgets/controls"
          }
        },
        "7764c893d6c941b790fdda3fddc4e9f3": {
          "model_module": "@jupyter-widgets/base",
          "model_name": "LayoutModel",
          "state": {
            "_view_name": "LayoutView",
            "grid_template_rows": null,
            "right": null,
            "justify_content": null,
            "_view_module": "@jupyter-widgets/base",
            "overflow": null,
            "_model_module_version": "1.2.0",
            "_view_count": null,
            "flex_flow": null,
            "width": null,
            "min_width": null,
            "border": null,
            "align_items": null,
            "bottom": null,
            "_model_module": "@jupyter-widgets/base",
            "top": null,
            "grid_column": null,
            "overflow_y": null,
            "overflow_x": null,
            "grid_auto_flow": null,
            "grid_area": null,
            "grid_template_columns": null,
            "flex": null,
            "_model_name": "LayoutModel",
            "justify_items": null,
            "grid_row": null,
            "max_height": null,
            "align_content": null,
            "visibility": null,
            "align_self": null,
            "height": null,
            "min_height": null,
            "padding": null,
            "grid_auto_rows": null,
            "grid_gap": null,
            "max_width": null,
            "order": null,
            "_view_module_version": "1.2.0",
            "grid_template_areas": null,
            "object_position": null,
            "object_fit": null,
            "grid_auto_columns": null,
            "margin": null,
            "display": null,
            "left": null
          }
        }
      }
    }
  },
  "cells": [
    {
      "cell_type": "markdown",
      "metadata": {
        "id": "zQYroDyWRuzl"
      },
      "source": [
        "# MODEL TESTING"
      ]
    },
    {
      "cell_type": "code",
      "metadata": {
        "id": "-u_2MjogeocK",
        "colab": {
          "base_uri": "https://localhost:8080/"
        },
        "outputId": "31dbbeab-9489-4ad4-a34e-4259c289fcbb"
      },
      "source": [
        "from google.colab import drive\n",
        "drive.mount('/content/drive')"
      ],
      "execution_count": 1,
      "outputs": [
        {
          "output_type": "stream",
          "text": [
            "Mounted at /content/drive\n"
          ],
          "name": "stdout"
        }
      ]
    },
    {
      "cell_type": "code",
      "metadata": {
        "colab": {
          "base_uri": "https://localhost:8080/"
        },
        "id": "cDzEYNNFeSaS",
        "outputId": "84b8132c-e7f9-49f2-f411-e5fdda9709e9"
      },
      "source": [
        "import time\n",
        "import pandas as pd\n",
        "import pickle\n",
        "import matplotlib.pyplot as plt\n",
        "import nltk\n",
        "import numpy as np\n",
        "import re\n",
        "from nltk.corpus import stopwords\n",
        "from nltk.stem import WordNetLemmatizer\n",
        "from sklearn.feature_extraction.text import CountVectorizer, TfidfVectorizer\n",
        "from sklearn.linear_model import LogisticRegression\n",
        "import sklearn.model_selection\n",
        "import sklearn.preprocessing as preproc\n",
        "from sklearn.feature_extraction import text\n",
        "import warnings\n",
        "warnings.filterwarnings(\"ignore\")\n",
        "nltk.download('stopwords')\n",
        "nltk.download('wordnet')\n",
        "from sklearn.metrics import classification_report\n",
        "from sklearn.model_selection import train_test_split\n",
        "import random"
      ],
      "execution_count": 43,
      "outputs": [
        {
          "output_type": "stream",
          "text": [
            "[nltk_data] Downloading package stopwords to /root/nltk_data...\n",
            "[nltk_data]   Package stopwords is already up-to-date!\n",
            "[nltk_data] Downloading package wordnet to /root/nltk_data...\n",
            "[nltk_data]   Package wordnet is already up-to-date!\n"
          ],
          "name": "stdout"
        }
      ]
    },
    {
      "cell_type": "code",
      "metadata": {
        "id": "oS3E_kAUeIt1"
      },
      "source": [
        "# define the path\n",
        "train_file_path = '/content/drive/MyDrive/Colab Notebooks/archive/train.csv'\n",
        "test_file_path = '/content/drive/MyDrive/Colab Notebooks/archive/test.csv'"
      ],
      "execution_count": 3,
      "outputs": []
    },
    {
      "cell_type": "code",
      "metadata": {
        "id": "aPle8NfdeIt2"
      },
      "source": [
        "#load the data\n",
        "data = pd.read_csv(train_file_path)\n",
        "test = pd.read_csv(test_file_path)"
      ],
      "execution_count": 4,
      "outputs": []
    },
    {
      "cell_type": "code",
      "metadata": {
        "colab": {
          "base_uri": "https://localhost:8080/"
        },
        "id": "W2wX5MhWjGsC",
        "outputId": "879d9fcb-569b-45db-8821-1f2aaf4cce2a"
      },
      "source": [
        "len(data)"
      ],
      "execution_count": 5,
      "outputs": [
        {
          "output_type": "execute_result",
          "data": {
            "text/plain": [
              "120000"
            ]
          },
          "metadata": {
            "tags": []
          },
          "execution_count": 5
        }
      ]
    },
    {
      "cell_type": "code",
      "metadata": {
        "colab": {
          "base_uri": "https://localhost:8080/"
        },
        "id": "9fuNtj0SjIUl",
        "outputId": "49cd7932-7e14-46c1-e6c0-3728f6dfddfd"
      },
      "source": [
        "len(test)"
      ],
      "execution_count": 6,
      "outputs": [
        {
          "output_type": "execute_result",
          "data": {
            "text/plain": [
              "7600"
            ]
          },
          "metadata": {
            "tags": []
          },
          "execution_count": 6
        }
      ]
    },
    {
      "cell_type": "code",
      "metadata": {
        "colab": {
          "base_uri": "https://localhost:8080/",
          "height": 204
        },
        "id": "tjL3Dn_NeIt5",
        "outputId": "205565ae-5b52-4874-f28f-dc1735d05601"
      },
      "source": [
        "data.head()"
      ],
      "execution_count": 7,
      "outputs": [
        {
          "output_type": "execute_result",
          "data": {
            "text/html": [
              "<div>\n",
              "<style scoped>\n",
              "    .dataframe tbody tr th:only-of-type {\n",
              "        vertical-align: middle;\n",
              "    }\n",
              "\n",
              "    .dataframe tbody tr th {\n",
              "        vertical-align: top;\n",
              "    }\n",
              "\n",
              "    .dataframe thead th {\n",
              "        text-align: right;\n",
              "    }\n",
              "</style>\n",
              "<table border=\"1\" class=\"dataframe\">\n",
              "  <thead>\n",
              "    <tr style=\"text-align: right;\">\n",
              "      <th></th>\n",
              "      <th>Class Index</th>\n",
              "      <th>Title</th>\n",
              "      <th>Description</th>\n",
              "    </tr>\n",
              "  </thead>\n",
              "  <tbody>\n",
              "    <tr>\n",
              "      <th>0</th>\n",
              "      <td>3</td>\n",
              "      <td>Wall St. Bears Claw Back Into the Black (Reuters)</td>\n",
              "      <td>Reuters - Short-sellers, Wall Street's dwindli...</td>\n",
              "    </tr>\n",
              "    <tr>\n",
              "      <th>1</th>\n",
              "      <td>3</td>\n",
              "      <td>Carlyle Looks Toward Commercial Aerospace (Reu...</td>\n",
              "      <td>Reuters - Private investment firm Carlyle Grou...</td>\n",
              "    </tr>\n",
              "    <tr>\n",
              "      <th>2</th>\n",
              "      <td>3</td>\n",
              "      <td>Oil and Economy Cloud Stocks' Outlook (Reuters)</td>\n",
              "      <td>Reuters - Soaring crude prices plus worries\\ab...</td>\n",
              "    </tr>\n",
              "    <tr>\n",
              "      <th>3</th>\n",
              "      <td>3</td>\n",
              "      <td>Iraq Halts Oil Exports from Main Southern Pipe...</td>\n",
              "      <td>Reuters - Authorities have halted oil export\\f...</td>\n",
              "    </tr>\n",
              "    <tr>\n",
              "      <th>4</th>\n",
              "      <td>3</td>\n",
              "      <td>Oil prices soar to all-time record, posing new...</td>\n",
              "      <td>AFP - Tearaway world oil prices, toppling reco...</td>\n",
              "    </tr>\n",
              "  </tbody>\n",
              "</table>\n",
              "</div>"
            ],
            "text/plain": [
              "   Class Index  ...                                        Description\n",
              "0            3  ...  Reuters - Short-sellers, Wall Street's dwindli...\n",
              "1            3  ...  Reuters - Private investment firm Carlyle Grou...\n",
              "2            3  ...  Reuters - Soaring crude prices plus worries\\ab...\n",
              "3            3  ...  Reuters - Authorities have halted oil export\\f...\n",
              "4            3  ...  AFP - Tearaway world oil prices, toppling reco...\n",
              "\n",
              "[5 rows x 3 columns]"
            ]
          },
          "metadata": {
            "tags": []
          },
          "execution_count": 7
        }
      ]
    },
    {
      "cell_type": "markdown",
      "metadata": {
        "id": "icC2eNskVB-D"
      },
      "source": [
        "## Multinomial Logistic Regression"
      ]
    },
    {
      "cell_type": "code",
      "metadata": {
        "id": "fouNaQBVOvkT"
      },
      "source": [
        "# combine news titles with their content\n",
        "x_train = data['Title']+\" \"+data['Description']\n",
        "x_test = test['Title']+\" \"+test['Description']"
      ],
      "execution_count": 8,
      "outputs": []
    },
    {
      "cell_type": "code",
      "metadata": {
        "id": "OHT3-WxwOzhV"
      },
      "source": [
        "#set labels to 0,1,2,3\n",
        "y_train = data['Class Index'].apply(lambda x:x-1).values\n",
        "y_test = test['Class Index'].apply(lambda x:x-1).values"
      ],
      "execution_count": 9,
      "outputs": []
    },
    {
      "cell_type": "code",
      "metadata": {
        "id": "EkLD4vpSRtRX"
      },
      "source": [
        "contractions = { \n",
        "\"ain't\": \"am not / are not / is not / has not / have not\",\n",
        "\"aren't\": \"are not / am not\",\n",
        "\"can't\": \"cannot\",\n",
        "\"can't've\": \"cannot have\",\n",
        "\"'cause\": \"because\",\n",
        "\"could've\": \"could have\",\n",
        "\"couldn't\": \"could not\",\n",
        "\"couldn't've\": \"could not have\",\n",
        "\"didn't\": \"did not\",\n",
        "\"doesn't\": \"does not\",\n",
        "\"don't\": \"do not\",\n",
        "\"hadn't\": \"had not\",\n",
        "\"hadn't've\": \"had not have\",\n",
        "\"hasn't\": \"has not\",\n",
        "\"haven't\": \"have not\",\n",
        "\"he'd\": \"he had / he would\",\n",
        "\"he'd've\": \"he would have\",\n",
        "\"he'll\": \"he shall / he will\",\n",
        "\"he'll've\": \"he shall have / he will have\",\n",
        "\"he's\": \"he has / he is\",\n",
        "\"how'd\": \"how did\",\n",
        "\"how'd'y\": \"how do you\",\n",
        "\"how'll\": \"how will\",\n",
        "\"how's\": \"how has / how is / how does\",\n",
        "\"I'd\": \"I had / I would\",\n",
        "\"I'd've\": \"I would have\",\n",
        "\"I'll\": \"I shall / I will\",\n",
        "\"I'll've\": \"I shall have / I will have\",\n",
        "\"I'm\": \"I am\",\n",
        "\"I've\": \"I have\",\n",
        "\"isn't\": \"is not\",\n",
        "\"it'd\": \"it had / it would\",\n",
        "\"it'd've\": \"it would have\",\n",
        "\"it'll\": \"it shall / it will\",\n",
        "\"it'll've\": \"it shall have / it will have\",\n",
        "\"it's\": \"it has / it is\",\n",
        "\"let's\": \"let us\",\n",
        "\"ma'am\": \"madam\",\n",
        "\"mayn't\": \"may not\",\n",
        "\"might've\": \"might have\",\n",
        "\"mightn't\": \"might not\",\n",
        "\"mightn't've\": \"might not have\",\n",
        "\"must've\": \"must have\",\n",
        "\"mustn't\": \"must not\",\n",
        "\"mustn't've\": \"must not have\",\n",
        "\"needn't\": \"need not\",\n",
        "\"needn't've\": \"need not have\",\n",
        "\"o'clock\": \"of the clock\",\n",
        "\"oughtn't\": \"ought not\",\n",
        "\"oughtn't've\": \"ought not have\",\n",
        "\"shan't\": \"shall not\",\n",
        "\"sha'n't\": \"shall not\",\n",
        "\"shan't've\": \"shall not have\",\n",
        "\"she'd\": \"she had / she would\",\n",
        "\"she'd've\": \"she would have\",\n",
        "\"she'll\": \"she shall / she will\",\n",
        "\"she'll've\": \"she shall have / she will have\",\n",
        "\"she's\": \"she has / she is\",\n",
        "\"should've\": \"should have\",\n",
        "\"shouldn't\": \"should not\",\n",
        "\"shouldn't've\": \"should not have\",\n",
        "\"so've\": \"so have\",\n",
        "\"so's\": \"so as / so is\",\n",
        "\"that'd\": \"that would / that had\",\n",
        "\"that'd've\": \"that would have\",\n",
        "\"that's\": \"that has / that is\",\n",
        "\"there'd\": \"there had / there would\",\n",
        "\"there'd've\": \"there would have\",\n",
        "\"there's\": \"there has / there is\",\n",
        "\"they'd\": \"they had / they would\",\n",
        "\"they'd've\": \"they would have\",\n",
        "\"they'll\": \"they shall / they will\",\n",
        "\"they'll've\": \"they shall have / they will have\",\n",
        "\"they're\": \"they are\",\n",
        "\"they've\": \"they have\",\n",
        "\"to've\": \"to have\",\n",
        "\"wasn't\": \"was not\",\n",
        "\"we'd\": \"we had / we would\",\n",
        "\"we'd've\": \"we would have\",\n",
        "\"we'll\": \"we will\",\n",
        "\"we'll've\": \"we will have\",\n",
        "\"we're\": \"we are\",\n",
        "\"we've\": \"we have\",\n",
        "\"weren't\": \"were not\",\n",
        "\"what'll\": \"what shall / what will\",\n",
        "\"what'll've\": \"what shall have / what will have\",\n",
        "\"what're\": \"what are\",\n",
        "\"what's\": \"what has / what is\",\n",
        "\"what've\": \"what have\",\n",
        "\"when's\": \"when has / when is\",\n",
        "\"when've\": \"when have\",\n",
        "\"where'd\": \"where did\",\n",
        "\"where's\": \"where has / where is\",\n",
        "\"where've\": \"where have\",\n",
        "\"who'll\": \"who shall / who will\",\n",
        "\"who'll've\": \"who shall have / who will have\",\n",
        "\"who's\": \"who has / who is\",\n",
        "\"who've\": \"who have\",\n",
        "\"why's\": \"why has / why is\",\n",
        "\"why've\": \"why have\",\n",
        "\"will've\": \"will have\",\n",
        "\"won't\": \"will not\",\n",
        "\"won't've\": \"will not have\",\n",
        "\"would've\": \"would have\",\n",
        "\"wouldn't\": \"would not\",\n",
        "\"wouldn't've\": \"would not have\",\n",
        "\"y'all\": \"you all\",\n",
        "\"y'all'd\": \"you all would\",\n",
        "\"y'all'd've\": \"you all would have\",\n",
        "\"y'all're\": \"you all are\",\n",
        "\"y'all've\": \"you all have\",\n",
        "\"you'd\": \"you had / you would\",\n",
        "\"you'd've\": \"you would have\",\n",
        "\"you'll\": \"you shall / you will\",\n",
        "\"you'll've\": \"you shall have / you will have\",\n",
        "\"you're\": \"you are\",\n",
        "\"you've\": \"you have\"\n",
        "}"
      ],
      "execution_count": 10,
      "outputs": []
    },
    {
      "cell_type": "code",
      "metadata": {
        "id": "UA8_rCpcRtTy"
      },
      "source": [
        "def clean_text(text, remove_stopwords = True):\n",
        "   \n",
        "    # Convert words to lower case\n",
        "    text = text.lower()\n",
        "    \n",
        "    # Replace contractions with their longer forms \n",
        "    if True:\n",
        "        text = text.split()\n",
        "        new_text = []\n",
        "        for word in text:\n",
        "            if word in contractions:\n",
        "                new_text.append(contractions[word])\n",
        "            else:\n",
        "                new_text.append(word)\n",
        "        text = \" \".join(new_text)\n",
        "    \n",
        "    # Format words and remove unwanted characters\n",
        "    text = re.sub(r'https?:\\/\\/.*[\\r\\n]*', '', text, flags=re.MULTILINE)\n",
        "    text = re.sub(r'\\<a href', ' ', text)\n",
        "    text = re.sub(r'&amp;', '', text) \n",
        "    text = re.sub(r'[_\"\\-;%()|+&=*%.,!?:#$@\\[\\]/]', ' ', text)\n",
        "    text = re.sub(r'<br />', ' ', text)\n",
        "    text = re.sub(r'\\'', ' ', text)\n",
        "    \n",
        "    # remove stop words\n",
        "    if remove_stopwords:\n",
        "        text = text.split()\n",
        "        stops = set(stopwords.words(\"english\"))\n",
        "        text = [w for w in text if not w in stops]\n",
        "        text = \" \".join(text)\n",
        "\n",
        "    # Tokenize each word\n",
        "    text =  nltk.WordPunctTokenizer().tokenize(text)\n",
        "        \n",
        "    return text"
      ],
      "execution_count": 11,
      "outputs": []
    },
    {
      "cell_type": "code",
      "metadata": {
        "id": "IOHuUvabOzlU"
      },
      "source": [
        "# clean the texts\n",
        "x_train = x_train.apply(clean_text)\n",
        "x_test = x_test.apply(clean_text)"
      ],
      "execution_count": 12,
      "outputs": []
    },
    {
      "cell_type": "code",
      "metadata": {
        "id": "vbgvs0QIOzox"
      },
      "source": [
        "#define BoW vectorizer\n",
        "bow_transform = CountVectorizer(tokenizer=lambda doc: doc, ngram_range=[1,3], lowercase=False)\n",
        "\n",
        "# transform texts to BoW features\n",
        "X_tr_bow = bow_transform.fit_transform(x_train)\n",
        "X_te_bow = bow_transform.transform(x_test)"
      ],
      "execution_count": 13,
      "outputs": []
    },
    {
      "cell_type": "code",
      "metadata": {
        "id": "FS2TQKUqOzr0",
        "colab": {
          "base_uri": "https://localhost:8080/"
        },
        "outputId": "88916a6d-5f94-42fa-ab3f-76baddaa4f3d"
      },
      "source": [
        "len(bow_transform.vocabulary_)"
      ],
      "execution_count": 14,
      "outputs": [
        {
          "output_type": "execute_result",
          "data": {
            "text/plain": [
              "3718562"
            ]
          },
          "metadata": {
            "tags": []
          },
          "execution_count": 14
        }
      ]
    },
    {
      "cell_type": "code",
      "metadata": {
        "id": "6gA8ZEG2PhBb"
      },
      "source": [
        "#define Tf-idf transformer\n",
        "tfidf_transform = text.TfidfTransformer(norm=None)\n",
        "\n",
        "# transform BoW matrix to Tf-idf features\n",
        "X_tr_tfidf = tfidf_transform.fit_transform(X_tr_bow)\n",
        "X_te_tfidf = tfidf_transform.transform(X_te_bow)"
      ],
      "execution_count": 15,
      "outputs": []
    },
    {
      "cell_type": "code",
      "metadata": {
        "id": "OqAlr5G5PhFK"
      },
      "source": [
        "#define logistic regression classifier, set multi_class parameter to \"multinomial\"\n",
        "def simple_logistic_classify(X_tr, y_tr, X_test, y_test, description, _C=1.0):\n",
        "    model = LogisticRegression(C=_C, multi_class=\"multinomial\").fit(X_tr, y_tr)\n",
        "    score = model.score(X_test, y_test)\n",
        "    print('Test Score with', description, 'features', score)\n",
        "    return model"
      ],
      "execution_count": 16,
      "outputs": []
    },
    {
      "cell_type": "code",
      "metadata": {
        "colab": {
          "base_uri": "https://localhost:8080/"
        },
        "id": "aeboHS5LP298",
        "outputId": "fe1983cd-958b-474a-97a4-e3496e9fc33b"
      },
      "source": [
        "# fit the model to BoW and Tf-idf features\n",
        "model_bow = simple_logistic_classify(X_tr_bow, y_train, X_te_bow, y_test, 'bow')\n",
        "model_tfidf = simple_logistic_classify(X_tr_tfidf, y_train, X_te_tfidf, y_test, 'tf-idf')"
      ],
      "execution_count": 17,
      "outputs": [
        {
          "output_type": "stream",
          "text": [
            "Test Score with bow features 0.9236842105263158\n",
            "Test Score with tf-idf features 0.9244736842105263\n"
          ],
          "name": "stdout"
        }
      ]
    },
    {
      "cell_type": "code",
      "metadata": {
        "id": "lU6NKv21P21Y"
      },
      "source": [
        "# get predictions\n",
        "bow_pred = model_bow.predict(X_te_bow)\n",
        "tfidf_pred = model_tfidf.predict(X_te_tfidf)"
      ],
      "execution_count": 18,
      "outputs": []
    },
    {
      "cell_type": "code",
      "metadata": {
        "colab": {
          "base_uri": "https://localhost:8080/"
        },
        "id": "LdWT1xpSQfHE",
        "outputId": "d71c4261-bde2-4239-8c72-c52ea7a117d7"
      },
      "source": [
        "# BoW classification report\n",
        "print(classification_report(y_test, bow_pred))"
      ],
      "execution_count": 19,
      "outputs": [
        {
          "output_type": "stream",
          "text": [
            "              precision    recall  f1-score   support\n",
            "\n",
            "           0       0.93      0.92      0.93      1900\n",
            "           1       0.96      0.98      0.97      1900\n",
            "           2       0.90      0.89      0.90      1900\n",
            "           3       0.90      0.90      0.90      1900\n",
            "\n",
            "    accuracy                           0.92      7600\n",
            "   macro avg       0.92      0.92      0.92      7600\n",
            "weighted avg       0.92      0.92      0.92      7600\n",
            "\n"
          ],
          "name": "stdout"
        }
      ]
    },
    {
      "cell_type": "code",
      "metadata": {
        "colab": {
          "base_uri": "https://localhost:8080/"
        },
        "id": "3sLukAjwQ5b6",
        "outputId": "a68bbe0f-1d46-4401-8513-58990420d0bf"
      },
      "source": [
        "# Tf-idf classification report\n",
        "print(classification_report(y_test, tfidf_pred))"
      ],
      "execution_count": 20,
      "outputs": [
        {
          "output_type": "stream",
          "text": [
            "              precision    recall  f1-score   support\n",
            "\n",
            "           0       0.93      0.92      0.93      1900\n",
            "           1       0.96      0.98      0.97      1900\n",
            "           2       0.91      0.89      0.90      1900\n",
            "           3       0.90      0.90      0.90      1900\n",
            "\n",
            "    accuracy                           0.92      7600\n",
            "   macro avg       0.92      0.92      0.92      7600\n",
            "weighted avg       0.92      0.92      0.92      7600\n",
            "\n"
          ],
          "name": "stdout"
        }
      ]
    },
    {
      "cell_type": "markdown",
      "metadata": {
        "id": "Ycz4FjwpVgkQ"
      },
      "source": [
        "## Binary Logistic Regression"
      ]
    },
    {
      "cell_type": "code",
      "metadata": {
        "id": "023Loc80RLuP"
      },
      "source": [
        "data = pd.read_csv(train_file_path)\n",
        "test = pd.read_csv(test_file_path)"
      ],
      "execution_count": 21,
      "outputs": []
    },
    {
      "cell_type": "code",
      "metadata": {
        "id": "6SpgNef0R_Vg"
      },
      "source": [
        "# filter \"Business\" and \"World\" news\n",
        "data = data[(data['Class Index'] != 2) & (data['Class Index'] != 4)]\n",
        "test = test[(test['Class Index'] != 2) & (test['Class Index'] != 4)]"
      ],
      "execution_count": 22,
      "outputs": []
    },
    {
      "cell_type": "code",
      "metadata": {
        "id": "2_OhYSiwSJ3Z"
      },
      "source": [
        "# combine news titles with their content\n",
        "x_train = data['Title']+\" \"+data['Description']\n",
        "x_test = test['Title']+\" \"+test['Description']"
      ],
      "execution_count": 23,
      "outputs": []
    },
    {
      "cell_type": "code",
      "metadata": {
        "id": "GT1w-EzdeIt9"
      },
      "source": [
        "# clean the text\n",
        "x_train = x_train.apply(clean_text)\n",
        "x_test = x_test.apply(clean_text)"
      ],
      "execution_count": 24,
      "outputs": []
    },
    {
      "cell_type": "code",
      "metadata": {
        "id": "Er5t_qAsgtvh"
      },
      "source": [
        "#set labels\n",
        "y_train = data['Class Index']\n",
        "y_test = test['Class Index']"
      ],
      "execution_count": 29,
      "outputs": []
    },
    {
      "cell_type": "code",
      "metadata": {
        "id": "x4LSdZ4geIt_"
      },
      "source": [
        "# define BoW vectorizer\n",
        "bow_transform = CountVectorizer(tokenizer=lambda doc: doc, ngram_range=[1,3], lowercase=False)\n",
        "\n",
        "# get BoW fetures\n",
        "X_tr_bow = bow_transform.fit_transform(x_train)\n",
        "X_te_bow = bow_transform.transform(x_test)"
      ],
      "execution_count": 25,
      "outputs": []
    },
    {
      "cell_type": "code",
      "metadata": {
        "id": "k0FytMSMeIuB"
      },
      "source": [
        "# define Tf-idf transformer\n",
        "tfidf_transform = text.TfidfTransformer(norm=None)\n",
        "\n",
        "# get Tf-idf features\n",
        "X_tr_tfidf = tfidf_transform.fit_transform(X_tr_bow)\n",
        "X_te_tfidf = tfidf_transform.transform(X_te_bow)"
      ],
      "execution_count": 26,
      "outputs": []
    },
    {
      "cell_type": "code",
      "metadata": {
        "id": "WFN5aXiKeIuH"
      },
      "source": [
        "# define logistic regression, default class parameter is \"auto\" that works for binary classification\n",
        "def simple_logistic_classify(X_tr, y_tr, X_test, y_test, description, _C=1.0):\n",
        "    model = LogisticRegression(C=_C).fit(X_tr, y_tr)\n",
        "    score = model.score(X_test, y_test)\n",
        "    print('Test Score with', description, 'features', score)\n",
        "    return model"
      ],
      "execution_count": 27,
      "outputs": []
    },
    {
      "cell_type": "code",
      "metadata": {
        "colab": {
          "base_uri": "https://localhost:8080/"
        },
        "id": "UsnIeOOGeIuI",
        "outputId": "4029b110-139e-480f-b649-07e8feb6ddca"
      },
      "source": [
        "#fit the model to BoW and Tf-idf features\n",
        "model_bow = simple_logistic_classify(X_tr_bow, y_train, X_te_bow, y_test, 'bow')\n",
        "model_tfidf = simple_logistic_classify(X_tr_tfidf, y_train, X_te_tfidf, y_test, 'tf-idf')"
      ],
      "execution_count": 30,
      "outputs": [
        {
          "output_type": "stream",
          "text": [
            "Test Score with bow features 0.9623684210526315\n",
            "Test Score with tf-idf features 0.963421052631579\n"
          ],
          "name": "stdout"
        }
      ]
    },
    {
      "cell_type": "code",
      "metadata": {
        "id": "z6iEs6uoeIuJ"
      },
      "source": [
        "# get predictions\n",
        "bow_pred = model_bow.predict(X_te_bow)\n",
        "tfidf_pred = model_tfidf.predict(X_te_tfidf)"
      ],
      "execution_count": 31,
      "outputs": []
    },
    {
      "cell_type": "code",
      "metadata": {
        "colab": {
          "base_uri": "https://localhost:8080/"
        },
        "id": "V-DbGAz6eIuM",
        "outputId": "df4d63a2-0838-4dda-ba9b-90bd9049fb00"
      },
      "source": [
        "# BoW classification report\n",
        "print(classification_report(y_test, bow_pred))"
      ],
      "execution_count": 32,
      "outputs": [
        {
          "output_type": "stream",
          "text": [
            "              precision    recall  f1-score   support\n",
            "\n",
            "           1       0.97      0.96      0.96      1900\n",
            "           3       0.96      0.97      0.96      1900\n",
            "\n",
            "    accuracy                           0.96      3800\n",
            "   macro avg       0.96      0.96      0.96      3800\n",
            "weighted avg       0.96      0.96      0.96      3800\n",
            "\n"
          ],
          "name": "stdout"
        }
      ]
    },
    {
      "cell_type": "code",
      "metadata": {
        "id": "8N96qHo9eIuN",
        "colab": {
          "base_uri": "https://localhost:8080/"
        },
        "outputId": "a266ff26-120e-4973-af9d-870f8cab24bd"
      },
      "source": [
        "# Tf-idf classification report\n",
        "print(classification_report(y_test, tfidf_pred))"
      ],
      "execution_count": 33,
      "outputs": [
        {
          "output_type": "stream",
          "text": [
            "              precision    recall  f1-score   support\n",
            "\n",
            "           1       0.97      0.96      0.96      1900\n",
            "           3       0.96      0.97      0.96      1900\n",
            "\n",
            "    accuracy                           0.96      3800\n",
            "   macro avg       0.96      0.96      0.96      3800\n",
            "weighted avg       0.96      0.96      0.96      3800\n",
            "\n"
          ],
          "name": "stdout"
        }
      ]
    },
    {
      "cell_type": "markdown",
      "metadata": {
        "id": "xoO7nOgmYAzG"
      },
      "source": [
        "## GloVe + LSTM Model"
      ]
    },
    {
      "cell_type": "code",
      "metadata": {
        "id": "4fs7Aud8eIuO"
      },
      "source": [
        "import torch\n",
        "import torchtext\n",
        "from torchtext import data\n",
        "from torchtext.legacy.data import Field, LabelField, TabularDataset, BucketIterator\n",
        "import torch.nn as nn"
      ],
      "execution_count": 34,
      "outputs": []
    },
    {
      "cell_type": "code",
      "metadata": {
        "id": "2kQ4cEdAeIuP"
      },
      "source": [
        "data = pd.read_csv(train_file_path)\n",
        "test = pd.read_csv(test_file_path)"
      ],
      "execution_count": 35,
      "outputs": []
    },
    {
      "cell_type": "code",
      "metadata": {
        "id": "6Wthk3I0eIuP"
      },
      "source": [
        "df = data.append(test, ignore_index=True)"
      ],
      "execution_count": 36,
      "outputs": []
    },
    {
      "cell_type": "code",
      "metadata": {
        "id": "qmqtGrgpeIuP"
      },
      "source": [
        "df = df[(df['Class Index'] != 2) & (df['Class Index'] != 4)]"
      ],
      "execution_count": 37,
      "outputs": []
    },
    {
      "cell_type": "code",
      "metadata": {
        "id": "MwriqWrneIuQ"
      },
      "source": [
        "df[\"Title\"] = df[\"Title\"] + \" \" + df[\"Description\"]\n",
        "df = df[[\"Title\", \"Class Index\"]]"
      ],
      "execution_count": 38,
      "outputs": []
    },
    {
      "cell_type": "code",
      "metadata": {
        "id": "hJRZS8yNeIuR"
      },
      "source": [
        "# save the dataframe\n",
        "df.to_csv(\"/content/drive/MyDrive/Colab Notebooks/test_lstm.csv\")"
      ],
      "execution_count": 39,
      "outputs": []
    },
    {
      "cell_type": "code",
      "metadata": {
        "id": "ooUdO3qOeIuR"
      },
      "source": [
        "# define fields for tabular dataset in directory\n",
        "TEXT = Field(tokenize=\"spacy\",lower = True, sequential=True, batch_first=True,include_lengths=True)\n",
        "LABEL = LabelField(dtype = torch.float,batch_first=True)\n",
        "fields = [(None, None),('text',TEXT), ('label', LABEL)]"
      ],
      "execution_count": 40,
      "outputs": []
    },
    {
      "cell_type": "code",
      "metadata": {
        "id": "t2-rJ6McY-5F"
      },
      "source": [
        "#call data from directory with Tabular Dataset\n",
        "data=TabularDataset(path = \"/content/drive/MyDrive/Colab Notebooks/test_lstm.csv\",format = 'csv',fields = fields,skip_header = True)"
      ],
      "execution_count": 41,
      "outputs": []
    },
    {
      "cell_type": "code",
      "metadata": {
        "id": "-68SqxC5SzM3",
        "colab": {
          "base_uri": "https://localhost:8080/"
        },
        "outputId": "59f095a9-3202-4a6d-e1e1-278cec66d84f"
      },
      "source": [
        "# a sequence with its label\n",
        "vars(data[0])"
      ],
      "execution_count": 42,
      "outputs": [
        {
          "output_type": "execute_result",
          "data": {
            "text/plain": [
              "{'label': '3',\n",
              " 'text': ['wall',\n",
              "  'st.',\n",
              "  'bears',\n",
              "  'claw',\n",
              "  'back',\n",
              "  'into',\n",
              "  'the',\n",
              "  'black',\n",
              "  '(',\n",
              "  'reuters',\n",
              "  ')',\n",
              "  'reuters',\n",
              "  '-',\n",
              "  'short',\n",
              "  '-',\n",
              "  'sellers',\n",
              "  ',',\n",
              "  'wall',\n",
              "  'street',\n",
              "  \"'s\",\n",
              "  'dwindling\\\\band',\n",
              "  'of',\n",
              "  'ultra',\n",
              "  '-',\n",
              "  'cynics',\n",
              "  ',',\n",
              "  'are',\n",
              "  'seeing',\n",
              "  'green',\n",
              "  'again',\n",
              "  '.']}"
            ]
          },
          "metadata": {
            "tags": []
          },
          "execution_count": 42
        }
      ]
    },
    {
      "cell_type": "code",
      "metadata": {
        "id": "oNH06j4vbJRR"
      },
      "source": [
        "# split data into training and validation sets\n",
        "train_data, valid_data = data.split(split_ratio=0.8)"
      ],
      "execution_count": 44,
      "outputs": []
    },
    {
      "cell_type": "code",
      "metadata": {
        "id": "-xz7sij0wqR3",
        "colab": {
          "base_uri": "https://localhost:8080/"
        },
        "outputId": "236e2ac8-f44d-4695-b487-b04ab5babaf2"
      },
      "source": [
        "# build vocabulary from training set using 100 dimensional GloVe embeddings\n",
        "TEXT.build_vocab(train_data,min_freq=3,vectors = \"glove.6B.100d\")  \n",
        "LABEL.build_vocab(train_data)"
      ],
      "execution_count": 45,
      "outputs": [
        {
          "output_type": "stream",
          "text": [
            ".vector_cache/glove.6B.zip: 862MB [02:40, 5.37MB/s]                          \n",
            " 99%|█████████▉| 397983/400000 [00:14<00:00, 27953.60it/s]"
          ],
          "name": "stderr"
        }
      ]
    },
    {
      "cell_type": "code",
      "metadata": {
        "id": "sKIryhvOxKaU",
        "colab": {
          "base_uri": "https://localhost:8080/"
        },
        "outputId": "56d2c21e-4967-4d29-fd99-45e932ce85ba"
      },
      "source": [
        "print(len(TEXT.vocab))\n",
        "print(\"---------------\", \"\\n\")\n",
        "print(len(LABEL.vocab))\n",
        "print(\"---------------\", \"\\n\")\n",
        "print(TEXT.vocab.freqs.most_common(10)) \n",
        "print(\"---------------\", \"\\n\")\n",
        "print(TEXT.vocab.stoi) \n",
        "print(\"---------------\", \"\\n\")\n",
        "print(LABEL.vocab.stoi)"
      ],
      "execution_count": 46,
      "outputs": [
        {
          "output_type": "stream",
          "text": [
            "22393\n",
            "--------------- \n",
            "\n",
            "2\n",
            "--------------- \n",
            "\n",
            "[('the', 79098), (',', 68426), ('to', 51576), ('.', 51497), ('a', 47296), ('in', 46041), ('-', 44708), ('of', 43640), ('and', 29417), (' ', 27712)]\n",
            "--------------- \n",
            "\n",
            "defaultdict(<bound method Vocab._default_unk_index of <torchtext.vocab.Vocab object at 0x7f90d20ce290>>, {'<unk>': 0, '<pad>': 1, 'the': 2, ',': 3, 'to': 4, '.': 5, 'a': 6, 'in': 7, '-': 8, 'of': 9, 'and': 10, ' ': 11, 'on': 12, 'for': 13, '(': 14, ')': 15, '#': 16, '39;s': 17, 'said': 18, 'as': 19, 'that': 20, 'its': 21, 'reuters': 22, \"'s\": 23, 'by': 24, 'with': 25, 'at': 26, ';': 27, 'new': 28, 'us': 29, 'it': 30, 'from': 31, 'is': 32, 'an': 33, 'has': 34, ':': 35, 'after': 36, 'oil': 37, 'was': 38, 'will': 39, 'ap': 40, 'iraq': 41, '/': 42, 'his': 43, 'up': 44, 'u.s.': 45, 'president': 46, 'over': 47, 'two': 48, 'have': 49, 'more': 50, 'be': 51, 'monday': 52, 'prices': 53, 'wednesday': 54, 'company': 55, 'tuesday': 56, 'thursday': 57, 'friday': 58, 'inc.': 59, 'but': 60, 'are': 61, 'their': 62, 'year': 63, 'government': 64, 'york': 65, '...': 66, 'afp': 67, 'than': 68, 'yesterday': 69, 'percent': 70, 'were': 71, 'minister': 72, '--': 73, 'says': 74, '&': 75, 'he': 76, 'about': 77, 'world': 78, 'people': 79, 'group': 80, 'million': 81, 'not': 82, 'first': 83, 'killed': 84, 'bush': 85, 'stocks': 86, 'against': 87, 'united': 88, \"'\": 89, 'this': 90, '\"': 91, 'who': 92, 'into': 93, 'corp.': 94, 'profit': 95, 'one': 96, 'three': 97, 'week': 98, 'quarter': 99, 'would': 100, 'sales': 101, 'out': 102, 'billion': 103, 'china': 104, 'last': 105, '39': 106, 'been': 107, 'talks': 108, 'iraqi': 109, 'had': 110, 'shares': 111, 'officials': 112, 'prime': 113, 'bank': 114, 'security': 115, 'third': 116, 'may': 117, 'today': 118, 'deal': 119, 'they': 120, 'years': 121, 'baghdad': 122, 'chief': 123, 'could': 124, 'which': 125, 'election': 126, 'sunday': 127, 'quot': 128, 'court': 129, 'state': 130, 'country': 131, 'police': 132, 'day': 133, 'market': 134, 'reported': 135, 'off': 136, 'high': 137, 'city': 138, 'largest': 139, 'time': 140, 'no': 141, 'nuclear': 142, 'former': 143, 'european': 144, 'dollar': 145, 'report': 146, 'international': 147, 'least': 148, 'states': 149, 'leader': 150, 'business': 151, 'british': 152, 'military': 153, 'down': 154, 'news': 155, 'higher': 156, 'washington': 157, 'war': 158, 'un': 159, 'end': 160, 'palestinian': 161, 'month': 162, 'federal': 163, 'next': 164, 'japan': 165, 'earnings': 166, 'second': 167, 'israeli': 168, 'expected': 169, 'record': 170, 'href=\"http://www.investor.reuters.com': 171, 'quickinfo': 172, 'target=/stocks': 173, 'troops': 174, '=': 175, 'fullquote.aspx?ticker': 176, 'gaza': 177, 'some': 178, 'growth': 179, 'lt;a': 180, 'plans': 181, 'top': 182, 'india': 183, 'saturday': 184, 'stock': 185, 'al': 186, 'four': 187, 'union': 188, 'bid': 189, 'trade': 190, 'back': 191, 'when': 192, 'plan': 193, 'or': 194, 'iran': 195, 'co.': 196, 'cut': 197, 'american': 198, 'london': 199, 'north': 200, 'economic': 201, 'general': 202, 'before': 203, 'south': 204, 'economy': 205, 'research': 206, 'investors': 207, 'buy': 208, 'rose': 209, 'peace': 210, 'most': 211, '&lt;/b&gt': 212, 'lt;b&gt;': 213, 'maker': 214, 'set': 215, 'official': 216, 'all': 217, 'attack': 218, 'air': 219, 'forces': 220, 'rise': 221, 'jobs': 222, 'other': 223, 'eu': 224, 'hit': 225, 'street': 226, 'bomb': 227, 'israel': 228, 'announced': 229, 'foreign': 230, 'press': 231, 'canadian': 232, 'near': 233, 'agreed': 234, 'john': 235, 'national': 236, 'if': 237, '2004': 238, 'darfur': 239, 'crude': 240, 'between': 241, 'russia': 242, 'under': 243, 'drug': 244, 'workers': 245, 'arafat': 246, 'pakistan': 247, 'car': 248, 'presidential': 249, 'say': 250, 'pay': 251, 'nations': 252, 'army': 253, 'while': 254, 'giant': 255, 'biggest': 256, 'kerry': 257, 'killing': 258, 'executive': 259, 'price': 260, 'major': 261, 'wall': 262, 'companies': 263, 'ahead': 264, 'fell': 265, 'lower': 266, 'home': 267, 'tokyo': 268, 'attacks': 269, 'months': 270, 'five': 271, 'leaders': 272, 'industry': 273, 'can': 274, 'party': 275, 'early': 276, 'militants': 277, 'data': 278, 'financial': 279, 'sudan': 280, 'french': 281, 'according': 282, 'russian': 283, 'hostage': 284, 'reports': 285, 'region': 286, 'during': 287, 'take': 288, 'held': 289, 'despite': 290, 'elections': 291, 'death': 292, 'firm': 293, 'strong': 294, 'vote': 295, 'profile': 296, 'capital': 297, 'house': 298, 'korea': 299, 'nation': 300, 'since': 301, 'help': 302, 'global': 303, 'west': 304, 'move': 305, 'long': 306, 'six': 307, 'still': 308, 'fall': 309, 'quote': 310, 'tax': 311, 'dead': 312, 'key': 313, 'demand': 314, 'including': 315, 'strike': 316, 'quarterly': 317, 'hurricane': 318, 'made': 319, 'energy': 320, 'another': 321, '?': 322, 'commission': 323, 'update': 324, '2': 325, 'political': 326, 'public': 327, 'uk': 328, 'northern': 329, 'violence': 330, 'days': 331, 'australia': 332, 'cuts': 333, 'charges': 334, 'afghanistan': 335, 'open': 336, 'what': 337, 'her': 338, 'rates': 339, 'interest': 340, 'them': 341, 'nearly': 342, 'soldiers': 343, 'rebels': 344, 'rate': 345, 'loss': 346, 'central': 347, 'trial': 348, 'through': 349, 'low': 350, 'peoplesoft': 351, '10': 352, 'secretary': 353, 'there': 354, 'being': 355, 'costs': 356, 'make': 357, 'amid': 358, 'oracle': 359, 'europe': 360, 'part': 361, 'britain': 362, 'per': 363, 'agency': 364, 'barrel': 365, 'case': 366, 'japanese': 367, 'amp': 368, 'health': 369, 'afghan': 370, 'bankruptcy': 371, 'based': 372, 'just': 373, 'service': 374, 'airlines': 375, 'australian': 376, 'consumer': 377, 'september': 378, 'old': 379, 'many': 380, 'services': 381, 'm': 382, 'man': 383, 'now': 384, 'profits': 385, 'aid': 386, 'close': 387, 'ago': 388, 'head': 389, 'terror': 390, 'found': 391, 'france': 392, '1': 393, 'trading': 394, 'rebel': 395, 'southern': 396, 'campaign': 397, 'fund': 398, 'him': 399, 'meeting': 400, 'way': 401, 'big': 402, 'judge': 403, 'half': 404, '   ': 405, 'unit': 406, 'led': 407, 'blair': 408, 'euro': 409, 'software': 410, 'rival': 411, 'called': 412, 'technology': 413, 'opposition': 414, 'power': 415, 'october': 416, 'where': 417, 'insurance': 418, 'because': 419, 'results': 420, 'airways': 421, 'board': 422, 'agreement': 423, 'force': 424, 'microsoft': 425, 'share': 426, 'latest': 427, 'sell': 428, 'should': 429, 'forecast': 430, 'gas': 431, 'job': 432, 'drop': 433, 'accused': 434, 'work': 435, 'reserve': 436, 'release': 437, 'released': 438, 'seven': 439, 'america': 440, 'offer': 441, 'saying': 442, 'stores': 443, 'increase': 444, 'night': 445, 'due': 446, 'chairman': 447, 'chinese': 448, 'exchange': 449, 'department': 450, 'sharon': 451, 'weeks': 452, 'school': 453, '3': 454, 'canada': 455, '11': 456, 'airline': 457, 'gains': 458, 'weapons': 459, 'get': 460, 'go': 461, 'fire': 462, 'office': 463, 'stake': 464, 'even': 465, 'production': 466, 'face': 467, 'late': 468, 'cash': 469, 'fuel': 470, 'showed': 471, 'investment': 472, 'following': 473, 'african': 474, 'august': 475, 'claims': 476, 'again': 477, 'media': 478, 'yukos': 479, 'left': 480, 'san': 481, '39;t': 482, 'food': 483, 'much': 484, 'yasser': 485, 'wireless': 486, 'outlook': 487, 'palestinians': 488, 'google': 489, 'posted': 490, 'senior': 491, 'markets': 492, 'cost': 493, 'suicide': 494, 'term': 495, 'kills': 496, 'ceo': 497, 'money': 498, 'life': 499, 'muslim': 500, 'november': 501, 'western': 502, 'crisis': 503, 'recent': 504, 'chicago': 505, '2005': 506, 'visit': 507, 'warned': 508, 'won': 509, 'anti': 510, 'bill': 511, 'debt': 512, 'you': 513, 'kill': 514, 'gold': 515, 'internet': 516, 'coast': 517, 'net': 518, '20': 519, 'blast': 520, 'administration': 521, 'whether': 522, 'thousands': 523, 'free': 524, 'law': 525, 'start': 526, 'fourth': 527, 'concerns': 528, 'computer': 529, 'labor': 530, 'seen': 531, 'spending': 532, 'defense': 533, 'support': 534, 'several': 535, 'told': 536, 'decision': 537, 'likely': 538, 'only': 539, 'terrorism': 540, 'revenue': 541, 'german': 542, 'takeover': 543, 'council': 544, 'indian': 545, 'putin': 546, 'retailer': 547, 'countries': 548, 'fallujah': 549, 'possible': 550, 'fighting': 551, 'najaf': 552, 'across': 553, 'east': 554, 'corporate': 555, 'germany': 556, 'do': 557, 'militant': 558, 'run': 559, 'islamic': 560, 'fears': 561, 'lead': 562, 'delta': 563, 'leading': 564, 'boost': 565, 'supply': 566, 'any': 567, 'retail': 568, 'meet': 569, 'securities': 570, 'battle': 571, 'keep': 572, 'show': 573, 'suspected': 574, 'authorities': 575, 'ivan': 576, 'put': 577, 'sale': 578, 'so': 579, 'analysts': 580, 'italian': 581, 'efforts': 582, 'program': 583, 'taking': 584, \"n't\": 585, 'mart': 586, 'asia': 587, 'wal': 588, 'u.n.': 589, 'hostages': 590, 'past': 591, 'dow': 592, 'members': 593, 'rising': 594, 'strip': 595, 'around': 596, 'how': 597, 'paris': 598, 'rally': 599, 'merger': 600, 'children': 601, 'rights': 602, 'ruling': 603, 'calls': 604, 'eight': 605, 'win': 606, 'above': 607, 'men': 608, 'probe': 609, 'raised': 610, 'number': 611, 'such': 612, 'helped': 613, 'outside': 614, 'post': 615, 'singapore': 616, '30': 617, 'online': 618, 'pm': 619, 'phone': 620, 'died': 621, 'operations': 622, 'boeing': 623, 'action': 624, 'holiday': 625, 'hold': 626, 'arrested': 627, 'florida': 628, '  ': 629, 'asian': 630, 'fraud': 631, 'used': 632, 'democratic': 633, 'others': 634, 'storm': 635, 'like': 636, 'fight': 637, 'kidnapped': 638, 'morning': 639, 'insurgents': 640, 'ltd.': 641, 'prison': 642, 'town': 643, 'control': 644, 'threat': 645, 'finance': 646, 'policy': 647, 'took': 648, 'injured': 649, 'main': 650, 'wounded': 651, 'regulators': 652, 'final': 653, 'pressure': 654, 'black': 655, 'call': 656, 'here': 657, 'hopes': 658, 'management': 659, 'cleric': 660, 'also': 661, 'little': 662, 'rises': 663, 'family': 664, 'rules': 665, '4': 666, 'expectations': 667, 'target': 668, 'communications': 669, 'beijing': 670, 'both': 671, 'heart': 672, 'give': 673, 'must': 674, 'george': 675, 'almost': 676, 'making': 677, 'africa': 678, 'kashmir': 679, 'cp': 680, 'dutch': 681, 'moscow': 682, 'products': 683, 'among': 684, 'hits': 685, 'return': 686, 'sees': 687, 'ibm': 688, 'losses': 689, '18': 690, 'accounting': 691, 'earlier': 692, 'americans': 693, 'explosion': 694, 'pilots': 695, 'victory': 696, 'indonesia': 697, 'parliament': 698, 'test': 699, 'growing': 700, 'karzai': 701, 'future': 702, 'debate': 703, 'kabul': 704, 'fresh': 705, 'mobile': 706, 'television': 707, 'tony': 708, 'congress': 709, 'further': 710, 'began': 711, 'dollars': 712, 'executives': 713, 'employees': 714, 'women': 715, 'average': 716, 'sanctions': 717, 'turkey': 718, 'full': 719, 'hundreds': 720, 'she': 721, '12': 722, 'toward': 723, 'charged': 724, 'francisco': 725, 'change': 726, 'weekend': 727, 'airport': 728, 'ex': 729, 'toll': 730, 'search': 731, 'investigation': 732, 'line': 733, 'season': 734, '5': 735, 'boston': 736, 'funds': 737, 'might': 738, 'radio': 739, '15': 740, 'winter': 741, 'missing': 742, 'shot': 743, 'stop': 744, 'network': 745, 'opec': 746, 'sadr': 747, 'area': 748, 'hours': 749, 'issue': 750, 'local': 751, 'well': 752, 'annual': 753, 'inflation': 754, 'mark': 755, 'warning': 756, 'system': 757, 'continued': 758, 'small': 759, 'spokesman': 760, 'hospital': 761, 'urged': 762, 'survey': 763, 'worries': 764, 'alleged': 765, 'futures': 766, 'seeks': 767, 'uranium': 768, 'step': 769, 'cent': 770, 'ended': 771, 'groups': 772, 'wants': 773, 'continue': 774, 'credit': 775, 'mortgage': 776, 'nine': 777, 'taiwan': 778, 'use': 779, 'cbs.mw': 780, 'nigeria': 781, 'officer': 782, 'missile': 783, 'sept.': 784, 'banks': 785, 'contract': 786, 'disney': 787, 'haiti': 788, '14': 789, 'series': 790, 'bombing': 791, 'failed': 792, 'holding': 793, 'posts': 794, 'terrorist': 795, 'confidence': 796, 'good': 797, 'video': 798, 'yen': 799, 'bombs': 800, 'right': 801, 'tv': 802, 'abu': 803, 'begin': 804, 'border': 805, 'slightly': 806, 'egypt': 807, 'sharply': 808, 'supplies': 809, 'approved': 810, 'become': 811, 'qaeda': 812, 'decline': 813, 'voters': 814, 'level': 815, 'powerful': 816, 'settle': 817, 'site': 818, 'less': 819, 'times': 820, 'falls': 821, 'interim': 822, 'middle': 823, 'poll': 824, 'private': 825, 'selling': 826, 'without': 827, 'aimed': 828, 'far': 829, 'hamas': 830, 'homes': 831, 'powell': 832, 'staff': 833, 'ariel': 834, 'better': 835, 'enron': 836, 'settlement': 837, 'ban': 838, 'embassy': 839, 'howard': 840, 'increased': 841, 'below': 842, 'island': 843, 'trying': 844, 'merck': 845, 'reached': 846, 'vioxx': 847, 'saudi': 848, 'white': 849, 'pension': 850, 'camp': 851, 'conference': 852, 'gets': 853, 'human': 854, 'leave': 855, 'medical': 856, 'large': 857, 'lines': 858, 'planned': 859, 'soon': 860, 'sign': 861, 'store': 862, 'wins': 863, 'ivory': 864, 'legal': 865, 'risk': 866, 'woman': 867, 'same': 868, 'issues': 869, 'jerusalem': 870, 'behind': 871, 'taken': 872, 'arab': 873, 'information': 874, 'pakistani': 875, '6': 876, 'ministry': 877, 'raise': 878, 'senate': 879, 'own': 880, 'filed': 881, 'firms': 882, 'offering': 883, 'chip': 884, 'italy': 885, 'mexico': 886, 'orders': 887, '13': 888, 'plane': 889, 'soldier': 890, 'arms': 891, 'push': 892, 'sector': 893, 'ukraine': 894, 'warns': 895, 'aircraft': 896, 'carrier': 897, 'hurt': 898, 'sec': 899, 'fed': 900, 'ford': 901, 'short': 902, 'gain': 903, 'chain': 904, 'faces': 905, 'producer': 906, 'did': 907, 'michael': 908, 'care': 909, 'intel': 910, 'kong': 911, 'korean': 912, 'saddam': 913, 'customers': 914, 'output': 915, 'airbus': 916, 'building': 917, 'nikkei': 918, 'concern': 919, 'deficit': 920, 'dispute': 921, 'lawsuit': 922, 'ministers': 923, 'systems': 924, 'gave': 925, 'see': 926, '16': 927, 'oct.': 928, 'musharraf': 929, 'supreme': 930, 'within': 931, 'best': 932, 'hong': 933, '100': 934, 'away': 935, 'order': 936, '25': 937, 'consumers': 938, 'your': 939, 'sources': 940, 'summit': 941, 'tehran': 942, 'seek': 943, '\\\\$50': 944, 'charge': 945, 'fired': 946, 'flu': 947, 'makes': 948, 'plant': 949, 'fannie': 950, 'jump': 951, 'scandal': 952, 'seeking': 953, 'blue': 954, 'shareholders': 955, 'team': 956, 'guilty': 957, 'launched': 958, 'proposed': 959, 'ready': 960, 'toronto': 961, 'heavy': 962, 'attempt': 963, 'july': 964, 'lost': 965, 'newspaper': 966, 'protest': 967, '8': 968, '9': 969, 'flat': 970, 'red': 971, 'come': 972, 'january': 973, 'negotiations': 974, 'republican': 975, 'sprint': 976, 'organization': 977, 'highs': 978, 'opened': 979, 'iraqis': 980, 'related': 981, 'worth': 982, 'asked': 983, 'center': 984, 'murder': 985, 'shows': 986, 'thailand': 987, 'w.': 988, 'falluja': 989, 'launch': 990, 'ruled': 991, 'unions': 992, 'web': 993, 'brazil': 994, 'focus': 995, 'greenspan': 996, 'i': 997, 'effort': 998, 'exports': 999, 'relief': 1000, 'treasury': 1001, 'annan': 1002, 'body': 1003, 'weak': 1004, 'mixed': 1005, 'candidate': 1006, 'does': 1007, 'threatened': 1008, 'conflict': 1009, 'deadly': 1010, 'initial': 1011, 'operation': 1012, 'justice': 1013, 'california': 1014, 'democracy': 1015, 'few': 1016, 'race': 1017, 'wounding': 1018, 'flight': 1019, 'sudanese': 1020, 'those': 1021, '7': 1022, 'stewart': 1023, 'jakarta': 1024, 'sent': 1025, 'troubled': 1026, 'came': 1027, 'delhi': 1028, 'intelligence': 1029, 'takes': 1030, '17': 1031, 'armed': 1032, 'avoid': 1033, 'eastern': 1034, 'enrichment': 1035, 'rejected': 1036, 'acquisition': 1037, 'buying': 1038, 'income': 1039, 'signs': 1040, 'travel': 1041, 'drugs': 1042, 'industrial': 1043, 'mae': 1044, 'nasdaq': 1045, 'plc': 1046, 'process': 1047, 'signed': 1048, 'sold': 1049, 'allow': 1050, 'acquire': 1051, 'ever': 1052, 'look': 1053, 'motors': 1054, 'figures': 1055, 'los': 1056, 'province': 1057, 'shiite': 1058, 'estimates': 1059, 'cabinet': 1060, 'statement': 1061, 'working': 1062, 'citing': 1063, 'civil': 1064, 'forecasts': 1065, 'once': 1066, 'vladimir': 1067, 'attorney': 1068, 'demands': 1069, 'equipment': 1070, 'nov.': 1071, 'reach': 1072, 'yet': 1073, 'confirmed': 1074, 'huge': 1075, 'linked': 1076, 'rule': 1077, 'agree': 1078, 'expects': 1079, 'recovery': 1080, 'safety': 1081, 'station': 1082, 'already': 1083, 'angeles': 1084, 'deadline': 1085, 'prince': 1086, 'victims': 1087, '50': 1088, 'coalition': 1089, 'freed': 1090, 'highest': 1091, 'nyse': 1092, 'place': 1093, 'polls': 1094, 'running': 1095, 'remain': 1096, 'tech': 1097, 'ireland': 1098, 'king': 1099, 'poor': 1100, 'competition': 1101, 'domestic': 1102, 'exploded': 1103, 'indonesian': 1104, 'december': 1105, 'hope': 1106, 'offensive': 1107, 'role': 1108, 'watch': 1109, 'claim': 1110, 'raises': 1111, 'straight': 1112, 'ground': 1113, 'traders': 1114, 'until': 1115, 'retailers': 1116, 'witnesses': 1117, 'approval': 1118, 'gulf': 1119, 'gunmen': 1120, 'heating': 1121, 'ties': 1122, '19': 1123, 'crash': 1124, 'current': 1125, 'need': 1126, 'changes': 1127, 'goods': 1128, 'royal': 1129, 'urges': 1130, 'build': 1131, 'hotel': 1132, 'raising': 1133, 'received': 1134, 'steel': 1135, 'appeal': 1136, 'currency': 1137, 'holdings': 1138, 'typhoon': 1139, 'index': 1140, 'motor': 1141, 'slow': 1142, 'zone': 1143, 'closed': 1144, 'fiscal': 1145, 'hostile': 1146, 'study': 1147, '21': 1148, 'claimed': 1149, 'march': 1150, 'texas': 1151, 'banking': 1152, 'bin': 1153, 'joint': 1154, 'opening': 1155, 'surge': 1156, 'budget': 1157, 'businesses': 1158, 'england': 1159, 'find': 1160, 'impact': 1161, 'mine': 1162, 'assets': 1163, 'known': 1164, 'manufacturing': 1165, 'reduce': 1166, 'bell': 1167, 'pace': 1168, 'range': 1169, 'rivals': 1170, 'too': 1171, 'looking': 1172, 'proposal': 1173, 'satellite': 1174, '24': 1175, 'blasts': 1176, 'jail': 1177, 'offers': 1178, 'operating': 1179, 'resolution': 1180, 'row': 1181, 'atomic': 1182, 'bombings': 1183, 'director': 1184, 'halt': 1185, 'hamid': 1186, 'marsh': 1187, 'save': 1188, 'clear': 1189, 'point': 1190, 'deaths': 1191, 'syria': 1192, 'arrest': 1193, 'auto': 1194, 'chips': 1195, 'hard': 1196, 'laden': 1197, 'music': 1198, 'taliban': 1199, 'train': 1200, 'votes': 1201, 'bring': 1202, 'sharp': 1203, 'try': 1204, 'vice': 1205, 'later': 1206, 'leaving': 1207, 'martha': 1208, 'operator': 1209, 'ordered': 1210, 'prisoners': 1211, 'real': 1212, 'sending': 1213, 'cutting': 1214, 'enough': 1215, 're': 1216, 'warner': 1217, 'cable': 1218, 'paul': 1219, 'we': 1220, 'allawi': 1221, 'congo': 1222, 'moved': 1223, 'name': 1224, 'benefits': 1225, 'forced': 1226, 'hussein': 1227, 'met': 1228, 'mutual': 1229, 'session': 1230, 'christmas': 1231, 'drive': 1232, 'dropped': 1233, 'guard': 1234, 'popular': 1235, 'protection': 1236, 'residents': 1237, 'shopping': 1238, 'wanted': 1239, 'defence': 1240, 'hand': 1241, 'millions': 1242, 'nigerian': 1243, 'decades': 1244, 'game': 1245, 'kmart': 1246, 'parts': 1247, 'problems': 1248, 'reform': 1249, 'discuss': 1250, 'offered': 1251, 'turkish': 1252, 'backed': 1253, 'delay': 1254, 'emergency': 1255, 'green': 1256, 'remains': 1257, 'join': 1258, 'jones': 1259, 'personal': 1260, 'value': 1261, 'watchdog': 1262, 'assault': 1263, 'caused': 1264, 'light': 1265, 'philippines': 1266, '151': 1267, 'clashes': 1268, '\\\\$1': 1269, 'islamabad': 1270, 'networks': 1271, 'source': 1272, 'suspects': 1273, 'citigroup': 1274, 'deputy': 1275, 'evidence': 1276, 'want': 1277, 'cuba': 1278, 'dozens': 1279, 'lows': 1280, 'panel': 1281, 'raid': 1282, 'targets': 1283, 'auction': 1284, 'base': 1285, 'giving': 1286, 'turn': 1287, 'water': 1288, 'brussels': 1289, 'continues': 1290, 'development': 1291, 'falling': 1292, 'result': 1293, 'venezuela': 1294, 'withdrawal': 1295, 'explosives': 1296, 'given': 1297, 'refugee': 1298, 'remained': 1299, 'round': 1300, 'suit': 1301, 'access': 1302, 'along': 1303, 'create': 1304, 'history': 1305, 'crimes': 1306, 'decade': 1307, 'electronics': 1308, 'kept': 1309, 'kidnappers': 1310, 'regional': 1311, 'bomber': 1312, 'decided': 1313, 'each': 1314, 'ipo': 1315, 'nextel': 1316, 'resume': 1317, 'star': 1318, 'division': 1319, 'egyptian': 1320, 'flights': 1321, 'gm': 1322, 'sears': 1323, 'coup': 1324, 'criminal': 1325, 'going': 1326, 'officers': 1327, 'filing': 1328, 'list': 1329, 'member': 1330, 'pact': 1331, 'sex': 1332, 'turned': 1333, 'got': 1334, 'performance': 1335, 'terrorists': 1336, 'coming': 1337, 'film': 1338, 'grew': 1339, 'parties': 1340, 'special': 1341, 'sydney': 1342, 'treatment': 1343, 'boosted': 1344, 'illegal': 1345, 'johnson': 1346, 'labour': 1347, 'whose': 1348, 'lift': 1349, 'previous': 1350, 'provide': 1351, 'shrine': 1352, 'sought': 1353, 'stronger': 1354, 'calling': 1355, '22': 1356, 'convention': 1357, 'historic': 1358, 'stay': 1359, 'buys': 1360, 'getting': 1361, 'issued': 1362, 'digital': 1363, 'expand': 1364, 'governor': 1365, 'jobless': 1366, 'myanmar': 1367, 'rejects': 1368, 'bigley': 1369, 'candidates': 1370, 'co': 1371, 'pacific': 1372, 'pc': 1373, 'weather': 1374, 'bad': 1375, 'cingular': 1376, 'experts': 1377, 'pfizer': 1378, 'struck': 1379, 'venture': 1380, 'withdraw': 1381, 'agrees': 1382, 'cents': 1383, 'closer': 1384, 'damage': 1385, 'levels': 1386, 'makers': 1387, 'mission': 1388, 'questions': 1389, 'controversial': 1390, 'housing': 1391, 'mass': 1392, 'plot': 1393, 'rocket': 1394, 'bodies': 1395, 'break': 1396, 'cnn': 1397, 'colin': 1398, 'ending': 1399, 'majority': 1400, 'showing': 1401, '23': 1402, 'appeared': 1403, 'consider': 1404, 'earthquake': 1405, 'fields': 1406, 'file': 1407, 'seoul': 1408, 'shell': 1409, '40': 1410, 'ease': 1411, 'massive': 1412, 'mosque': 1413, 'potential': 1414, 'zarqawi': 1415, 'commercial': 1416, 'militia': 1417, 'though': 1418, 'hurricanes': 1419, 'lawyers': 1420, 'struggling': 1421, 'surged': 1422, 'alliance': 1423, 'athens': 1424, 'brought': 1425, 'cars': 1426, 'double': 1427, 'jewish': 1428, 'progress': 1429, 'restructuring': 1430, 'send': 1431, 'went': 1432, 'zealand': 1433, 'antitrust': 1434, 'bus': 1435, 'fees': 1436, 'independent': 1437, 'sen.': 1438, 'steps': 1439, 'jumped': 1440, 'slide': 1441, 'sony': 1442, 'strength': 1443, 'block': 1444, 'democrats': 1445, 'lebanon': 1446, 'rich': 1447, 'arrived': 1448, 'doctors': 1449, 'fifth': 1450, 'needs': 1451, 'planes': 1452, 'prosecutors': 1453, 'spitzer': 1454, 'talk': 1455, 'tough': 1456, 'areas': 1457, 'charles': 1458, 'daily': 1459, 'die': 1460, 'expansion': 1461, 'iranian': 1462, 'looks': 1463, 'ottawa': 1464, 'radical': 1465, 'arthritis': 1466, 'beat': 1467, 'cancer': 1468, 'chechen': 1469, 'soaring': 1470, 'strikes': 1471, 'summer': 1472, 'broker': 1473, 'corporation': 1474, 'foods': 1475, 'inquiry': 1476, 'planning': 1477, 'using': 1478, 'committee': 1479, 'bangladesh': 1480, 'check': 1481, 'lawmakers': 1482, 'moves': 1483, 'pervez': 1484, 'review': 1485, 'speed': 1486, 'update1': 1487, 'activities': 1488, 'allegations': 1489, 'chirac': 1490, 'ends': 1491, 'marines': 1492, 'period': 1493, 'siege': 1494, 'singh': 1495, 'voting': 1496, 'blow': 1497, 'declared': 1498, 'malaysia': 1499, 'parent': 1500, 'pro': 1501, 'voted': 1502, 'worst': 1503, 'young': 1504, 'relations': 1505, 'reportedly': 1506, 'rescue': 1507, 'spain': 1508, 'stand': 1509, '2006': 1510, 'let': 1511, 'published': 1512, 'sentenced': 1513, 'surprise': 1514, 'backs': 1515, 'holy': 1516, 'jailed': 1517, 'land': 1518, 'thai': 1519, 'vietnam': 1520, 'weaker': 1521, 'attacked': 1522, 'begins': 1523, 'civilians': 1524, 'coca': 1525, 'deals': 1526, 'gives': 1527, 'investor': 1528, 'named': 1529, 'nortel': 1530, 'suspect': 1531, 'then': 1532, 'wife': 1533, '26': 1534, 'corruption': 1535, 'diplomats': 1536, 'treasuries': 1537, 'hollinger': 1538, 'renewed': 1539, '27': 1540, 'great': 1541, 'mid': 1542, 'saw': 1543, '2003': 1544, 'advertising': 1545, 'alan': 1546, 'amp;t': 1547, 'monetary': 1548, 'product': 1549, 'purchase': 1550, 'abuse': 1551, 'activity': 1552, 'appeals': 1553, 'opens': 1554, 'facing': 1555, 'libya': 1556, 'nepal': 1557, 'spanish': 1558, 'supporters': 1559, 'tried': 1560, 'alitalia': 1561, 'authority': 1562, 'halliburton': 1563, 'kofi': 1564, 'lawyer': 1565, 'semiconductor': 1566, 'stage': 1567, 'total': 1568, 'ag': 1569, 'communist': 1570, 'corp': 1571, 'hike': 1572, 'improve': 1573, 'never': 1574, 'passenger': 1575, 'sets': 1576, 'sunni': 1577, 'chance': 1578, 'qaida': 1579, 'pct': 1580, 'taxes': 1581, 'view': 1582, 'beslan': 1583, 'cola': 1584, 'community': 1585, 'construction': 1586, 'e': 1587, 'increases': 1588, 'insurgent': 1589, 'interview': 1590, 'project': 1591, 'speculation': 1592, 'vehicle': 1593, 'worker': 1594, '!': 1595, '2001': 1596, 'act': 1597, 'arm': 1598, 'every': 1599, 'mining': 1600, 'request': 1601, 'direct': 1602, 'directors': 1603, 'disease': 1604, 'finally': 1605, 'injuring': 1606, 'june': 1607, 'morgan': 1608, 'strategy': 1609, 'cell': 1610, 'colombia': 1611, 'considering': 1612, 'crucial': 1613, 'david': 1614, 'fighters': 1615, 'jet': 1616, 'paid': 1617, 'worldwide': 1618, 'wto': 1619, 'arabia': 1620, 'association': 1621, 'eased': 1622, 'fda': 1623, 'floods': 1624, 'muslims': 1625, 'natural': 1626, 'pipeline': 1627, 'vehicles': 1628, '2000': 1629, 'aug.': 1630, 'leadership': 1631, 'mosul': 1632, 'delayed': 1633, 'eyes': 1634, 'recently': 1635, 'reforms': 1636, 'replace': 1637, 'cause': 1638, 'chile': 1639, 'irish': 1640, 'nationwide': 1641, 'son': 1642, 'starting': 1643, 'asks': 1644, 'elected': 1645, 'fast': 1646, 'inventories': 1647, 'mclennan': 1648, 'non': 1649, 'prize': 1650, 'seized': 1651, 'verizon': 1652, 'vienna': 1653, 'vowed': 1654, '\\\\$2': 1655, 'chavez': 1656, 'commerce': 1657, 'embattled': 1658, 'fear': 1659, 'headed': 1660, 'holds': 1661, 'protect': 1662, 'threats': 1663, '60': 1664, 'bought': 1665, 'houston': 1666, 'options': 1667, 'referendum': 1668, 'social': 1669, 'soft': 1670, '1,000': 1671, 'ali': 1672, 'bay': 1673, 'bird': 1674, 'manmohan': 1675, 'resolve': 1676, 'shift': 1677, 'vows': 1678, '29': 1679, 'challenge': 1680, 'denied': 1681, 'disappointing': 1682, 'equity': 1683, 'imf': 1684, 'preparing': 1685, 'response': 1686, 'road': 1687, 'sells': 1688, 'speech': 1689, 'calif.': 1690, 'commissioner': 1691, 'harmony': 1692, 'hassan': 1693, 'programs': 1694, 'question': 1695, 'republic': 1696, 'rumsfeld': 1697, 'itself': 1698, 'leaves': 1699, 'moving': 1700, 'pull': 1701, 'sea': 1702, 'setting': 1703, 'update2': 1704, 'accept': 1705, 'anniversary': 1706, 'believed': 1707, 'conditions': 1708, 'convicted': 1709, 'electric': 1710, 'extended': 1711, 'imports': 1712, 'investigating': 1713, 'jeanne': 1714, 'jury': 1715, 'winning': 1716, 'agencies': 1717, 'brokerage': 1718, 'brown': 1719, 'cheney': 1720, 'decide': 1721, 'device': 1722, 'district': 1723, 'dividend': 1724, 'edged': 1725, 'fla.': 1726, 'positive': 1727, 'property': 1728, 's': 1729, 'terms': 1730, 'walt': 1731, 'winds': 1732, 'allies': 1733, 'associates': 1734, 'carrying': 1735, 'closing': 1736, 'edge': 1737, 'factory': 1738, 'freeze': 1739, 'hotels': 1740, 'israelis': 1741, 'needed': 1742, 'pre': 1743, 'premier': 1744, 'protests': 1745, 'sentiment': 1746, '2002': 1747, '3q': 1748, 'changed': 1749, 'disaster': 1750, 'files': 1751, 'guinea': 1752, 'osama': 1753, 'passed': 1754, 'recall': 1755, 'robert': 1756, 'tests': 1757, 'thought': 1758, 'coal': 1759, 'driven': 1760, 'journalists': 1761, 'laws': 1762, 'oct': 1763, 'pulled': 1764, 'scheduled': 1765, 'shoppers': 1766, 'sun': 1767, 'awaited': 1768, 'hollywood': 1769, 'practices': 1770, 'cooperation': 1771, 'criticism': 1772, 'express': 1773, 'expressed': 1774, 'extend': 1775, 'greece': 1776, 'ousted': 1777, 'patients': 1778, 'prepared': 1779, 'steady': 1780, 'technologies': 1781, 'training': 1782, 'bankrupt': 1783, 'brands': 1784, 'card': 1785, 'child': 1786, 'declined': 1787, 'streets': 1788, 'track': 1789, 'berlin': 1790, 'convoy': 1791, 'headquarters': 1792, 'insurers': 1793, 'lay': 1794, 'partners': 1795, 'promised': 1796, 'separate': 1797, 'threatening': 1798, 'zimbabwe': 1799, 'although': 1800, 'atlantic': 1801, 'au': 1802, 'envoy': 1803, 'living': 1804, 'overnight': 1805, 'peacekeepers': 1806, 'petroleum': 1807, 'pushed': 1808, 'refugees': 1809, 'units': 1810, 'announces': 1811, 'associated': 1812, 'ata': 1813, 'denies': 1814, 'effect': 1815, 'nov': 1816, 'very': 1817, 'added': 1818, 'assembly': 1819, 'beginning': 1820, 'blockbuster': 1821, 'cities': 1822, 'climb': 1823, 'dangerous': 1824, 'eye': 1825, 'gap': 1826, 'girl': 1827, 'lives': 1828, 'suspended': 1829, 'unemployment': 1830, 'eisner': 1831, 'gasoline': 1832, 'helping': 1833, 'longer': 1834, 'offset': 1835, 'points': 1836, 'started': 1837, 'tight': 1838, 'trip': 1839, '28': 1840, 'climbed': 1841, 'movie': 1842, 'package': 1843, 'sri': 1844, 'class': 1845, 'grow': 1846, 'having': 1847, 'heads': 1848, 'nobel': 1849, 'pledged': 1850, 'telecommunications': 1851, 'threatens': 1852, 'analyst': 1853, 'details': 1854, 'donald': 1855, 'himself': 1856, 'jazeera': 1857, 'journal': 1858, 'losing': 1859, 'names': 1860, 'position': 1861, 'religious': 1862, 'rest': 1863, 'sbc': 1864, 'southeast': 1865, 'wo': 1866, 'bbc': 1867, 'comments': 1868, 'drops': 1869, 'front': 1870, 'goes': 1871, 'immediately': 1872, 'inc': 1873, 'kyoto': 1874, 'limited': 1875, 'managers': 1876, 'owner': 1877, 'passengers': 1878, 'retirement': 1879, 'returns': 1880, 'trust': 1881, 'warnings': 1882, 'documents': 1883, 'families': 1884, 'fate': 1885, 'measures': 1886, 'ok': 1887, 'owned': 1888, 'philippine': 1889, 'poised': 1890, 'secret': 1891, 'tentative': 1892, 'announcement': 1893, 'casino': 1894, 'helicopter': 1895, 'invasion': 1896, 'jan.': 1897, 'republicans': 1898, 'telecom': 1899, 'wave': 1900, 'collapse': 1901, 'dec.': 1902, 'developing': 1903, 'doubled': 1904, 'entertainment': 1905, 'explosions': 1906, 'forward': 1907, 'inside': 1908, 'manufacturer': 1909, 'margaret': 1910, 'membership': 1911, 'probably': 1912, 'thatcher': 1913, 'unless': 1914, 'allegedly': 1915, 'caribbean': 1916, 'contracts': 1917, 'frances': 1918, 'landmark': 1919, 'nato': 1920, 'our': 1921, 'provider': 1922, 'records': 1923, 'returned': 1924, 'separatist': 1925, 'serious': 1926, 'situation': 1927, 'snow': 1928, 'spent': 1929, 'benefit': 1930, 'bln': 1931, 'century': 1932, 'edwards': 1933, 'khartoum': 1934, 'marketing': 1935, 'sentence': 1936, 'shut': 1937, 'telephone': 1938, 'tobacco': 1939, 'greater': 1940, 'instead': 1941, 'slowdown': 1942, 'solid': 1943, 'space': 1944, 'university': 1945, 'widely': 1946, 'abbas': 1947, 'broke': 1948, 'cairo': 1949, 'commander': 1950, 'debut': 1951, 'detroit': 1952, 'develop': 1953, 'expect': 1954, 'guantanamo': 1955, 'struggle': 1956, 'truck': 1957, 'abbey': 1958, 'aide': 1959, 'charley': 1960, 'era': 1961, 'estate': 1962, 'greek': 1963, 'increasing': 1964, 'loan': 1965, 'quit': 1966, 'single': 1967, 'sirius': 1968, 'stronghold': 1969, 'students': 1970, 'territory': 1971, 'alert': 1972, 'approves': 1973, 'comes': 1974, 'critical': 1975, 'democrat': 1976, 'hearing': 1977, 'loans': 1978, 'martin': 1979, 'account': 1980, 'ad': 1981, 'brand': 1982, 'clothing': 1983, 'cold': 1984, 'dies': 1985, 'entered': 1986, 'exporters': 1987, 'finds': 1988, 'jets': 1989, 'lifted': 1990, 'lowest': 1991, 'politics': 1992, 'pullout': 1993, 'shareholder': 1994, 'chechnya': 1995, 'cross': 1996, 'detained': 1997, 'games': 1998, 'grand': 1999, 'hoping': 2000, 'important': 2001, 'jean': 2002, 'port': 2003, 'tropical': 2004, 'bond': 2005, 'hands': 2006, 'protesters': 2007, 'reaching': 2008, 'revealed': 2009, 'allowed': 2010, 'climate': 2011, 'delays': 2012, 'euros': 2013, 'improved': 2014, 'james': 2015, 'payments': 2016, 'play': 2017, 'reserves': 2018, 'slip': 2019, 'traffic': 2020, 'backing': 2021, 'bloody': 2022, 'feared': 2023, 'financing': 2024, 'resigned': 2025, '500': 2026, 'approve': 2027, 'message': 2028, 'milosevic': 2029, 'murdoch': 2030, 'northeast': 2031, 'offices': 2032, 'rare': 2033, 'significant': 2034, '\\\\$3': 2035, 'church': 2036, 'condition': 2037, 'continuing': 2038, 'failure': 2039, 'fierce': 2040, 'hot': 2041, 'image': 2042, 'person': 2043, 'secure': 2044, 'story': 2045, 'swiss': 2046, 'apparently': 2047, 'appears': 2048, 'bringing': 2049, 'brother': 2050, 'consecutive': 2051, 'deadliest': 2052, 'dozen': 2053, 'navy': 2054, 'pentagon': 2055, 'remote': 2056, 'stern': 2057, 'tsunami': 2058, 'vaccine': 2059, 'abducted': 2060, 'ambassador': 2061, 'blamed': 2062, 'education': 2063, 'insurer': 2064, 'insurgency': 2065, 'matter': 2066, 'refused': 2067, 'smaller': 2068, 'standard': 2069, 'starts': 2070, 'unlikely': 2071, 'applications': 2072, 'blood': 2073, 'keeping': 2074, 'mln': 2075, 'numbers': 2076, 'producers': 2077, 'prospects': 2078, 'reduced': 2079, 'slipped': 2080, 'success': 2081, 'successor': 2082, 'survivors': 2083, 'toys': 2084, 'wine': 2085, 'ally': 2086, 'broadcast': 2087, 'course': 2088, 'disputed': 2089, 'equatorial': 2090, 'include': 2091, 'jacques': 2092, 'live': 2093, 'ohio': 2094, 'optimism': 2095, 'paper': 2096, 'powers': 2097, 'rain': 2098, 'scientists': 2099, 'sites': 2100, 'towards': 2101, 'windows': 2102, '200': 2103, 'bonds': 2104, 'complete': 2105, 'dismissed': 2106, 'genocide': 2107, 'meets': 2108, 'northwest': 2109, 'pinochet': 2110, 'sluggish': 2111, 'tells': 2112, 'violent': 2113, 'wake': 2114, '31': 2115, '35': 2116, 'advanced': 2117, 'cos': 2118, 'depot': 2119, 'export': 2120, 'extra': 2121, 'ii': 2122, 'internal': 2123, 'involved': 2124, 'lowered': 2125, 'mail': 2126, 'pharmaceutical': 2127, 'reporting': 2128, 'subsidiary': 2129, 'upbeat': 2130, 'wage': 2131, '\\\\$10': 2132, 'alive': 2133, 'apparent': 2134, 'breaking': 2135, 'civilian': 2136, 'crashed': 2137, 'electronic': 2138, 'resources': 2139, 'suggested': 2140, 'aviation': 2141, 'berlusconi': 2142, 'briton': 2143, 'date': 2144, 'designed': 2145, 'familiar': 2146, 'foreigners': 2147, 'giants': 2148, 'investments': 2149, 'massachusetts': 2150, 'miners': 2151, 'programme': 2152, 'settles': 2153, 'southwest': 2154, 'subsidies': 2155, 'able': 2156, 'demanding': 2157, 'dip': 2158, 'diplomatic': 2159, 'discount': 2160, 'don': 2161, 'economists': 2162, 'finding': 2163, 'form': 2164, 'heading': 2165, 'hour': 2166, 'jack': 2167, 'lanka': 2168, 'lebanese': 2169, 'mortar': 2170, 'peru': 2171, 'pleaded': 2172, 'policies': 2173, 'poverty': 2174, 'rock': 2175, 'torn': 2176, 'version': 2177, 'argentina': 2178, 'atlanta': 2179, 'field': 2180, 'gop': 2181, 'governments': 2182, 'investigators': 2183, 'journalist': 2184, 'madrid': 2185, 'movement': 2186, 'previously': 2187, 'prosecutor': 2188, 'puts': 2189, 'quake': 2190, 'sept': 2191, 'slowed': 2192, 'visits': 2193, 'wide': 2194, 'aides': 2195, 'ailing': 2196, 'invest': 2197, 'kenneth': 2198, 'legislation': 2199, 'luxury': 2200, 'prevent': 2201, 'qantas': 2202, 'rome': 2203, 'samarra': 2204, 'side': 2205, 'sides': 2206, 'suspend': 2207, 'ten': 2208, 'toyota': 2209, 'trapped': 2210, 'why': 2211, 'beheaded': 2212, 'citizens': 2213, 'draft': 2214, 'dubai': 2215, 'el': 2216, 'eliot': 2217, 'employee': 2218, 'engine': 2219, 'faced': 2220, 'father': 2221, 'harry': 2222, 'hunt': 2223, 'industries': 2224, 'interior': 2225, 'jordan': 2226, 'n.': 2227, 'negotiators': 2228, 'olympic': 2229, 'positions': 2230, 'regime': 2231, 'risks': 2232, 'tens': 2233, 'afternoon': 2234, 'aims': 2235, 'boss': 2236, 'capacity': 2237, 'clash': 2238, 'devices': 2239, 'largely': 2240, 'launches': 2241, 'pounds': 2242, 'preliminary': 2243, 'regulator': 2244, 'thanks': 2245, 'asset': 2246, 'ballots': 2247, 'calm': 2248, 'certain': 2249, 'confirms': 2250, 'customer': 2251, 'deutsche': 2252, 'driver': 2253, 'forbes.com': 2254, 'hugo': 2255, 'miles': 2256, 'ovitz': 2257, 'partnership': 2258, 'scale': 2259, 'shooting': 2260, 'tape': 2261, 'trump': 2262, 'unexpectedly': 2263, 'vodafone': 2264, 'accounts': 2265, 'additional': 2266, 'anwar': 2267, 'arrests': 2268, 'aziz': 2269, 'bids': 2270, 'boycott': 2271, 'closely': 2272, 'daimlerchrysler': 2273, 'de': 2274, 'employment': 2275, 'enter': 2276, 'ghraib': 2277, 'netherlands': 2278, 'ongoing': 2279, 'resignation': 2280, 'spend': 2281, 'apple': 2282, 'ca': 2283, 'cease': 2284, 'club': 2285, 'gay': 2286, 'guidant': 2287, 'increasingly': 2288, 'independence': 2289, 'know': 2290, 'larger': 2291, 'lose': 2292, 'mayor': 2293, 'montreal': 2294, 'plea': 2295, 'ramallah': 2296, 'relatives': 2297, 'revenues': 2298, 'rwanda': 2299, 'sa': 2300, 'strategic': 2301, 'sweeping': 2302, 'wrong': 2303, 'automaker': 2304, 'challenges': 2305, 'compensation': 2306, 'county': 2307, 'defeat': 2308, 'heavily': 2309, 'humanitarian': 2310, 'mostly': 2311, 'organisation': 2312, 'overseas': 2313, 'pleads': 2314, 'raids': 2315, 'slowing': 2316, 'traditional': 2317, 'tries': 2318, 'watched': 2319, 'ads': 2320, 'ask': 2321, 'attendants': 2322, 'became': 2323, 'becoming': 2324, 'concessions': 2325, 'demanded': 2326, 'doubt': 2327, 'expanded': 2328, 'involving': 2329, 'lawsuits': 2330, 'mcdonald': 2331, 'phones': 2332, 'picture': 2333, 'predicted': 2334, 'problem': 2335, 'rebound': 2336, 'rocked': 2337, 'storms': 2338, 'syrian': 2339, 'trials': 2340, 'van': 2341, 'visa': 2342, 'vs': 2343, 'address': 2344, 'appointed': 2345, 'breaks': 2346, 'cambodia': 2347, 'chapter': 2348, 'clinton': 2349, 'common': 2350, 'crime': 2351, 'failing': 2352, 'fine': 2353, 'gained': 2354, 'link': 2355, 'prepare': 2356, 'rallied': 2357, 'resigns': 2358, 'responsibility': 2359, 'richard': 2360, 'safe': 2361, 'settlements': 2362, 'sharing': 2363, 'stepped': 2364, 'straw': 2365, 'sued': 2366, 'supplier': 2367, 'turns': 2368, 'wider': 2369, '80': 2370, '\\\\$500': 2371, 'add': 2372, 'aside': 2373, 'bills': 2374, 'captors': 2375, 'cases': 2376, 'channel': 2377, 'controlled': 2378, 'ethnic': 2379, 'exit': 2380, 'fails': 2381, 'formally': 2382, 'iaea': 2383, 'leads': 2384, 'machines': 2385, 'massacre': 2386, 'pitcairn': 2387, 'pushing': 2388, 'pyongyang': 2389, 'st.': 2390, 'turning': 2391, 'advance': 2392, 'agenda': 2393, 'ballot': 2394, 'criticized': 2395, 'factories': 2396, 'fair': 2397, 'manager': 2398, 'room': 2399, 'weigh': 2400, 'winner': 2401, 'defends': 2402, 'hiring': 2403, 'mr': 2404, 'newly': 2405, 'pope': 2406, 'serving': 2407, 'tribunal': 2408, 'adding': 2409, 'am': 2410, 'critics': 2411, 'founder': 2412, 'islands': 2413, 'keeps': 2414, 'kodak': 2415, 'league': 2416, 'musab': 2417, 'nears': 2418, 'newratings.com': 2419, 'promises': 2420, 'salvation': 2421, 'settlers': 2422, 'standoff': 2423, 'unrest': 2424, 'warplanes': 2425, 'accord': 2426, 'affairs': 2427, 'aug': 2428, 'believe': 2429, 'captured': 2430, 'cautious': 2431, 'chemical': 2432, 'conservative': 2433, 'described': 2434, 'easing': 2435, 'emerged': 2436, 'fires': 2437, 'hedge': 2438, 'looked': 2439, 'marks': 2440, 'materials': 2441, 'merge': 2442, 'optimistic': 2443, 'parliamentary': 2444, 'split': 2445, 'stalled': 2446, '300': 2447, 'boosts': 2448, 'destruction': 2449, 'electoral': 2450, 'figure': 2451, 'formal': 2452, 'kremlin': 2453, 'my': 2454, 'politicians': 2455, 'ravaged': 2456, 'schools': 2457, 'submarine': 2458, 'think': 2459, 'transport': 2460, 'troop': 2461, 'volkswagen': 2462, 'wholesale': 2463, 'april': 2464, 'aristide': 2465, 'battered': 2466, 'ceremony': 2467, 'dealers': 2468, 'expanding': 2469, 'filmmaker': 2470, 'fox': 2471, 'freedom': 2472, 'hague': 2473, 'plants': 2474, 'protocol': 2475, 'robust': 2476, 'stem': 2477, 'together': 2478, 'worried': 2479, 'announce': 2480, 'attention': 2481, 'beyond': 2482, 'cast': 2483, 'centre': 2484, 'count': 2485, 'curb': 2486, 'deep': 2487, 'doing': 2488, 'ensure': 2489, 'estimated': 2490, 'guerrillas': 2491, 'immediate': 2492, 'impose': 2493, 'imposed': 2494, 'kenya': 2495, 'merrill': 2496, 'nuke': 2497, 'partner': 2498, 'paying': 2499, 'pledges': 2500, 'proposals': 2501, 'rating': 2502, 'resistance': 2503, 'seat': 2504, 'senator': 2505, 'standards': 2506, 'weighed': 2507, 'welcomed': 2508, 'witness': 2509, 'woes': 2510, 'arrives': 2511, 'assassination': 2512, 'blew': 2513, 'broad': 2514, 'brothers': 2515, 'buyout': 2516, 'cards': 2517, 'conrad': 2518, 'core': 2519, 'diplomat': 2520, 'doubts': 2521, 'faster': 2522, 'flood': 2523, 'gdp': 2524, 'grenade': 2525, 'hikes': 2526, 'putting': 2527, 'self': 2528, 'serve': 2529, 'tensions': 2530, 'thanksgiving': 2531, 'word': 2532, 'yudhoyono': 2533, '3,000': 2534, 'busy': 2535, 'capable': 2536, 'cbs': 2537, 'congressional': 2538, 'cover': 2539, 'detainees': 2540, 'generation': 2541, 'handed': 2542, 'kuwait': 2543, 'links': 2544, 'marine': 2545, 'opponents': 2546, 'parmalat': 2547, 'status': 2548, 'uprising': 2549, 'waiting': 2550, '3rd': 2551, 'boom': 2552, 'boosting': 2553, 'chancellor': 2554, 'dialogue': 2555, 'freddie': 2556, 'grows': 2557, 'mac': 2558, 'prisoner': 2559, 'ticket': 2560, 'traded': 2561, 'upcoming': 2562, 'village': 2563, 'workforce': 2564, 'accusing': 2565, 'activists': 2566, 'age': 2567, 'barrels': 2568, 'carried': 2569, 'claiming': 2570, 'combat': 2571, 'considered': 2572, 'dell': 2573, 'embargo': 2574, 'j': 2575, 'lifts': 2576, 'pledge': 2577, 'polish': 2578, 'quickly': 2579, 'slips': 2580, 'slower': 2581, 'suffered': 2582, 'unveiled': 2583, 'venezuelan': 2584, 'website': 2585, 'words': 2586, 'book': 2587, 'bridge': 2588, 'carriers': 2589, 'cleared': 2590, 'committed': 2591, 'employers': 2592, 'female': 2593, 'missiles': 2594, 'ratings': 2595, 'savings': 2596, 'stations': 2597, 'surging': 2598, 'threaten': 2599, 'write': 2600, 'born': 2601, 'damascus': 2602, 'jumps': 2603, 'lack': 2604, 'n.korea': 2605, 'overhaul': 2606, 'presence': 2607, 'rather': 2608, 'representatives': 2609, 'rescuers': 2610, 'santander': 2611, 't': 2612, 'tomorrow': 2613, 'unchanged': 2614, 'weekly': 2615, 'accident': 2616, 'amsterdam': 2617, 'anger': 2618, 'appear': 2619, 'asylum': 2620, 'begun': 2621, 'bitter': 2622, 'bloc': 2623, 'boy': 2624, 'chen': 2625, 'connection': 2626, 'dallas': 2627, 'done': 2628, 'flying': 2629, 'insisted': 2630, 'oks': 2631, 'park': 2632, 'prompting': 2633, 'reject': 2634, 'retire': 2635, 'st': 2636, 'volatile': 2637, 'volume': 2638, 'abuja': 2639, 'acquired': 2640, 'approach': 2641, 'challenger': 2642, 'cisco': 2643, 'created': 2644, 'creating': 2645, 'custody': 2646, 'destroyed': 2647, 'dick': 2648, 'difficult': 2649, 'gathered': 2650, 'magazine': 2651, 'minority': 2652, 'peter': 2653, 'presidency': 2654, 'quoted': 2655, 'rental': 2656, 'restore': 2657, 'strengthen': 2658, 'tour': 2659, 'toy': 2660, 'triggered': 2661, 'trucks': 2662, 'views': 2663, '400': 2664, 'activist': 2665, 'asean': 2666, 'buildings': 2667, 'circuit': 2668, 'divided': 2669, 'hear': 2670, 'improving': 2671, 'motorola': 2672, 'newspapers': 2673, 'palace': 2674, 'pensions': 2675, 'reaches': 2676, 'receive': 2677, 'reporters': 2678, 'slain': 2679, 'tanks': 2680, '\\\\$55': 2681, 'admitted': 2682, 'beef': 2683, 'eta': 2684, 'fewer': 2685, 'govt': 2686, 'hu': 2687, 'influence': 2688, 'islamist': 2689, 'iyad': 2690, 'letter': 2691, 'limit': 2692, 'miss': 2693, 'philadelphia': 2694, 'policemen': 2695, 'possibility': 2696, 'quot;the': 2697, 'resort': 2698, 'scores': 2699, 'shipments': 2700, 'soared': 2701, 'spot': 2702, 'sues': 2703, 'textile': 2704, '\\\\$100': 2705, 'bigger': 2706, 'checks': 2707, 'haitian': 2708, 'houses': 2709, 'mideast': 2710, 'modest': 2711, 'pain': 2712, 'pushes': 2713, 'regulatory': 2714, 'similar': 2715, 'style': 2716, 'surgery': 2717, 'ups': 2718, '2nd': 2719, '45': 2720, 'beating': 2721, 'billions': 2722, 'built': 2723, 'counting': 2724, 'crackdown': 2725, 'ebay': 2726, 'editor': 2727, 'host': 2728, 'ill': 2729, 'joined': 2730, 'kreme': 2731, 'marriage': 2732, 'novell': 2733, 'occupied': 2734, 'producing': 2735, 'responsible': 2736, 'tell': 2737, 'themselves': 2738, 'trouble': 2739, 'abroad': 2740, 'agents': 2741, 'ba': 2742, 'different': 2743, 'facility': 2744, 'kathmandu': 2745, 'ltd': 2746, 'n': 2747, 'players': 2748, 'sixth': 2749, 'sparked': 2750, 'utility': 2751, 'visiting': 2752, 'willing': 2753, '10,000': 2754, '49': 2755, 'angry': 2756, 'bombardier': 2757, 'casualties': 2758, 'causing': 2759, 'chaos': 2760, 'comcast': 2761, 'eve': 2762, 'fought': 2763, 'husband': 2764, 'islam': 2765, 'measure': 2766, 'possibly': 2767, 'pound': 2768, 'rockets': 2769, 'stability': 2770, 'successful': 2771, 'u.s': 2772, 'viacom': 2773, 'ways': 2774, 'weakness': 2775, 'works': 2776, '600': 2777, 'accuses': 2778, 'afghans': 2779, 'aids': 2780, 'analysis': 2781, 'anticipated': 2782, 'beach': 2783, 'buyers': 2784, 'computers': 2785, 'constitution': 2786, 'cool': 2787, 'economies': 2788, 'gates': 2789, 'gun': 2790, 'includes': 2791, 'krispy': 2792, 'lenovo': 2793, 'manufacturers': 2794, 'mitsubishi': 2795, 'monthly': 2796, 'picked': 2797, 'plunged': 2798, 'reading': 2799, 'rigging': 2800, 'rwandan': 2801, 'shock': 2802, 'stormed': 2803, 'tourists': 2804, 'update3': 2805, 'bhp': 2806, 'blockade': 2807, 'bombers': 2808, 'creation': 2809, 'cuban': 2810, 'durable': 2811, 'eliminate': 2812, 'idea': 2813, 'jose': 2814, 'marked': 2815, 'mean': 2816, 'means': 2817, 'meetings': 2818, 'muqtada': 2819, 'nothing': 2820, 'opportunity': 2821, 'path': 2822, 'population': 2823, 'prepares': 2824, 'retreat': 2825, 'ripped': 2826, 'shaukat': 2827, 'shortage': 2828, 'struggles': 2829, 'sworn': 2830, 'tops': 2831, 'urging': 2832, 'widespread': 2833, 'automotive': 2834, 'celebrex': 2835, 'competitive': 2836, 'deliver': 2837, 'dreamworks': 2838, 'effective': 2839, 'farmers': 2840, 'fled': 2841, 'focused': 2842, 'football': 2843, 'goldman': 2844, 'hoped': 2845, 'involvement': 2846, 'ira': 2847, 'judges': 2848, 'latin': 2849, 'loses': 2850, 'mbeki': 2851, 'moqtada': 2852, 'motion': 2853, 'priority': 2854, 'probes': 2855, 'questioned': 2856, 'r': 2857, 'reduction': 2858, 'slash': 2859, 'spy': 2860, 'stanley': 2861, 'suffering': 2862, 'susilo': 2863, 'u.s.-led': 2864, 'abuses': 2865, 'allowing': 2866, 'appealed': 2867, 'bankers': 2868, 'box': 2869, 'clean': 2870, 'disarm': 2871, 'expenses': 2872, 'fly': 2873, 'jamaica': 2874, 'maoist': 2875, 'mexican': 2876, 'often': 2877, 'overtime': 2878, 'remaining': 2879, 'remove': 2880, 'representing': 2881, 'revised': 2882, \"shi'ite\": 2883, 'slid': 2884, 'solution': 2885, 'stable': 2886, 'succeed': 2887, 'targeting': 2888, 'treaty': 2889, 'users': 2890, 'wait': 2891, 'affect': 2892, 'bidding': 2893, 'carry': 2894, 'cartel': 2895, 'clearing': 2896, 'confident': 2897, 'declines': 2898, 'delegation': 2899, 'driving': 2900, 'event': 2901, 'fail': 2902, 'heard': 2903, 'hopeful': 2904, 'hunting': 2905, 'investigate': 2906, 'joining': 2907, 'kidnapping': 2908, 'landing': 2909, 'legislative': 2910, 'mgm': 2911, 'negative': 2912, 'prompted': 2913, 'rupert': 2914, 'seriously': 2915, 'shake': 2916, 'virginia': 2917, 'alcoa': 2918, 'ankara': 2919, 'battles': 2920, 'beer': 2921, 'catholic': 2922, 'commitment': 2923, 'compared': 2924, 'concerned': 2925, 'crowded': 2926, 'detonated': 2927, 'entire': 2928, 'estimate': 2929, 'fueled': 2930, 'gazprom': 2931, 'gunfire': 2932, 'interests': 2933, 'ken': 2934, 'koizumi': 2935, 'lynch': 2936, 'momentum': 2937, 'multi': 2938, 'outsourcing': 2939, 'pounded': 2940, 'prominent': 2941, 'quick': 2942, 'seattle': 2943, 'soars': 2944, 'these': 2945, 'unprecedented': 2946, 'viktor': 2947, 'announcing': 2948, 'bombed': 2949, 'castro': 2950, 'choice': 2951, 'exporter': 2952, 'extending': 2953, 'g': 2954, 'hunger': 2955, 'lukoil': 2956, 'marking': 2957, 'memory': 2958, 'moderate': 2959, 'museum': 2960, 'norway': 2961, 'overall': 2962, 'q3': 2963, 'qwest': 2964, 'sinai': 2965, 'spring': 2966, 'struggled': 2967, 'telstra': 2968, 'transportation': 2969, 'ual': 2970, 'ukrainian': 2971, 'warn': 2972, 'writer': 2973, 'books': 2974, 'burma': 2975, 'chase': 2976, 'completed': 2977, 'compound': 2978, 'dawn': 2979, 'detention': 2980, 'disruptions': 2981, 'evening': 2982, 'improper': 2983, 'jaguar': 2984, 'landslides': 2985, 'malaysian': 2986, 'monitor': 2987, 'pick': 2988, 'publisher': 2989, 'revive': 2990, 'slump': 2991, 'sox': 2992, 'sue': 2993, 'tel': 2994, 'temporary': 2995, 'throughout': 2996, 'urge': 2997, 'virgin': 2998, 'voice': 2999, 'waters': 3000, 'wounds': 3001, 'amount': 3002, 'animation': 3003, 'aol': 3004, 'audit': 3005, 'bambang': 3006, 'billionaire': 3007, 'blame': 3008, 'coke': 3009, 'counter': 3010, 'description': 3011, 'drove': 3012, 'electricity': 3013, 'fischer': 3014, 'flash': 3015, 'forcing': 3016, 'friends': 3017, 'gone': 3018, 'identified': 3019, 'indicated': 3020, 'launching': 3021, 'minutes': 3022, 'mother': 3023, 'nairobi': 3024, 'owners': 3025, 'permanent': 3026, 'pharmaceuticals': 3027, 'player': 3028, 'quits': 3029, 'settled': 3030, 'shown': 3031, 'tribal': 3032, 'unexpected': 3033, 'wind': 3034, 'accepted': 3035, 'astrazeneca': 3036, 'beheading': 3037, 'bit': 3038, 'bloomberg': 3039, 'cia': 3040, 'controls': 3041, 'delivered': 3042, 'engineer': 3043, 'georgia': 3044, 'limits': 3045, 'reliance': 3046, 'schwab': 3047, 'seems': 3048, 'square': 3049, 'suisse': 3050, 'vivendi': 3051, '\\\\$5': 3052, 'advantage': 3053, 'attend': 3054, 'brief': 3055, 'complex': 3056, 'conspiracy': 3057, 'contractor': 3058, 'crew': 3059, 'dec': 3060, 'elect': 3061, 'entry': 3062, 'erupted': 3063, 'funding': 3064, 'funeral': 3065, 'generic': 3066, 'helicopters': 3067, 'improvement': 3068, 'lying': 3069, 'me': 3070, 'northeastern': 3071, 'pass': 3072, 'played': 3073, 'plotting': 3074, 'prescription': 3075, 'recover': 3076, 'romania': 3077, 'scene': 3078, 'scientific': 3079, 'spokeswoman': 3080, 'string': 3081, 'sure': 3082, 'things': 3083, 'twin': 3084, 'wing': 3085, '700': 3086, '78': 3087, '9/11': 3088, 'available': 3089, 'aviv': 3090, 'camps': 3091, 'ceasefire': 3092, 'closes': 3093, 'consortium': 3094, 'devastating': 3095, 'dominated': 3096, 'events': 3097, 'flooding': 3098, 'follow': 3099, 'ibrahim': 3100, 'nz': 3101, 'pair': 3102, 'peaceful': 3103, 'peacekeeping': 3104, 'potentially': 3105, 'promise': 3106, 'rail': 3107, 'resign': 3108, 'resorts': 3109, 'shook': 3110, 'studio': 3111, 'thin': 3112, 'unveils': 3113, 'vast': 3114, '10-year': 3115, '2,000': 3116, '70': 3117, '800': 3118, 'arrive': 3119, 'banker': 3120, 'beleaguered': 3121, 'brokers': 3122, 'buyback': 3123, 'cendant': 3124, 'defended': 3125, 'developer': 3126, 'eases': 3127, 'eurozone': 3128, 'expands': 3129, 'fans': 3130, 'helps': 3131, 'lt;p&gt;&lt;/p&gt;&lt;p&gt': 3132, 'model': 3133, 'parents': 3134, 'quattrone': 3135, 'quotas': 3136, 'rebounded': 3137, 'silvio': 3138, 'usatoday.com': 3139, '150': 3140, '36': 3141, '48': 3142, 'aim': 3143, 'ambitions': 3144, 'bali': 3145, 'career': 3146, 'caution': 3147, 'condemned': 3148, 'crashes': 3149, 'creditors': 3150, 'deficits': 3151, 'dramatic': 3152, 'expert': 3153, 'extends': 3154, 'february': 3155, 'indicted': 3156, 'latham': 3157, 'mahmoud': 3158, 'projects': 3159, 'provided': 3160, 'shipping': 3161, 'size': 3162, 'suggesting': 3163, 'suspicion': 3164, 'tom': 3165, 'uncertainty': 3166, 'victim': 3167, 'worry': 3168, 'aerospace': 3169, 'asbestos': 3170, 'automakers': 3171, 'believes': 3172, 'buried': 3173, 'chart': 3174, 'counted': 3175, 'damages': 3176, 'distribution': 3177, 'eads': 3178, 'existing': 3179, 'facilities': 3180, 'fastest': 3181, 'fedex': 3182, 'fleet': 3183, 'flow': 3184, 'ge': 3185, 'inventory': 3186, 'kiev': 3187, 'match': 3188, 'produce': 3189, 'prove': 3190, 'ran': 3191, 'reason': 3192, 'roebuck': 3193, 'sends': 3194, 'setback': 3195, 'sheikh': 3196, 'slashed': 3197, 'soviet': 3198, 'stopped': 3199, 'subscribers': 3200, 'unity': 3201, 'yushchenko': 3202, '75': 3203, 'agreements': 3204, 'attempts': 3205, 'capture': 3206, 'colombian': 3207, 'conglomerate': 3208, 'cow': 3209, 'craig': 3210, 'doesn': 3211, 'draw': 3212, 'emerge': 3213, 'environment': 3214, 'escape': 3215, 'flee': 3216, 'heat': 3217, 'hewlett': 3218, 'hitting': 3219, 'lee': 3220, 'material': 3221, 'mills': 3222, 'negotiate': 3223, 'observers': 3224, 'ontario': 3225, 'option': 3226, 'payment': 3227, 'plead': 3228, 'poland': 3229, 'pressed': 3230, 'queen': 3231, 'ranks': 3232, 'sky': 3233, 'slows': 3234, 'spike': 3235, 'spread': 3236, 'supermarket': 3237, 'tap': 3238, 'universal': 3239, 'violations': 3240, 'weighs': 3241, 'williams': 3242, '0.1': 3243, '2007': 3244, 'ability': 3245, 'adds': 3246, 'bertrand': 3247, 'cloud': 3248, 'continental': 3249, 'devastated': 3250, 'differences': 3251, 'direction': 3252, 'famous': 3253, 'favor': 3254, 'fort': 3255, 'gov.': 3256, 'granted': 3257, 'guerrilla': 3258, 'guidance': 3259, 'incumbent': 3260, 'isn': 3261, 'jackson': 3262, 'kenyan': 3263, 'loyal': 3264, 'mad': 3265, 'militiamen': 3266, 'multiple': 3267, 'nokia': 3268, 'packard': 3269, 'resumed': 3270, 's.': 3271, 'treat': 3272, 'turmoil': 3273, 'twice': 3274, 'yahoo': 3275, 'yankees': 3276, 'apart': 3277, 'ayad': 3278, 'baby': 3279, 'circulation': 3280, 'clinical': 3281, 'damaged': 3282, 'execs': 3283, 'extension': 3284, 'extradition': 3285, 'fcc': 3286, 'frank': 3287, 'guns': 3288, 'hired': 3289, 'lehman': 3290, 'nike': 3291, 'ny': 3292, 'outcome': 3293, 'p': 3294, 'pak': 3295, 'patent': 3296, 'resolving': 3297, 'riot': 3298, 'river': 3299, 'schroeder': 3300, 'sports': 3301, 'subject': 3302, 'swap': 3303, 'talking': 3304, 'tamil': 3305, 'tiny': 3306, 'trail': 3307, 'trees': 3308, 'tribune': 3309, 'welcome': 3310, 'william': 3311, 'withdrew': 3312, 'abdullah': 3313, 'adopted': 3314, 'basque': 3315, 'checkpoint': 3316, 'colgate': 3317, 'collapsed': 3318, 'compete': 3319, 'complaint': 3320, 'dhaka': 3321, 'effects': 3322, 'expensive': 3323, 'firing': 3324, 'megawati': 3325, 'metal': 3326, 'nepalese': 3327, 'olympics': 3328, 'places': 3329, 'properties': 3330, 'pursue': 3331, 'ranging': 3332, 'researchers': 3333, 'serb': 3334, 'slight': 3335, 'trend': 3336, '1st': 3337, 'admits': 3338, 'amazon': 3339, 'answer': 3340, 'bangkok': 3341, 'bases': 3342, 'benchmark': 3343, 'bt': 3344, 'businessman': 3345, 'choose': 3346, 'college': 3347, 'com': 3348, 'concluded': 3349, 'conviction': 3350, 'delegates': 3351, 'drinks': 3352, 'dropping': 3353, 'emerging': 3354, 'emissions': 3355, 'guards': 3356, 'kraft': 3357, 'landslide': 3358, 'melbourne': 3359, 'negotiating': 3360, 'occupation': 3361, 'placed': 3362, 'posting': 3363, 'singer': 3364, 'soar': 3365, 'speaking': 3366, 'standing': 3367, 'truce': 3368, 'videotape': 3369, 'whole': 3370, '30-year': 3371, '33': 3372, '\\\\$53': 3373, 'beats': 3374, 'crown': 3375, 'exec': 3376, 'fallen': 3377, 'gaining': 3378, 'jp': 3379, 'laid': 3380, 'lot': 3381, 'mci': 3382, 'mylan': 3383, 'onto': 3384, 'patrol': 3385, 'pays': 3386, 'pilot': 3387, 'plus': 3388, 'politician': 3389, 'publicly': 3390, 'ranking': 3391, 'shanghai': 3392, 'stance': 3393, 'statements': 3394, 'survived': 3395, 'suu': 3396, 'task': 3397, 'tonight': 3398, 'towns': 3399, 'unilever': 3400, 'walk': 3401, 'warming': 3402, '90': 3403, 'abidjan': 3404, 'aboard': 3405, 'art': 3406, 'asking': 3407, 'blunkett': 3408, 'bolster': 3409, 'bound': 3410, 'briefly': 3411, 'competitors': 3412, 'controversy': 3413, 'counterpart': 3414, 'cyprus': 3415, 'determine': 3416, 'discovered': 3417, 'dream': 3418, 'geneva': 3419, 'institute': 3420, 'jintao': 3421, 'likud': 3422, 'mortgages': 3423, 'officially': 3424, 'packed': 3425, 'percentage': 3426, 'princess': 3427, 'roads': 3428, 'seventh': 3429, 'shop': 3430, 'targeted': 3431, 'title': 3432, 'versus': 3433, 'adviser': 3434, 'aggressive': 3435, 'amp;p': 3436, 'banned': 3437, 'baseball': 3438, 'bosnian': 3439, 'broadband': 3440, 'caracas': 3441, 'caught': 3442, 'chilean': 3443, 'conocophillips': 3444, 'cricket': 3445, 'environmental': 3446, 'finish': 3447, 'fix': 3448, 'gordon': 3449, 'hill': 3450, 'infrastructure': 3451, 'kingdom': 3452, 'kyi': 3453, 'manila': 3454, 'minute': 3455, 'on\\\\thursday': 3456, 'patch': 3457, 'releases': 3458, 'roadside': 3459, 'separatists': 3460, 'signal': 3461, 'signals': 3462, 'slobodan': 3463, 'slum': 3464, 'stakes': 3465, 'statistics': 3466, 'striking': 3467, 'suspension': 3468, 'tackle': 3469, 'teams': 3470, 'telling': 3471, 'tumble': 3472, 'tumbled': 3473, 'veteran': 3474, 'villagers': 3475, 'virus': 3476, '34': 3477, '41': 3478, '55': 3479, '7,000': 3480, '\\\\$4': 3481, 'alleging': 3482, 'australians': 3483, 'austria': 3484, 'barely': 3485, 'barghouti': 3486, 'brazilian': 3487, 'casinos': 3488, 'chances': 3489, 'chiefs': 3490, 'clears': 3491, 'coles': 3492, 'conway': 3493, 'defend': 3494, 'diego': 3495, 'empire': 3496, 'fact': 3497, 'finished': 3498, 'gathering': 3499, 'highway': 3500, 'hybrid': 3501, 'killings': 3502, 'leftist': 3503, 'liberation': 3504, 'lowers': 3505, 'maintain': 3506, 'mondavi': 3507, 'ownership': 3508, 'painkiller': 3509, 'pictures': 3510, 'present': 3511, 'prospect': 3512, 'rains': 3513, 'ramadan': 3514, 'ramadi': 3515, 'santiago': 3516, 'sexual': 3517, 'shi': 3518, 'spurred': 3519, 'swedish': 3520, 'testing': 3521, 'valley': 3522, 'widens': 3523, 'wmc': 3524, 'worse': 3525, 'yields': 3526, '0': 3527, '1.5': 3528, '1999': 3529, '39;re': 3530, 'banning': 3531, 'beirut': 3532, 'bp': 3533, 'buyer': 3534, 'campaigning': 3535, 'carmaker': 3536, 'compromise': 3537, 'conduct': 3538, 'confusion': 3539, 'considers': 3540, 'costly': 3541, 'cup': 3542, 'currencies': 3543, 'deployment': 3544, 'desert': 3545, 'door': 3546, 'drivers': 3547, 'elsewhere': 3548, 'extremists': 3549, 'farm': 3550, 'fiat': 3551, 'flagship': 3552, 'fm': 3553, 'halifax': 3554, 'handling': 3555, 'highly': 3556, 'homeland': 3557, 'incentives': 3558, 'language': 3559, 'love': 3560, 'miami': 3561, 'norwegian': 3562, 'philips': 3563, 'retired': 3564, 'runs': 3565, 'saving': 3566, 'seats': 3567, 'sport': 3568, 'throne': 3569, 'tiger': 3570, 'torture': 3571, 'upgrade': 3572, 'withdrawn': 3573, 'wpp': 3574, '\\\\$400': 3575, 'accusations': 3576, 'advisers': 3577, 'ambush': 3578, 'awards': 3579, 'battled': 3580, 'borrowing': 3581, 'broadcasting': 3582, 'confirm': 3583, 'dvd': 3584, 'followed': 3585, 'frankfurt': 3586, 'gambling': 3587, 'goal': 3588, 'grenada': 3589, 'gross': 3590, 'hamza': 3591, 'hub': 3592, 'incident': 3593, 'injuries': 3594, 'interstate': 3595, 'lender': 3596, 'movies': 3597, 'mps': 3598, 'mumbai': 3599, 'normal': 3600, 'quot;a': 3601, 'regions': 3602, 'removed': 3603, 'restive': 3604, 'sachs': 3605, 'something': 3606, 'starbucks': 3607, 'tree': 3608, 'usa': 3609, 'violated': 3610, 'widened': 3611, 'yugoslav': 3612, 'apec': 3613, 'balance': 3614, 'billiton': 3615, 'coffee': 3616, 'diesel': 3617, 'directly': 3618, 'distance': 3619, 'earthquakes': 3620, 'execution': 3621, 'fbi': 3622, 'followers': 3623, 'forest': 3624, 'friendly': 3625, 'fully': 3626, 'gonaives': 3627, 'grade': 3628, 'hailed': 3629, 'imam': 3630, 'included': 3631, 'instruments': 3632, 'khan': 3633, 'killer': 3634, 'knight': 3635, 'lending': 3636, 'lure': 3637, 'manhattan': 3638, 'moment': 3639, 'mr.': 3640, 'mugabe': 3641, 'murdered': 3642, 'netflix': 3643, 'offshore': 3644, 'perhaps': 3645, 'pixar': 3646, 'promote': 3647, 'quiet': 3648, 'rapid': 3649, 'recovered': 3650, 'recruits': 3651, 'relationship': 3652, 'remarks': 3653, 'rush': 3654, 'samsung': 3655, 'slammed': 3656, 'steam': 3657, 'supported': 3658, 'supporting': 3659, 'tank': 3660, 'technical': 3661, 'techs': 3662, 'welcomes': 3663, 'wreckage': 3664, 'acknowledged': 3665, 'acquisitions': 3666, 'airports': 3667, 'apparel': 3668, 'awaits': 3669, 'bargain': 3670, 'chrysler': 3671, 'crossing': 3672, 'dairy': 3673, 'dr': 3674, 'engineers': 3675, 'enterprise': 3676, 'fares': 3677, 'halted': 3678, 'honda': 3679, 'imminent': 3680, 'investigated': 3681, 'laboratories': 3682, 'looms': 3683, 'lucent': 3684, 'militias': 3685, 'mountain': 3686, 'pulls': 3687, 'quebec': 3688, 'reality': 3689, 'rein': 3690, 'restaurant': 3691, 'science': 3692, 'seize': 3693, 'slams': 3694, 'smart': 3695, 'smoke': 3696, 'sponsored': 3697, 'telekom': 3698, 'tons': 3699, 'ufj': 3700, 'vegas': 3701, 'allows': 3702, 'augusto': 3703, 'avert': 3704, 'bangalore': 3705, 'basra': 3706, 'biotechnology': 3707, 'breakthrough': 3708, 'buoyed': 3709, 'burundi': 3710, 'commanders': 3711, 'concert': 3712, 'constitutional': 3713, 'delivery': 3714, 'dipped': 3715, 'disrupt': 3716, 'diverted': 3717, 'downtown': 3718, 'drama': 3719, 'duty': 3720, 'easy': 3721, 'especially': 3722, 'fatal': 3723, 'fee': 3724, 'fined': 3725, 'gogh': 3726, 'governance': 3727, 'hellip': 3728, 'intense': 3729, 'intervention': 3730, 'lazard': 3731, 'lewis': 3732, 'lifting': 3733, 'managed': 3734, 'michigan': 3735, 'miner': 3736, 'oslo': 3737, 'passes': 3738, 'penalty': 3739, 'plunge': 3740, 'productivity': 3741, 'quarters': 3742, 'reducing': 3743, 'respond': 3744, 'restructure': 3745, 'scare': 3746, 'schedule': 3747, 'schwarzenegger': 3748, 'signing': 3749, 'strongly': 3750, 'suggests': 3751, 'surrender': 3752, 'sustained': 3753, 'swing': 3754, 'tie': 3755, 'tore': 3756, 'actions': 3757, 'barred': 3758, 'bosnia': 3759, 'broken': 3760, 'christian': 3761, 'daughter': 3762, 'escaped': 3763, 'fellow': 3764, 'hire': 3765, 'honeywell': 3766, 'joins': 3767, 'knew': 3768, 'magnitude': 3769, 'marwan': 3770, 'medal': 3771, 'metro': 3772, 'mourning': 3773, 'mystery': 3774, 'norodom': 3775, 'opinion': 3776, 'orthodox': 3777, 'permission': 3778, 'persuade': 3779, 'profitable': 3780, 'qtr': 3781, 'reaction': 3782, 'read': 3783, 'sank': 3784, 'scotland': 3785, 'severe': 3786, 'shed': 3787, 'sub': 3788, 'surges': 3789, 'taipei': 3790, 'thomas': 3791, 'ubs': 3792, 'uncertain': 3793, 'unclear': 3794, 'visited': 3795, '47': 3796, '51': 3797, '\\\\$49': 3798, '\\\\$54': 3799, 'aftershocks': 3800, 'ahmed': 3801, 'alexander': 3802, 'await': 3803, 'bian': 3804, 'bottom': 3805, 'conducted': 3806, 'developed': 3807, 'dictator': 3808, 'disputes': 3809, 'encouraged': 3810, 'feel': 3811, 'foot': 3812, 'goals': 3813, 'healthy': 3814, 'holidays': 3815, 'icahn': 3816, 'import': 3817, 'interfax': 3818, 'investing': 3819, 'iron': 3820, 'lenders': 3821, 'libyan': 3822, 'margins': 3823, 'medics': 3824, 'occurred': 3825, 'prosecution': 3826, 'reporter': 3827, 'restate': 3828, 'showdown': 3829, 'stepping': 3830, 'surplus': 3831, 'table': 3832, 'testimony': 3833, 'thing': 3834, 'treated': 3835, 'unfair': 3836, 'va.': 3837, 'wealth': 3838, \"'re\": 3839, '100,000': 3840, '900': 3841, '\\\\$47': 3842, '_': 3843, 'amnesty': 3844, 'bail': 3845, 'band': 3846, 'banknorth': 3847, 'bashir': 3848, 'bilateral': 3849, 'cap': 3850, 'cargo': 3851, 'code': 3852, 'colorado': 3853, 'command': 3854, 'courts': 3855, 'culture': 3856, 'determined': 3857, 'enters': 3858, 'executed': 3859, 'girls': 3860, 'hall': 3861, 'hardie': 3862, 'indexes': 3863, 'influential': 3864, 'injures': 3865, 'junichiro': 3866, 'l.': 3867, 'la': 3868, 'landed': 3869, 'louis': 3870, 'mainland': 3871, 'mastercard': 3872, 'meant': 3873, 'midday': 3874, 'mines': 3875, 'missed': 3876, 'mount': 3877, 'nissan': 3878, 'note': 3879, 'partial': 3880, 'photo': 3881, 'playing': 3882, 'priced': 3883, 'ransom': 3884, 'raw': 3885, 'richest': 3886, 'searching': 3887, 'seem': 3888, 'seemed': 3889, 'shrugged': 3890, 'shui': 3891, 'slowly': 3892, 'stands': 3893, 'strongest': 3894, 'surrounding': 3895, 'survival': 3896, 'symantec': 3897, 'tourist': 3898, 'worlds': 3899, '56': 3900, 'appearance': 3901, 'award': 3902, 'borders': 3903, 'bureau': 3904, 'captive': 3905, 'champion': 3906, 'charity': 3907, 'crunch': 3908, 'danger': 3909, 'departure': 3910, 'dips': 3911, 'discussions': 3912, 'dissident': 3913, 'doubles': 3914, 'filled': 3915, 'gear': 3916, 'governing': 3917, 'grip': 3918, 'havana': 3919, 'hiding': 3920, 'hk': 3921, 'icon': 3922, 'intended': 3923, 'kind': 3924, 'llc': 3925, 'managing': 3926, 'medicare': 3927, 'modestly': 3928, 'nazi': 3929, 'neighborhood': 3930, 'on\\\\wednesday': 3931, 'pop': 3932, 'portfolio': 3933, 'promising': 3934, 'qualcomm': 3935, 'rape': 3936, 'reflecting': 3937, 'smoking': 3938, 'society': 3939, 'steep': 3940, 'stolen': 3941, 'stood': 3942, 'suggest': 3943, 'swept': 3944, 'thaksin': 3945, 'tied': 3946, 'truckers': 3947, 'w': 3948, 'wmt.n': 3949, '39;ite': 3950, '\\\\$46': 3951, 'agriculture': 3952, 'aired': 3953, 'aires': 3954, 'blames': 3955, 'buenos': 3956, 'campaigns': 3957, 'clients': 3958, 'colleagues': 3959, 'consulate': 3960, 'countrys': 3961, 'displaced': 3962, 'drew': 3963, 'fines': 3964, 'gaming': 3965, 'gerhard': 3966, 'grant': 3967, 'however': 3968, 'introduced': 3969, 'junta': 3970, 'leisure': 3971, 'liberal': 3972, 'listed': 3973, 'neighboring': 3974, 'on\\\\tuesday': 3975, 'operators': 3976, 'outskirts': 3977, 'passing': 3978, 'peak': 3979, 'pill': 3980, 'providing': 3981, 'really': 3982, 'regarding': 3983, 'returning': 3984, 'scientist': 3985, 'sensitive': 3986, 'settling': 3987, 'shortly': 3988, 'sir': 3989, 'srinagar': 3990, 'stops': 3991, 'streak': 3992, 'suntrust': 3993, 'travelers': 3994, 'unusual': 3995, '5,000': 3996, 'abandon': 3997, 'acquiring': 3998, 'advances': 3999, 'anyone': 4000, 'atrocities': 4001, 'aung': 4002, 'ballistic': 4003, 'belgian': 4004, 'belgium': 4005, 'broader': 4006, 'celebrated': 4007, 'chemicals': 4008, 'currently': 4009, 'dealing': 4010, 'disclosed': 4011, 'drink': 4012, 'duties': 4013, 'earth': 4014, 'engineering': 4015, 'europeans': 4016, 'everyone': 4017, 'everything': 4018, 'explodes': 4019, 'exporting': 4020, 'factions': 4021, 'fatah': 4022, 'feet': 4023, 'felt': 4024, 'flew': 4025, 'float': 4026, 'gather': 4027, 'inspectors': 4028, 'locked': 4029, 'mainly': 4030, 'mall': 4031, 'misses': 4032, 'mounting': 4033, 'nv': 4034, 'owns': 4035, 'philip': 4036, 'policeman': 4037, 'presented': 4038, 'privately': 4039, 'proof': 4040, 'pump': 4041, 'recalls': 4042, 'recovering': 4043, 'reiterated': 4044, 'sainsbury': 4045, 'scheme': 4046, 'shots': 4047, 'sistani': 4048, 'steelmaker': 4049, 'steve': 4050, 'testified': 4051, 'tightening': 4052, 'urgent': 4053, 'woolworths': 4054, 'worked': 4055, '0.2': 4056, '250': 4057, '38': 4058, '7e7': 4059, 'abandoned': 4060, 'attract': 4061, 'awarded': 4062, 'bar': 4063, 'barroso': 4064, 'battling': 4065, 'becomes': 4066, 'catch': 4067, 'climbs': 4068, 'd': 4069, 'declining': 4070, 'doctor': 4071, 'dumping': 4072, 'either': 4073, 'emirates': 4074, 'expense': 4075, 'gateway': 4076, 'grey': 4077, 'hospitals': 4078, 'hungary': 4079, 'initiative': 4080, 'las': 4081, 'lucrative': 4082, 'machine': 4083, 'marketwatch': 4084, 'medicine': 4085, 'mud': 4086, 'nearby': 4087, 'opposed': 4088, 'organizations': 4089, 'outgoing': 4090, 'provides': 4091, 'rebuild': 4092, 'revenge': 4093, 'ring': 4094, 'route': 4095, 'shape': 4096, 'spin': 4097, 'stroke': 4098, 'tariffs': 4099, 'telecoms': 4100, 'tickets': 4101, 'unanimously': 4102, 'unknown': 4103, 'valued': 4104, 'vancouver': 4105, 'veritas': 4106, 'waste': 4107, '39;ll': 4108, '44': 4109, '\\\\$44': 4110, '\\\\$48': 4111, 'adopt': 4112, 'affected': 4113, 'aig': 4114, 'alexandria': 4115, 'always': 4116, 'andrew': 4117, 'arguments': 4118, 'auditors': 4119, 'basis': 4120, 'battleground': 4121, 'calpers': 4122, 'carl': 4123, 'cazenove': 4124, 'combined': 4125, 'disarmament': 4126, 'eds': 4127, 'exercise': 4128, 'fidel': 4129, 'gallon': 4130, 'hospitality': 4131, 'investigations': 4132, 'jr.': 4133, 'koreans': 4134, 'longtime': 4135, 'mild': 4136, 'mob': 4137, 'monitors': 4138, 'necessary': 4139, 'negotiator': 4140, 'orcl.o': 4141, 'ossetia': 4142, 'plays': 4143, 'polling': 4144, 'practice': 4145, 'pricing': 4146, 'prior': 4147, 'produced': 4148, 'provincial': 4149, 'restaurants': 4150, 'roman': 4151, 'scrap': 4152, 'snap': 4153, 'suffer': 4154, 'tactics': 4155, 'thrown': 4156, 'underway': 4157, 'update4': 4158, 'verdict': 4159, 'vision': 4160, 'vital': 4161, 'voter': 4162, 'wars': 4163, 'weakened': 4164, '37': 4165, '52': 4166, 'aceh': 4167, 'arrival': 4168, 'assam': 4169, 'braced': 4170, 'branch': 4171, 'competitor': 4172, 'complaints': 4173, 'correct': 4174, 'dismisses': 4175, 'display': 4176, 'enforcement': 4177, 'fighter': 4178, 'finances': 4179, 'fixed': 4180, 'foes': 4181, 'hearings': 4182, 'ian': 4183, 'illegally': 4184, 'immigration': 4185, 'incoming': 4186, 'jenkins': 4187, 'johannesburg': 4188, 'jordanian': 4189, 'lord': 4190, 'milan': 4191, 'orbitz': 4192, 'paisley': 4193, 'palm': 4194, 'penalties': 4195, 'pepsico': 4196, 'phase': 4197, 'pointed': 4198, 'postponed': 4199, 'pulling': 4200, 'reasons': 4201, 'rejecting': 4202, 'replaced': 4203, 'require': 4204, 'resolved': 4205, 'routes': 4206, 'significantly': 4207, 'sinn': 4208, 'staged': 4209, 'stemming': 4210, 'studios': 4211, 'taj': 4212, 'tense': 4213, 'touch': 4214, 'wild': 4215, '32': 4216, '\\\\$24': 4217, '\\\\$300': 4218, 'alone': 4219, 'apartment': 4220, 'argentine': 4221, 'attacking': 4222, 'bae': 4223, 'bounce': 4224, 'boys': 4225, 'camera': 4226, 'cat': 4227, 'cellular': 4228, 'charging': 4229, 'comeback': 4230, 'comment': 4231, 'deployed': 4232, 'engaged': 4233, 'ethics': 4234, 'evacuate': 4235, 'exchanges': 4236, 'eyed': 4237, 'f.': 4238, 'georgian': 4239, 'guide': 4240, 'healthcare': 4241, 'hp': 4242, 'inmates': 4243, 'ipod': 4244, 'items': 4245, 'kim': 4246, 'kurdish': 4247, 'mandate': 4248, 'mass.': 4249, 'models': 4250, 'mph': 4251, 'myer': 4252, 'naval': 4253, 'o': 4254, 'paramilitary': 4255, 'peninsula': 4256, 'petrol': 4257, 'prayers': 4258, 'psft.o': 4259, 'publishing': 4260, 'rep.': 4261, 'required': 4262, 'riyadh': 4263, 'rocks': 4264, 'roll': 4265, 'rushed': 4266, 'ship': 4267, 'signaled': 4268, 'spotlight': 4269, 'temporarily': 4270, 'tension': 4271, 'timing': 4272, 'tragedy': 4273, 'transfer': 4274, 'trim': 4275, 'vatican': 4276, 'wages': 4277, 'warlord': 4278, 'waves': 4279, 'worldcom': 4280, '65': 4281, '\\\\$41': 4282, 'acquitted': 4283, 'active': 4284, 'advocates': 4285, 'ambitious': 4286, 'arabic': 4287, 'assassinated': 4288, 'bakeries': 4289, 'barrier': 4290, 'bayer': 4291, 'booming': 4292, 'brewer': 4293, 'bruce': 4294, 'cayman': 4295, 'coastal': 4296, 'comply': 4297, 'condemns': 4298, 'contact': 4299, 'coverage': 4300, 'delaware': 4301, 'downgrade': 4302, 'drugmaker': 4303, 'english': 4304, 'enterprises': 4305, 'explain': 4306, 'explosive': 4307, 'fashion': 4308, 'fill': 4309, 'greenhouse': 4310, 'kidnap': 4311, 'kuala': 4312, 'lackluster': 4313, 'lilly': 4314, 'linux': 4315, 'lumpur': 4316, 'maathai': 4317, 'mind': 4318, 'molson': 4319, 'nominee': 4320, 'palestine': 4321, 'payrolls': 4322, 'pipelines': 4323, 'primary': 4324, 'proceedings': 4325, 'quota': 4326, 'regulations': 4327, 'representative': 4328, 'requested': 4329, 'restrictions': 4330, 'reveals': 4331, 'santa': 4332, 'strengthening': 4333, 'testify': 4334, 'tigers': 4335, 'veerappan': 4336, 'veterans': 4337, 'vow': 4338, '1990s': 4339, '2q': 4340, 'ancient': 4341, 'centers': 4342, 'chad': 4343, 'chess': 4344, 'clashed': 4345, 'clerics': 4346, 'commissions': 4347, 'debates': 4348, 'debts': 4349, 'desperate': 4350, 'document': 4351, 'effectively': 4352, 'elbaradei': 4353, 'false': 4354, 'formed': 4355, 'forum': 4356, 'frees': 4357, 'frozen': 4358, 'fuels': 4359, 'gen.': 4360, 'gifts': 4361, 'grim': 4362, 'hbos': 4363, 'heathrow': 4364, 'identity': 4365, 'immigrants': 4366, 'indicators': 4367, 'intends': 4368, 'j.': 4369, 'larry': 4370, 'layoffs': 4371, 'lockheed': 4372, 'louisiana': 4373, 'mittal': 4374, 'narrow': 4375, 'nationals': 4376, 'nephew': 4377, 'oust': 4378, 'outbreak': 4379, 'papers': 4380, 'particularly': 4381, 'poorest': 4382, 'recalled': 4383, 'reward': 4384, 'rim': 4385, 'sabotage': 4386, 'shadow': 4387, 'soybean': 4388, 'spencer': 4389, 'storage': 4390, 'survive': 4391, 'sweden': 4392, 'sweep': 4393, 'tanker': 4394, 'tested': 4395, 'tire': 4396, 'tougher': 4397, 'trillion': 4398, 'unidentified': 4399, 'unveil': 4400, 'wary': 4401, 'wonder': 4402, 'xinhua': 4403, 'xstrata': 4404, '\\\\$15': 4405, '\\\\$250': 4406, 'agreeing': 4407, 'application': 4408, 'autonomy': 4409, 'bet': 4410, 'blocked': 4411, 'caesars': 4412, 'carolina': 4413, 'column': 4414, 'critically': 4415, 'deadlock': 4416, 'declaration': 4417, 'demonstrators': 4418, 'derail': 4419, 'dig': 4420, 'ecb': 4421, 'escalating': 4422, 'fool': 4423, 'footage': 4424, 'fortified': 4425, 'gift': 4426, 'hints': 4427, 'indianapolis': 4428, 'institutions': 4429, 'isolated': 4430, 'jiang': 4431, 'kick': 4432, 'kids': 4433, 'kpmg': 4434, 'liberty': 4435, 'lowe': 4436, 'margin': 4437, 'martial': 4438, 'micro': 4439, 'mistakes': 4440, 'ninth': 4441, 'ocean': 4442, 'on\\\\friday': 4443, 'oppose': 4444, 'persistent': 4445, 'personnel': 4446, 'purchases': 4447, 'regain': 4448, 'repeated': 4449, 'respect': 4450, 'restart': 4451, 'reveal': 4452, 'sight': 4453, 'simple': 4454, 'southeastern': 4455, 'southwestern': 4456, 'spate': 4457, 'subpoena': 4458, 'supports': 4459, 'tender': 4460, 'topped': 4461, 'transaction': 4462, 'weight': 4463, '4,000': 4464, 'a.': 4465, 'acquires': 4466, 'aftermath': 4467, 'agent': 4468, 'aiming': 4469, 'ambani': 4470, 'arroyo': 4471, 'avenue': 4472, 'betting': 4473, 'biotech': 4474, 'birth': 4475, 'branches': 4476, 'bullish': 4477, 'changing': 4478, 'citizenship': 4479, 'closure': 4480, 'concession': 4481, 'congolese': 4482, 'continent': 4483, 'couple': 4484, 'crowd': 4485, 'crowds': 4486, 'defiant': 4487, 'deserter': 4488, 'didn': 4489, 'disclose': 4490, 'enemy': 4491, 'flag': 4492, 'formerly': 4493, 'gesture': 4494, 'hispano': 4495, 'inauguration': 4496, 'infineon': 4497, 'institutional': 4498, 'jammu': 4499, 'map': 4500, 'mergers': 4501, 'notes': 4502, 'omar': 4503, 'operate': 4504, 'pcs': 4505, 'picks': 4506, 'plutonium': 4507, 'pressures': 4508, 'pt': 4509, 'quest': 4510, 'ralph': 4511, 'refusing': 4512, 'replacing': 4513, 'ringers': 4514, 'risen': 4515, 'scrutiny': 4516, 'sense': 4517, 'shinawatra': 4518, 'sick': 4519, 'smith': 4520, 'stadium': 4521, 'stars': 4522, 'student': 4523, 'suspends': 4524, 'swift': 4525, 'taiwanese': 4526, 'thabo': 4527, 'theo': 4528, 'threw': 4529, 'villages': 4530, 'violating': 4531, 'whom': 4532, 'withdrawing': 4533, 'yuan': 4534, '12,000': 4535, '20,000': 4536, 'assessment': 4537, 'axe': 4538, 'bans': 4539, 'bolstered': 4540, 'clues': 4541, 'crack': 4542, 'd.': 4543, 'digit': 4544, 'doors': 4545, 'draws': 4546, 'earned': 4547, 'establish': 4548, 'evacuation': 4549, 'fein': 4550, 'flexible': 4551, 'hails': 4552, 'hilfiger': 4553, 'hundred': 4554, 'kumar': 4555, 'marched': 4556, 'mayer': 4557, 'medium': 4558, 'mulls': 4559, 'neighbors': 4560, 'nintendo': 4561, 'nt': 4562, 'pending': 4563, 'poison': 4564, 'proved': 4565, 'revolution': 4566, 'rubble': 4567, 'searched': 4568, 'sihanouk': 4569, 'stayed': 4570, 'stays': 4571, 'sugar': 4572, 'tale': 4573, 'tommy': 4574, 'tycoon': 4575, 'upheld': 4576, 'veto': 4577, 'walls': 4578, 'woods': 4579, '54': 4580, 'abusing': 4581, 'alaska': 4582, 'bandit': 4583, 'belfast': 4584, 'bellsouth': 4585, 'blaming': 4586, 'brings': 4587, 'buttiglione': 4588, 'celebrate': 4589, 'cement': 4590, 'challenged': 4591, 'challenging': 4592, 'charlotte': 4593, 'cheap': 4594, 'citizen': 4595, 'collect': 4596, 'copper': 4597, 'crop': 4598, 'declares': 4599, 'divisions': 4600, 'dodge': 4601, 'donors': 4602, 'dublin': 4603, 'easily': 4604, 'ericsson': 4605, 'festival': 4606, 'happy': 4607, 'household': 4608, 'id': 4609, 'introduce': 4610, 'irs': 4611, 'jeddah': 4612, 'jihad': 4613, 'lama': 4614, 'mastermind': 4615, 'mercantile': 4616, 'modern': 4617, 'monitoring': 4618, 'mood': 4619, 'oecd': 4620, 'photos': 4621, 'plagued': 4622, 'predicts': 4623, 'processing': 4624, 'railway': 4625, 'refuses': 4626, 'register': 4627, 'regulation': 4628, 'reorganization': 4629, 'rural': 4630, 'ryanair': 4631, 'stuck': 4632, 'successfully': 4633, 'succession': 4634, 'thomson': 4635, 'tighten': 4636, 'tip': 4637, 'tool': 4638, 'undermine': 4639, 'vendor': 4640, '120': 4641, '160': 4642, '6,000': 4643, 'anything': 4644, 'artillery': 4645, 'bars': 4646, 'blocks': 4647, 'bobby': 4648, 'cheaper': 4649, 'chosen': 4650, 'conflicts': 4651, 'conservatives': 4652, 'contested': 4653, 'controlling': 4654, 'delphi': 4655, 'design': 4656, 'dragged': 4657, 'exclusive': 4658, 'exxon': 4659, 'fidelity': 4660, 'foiled': 4661, 'fullquote\"&gt;wmt.n&lt;/a&gt': 4662, 'gamble': 4663, 'h.': 4664, 'handing': 4665, 'harder': 4666, 'hynix': 4667, 'incidents': 4668, 'inning': 4669, 'issuing': 4670, 'jeffrey': 4671, 'jersey': 4672, 'learn': 4673, 'license': 4674, 'lived': 4675, 'lock': 4676, 'marriott': 4677, 'monopoly': 4678, 'offerings': 4679, 'oversight': 4680, 'panama': 4681, 'platform': 4682, 'please': 4683, 'powered': 4684, 'presidents': 4685, 'presses': 4686, 'providers': 4687, 'raided': 4688, 'rescued': 4689, 'scandals': 4690, 'screen': 4691, 'seal': 4692, 'served': 4693, 'server': 4694, 'shortages': 4695, 'spying': 4696, 'stranded': 4697, 'stun': 4698, 'surface': 4699, 'teenager': 4700, 'trades': 4701, 'turnaround': 4702, 'tyco': 4703, 'upper': 4704, 'upset': 4705, 'values': 4706, '0.3': 4707, '1970s': 4708, '2.5': 4709, '42': 4710, '57': 4711, 'actor': 4712, 'adams': 4713, 'anglo': 4714, 'arabs': 4715, 'attempted': 4716, 'awaiting': 4717, 'bargains': 4718, 'bear': 4719, 'beaten': 4720, 'belarus': 4721, 'bhopal': 4722, 'birthday': 4723, 'burial': 4724, 'burned': 4725, 'carlos': 4726, 'climbing': 4727, 'coach': 4728, 'coma': 4729, 'commodity': 4730, 'coors': 4731, 'correspondent': 4732, 'dark': 4733, 'diet': 4734, 'downward': 4735, 'eastman': 4736, 'edges': 4737, 'exactly': 4738, 'floor': 4739, 'goldwyn': 4740, 'governors': 4741, 'grave': 4742, 'greenback': 4743, 'handheld': 4744, 'harm': 4745, 'hilton': 4746, 'hovered': 4747, 'kansas': 4748, 'karachi': 4749, 'kellogg': 4750, 'knocked': 4751, 'lands': 4752, 'listing': 4753, 'manchester': 4754, 'milestone': 4755, 'mounted': 4756, 'narrower': 4757, 'neck': 4758, 'older': 4759, 'overcome': 4760, 'politically': 4761, 'pressing': 4762, 'principle': 4763, 'projected': 4764, 'protecting': 4765, 'pti': 4766, 'receives': 4767, 'receiving': 4768, 'reconstruction': 4769, 'recorded': 4770, 'rejection': 4771, 'reopen': 4772, 'ride': 4773, 'roughly': 4774, 'rust': 4775, 'saga': 4776, 'scott': 4777, 'seeing': 4778, 'shaky': 4779, 'slaying': 4780, 'slumped': 4781, 'sometimes': 4782, 'sparking': 4783, 'spirits': 4784, 'spoke': 4785, 'stephen': 4786, 'stockpiles': 4787, 'strapped': 4788, 'suing': 4789, 'symbol': 4790, 'tass': 4791, 'teachers': 4792, 'thirds': 4793, 'visitors': 4794, 'watching': 4795, 'withdraws': 4796, 'yum': 4797, '1,200': 4798, '\\\\$11': 4799, '\\\\$35': 4800, '\\\\$40': 4801, '\\\\$51': 4802, 'adults': 4803, 'alberta': 4804, 'appetite': 4805, 'applied': 4806, 'attackers': 4807, 'b': 4808, 'ball': 4809, 'baltimore': 4810, 'barbados': 4811, 'bellwether': 4812, 'bextra': 4813, 'bob': 4814, 'briefs': 4815, 'burst': 4816, 'cambodian': 4817, 'cameras': 4818, 'cancel': 4819, 'casting': 4820, 'chipmaker': 4821, 'coventry': 4822, 'disappointed': 4823, 'disengagement': 4824, 'doughnuts': 4825, 'drawing': 4826, 'eighth': 4827, 'elderly': 4828, 'evacuated': 4829, 'exceed': 4830, 'excess': 4831, 'experimental': 4832, 'extremist': 4833, 'firmer': 4834, 'fortunes': 4835, 'fullquote\"&gt;psft.o&lt;/a&gt': 4836, 'golden': 4837, 'hiv': 4838, 'inched': 4839, 'initiatives': 4840, 'injury': 4841, 'lashed': 4842, 'mccain': 4843, 'mourners': 4844, 'nj': 4845, 'payroll': 4846, 'phelps': 4847, 'praised': 4848, 'propelled': 4849, 'rallies': 4850, 'rand': 4851, 'resumes': 4852, 'revered': 4853, 'riots': 4854, 'rolled': 4855, 'rouse': 4856, 'scaled': 4857, 'section': 4858, 'serbia': 4859, 'shark': 4860, 'shoot': 4861, 'sparks': 4862, 'speaker': 4863, 'strengthened': 4864, 'surprising': 4865, 'takers': 4866, 'taser': 4867, 'tata': 4868, 'tools': 4869, 'tower': 4870, 'true': 4871, 'wire': 4872, 'wound': 4873, '05': 4874, '1,500': 4875, 'academy': 4876, 'achieve': 4877, 'advice': 4878, 'alternative': 4879, 'apology': 4880, 'behead': 4881, 'bold': 4882, 'britons': 4883, 'buddhist': 4884, 'bury': 4885, 'ceiling': 4886, 'cigarette': 4887, 'cited': 4888, 'combination': 4889, 'commit': 4890, 'communities': 4891, 'components': 4892, 'concrete': 4893, 'corporations': 4894, 'dalai': 4895, 'desktop': 4896, 'disappointment': 4897, 'disclosure': 4898, 'discussed': 4899, 'dog': 4900, 'downer': 4901, 'drives': 4902, 'easier': 4903, 'egyptians': 4904, 'endorsed': 4905, 'envoys': 4906, 'escapes': 4907, 'expecting': 4908, 'fixing': 4909, 'founders': 4910, 'furniture': 4911, 'grocer': 4912, 'happened': 4913, 'hole': 4914, 'homeless': 4915, 'hutchison': 4916, 'images': 4917, 'imprisoned': 4918, 'indefinitely': 4919, 'insists': 4920, 'intc.o': 4921, 'kidnappings': 4922, 'kroger': 4923, 'liverpool': 4924, 'manage': 4925, 'messages': 4926, 'metals': 4927, 'midway': 4928, 'narrowly': 4929, 'operative': 4930, 'ordering': 4931, 'partly': 4932, 'pause': 4933, 'plenty': 4934, 'poisoned': 4935, 'pollution': 4936, 'pool': 4937, 'popularity': 4938, 'questioning': 4939, 'recommended': 4940, 'registered': 4941, 'reputation': 4942, 'restoring': 4943, 'retreated': 4944, 'revamp': 4945, 'reversing': 4946, 'rice': 4947, 'rite': 4948, 'simultaneously': 4949, 'solutions': 4950, 'somalia': 4951, 'speaks': 4952, 'stelco': 4953, 'stick': 4954, 'strain': 4955, 'strife': 4956, 'stripped': 4957, 'suits': 4958, 'surrounded': 4959, 'territories': 4960, 'triple': 4961, 'turnout': 4962, 'twenty': 4963, 'uae': 4964, 'vulnerable': 4965, 'wangari': 4966, 'waziristan': 4967, 'welfare': 4968, 'widen': 4969, '0.6': 4970, '16-year': 4971, '4th': 4972, '66': 4973, 'abduction': 4974, 'acts': 4975, 'advisory': 4976, 'aluminum': 4977, 'approaches': 4978, 'arnold': 4979, 'bag': 4980, 'causes': 4981, 'chains': 4982, 'cheer': 4983, 'chiron': 4984, 'churches': 4985, 'colombo': 4986, 'counts': 4987, 'courtroom': 4988, 'curbs': 4989, 'dealt': 4990, 'deny': 4991, 'discrimination': 4992, 'distributor': 4993, 'ditch': 4994, 'edition': 4995, 'eventually': 4996, 'faith': 4997, 'fare': 4998, 'fence': 4999, 'films': 5000, 'financier': 5001, 'fortune': 5002, 'fullquote\"&gt;orcl.o&lt;/a&gt': 5003, 'h': 5004, 'heated': 5005, 'ideas': 5006, 'infringement': 5007, 'ing': 5008, 'insisting': 5009, 'interested': 5010, 'itar': 5011, 'km': 5012, 'knocking': 5013, 'learned': 5014, 'malls': 5015, 'midst': 5016, 'mistake': 5017, 'mohammad': 5018, 'notice': 5019, 'opponent': 5020, 'overturn': 5021, 'patient': 5022, 'pennsylvania': 5023, 'premium': 5024, 'provinces': 5025, 'quality': 5026, 'quietly': 5027, 'racing': 5028, 'rapidly': 5029, 'ratified': 5030, 'rogers': 5031, 'rolls': 5032, 'rubber': 5033, 'sacked': 5034, 'safer': 5035, 'saks': 5036, 'seconds': 5037, 'secured': 5038, 'sentences': 5039, 'shattered': 5040, 'shuts': 5041, 'solve': 5042, 'song': 5043, 'stent': 5044, 'sukarnoputri': 5045, 'suspicious': 5046, 'terminate': 5047, 'theft': 5048, 'thinking': 5049, 'tourism': 5050, 'unarmed': 5051, 'urban': 5052, 'virtually': 5053, 'weapon': 5054, 'winners': 5055, '1980s': 5056, '39;ve': 5057, '4q': 5058, '61': 5059, '\\\\$200': 5060, 'adelphia': 5061, 'ahold': 5062, 'altria': 5063, 'barclays': 5064, 'birds': 5065, 'blackberry': 5066, 'bounced': 5067, 'breach': 5068, 'brink': 5069, 'championship': 5070, 'colony': 5071, 'contest': 5072, 'declare': 5073, 'delaying': 5074, 'deportation': 5075, 'deported': 5076, 'diversified': 5077, 'ellison': 5078, 'federated': 5079, 'fights': 5080, 'glass': 5081, 'goog.o': 5082, 'grocery': 5083, 'guy': 5084, 'headscarves': 5085, 'impasse': 5086, 'judgment': 5087, 'kicked': 5088, 'knows': 5089, 'lagos': 5090, 'lasting': 5091, 'legislature': 5092, 'macy': 5093, 'mahal': 5094, 'manuel': 5095, 'medicines': 5096, 'microsystems': 5097, 'midwest': 5098, 'mohamed': 5099, 'mortars': 5100, 'mubarak': 5101, 'murdering': 5102, 'nasd': 5103, 'nervous': 5104, 'palmolive': 5105, 'participate': 5106, 'paulo': 5107, 'pleading': 5108, 'preparations': 5109, 'proceed': 5110, 'quite': 5111, 'ratification': 5112, 'reacted': 5113, 'recalling': 5114, 'reflect': 5115, 'refuse': 5116, 'rout': 5117, 'sao': 5118, 'secretly': 5119, 'settler': 5120, 'shia': 5121, 'shortfall': 5122, 'sink': 5123, 'smithfield': 5124, 'sound': 5125, 'species': 5126, 'stricken': 5127, 'submitted': 5128, 'switzerland': 5129, 'swung': 5130, 'telegraph': 5131, 'textiles': 5132, 'tivo': 5133, 'tribute': 5134, 'triggering': 5135, 'unable': 5136, 'whales': 5137, 'wrigley': 5138, '1/2': 5139, '1995': 5140, '2.8': 5141, '2010': 5142, '85': 5143, '\\\\$1.25': 5144, '\\\\$20': 5145, '\\\\$8': 5146, '\\\\$85': 5147, 'accepting': 5148, 'adobe': 5149, 'airliner': 5150, 'alh': 5151, 'allied': 5152, 'amazon.com': 5153, 'amendment': 5154, 'approached': 5155, 'arsenal': 5156, 'auditor': 5157, 'ayatollah': 5158, 'bahamas': 5159, 'bets': 5160, 'breakaway': 5161, 'c.': 5162, 'capping': 5163, 'captain': 5164, 'captivity': 5165, 'charlie': 5166, 'chose': 5167, 'client': 5168, 'connecticut': 5169, 'content': 5170, 'cycle': 5171, 'dealer': 5172, 'disrupted': 5173, 'disruption': 5174, 'dogs': 5175, 'encouraging': 5176, 'entering': 5177, 'erdogan': 5178, 'examine': 5179, 'flags': 5180, 'fledgling': 5181, 'foster': 5182, 'friend': 5183, 'g20': 5184, 'gbagbo': 5185, 'haven': 5186, 'implement': 5187, 'incursion': 5188, 'inspector': 5189, 'intensified': 5190, 'jews': 5191, 'judicial': 5192, 'liquidation': 5193, 'looming': 5194, 'marathon': 5195, 'marxist': 5196, 'meanwhile': 5197, 'nnn': 5198, 'notorious': 5199, 'poisoning': 5200, 'premiums': 5201, 'purchased': 5202, 'purportedly': 5203, 'quot;we': 5204, 'rattled': 5205, 'rebounds': 5206, 'reluctant': 5207, 'retailing': 5208, 'reverse': 5209, 'roh': 5210, 'runoff': 5211, 'safeway': 5212, 'salvador': 5213, 'seekers': 5214, 'sessions': 5215, 'shelters': 5216, 'shipment': 5217, 'shootout': 5218, 'shops': 5219, 'slashes': 5220, 'spare': 5221, 'spark': 5222, 'spree': 5223, 'text': 5224, 'tightened': 5225, 'treasurer': 5226, 'trigger': 5227, 'wales': 5228, 'yemeni': 5229, '30,000': 5230, '63': 5231, '89': 5232, '\\\\$1.5': 5233, '\\\\$25': 5234, 'accepts': 5235, 'adultery': 5236, 'airliners': 5237, 'airstrike': 5238, 'annually': 5239, 'arch': 5240, 'assassinate': 5241, 'assistance': 5242, 'bakar': 5243, 'barrage': 5244, 'boat': 5245, 'canadians': 5246, 'cape': 5247, 'cites': 5248, 'commodities': 5249, 'companys': 5250, 'confirmation': 5251, 'confrontation': 5252, 'constellation': 5253, 'consumption': 5254, 'containing': 5255, 'copyright': 5256, 'curfew': 5257, 'dc': 5258, 'deeply': 5259, 'deploy': 5260, 'destroy': 5261, 'destroying': 5262, 'devastation': 5263, 'diana': 5264, 'dirty': 5265, 'dominant': 5266, 'elite': 5267, 'employer': 5268, 'errors': 5269, 'experience': 5270, 'experiments': 5271, 'expire': 5272, 'fdi': 5273, 'fragile': 5274, 'goss': 5275, 'grace': 5276, 'gt': 5277, 'handle': 5278, 'himalayan': 5279, 'ho': 5280, 'hurdle': 5281, 'illinois': 5282, 'imported': 5283, 'innings': 5284, 'jolted': 5285, 'khatami': 5286, 'lake': 5287, 'laurent': 5288, 'leak': 5289, 'lobby': 5290, 'minnesota': 5291, 'ms': 5292, 'multiplex': 5293, 'narrowed': 5294, 'nukes': 5295, 'obtained': 5296, 'opportunities': 5297, 'opposes': 5298, 'plastic': 5299, 'plo': 5300, 'pressured': 5301, 'professional': 5302, 'protester': 5303, 'qatar': 5304, 'repeal': 5305, 'retain': 5306, 'revealing': 5307, 'riding': 5308, 'rio': 5309, 'rouge': 5310, 'ryder': 5311, 'seizing': 5312, 'sep': 5313, 'serbian': 5314, 'sitting': 5315, 'stevens': 5316, 'summary': 5317, 'surprisingly': 5318, 'taba': 5319, 'tea': 5320, 'teenage': 5321, 'toshiba': 5322, 'trains': 5323, 'tripoli': 5324, 'truth': 5325, 'tunnel': 5326, 'underground': 5327, 'update5': 5328, 'user': 5329, 'walked': 5330, '1990': 5331, '3.7': 5332, '43': 5333, '46': 5334, '70,000': 5335, '\\\\$1.3': 5336, '\\\\$30': 5337, '\\\\$43': 5338, 'acting': 5339, 'aging': 5340, 'amman': 5341, 'anthem': 5342, 'aren': 5343, 'attacker': 5344, 'attended': 5345, 'basic': 5346, 'bloodshed': 5347, 'bounty': 5348, 'braces': 5349, 'bread': 5350, 'breathing': 5351, 'brent': 5352, 'canceled': 5353, 'cemex': 5354, 'cfo': 5355, 'cnnfn': 5356, 'columbia': 5357, 'competing': 5358, 'connected': 5359, 'counterparts': 5360, 'criminals': 5361, 'dal.n': 5362, 'dangers': 5363, 'deeper': 5364, 'defending': 5365, 'defying': 5366, 'designer': 5367, 'divide': 5368, 'downgraded': 5369, 'elan': 5370, 'enemies': 5371, 'error': 5372, 'ferry': 5373, 'findings': 5374, 'flies': 5375, 'focusing': 5376, 'forbes': 5377, 'formula': 5378, 'gauge': 5379, 'guarded': 5380, 'gutierrez': 5381, 'hurting': 5382, 'individual': 5383, 'ink': 5384, 'jpmorgan': 5385, 'keys': 5386, 'legacy': 5387, 'longest': 5388, 'measured': 5389, 'milk': 5390, 'munch': 5391, 'obasanjo': 5392, 'olusegun': 5393, 'ones': 5394, 'opel': 5395, 'orange': 5396, 'ore': 5397, 'originally': 5398, 'petro': 5399, 'pitch': 5400, 'pittsburgh': 5401, 'postal': 5402, 'predict': 5403, 'promoting': 5404, 'proposes': 5405, 'protesting': 5406, 'pubs': 5407, 'recording': 5408, 'reminder': 5409, 'resulted': 5410, 'rhetoric': 5411, 'senators': 5412, 'shifts': 5413, 'siebel': 5414, 'somali': 5415, 'someone': 5416, 'spa': 5417, 'stoked': 5418, 'stretch': 5419, 'substantial': 5420, 'thieves': 5421, 'trademark': 5422, 'trans': 5423, 'uganda': 5424, 'via': 5425, 'vw': 5426, 'wachovia': 5427, 'waited': 5428, 'written': 5429, 'zurich': 5430, '1.7': 5431, '15-year': 5432, '3com': 5433, '\\\\$7': 5434, '\\\\$7.7': 5435, 'abortion': 5436, 'absence': 5437, 'ahmad': 5438, 'alarm': 5439, 'bangladeshi': 5440, 'blows': 5441, 'boxes': 5442, 'brain': 5443, 'buckingham': 5444, 'burden': 5445, 'canberra': 5446, 'cancels': 5447, 'cardinal': 5448, 'chartered': 5449, 'consensus': 5450, 'contentious': 5451, 'contractors': 5452, 'cooling': 5453, 'costco': 5454, 'da': 5455, 'declaring': 5456, 'del': 5457, 'denver': 5458, 'dept': 5459, 'dominate': 5460, 'drawn': 5461, 'dressed': 5462, 'economist': 5463, 'endorse': 5464, 'erupts': 5465, 'established': 5466, 'exile': 5467, 'factor': 5468, 'fallout': 5469, 'flown': 5470, 'flows': 5471, 'forget': 5472, 'foundation': 5473, 'gary': 5474, 'greenberg': 5475, 'grounds': 5476, 'hicks': 5477, 'importance': 5478, 'inq7': 5479, 'integration': 5480, 'intent': 5481, 'iowa': 5482, 'iraqs': 5483, 'lane': 5484, 'laos': 5485, 'learning': 5486, 'locations': 5487, 'm.': 5488, 'midsession': 5489, 'misleading': 5490, 'myers': 5491, 'narrows': 5492, 'nationalist': 5493, 'nightclub': 5494, 'organized': 5495, 'ouster': 5496, 'patents': 5497, 'pickup': 5498, 'polio': 5499, 'praise': 5500, 'printing': 5501, 'putnam': 5502, 'ratify': 5503, 'rebellion': 5504, 'relentless': 5505, 'represents': 5506, 'residential': 5507, 'roger': 5508, 'roofs': 5509, 'saboteurs': 5510, 'salary': 5511, 'sectors': 5512, 'severance': 5513, 'shaken': 5514, 'shelter': 5515, 'shocked': 5516, 'shoe': 5517, 'silence': 5518, 'sinks': 5519, 'slipping': 5520, 'smuggling': 5521, 'spur': 5522, 'stockholm': 5523, 'studies': 5524, 'super': 5525, 'tear': 5526, 'topping': 5527, 'torrential': 5528, 'turnpike': 5529, 'uncovered': 5530, 'unite': 5531, 'upon': 5532, 'various': 5533, 'washingtonpost.com': 5534, '*': 5535, '1,100': 5536, '11th': 5537, '13-year': 5538, '1996': 5539, '53': 5540, '77': 5541, '\\\\$600': 5542, 'adjusted': 5543, 'aere': 5544, 'amr': 5545, 'arlington': 5546, 'armored': 5547, 'automobile': 5548, 'avian': 5549, 'banco': 5550, 'benefited': 5551, 'berkshire': 5552, 'bhutto': 5553, 'bucharest': 5554, 'bypass': 5555, 'captives': 5556, 'charter': 5557, 'clark': 5558, 'conceded': 5559, 'creates': 5560, 'daniel': 5561, 'dot': 5562, 'drag': 5563, 'eli': 5564, 'entrance': 5565, 'ethiopia': 5566, 'faction': 5567, 'fake': 5568, 'feds': 5569, 'feeling': 5570, 'founded': 5571, 'franklin': 5572, 'g7': 5573, 'globe': 5574, 'gloomy': 5575, 'gray': 5576, 'guarantee': 5577, 'hamm': 5578, 'handset': 5579, 'hefty': 5580, 'heightened': 5581, 'herself': 5582, 'hidden': 5583, 'hijacked': 5584, 'informal': 5585, 'intention': 5586, 'interference': 5587, 'invited': 5588, 'kirkuk': 5589, 'lets': 5590, 'lion': 5591, 'maintained': 5592, 'merchandise': 5593, 'migrants': 5594, 'mobil': 5595, 'msft.o': 5596, 'multibillion': 5597, 'niger': 5598, 'offences': 5599, 'outlooks': 5600, 'pa': 5601, 'pile': 5602, 'pioneer': 5603, 'portugal': 5604, 'pose': 5605, 'refund': 5606, 'relatively': 5607, 'removing': 5608, 'replacement': 5609, 'reversed': 5610, 'revolt': 5611, 'rigged': 5612, 'rodriguez': 5613, 'sarkozy': 5614, 'sergeant': 5615, 'shield': 5616, 'smallest': 5617, 'squad': 5618, 'stamp': 5619, 'suddenly': 5620, 'tipped': 5621, 'toppled': 5622, 'township': 5623, 'triangle': 5624, 'tumbles': 5625, 'weakening': 5626, 'weary': 5627, 'writing': 5628, 'wrote': 5629, 'xinhuanet': 5630, 'xm': 5631, '10th': 5632, '130': 5633, '1998': 5634, '62': 5635, '64': 5636, 'actually': 5637, 'aiding': 5638, 'airplane': 5639, 'airplanes': 5640, 'apply': 5641, 'approximately': 5642, 'arguing': 5643, 'armitage': 5644, 'arriving': 5645, 'audio': 5646, 'ben': 5647, 'blitz': 5648, 'broadcaster': 5649, 'buses': 5650, 'cambridge': 5651, 'capped': 5652, 'chicken': 5653, 'cincinnati': 5654, 'cocoa': 5655, 'commons': 5656, 'conflicting': 5657, 'cooperate': 5658, 'corrected': 5659, 'cox': 5660, 'credibility': 5661, 'cyberonics': 5662, 'd.c.': 5663, 'dakota': 5664, 'demonstrated': 5665, 'discounts': 5666, 'dominion': 5667, 'earns': 5668, 'economics': 5669, 'eliminating': 5670, 'emi': 5671, 'engines': 5672, 'epidemic': 5673, 'except': 5674, 'explore': 5675, 'federation': 5676, 'feels': 5677, 'fueling': 5678, 'fullquote\"&gt;intc.o&lt;/a&gt': 5679, 'gate': 5680, 'genentech': 5681, 'gloria': 5682, 'golf': 5683, 'grain': 5684, 'greeted': 5685, 'happen': 5686, 'hemisphere': 5687, 'hinted': 5688, 'hires': 5689, 'ignored': 5690, 'initially': 5691, 'intensive': 5692, 'ivorian': 5693, 'justices': 5694, 'khmer': 5695, 'kidney': 5696, 'kuwaiti': 5697, 'lakshmi': 5698, 'lease': 5699, 'libel': 5700, 'library': 5701, 'licenses': 5702, 'mails': 5703, 'master': 5704, 'mate': 5705, 'minimum': 5706, 'mogul': 5707, 'mp': 5708, 'nearing': 5709, 'networking': 5710, 'novel': 5711, 'oao': 5712, 'obstruction': 5713, 'origin': 5714, 'outstanding': 5715, 'peruvian': 5716, 'peterson': 5717, 'privacy': 5718, 'procedure': 5719, 'pursuit': 5720, 'rank': 5721, 'recommend': 5722, 'registration': 5723, 'revision': 5724, 'romanian': 5725, 'sanjay': 5726, 'savers': 5727, 'scenes': 5728, 'scottish': 5729, 'scrambled': 5730, 'scream': 5731, 'sealed': 5732, 'seller': 5733, 'shifting': 5734, 'siemens': 5735, 'sihamoni': 5736, 'slashing': 5737, 'slides': 5738, 'sliding': 5739, 'socialist': 5740, 'sons': 5741, 'stressed': 5742, 'strongholds': 5743, 'supercomputer': 5744, 'suspicions': 5745, 'sweet': 5746, 'tennis': 5747, 'throwing': 5748, 'trader': 5749, 'tradition': 5750, 'unharmed': 5751, 'unleashed': 5752, 'upward': 5753, 'wearing': 5754, '0.4': 5755, '18-month': 5756, '21-year': 5757, '39;hare': 5758, '\\\\$10.3': 5759, '\\\\$150': 5760, '\\\\$45': 5761, 'accession': 5762, 'admitting': 5763, 'assured': 5764, 'athletic': 5765, 'baron': 5766, 'barrett': 5767, 'basketball': 5768, 'bears': 5769, 'belgrade': 5770, 'blasted': 5771, 'bloodiest': 5772, 'bosses': 5773, 'brokered': 5774, 'burning': 5775, 'cancelled': 5776, 'celebrates': 5777, 'celebrations': 5778, 'citibank': 5779, 'cocaine': 5780, 'collins': 5781, 'comprehensive': 5782, 'contacts': 5783, 'contributed': 5784, 'contributions': 5785, 'convince': 5786, 'decisions': 5787, 'detainee': 5788, 'discovery': 5789, 'discussing': 5790, 'dolphins': 5791, 'donations': 5792, 'downgrades': 5793, 'dramatically': 5794, 'easyjet': 5795, 'else': 5796, 'en': 5797, 'evacuations': 5798, 'explode': 5799, 'features': 5800, 'finland': 5801, 'flexibility': 5802, 'gradual': 5803, 'greatest': 5804, 'grenades': 5805, 'gucci': 5806, 'hang': 5807, 'hanoi': 5808, 'hurdles': 5809, 'illness': 5810, 'impossible': 5811, 'improperly': 5812, 'in\\\\the': 5813, 'indiana': 5814, 'indicating': 5815, 'ip': 5816, 'jails': 5817, 'jenin': 5818, 'kidde': 5819, 'kosovo': 5820, 'lankan': 5821, 'lingering': 5822, 'lp': 5823, 'malone': 5824, 'marred': 5825, 'married': 5826, 'maybe': 5827, 'metropolitan': 5828, 'mich.': 5829, 'midnight': 5830, 'mountains': 5831, 'municipal': 5832, 'mysterious': 5833, 'native': 5834, 'nomination': 5835, 'none': 5836, 'northwestern': 5837, 'ordeal': 5838, 'original': 5839, 'owed': 5840, 'packages': 5841, 'palmone': 5842, 'penn': 5843, 'perfect': 5844, 'perks': 5845, 'piece': 5846, 'pounding': 5847, 'preventing': 5848, 'priest': 5849, 'protected': 5850, 'prudential': 5851, 'punish': 5852, 'reaffirmed': 5853, 'refunds': 5854, 'refusal': 5855, 'releasing': 5856, 'repay': 5857, 'residence': 5858, 'resumption': 5859, 'rift': 5860, 'rocco': 5861, 'scattered': 5862, 'segment': 5863, 'semi': 5864, 'severely': 5865, 'shakes': 5866, 'shrek': 5867, 'shrimp': 5868, 'songs': 5869, 'specialist': 5870, 'stall': 5871, 'stiff': 5872, 'strokes': 5873, 'structure': 5874, 'submit': 5875, 'surprised': 5876, 'taps': 5877, 'td': 5878, 'theme': 5879, 'touched': 5880, 'transactions': 5881, 'transition': 5882, 'traveling': 5883, 'understand': 5884, 'vendors': 5885, 'wealthy': 5886, 'weighing': 5887, 'westerners': 5888, 'wildlife': 5889, 'worsening': 5890, 'yield': 5891, 'zemin': 5892, '2008': 5893, '4,500': 5894, '59': 5895, '71': 5896, '\\\\$52': 5897, 'a350': 5898, 'ab': 5899, 'abruptly': 5900, 'aged': 5901, 'aggressively': 5902, 'alabama': 5903, 'alleges': 5904, 'appoints': 5905, 'artificial': 5906, 'artisan': 5907, 'assistant': 5908, 'audience': 5909, 'b.': 5910, 'behavior': 5911, 'blaze': 5912, 'bn': 5913, 'bodyguards': 5914, 'bristol': 5915, 'brunei': 5916, 'brutal': 5917, 'cheered': 5918, 'classic': 5919, 'completely': 5920, 'connections': 5921, 'contingent': 5922, 'corner': 5923, 'costa': 5924, 'criticizes': 5925, 'crm': 5926, 'damaging': 5927, 'definitive': 5928, 'defuse': 5929, 'deng': 5930, 'denounced': 5931, 'dissidents': 5932, 'dumped': 5933, 'dying': 5934, 'employed': 5935, 'equities': 5936, 'expressing': 5937, 'fiber': 5938, 'finalized': 5939, 'foodland': 5940, 'forge': 5941, 'geico': 5942, 'geoff': 5943, 'ghana': 5944, 'goodwill': 5945, 'grozny': 5946, 'guardsmen': 5947, 'halts': 5948, 'harsh': 5949, 'heir': 5950, 'helm': 5951, 'hero': 5952, 'hills': 5953, 'horror': 5954, 'hutu': 5955, 'ice': 5956, 'impoverished': 5957, 'innocent': 5958, 'inspection': 5959, 'jointly': 5960, 'junk': 5961, 'klm': 5962, 'label': 5963, 'labels': 5964, 'lahore': 5965, 'lengthy': 5966, 'lessons': 5967, 'liberia': 5968, 'likelihood': 5969, 'location': 5970, 'locusts': 5971, 'meat': 5972, 'medication': 5973, 'medtronic': 5974, 'memorial': 5975, 'mercenaries': 5976, 'miller': 5977, 'missteps': 5978, 'mmc.n': 5979, 'morocco': 5980, 'nelson': 5981, 'nickel': 5982, 'noble': 5983, 'obesity': 5984, 'oklahoma': 5985, 'omnimedia': 5986, 'ousts': 5987, 'overshadowed': 5988, 'overwhelmingly': 5989, 'parcel': 5990, 'pave': 5991, 'payout': 5992, 'penney': 5993, 'photographer': 5994, 'piracy': 5995, 'pockets': 5996, 'posed': 5997, 'poultry': 5998, 'poured': 5999, 'preparation': 6000, 'prevention': 6001, 'probing': 6002, 'promotion': 6003, 'radioactive': 6004, 'ranked': 6005, 'reductions': 6006, 'regiment': 6007, 'remember': 6008, 'revived': 6009, 'roared': 6010, 'sas': 6011, 'second-': 6012, 'selected': 6013, 'soccer': 6014, 'speak': 6015, 'spots': 6016, 'stopping': 6017, 'tayyip': 6018, 'teacher': 6019, 'tenure': 6020, 'tepid': 6021, 'territorial': 6022, 'towers': 6023, 'traces': 6024, 'traction': 6025, 'trio': 6026, 'undisclosed': 6027, 'upscale': 6028, 'verge': 6029, 'voluntarily': 6030, 'vowing': 6031, 'vs.': 6032, 'warsaw': 6033, 'wedding': 6034, 'wellington': 6035, 'widening': 6036, 'wrapped': 6037, 'yards': 6038, '04': 6039, '1.2': 6040, '350': 6041, '\\\\$1.1': 6042, '\\\\$140': 6043, 'abdul': 6044, 'ace': 6045, 'acted': 6046, 'africans': 6047, 'ahern': 6048, 'airstrikes': 6049, 'amd': 6050, 'anil': 6051, 'argue': 6052, 'astros': 6053, 'attempting': 6054, 'axa': 6055, 'biogen': 6056, 'branded': 6057, 'bribery': 6058, 'campbell': 6059, 'candy': 6060, 'carnival': 6061, 'catastrophe': 6062, 'cellphone': 6063, 'centuries': 6064, 'cereal': 6065, 'champions': 6066, 'colonial': 6067, 'commonwealth': 6068, 'completing': 6069, 'conventional': 6070, 'covered': 6071, 'covering': 6072, 'crawford': 6073, 'database': 6074, 'decisive': 6075, 'defeated': 6076, 'diplomacy': 6077, 'disappeared': 6078, 'dump': 6079, 'editorial': 6080, 'elizabeth': 6081, 'encourage': 6082, 'enthusiasm': 6083, 'environmentalist': 6084, 'example': 6085, 'experiment': 6086, 'expires': 6087, 'extraordinary': 6088, 'extremely': 6089, 'factors': 6090, 'federer': 6091, 'feud': 6092, 'fit': 6093, 'flurry': 6094, 'ft': 6095, 'gandhi': 6096, 'garden': 6097, 'gunned': 6098, 'gunships': 6099, 'hammered': 6100, 'hat': 6101, 'haul': 6102, 'hijackers': 6103, 'hispanic': 6104, 'hog': 6105, 'hoon': 6106, 'hydrogen': 6107, 'iceland': 6108, 'idc': 6109, 'immunity': 6110, 'inciting': 6111, 'italians': 6112, 'jan': 6113, 'jitters': 6114, 'kazakhstan': 6115, 'kennedy': 6116, 'kettle': 6117, 'khin': 6118, 'lag': 6119, 'lawmaker': 6120, 'liability': 6121, 'lifestyle': 6122, 'lights': 6123, 'liquor': 6124, 'lung': 6125, 'mainstream': 6126, 'maintenance': 6127, 'mandelson': 6128, 'maria': 6129, 'measuring': 6130, 'ministerial': 6131, 'monti': 6132, 'moody': 6133, 'moore': 6134, 'mukesh': 6135, 'nader': 6136, 'newest': 6137, 'nextwave': 6138, 'nightmare': 6139, 'nova': 6140, 'novar': 6141, 'overturned': 6142, 'packing': 6143, 'peres': 6144, 'picking': 6145, 'pointing': 6146, 'proceeds': 6147, 'procter': 6148, 'quakes': 6149, 'quell': 6150, 'repeat': 6151, 'reshuffle': 6152, 'reynolds': 6153, 'riggs': 6154, 'scam': 6155, 'signaling': 6156, 'simon': 6157, 'slap': 6158, 'sounds': 6159, 'soup': 6160, 'spam': 6161, 'subpoenaed': 6162, 'subsidy': 6163, 'sumitomo': 6164, 'supposed': 6165, 'surviving': 6166, 'swings': 6167, 'switch': 6168, 'symbolic': 6169, 'tendered': 6170, 'tent': 6171, 'tim': 6172, 'trafficking': 6173, 'troubles': 6174, 'twins': 6175, 'updated': 6176, 'villa': 6177, 'warrant': 6178, 'windfall': 6179, 'woo': 6180, '15,000': 6181, '1992': 6182, '67': 6183, '82': 6184, '88': 6185, '\\\\$12': 6186, '\\\\$120': 6187, 'abn': 6188, 'abused': 6189, 'accelerated': 6190, 'airtran': 6191, 'angered': 6192, 'answers': 6193, 'arafats': 6194, 'argued': 6195, 'austin': 6196, 'austrian': 6197, 'author': 6198, 'backers': 6199, 'bearing': 6200, 'beverage': 6201, 'bidder': 6202, 'biomedical': 6203, 'bullet': 6204, 'c': 6205, 'calgary': 6206, 'capitol': 6207, 'cardiovascular': 6208, 'category': 6209, 'chalabi': 6210, 'chaotic': 6211, 'chinas': 6212, 'colder': 6213, 'consequences': 6214, 'corpses': 6215, 'corrupt': 6216, 'crossed': 6217, 'cruise': 6218, 'cultural': 6219, 'decapitated': 6220, 'derailed': 6221, 'detailed': 6222, 'detected': 6223, 'drc': 6224, 'dug': 6225, 'efficient': 6226, 'enrich': 6227, 'equal': 6228, 'expelled': 6229, 'external': 6230, 'extradited': 6231, 'farms': 6232, 'feature': 6233, 'fleetboston': 6234, 'forms': 6235, 'generally': 6236, 'gunbattle': 6237, 'hanging': 6238, 'hardline': 6239, 'harvard': 6240, 'heels': 6241, 'herat': 6242, 'hungry': 6243, 'il': 6244, 'imperial': 6245, 'indians': 6246, 'indictment': 6247, 'individuals': 6248, 'influenza': 6249, 'inspections': 6250, 'irans': 6251, 'irregularities': 6252, 'istanbul': 6253, 'j.p.': 6254, 'jones)--australian': 6255, 'joseph': 6256, 'knesset': 6257, 'lahoud': 6258, 'letters': 6259, 'licensing': 6260, 'listen': 6261, 'lists': 6262, 'lords': 6263, 'magna': 6264, 'matters': 6265, 'mediators': 6266, 'mel': 6267, 'memo': 6268, 'mercy': 6269, 'moo': 6270, 'mourn': 6271, 'mrk.n': 6272, 'nbc': 6273, 'newmont': 6274, 'nyunt': 6275, 'odds': 6276, 'owes': 6277, 'page': 6278, 'pearl': 6279, 'peers': 6280, 'pharmacy': 6281, 'phil': 6282, 'planted': 6283, 'policymakers': 6284, 'populous': 6285, 'poses': 6286, 'profitability': 6287, 'prompts': 6288, 'pub': 6289, 'punch': 6290, 'quot;i': 6291, 'reactor': 6292, 'rebuilding': 6293, 'recession': 6294, 'recognize': 6295, 'recommendations': 6296, 'refineries': 6297, 'regained': 6298, 'responding': 6299, 'revelations': 6300, 'rmc': 6301, 'ruler': 6302, 's.e.c.': 6303, 's.korea': 6304, 'salaries': 6305, 'shoes': 6306, 'sierra': 6307, 'sights': 6308, 'silent': 6309, 'simply': 6310, 'sister': 6311, 'smashed': 6312, 'smooth': 6313, 'spectrum': 6314, 'spotted': 6315, 'spreading': 6316, 'stabilize': 6317, 'stalls': 6318, 'staying': 6319, 'sterling': 6320, 'stir': 6321, 'stories': 6322, 'suffers': 6323, 'suggestions': 6324, 'surcharge': 6325, 'tallest': 6326, 'tankan': 6327, 'tankers': 6328, 'tapped': 6329, 'tears': 6330, 'teen': 6331, 'teenagers': 6332, 'third-': 6333, 'trims': 6334, 'twinkies': 6335, 'underlying': 6336, 'upgrades': 6337, 'usual': 6338, 'vacation': 6339, 'vanunu': 6340, 'virtual': 6341, 'walgreen': 6342, 'wellpoint': 6343, 'westfield': 6344, 'yemen': 6345, 'yes': 6346, 'youth': 6347, '-2-': 6348, '1973': 6349, '200,000': 6350, '21st': 6351, '3.3': 6352, '340': 6353, '36;50': 6354, '95': 6355, '\\\\$17': 6356, '\\\\$210': 6357, '\\\\$700': 6358, 'abc': 6359, 'achieved': 6360, 'affair': 6361, 'aided': 6362, 'albanian': 6363, 'amro': 6364, 'anderson': 6365, 'animated': 6366, 'anxious': 6367, 'architect': 6368, 'authorized': 6369, 'azzam': 6370, 'badly': 6371, 'bahrain': 6372, 'batman': 6373, 'bidders': 6374, 'birmingham': 6375, 'blocking': 6376, 'bolstering': 6377, 'bow': 6378, 'brewing': 6379, 'brisk': 6380, 'cbi': 6381, 'celebrating': 6382, 'channels': 6383, 'cheating': 6384, 'chicoutimi': 6385, 'claude': 6386, 'communication': 6387, 'computing': 6388, 'consulting': 6389, 'contain': 6390, 'crippled': 6391, 'daiei': 6392, 'demonstration': 6393, 'disasters': 6394, 'dive': 6395, 'downing': 6396, 'drinking': 6397, 'embassies': 6398, 'emotional': 6399, 'endangered': 6400, 'exiled': 6401, 'failures': 6402, 'filipino': 6403, 'forecasters': 6404, 'fraudulent': 6405, 'fugitive': 6406, 'germans': 6407, 'glaxosmithkline': 6408, 'gov': 6409, 'gunpoint': 6410, 'handsets': 6411, 'hardware': 6412, 'havas': 6413, 'hears': 6414, 'heinz': 6415, 'hip': 6416, 'holders': 6417, 'honor': 6418, 'hyun': 6419, 'iamgold': 6420, 'improvements': 6421, 'inc.\\\\': 6422, 'install': 6423, 'integrate': 6424, 'invesco': 6425, 'kbr': 6426, 'kicks': 6427, 'knee': 6428, 'lab': 6429, 'lied': 6430, 'linking': 6431, 'looting': 6432, 'lots': 6433, 'lowering': 6434, 'luxembourg': 6435, 'macedonia': 6436, 'macedonian': 6437, 'mcteer': 6438, 'messier': 6439, 'mile': 6440, 'modified': 6441, 'multan': 6442, 'neighbouring': 6443, 'numerous': 6444, 'objections': 6445, 'obstacle': 6446, 'oldest': 6447, 'painful': 6448, 'pan': 6449, 'passport': 6450, 'paving': 6451, 'penh': 6452, 'petition': 6453, 'phnom': 6454, 'plough': 6455, 'plunges': 6456, 'pork': 6457, 'posing': 6458, 'postpone': 6459, 'prevented': 6460, 'probed': 6461, 'prompt': 6462, 'protestant': 6463, 'purported': 6464, 'pursuing': 6465, 'q4': 6466, 'quitting': 6467, 'races': 6468, 'radioshack': 6469, 'rampant': 6470, 'reactions': 6471, 'relative': 6472, 'repeatedly': 6473, 'responded': 6474, 'restated': 6475, 'retrial': 6476, 'revises': 6477, 'risky': 6478, 'rolling': 6479, 'rough': 6480, 'rs': 6481, 'russians': 6482, 'sat': 6483, 'schering': 6484, 'sciences': 6485, 'sclerosis': 6486, 'seasonal': 6487, 'sectarian': 6488, 'select': 6489, 'shrinking': 6490, 'silicon': 6491, 'silver': 6492, 'skills': 6493, 'slumping': 6494, 'spell': 6495, 'spreads': 6496, 'succeeded': 6497, 'surrendered': 6498, 'surveillance': 6499, 'survives': 6500, 'tellier': 6501, 'thrust': 6502, 'thwart': 6503, 'tips': 6504, 'tortured': 6505, 'toxic': 6506, 'tripled': 6507, 'tumbling': 6508, 'tyson': 6509, 'undergo': 6510, 'undergoing': 6511, 'understanding': 6512, 'uses': 6513, 'utd': 6514, 'voiced': 6515, 'walking': 6516, 'warlords': 6517, 'wen': 6518, 'wr': 6519, 'yasir': 6520, \"'ve\": 6521, '..': 6522, '1.1': 6523, '24-hour': 6524, '3.5': 6525, '4.3': 6526, '7.6': 6527, '79': 6528, '86': 6529, '\\\\$136': 6530, '\\\\$265': 6531, '\\\\$536': 6532, 'adb': 6533, 'addition': 6534, 'advised': 6535, 'airwaves': 6536, 'arizona': 6537, 'assigned': 6538, 'avoided': 6539, 'avoiding': 6540, 'basayev': 6541, 'battery': 6542, 'bed': 6543, 'belt': 6544, 'bonus': 6545, 'briefed': 6546, 'brighton': 6547, 'buffett': 6548, 'bullets': 6549, 'busiest': 6550, 'caterpillar': 6551, 'certainly': 6552, 'chechens': 6553, 'churned': 6554, 'clearance': 6555, 'collection': 6556, 'commandos': 6557, 'commitments': 6558, 'composite': 6559, 'concerning': 6560, 'confront': 6561, 'contained': 6562, 'cotton': 6563, 'cpi': 6564, 'criticised': 6565, 'crops': 6566, 'dampen': 6567, 'deadlocked': 6568, 'deliveries': 6569, 'denying': 6570, 'deport': 6571, 'deputies': 6572, 'detain': 6573, 'deteriorating': 6574, 'dialysis': 6575, 'disorder': 6576, 'dual': 6577, 'electrical': 6578, 'emperor': 6579, 'essential': 6580, 'execute': 6581, 'exploration': 6582, 'eyeing': 6583, 'flawed': 6584, 'fleeing': 6585, 'franco': 6586, 'fun': 6587, 'gaddafi': 6588, 'gang': 6589, 'gemstar': 6590, 'granting': 6591, 'hamper': 6592, 'hideout': 6593, 'honour': 6594, 'ill.': 6595, 'impending': 6596, 'implantable': 6597, 'indication': 6598, 'indonesians': 6599, 'insider': 6600, 'instability': 6601, 'invade': 6602, 'irna': 6603, 'jeff': 6604, 'jong': 6605, 'journey': 6606, 'kashmiri': 6607, 'kevin': 6608, 'lakes': 6609, 'lavish': 6610, 'liable': 6611, 'lie': 6612, 'liquidity': 6613, 'lover': 6614, 'marketplace': 6615, 'masri': 6616, 'md.': 6617, 'mercosur': 6618, 'minor': 6619, 'mohammed': 6620, 'mosques': 6621, 'motley': 6622, 'mull': 6623, 'musical': 6624, 'n.y.': 6625, 'netanyahu': 6626, 'nick': 6627, 'oakland': 6628, 'opposing': 6629, 'orleans': 6630, 'outlined': 6631, 'outpost': 6632, 'outright': 6633, 'paso': 6634, 'patriarch': 6635, 'pepsi': 6636, 'photographic': 6637, 'pieces': 6638, 'pigs': 6639, 'pilgrims': 6640, 'portion': 6641, 'praises': 6642, 'primarily': 6643, 'projections': 6644, 'punitive': 6645, 'q': 6646, 'rankings': 6647, 'rbc': 6648, 'recognition': 6649, 'redeployment': 6650, 'regrets': 6651, 'regular': 6652, 'renew': 6653, 'replaces': 6654, 'requirements': 6655, 'reviews': 6656, 'richter': 6657, 'root': 6658, 'rumours': 6659, 'said\\\\on': 6660, 'saudis': 6661, 'saved': 6662, 'shining': 6663, 'skies': 6664, 'solana': 6665, 'sort': 6666, 'spray': 6667, 'stages': 6668, 'staging': 6669, 'steadily': 6670, 'sticking': 6671, 'subdued': 6672, 'subsidiaries': 6673, 'suv': 6674, 'tackling': 6675, 'talent': 6676, 'temple': 6677, 'tentatively': 6678, 'thinks': 6679, 'thirty': 6680, 'tracking': 6681, 'trained': 6682, 'treason': 6683, 'trends': 6684, 'trimmed': 6685, 'turf': 6686, 'underscoring': 6687, 'utilities': 6688, 'vacuum': 6689, 'venezuelans': 6690, 'verify': 6691, 'violate': 6692, 'volumes': 6693, 'whistleblower': 6694, 'wm': 6695, 'writedown': 6696, 'writes': 6697, 'yangon': 6698, 'yellow': 6699, 'yuganskneftegaz': 6700, 'ziggy': 6701, '1.3': 6702, '144,000': 6703, '166': 6704, '18th': 6705, '39;a': 6706, '72': 6707, '\\\\$135': 6708, '\\\\$450': 6709, '\\\\$850': 6710, 'abrupt': 6711, 'affecting': 6712, 'airlifted': 6713, 'albertsons': 6714, 'alpharma': 6715, 'altoids': 6716, 'amounts': 6717, 'animal': 6718, 'approaching': 6719, 'assad': 6720, 'assess': 6721, 'assist': 6722, 'atmosphere': 6723, 'b.c.': 6724, 'baker': 6725, 'bells': 6726, 'bias': 6727, 'bpd': 6728, 'branson': 6729, 'bright': 6730, 'bulgaria': 6731, 'carbon': 6732, 'celebrity': 6733, 'checking': 6734, 'clearly': 6735, 'confirming': 6736, 'consolidation': 6737, 'customs': 6738, 'dean': 6739, 'deepening': 6740, 'demolition': 6741, 'dial': 6742, 'dictatorship': 6743, 'eager': 6744, 'eating': 6745, 'empty': 6746, 'engineered': 6747, 'erp': 6748, 'exodus': 6749, 'fairly': 6750, 'favorite': 6751, 'fireworks': 6752, 'firmly': 6753, 'fnm.n': 6754, 'forming': 6755, 'freight': 6756, 'frontier': 6757, 'fury': 6758, 'generating': 6759, 'glance': 6760, 'guru': 6761, 'harare': 6762, 'hatred': 6763, 'headlines': 6764, 'hospitalized': 6765, 'hq': 6766, 'hungarian': 6767, 'incentive': 6768, 'inspired': 6769, 'interviews': 6770, 'italia': 6771, 'itunes': 6772, 'jabalya': 6773, 'johnny': 6774, 'karstadtquelle': 6775, 'kyodo': 6776, 'l': 6777, 'leaning': 6778, 'leg': 6779, 'legend': 6780, 'lieutenant': 6781, 'lumber': 6782, 'macquarie': 6783, 'mba': 6784, 'meddling': 6785, 'mediation': 6786, 'memos': 6787, 'meps': 6788, 'misconduct': 6789, 'mix': 6790, 'moon': 6791, 'nablus': 6792, 'nc': 6793, 'nl': 6794, 'noon': 6795, 'on\\\\monday': 6796, 'onslaught': 6797, 'opera': 6798, 'operates': 6799, 'otherwise': 6800, 'peaks': 6801, 'penny': 6802, 'pivotal': 6803, 'platforms': 6804, 'porn': 6805, 'prayer': 6806, 'premature': 6807, 'pretax': 6808, 'priorities': 6809, 'professionals': 6810, 'quot;no': 6811, 'racial': 6812, 'radicals': 6813, 'ray': 6814, 'redeploy': 6815, 'reduces': 6816, 'reeling': 6817, 'refuge': 6818, 'reign': 6819, 'rent.com': 6820, 'repurchase': 6821, 'requires': 6822, 'resuming': 6823, 'retaliation': 6824, 'retiring': 6825, 'reviewing': 6826, 'rushing': 6827, 'sap': 6828, 'secrets': 6829, 'servers': 6830, 'shared': 6831, 'signalled': 6832, 'skeptical': 6833, 'soap': 6834, 'softbank': 6835, 'soil': 6836, 'sovereignty': 6837, 'spat': 6838, 'specialty': 6839, 'stated': 6840, 'steering': 6841, 'stirred': 6842, 'stirs': 6843, 'stockpile': 6844, 'stunned': 6845, 'subscriber': 6846, 'sudden': 6847, 'surfaced': 6848, 'surveys': 6849, 'suvs': 6850, 'throw': 6851, 'timetable': 6852, 'tone': 6853, 'toppling': 6854, 'touted': 6855, 'trophy': 6856, 'twelve': 6857, 'twist': 6858, 'u.s.-backed': 6859, 'unconstitutional': 6860, 'violation': 6861, 'voluntary': 6862, 'w.va': 6863, 'waits': 6864, 'wired': 6865, 'worrying': 6866, '1997': 6867, '225': 6868, '39;05': 6869, '39;d': 6870, '7-month': 6871, '\\\\$1.2': 6872, '\\\\$1.4': 6873, '\\\\$160': 6874, '\\\\$29': 6875, '\\\\$3.5': 6876, '\\\\$8.8': 6877, 'accountant': 6878, 'admit': 6879, 'adult': 6880, 'adv': 6881, 'affiliate': 6882, 'alderson': 6883, 'algeria': 6884, 'alongside': 6885, 'amp;m': 6886, 'appearing': 6887, 'argument': 6888, 'assurances': 6889, 'attending': 6890, 'aussie': 6891, 'backlash': 6892, 'backpacker': 6893, 'barghouthi': 6894, 'barring': 6895, 'bee': 6896, 'bernard': 6897, 'beset': 6898, 'bishop': 6899, 'blacks': 6900, 'blown': 6901, 'boats': 6902, 'bogota': 6903, 'bollywood': 6904, 'breath': 6905, 'bribes': 6906, 'britains': 6907, 'builder': 6908, 'bulk': 6909, 'bull': 6910, 'capabilities': 6911, 'celebration': 6912, 'cells': 6913, 'chamber': 6914, 'choices': 6915, 'choosing': 6916, 'cinema': 6917, 'clinch': 6918, 'cloning': 6919, 'clorox': 6920, 'clouds': 6921, 'collision': 6922, 'compliance': 6923, 'component': 6924, 'conoco': 6925, 'conversion': 6926, 'convinced': 6927, 'copies': 6928, 'couples': 6929, 'csfb': 6930, 'danforth': 6931, 'debris': 6932, 'decides': 6933, 'definition': 6934, 'defy': 6935, 'delivering': 6936, 'delivers': 6937, 'depression': 6938, 'desire': 6939, 'developments': 6940, 'diageo': 6941, 'directv': 6942, 'doubling': 6943, 'dr.': 6944, 'edging': 6945, 'eugene': 6946, 'examining': 6947, 'excessive': 6948, 'faulty': 6949, 'favored': 6950, 'favour': 6951, 'filling': 6952, 'flared': 6953, 'floridians': 6954, 'foe': 6955, 'fold': 6956, 'follows': 6957, 'freeing': 6958, 'frequent': 6959, 'ghazi': 6960, 'goodyear': 6961, 'grab': 6962, 'grabbed': 6963, 'graft': 6964, 'halting': 6965, 'hartford': 6966, 'heavyweight': 6967, 'heights': 6968, 'hide': 6969, 'highlighting': 6970, 'identify': 6971, 'ignoring': 6972, 'imposing': 6973, 'inevitable': 6974, 'info': 6975, 'intervene': 6976, 'intimidation': 6977, 'ispat': 6978, 'karl': 6979, 'kasuri': 6980, 'lagged': 6981, 'lamy': 6982, 'landscape': 6983, 'lashes': 6984, 'laura': 6985, 'lethal': 6986, 'lies': 6987, 'lithuania': 6988, 'lufthansa': 6989, 'lukashenko': 6990, 'machinery': 6991, 'marry': 6992, 'medals': 6993, 'mega': 6994, 'millionaire': 6995, 'mini': 6996, 'mired': 6997, 'morris': 6998, 'mountainous': 6999, 'mudslides': 7000, 'neither': 7001, 'nordic': 7002, 'northrop': 7003, 'nt.to': 7004, 'nudge': 7005, 'nymex': 7006, 'obtain': 7007, 'otellini': 7008, 'outlets': 7009, 'panic': 7010, 'passion': 7011, 'peer': 7012, 'persist': 7013, 'persisted': 7014, 'pledging': 7015, 'plunging': 7016, 'professor': 7017, 'prosecute': 7018, 'queensland': 7019, 'ratifies': 7020, 'rato': 7021, 'raymond': 7022, 'reassure': 7023, 'recount': 7024, 'registry': 7025, 'regulate': 7026, 'relating': 7027, 'remnants': 7028, 'rentals': 7029, 'reprieve': 7030, 'researcher': 7031, 'respected': 7032, 'retirees': 7033, 'sam': 7034, 'scarves': 7035, 'scored': 7036, 'scrambling': 7037, 'scrapping': 7038, 'scuffle': 7039, 'seas': 7040, 'seizure': 7041, 'sen': 7042, 'shah': 7043, 'ships': 7044, 'shrugs': 7045, 'skyrocketing': 7046, 'sole': 7047, 'sporadic': 7048, 'spyware': 7049, 'staples': 7050, 'sticks': 7051, 'subscription': 7052, 'substantially': 7053, 'suburb': 7054, 'talked': 7055, 'teens': 7056, 'televisions': 7057, 'tesco': 7058, 'the\\\\world': 7059, 'tighter': 7060, 'titan': 7061, 'uni': 7062, 'unilateral': 7063, 'usually': 7064, 'valuable': 7065, 'vientiane': 7066, 'warehouse': 7067, 'wasserstein': 7068, 'weaken': 7069, 'wheaton': 7070, 'window': 7071, 'withhold': 7072, 'zayed': 7073, \"'ll\": 7074, '0.5': 7075, '140': 7076, '1991': 7077, '2.7': 7078, '3,500': 7079, '4.5': 7080, '5th': 7081, '6.8': 7082, '96,000': 7083, '\\\\$1.8': 7084, '\\\\$3.4': 7085, '\\\\$320': 7086, '\\\\$430': 7087, '\\\\$750': 7088, 'accuse': 7089, 'actress': 7090, 'addressing': 7091, 'administrative': 7092, 'allen': 7093, 'amp;o': 7094, 'andy': 7095, 'anglican': 7096, 'apologized': 7097, 'appointment': 7098, 'arabian': 7099, 'arabiya': 7100, 'atop': 7101, 'attorneys': 7102, 'ba.n': 7103, 'bastion': 7104, 'beaches': 7105, 'beauty': 7106, 'behalf': 7107, 'blind': 7108, 'blunt': 7109, 'brasilia': 7110, 'brian': 7111, 'broadly': 7112, 'campus': 7113, 'capability': 7114, 'cardiac': 7115, 'castle': 7116, 'catholics': 7117, 'cattle': 7118, 'cheers': 7119, 'christ': 7120, 'classmates': 7121, 'cnbc': 7122, 'colonel': 7123, 'competitiveness': 7124, 'confidential': 7125, 'convictions': 7126, 'corps': 7127, 'corus': 7128, 'counsel': 7129, 'crises': 7130, 'crushing': 7131, 'daylight': 7132, 'deciding': 7133, 'demonstrations': 7134, 'depth': 7135, 'disappearance': 7136, 'dna': 7137, 'doj': 7138, 'dreams': 7139, 'drought': 7140, 'duma': 7141, 'ec': 7142, 'echoed': 7143, 'edward': 7144, 'enjoyed': 7145, 'evans': 7146, 'exhibition': 7147, 'f.n': 7148, 'fade': 7149, 'fan': 7150, 'fish': 7151, 'flock': 7152, 'focuses': 7153, 'ftse': 7154, 'fullquote\"&gt;f.n&lt;/a&gt': 7155, 'fullquote\"&gt;mmc.n&lt;/a&gt': 7156, 'fullquote\"&gt;msft.o&lt;/a&gt': 7157, 'gartner': 7158, 'gearing': 7159, 'gerry': 7160, 'gm.n': 7161, \"gov't\": 7162, 'gunman': 7163, 'guzman': 7164, 'hail': 7165, 'hair': 7166, 'handover': 7167, 'harrah': 7168, 'havoc': 7169, 'highlights': 7170, 'hmcs': 7171, 'hockey': 7172, 'households': 7173, 'hurts': 7174, 'hydro': 7175, 'illnesses': 7176, 'improves': 7177, 'indias': 7178, 'inflated': 7179, 'inflationary': 7180, 'injunction': 7181, 'inner': 7182, 'intensify': 7183, 'intentions': 7184, 'inter': 7185, 'jetblue': 7186, 'jiabao': 7187, 'jock': 7188, 'kinshasa': 7189, 'ko.n': 7190, 'labs': 7191, 'lagerfeld': 7192, 'landmine': 7193, 'laureate': 7194, 'lays': 7195, 'lcd': 7196, 'liberals': 7197, 'located': 7198, 'loom': 7199, 'lula': 7200, 'macau': 7201, 'madison': 7202, 'makeshift': 7203, 'mario': 7204, 'meaning': 7205, 'mercedes': 7206, 'mess': 7207, 'miracle': 7208, 'misled': 7209, 'monument': 7210, 'morningstar': 7211, 'morrison': 7212, 'motivated': 7213, 'mourns': 7214, 'multinational': 7215, 'n.irish': 7216, 'nature': 7217, 'neighbours': 7218, 'nominated': 7219, 'op': 7220, 'orcl': 7221, 'outrage': 7222, 'outweighed': 7223, 'overthrow': 7224, 'p.': 7225, 'pack': 7226, 'partially': 7227, 'participants': 7228, 'passage': 7229, 'perform': 7230, 'performing': 7231, 'pfe.n': 7232, 'physical': 7233, 'pierre': 7234, 'planet': 7235, 'poe': 7236, 'popularly': 7237, 'ports': 7238, 'portuguese': 7239, 'possession': 7240, 'precious': 7241, 'predicting': 7242, 'preferred': 7243, 'pregnant': 7244, 'privatization': 7245, 'proliferation': 7246, 'proven': 7247, 'provisions': 7248, 'puerto': 7249, 'pulitzer': 7250, 'pullback': 7251, 'raced': 7252, 'rbi': 7253, 'recommendation': 7254, 'recorders': 7255, 'repair': 7256, 'represent': 7257, 'requiring': 7258, 'resignations': 7259, 'resource': 7260, 'resulting': 7261, 'retake': 7262, 'rethink': 7263, 'revival': 7264, 'rifles': 7265, 'rooftops': 7266, 'rover': 7267, 'roy': 7268, 'secretive': 7269, 'securing': 7270, 'shamil': 7271, 'sialkot': 7272, 'sidelines': 7273, 'slew': 7274, 'snack': 7275, 'specialists': 7276, 'spite': 7277, 'squeeze': 7278, 'squeezed': 7279, 'stansted': 7280, 'steven': 7281, 'stinging': 7282, 'strategies': 7283, 'strict': 7284, 'summoned': 7285, 'suspending': 7286, 'swapping': 7287, 'tall': 7288, 'tally': 7289, 'temperatures': 7290, 'tiffany': 7291, 'transmission': 7292, 'traveled': 7293, 'uairq.ob': 7294, 'unnamed': 7295, 'unsolicited': 7296, 'uprooted': 7297, 'viewers': 7298, 'voices': 7299, 'warren': 7300, 'wash.': 7301, 'watchers': 7302, 'whistle': 7303, 'wish': 7304, 'wmd': 7305, 'worsened': 7306, 'wrap': 7307, 'wrongdoing': 7308, 'wsj': 7309, '-wsj': 7310, '1.8': 7311, '1q': 7312, '2.3': 7313, '2.9': 7314, '20-year': 7315, '4.75': 7316, '401(k': 7317, '50,000': 7318, '69': 7319, '\\\\$6': 7320, '\\\\$800': 7321, 'accords': 7322, 'acquittal': 7323, 'advisors': 7324, 'afar': 7325, 'agni': 7326, 'ala.': 7327, 'alcohol': 7328, 'allegiance': 7329, 'amp;j': 7330, 'animals': 7331, 'antidepressants': 7332, 'arresting': 7333, 'atom': 7334, 'audits': 7335, 'baquba': 7336, 'barge': 7337, 'barriers': 7338, 'belonging': 7339, 'billing': 7340, 'boards': 7341, 'boots': 7342, 'boris': 7343, 'borrow': 7344, 'botswana': 7345, 'brace': 7346, 'builds': 7347, 'camden': 7348, 'carries': 7349, 'census': 7350, 'chair': 7351, 'chelsfield': 7352, 'clarke': 7353, 'clinics': 7354, 'closest': 7355, 'clout': 7356, 'combine': 7357, 'compensate': 7358, 'complained': 7359, 'completes': 7360, 'complicated': 7361, 'conducting': 7362, 'contribute': 7363, 'cooper': 7364, 'creditor': 7365, 'crematory': 7366, 'crews': 7367, 'crippling': 7368, 'criticize': 7369, 'cubs': 7370, 'dampened': 7371, 'dance': 7372, 'deepens': 7373, 'defendants': 7374, 'defiance': 7375, 'degree': 7376, 'dent': 7377, 'deserted': 7378, 'deteriorated': 7379, 'dexia': 7380, 'dire': 7381, 'directories': 7382, 'disappoints': 7383, 'discounted': 7384, 'discussion': 7385, 'disgraced': 7386, 'dismantling': 7387, 'dismiss': 7388, 'earn': 7389, 'edmonton': 7390, 'embarrassing': 7391, 'enjoy': 7392, 'examination': 7393, 'examined': 7394, 'exceeded': 7395, 'exposed': 7396, 'extensive': 7397, 'fame': 7398, 'farooqi': 7399, 'ferocious': 7400, 'fishing': 7401, 'forman': 7402, 'frustration': 7403, 'fullquote\"&gt;dal.n&lt;/a&gt': 7404, 'fullquote\"&gt;goog.o&lt;/a&gt': 7405, 'fullquote\"&gt;mrk.n&lt;/a&gt': 7406, 'gambro': 7407, 'gangs': 7408, 'generate': 7409, 'generated': 7410, 'generous': 7411, 'goldcorp': 7412, 'grants': 7413, 'grief': 7414, 'gripped': 7415, 'growers': 7416, 'guarantees': 7417, 'guwahati': 7418, 'harrigan': 7419, 'hasn': 7420, 'hindu': 7421, 'holed': 7422, 'holiest': 7423, 'homemade': 7424, 'identification': 7425, 'impressive': 7426, 'inches': 7427, 'incomes': 7428, 'indicate': 7429, 'infonet': 7430, 'innovation': 7431, 'intensifying': 7432, 'invites': 7433, 'irregular': 7434, 'janjaweed': 7435, 'java': 7436, 'joy': 7437, 'justify': 7438, 'killers': 7439, 'kimberly': 7440, 'knife': 7441, 'kuchma': 7442, 'lady': 7443, 'laundering': 7444, 'leaks': 7445, 'legislators': 7446, 'leukemia': 7447, 'lifetime': 7448, 'lined': 7449, 'liver': 7450, 'looted': 7451, 'losers': 7452, 'loud': 7453, 'lt;p&gt;\\\\&lt;/p&gt;&lt;p&gt': 7454, 'maine': 7455, 'manpower': 7456, 'maryland': 7457, 'methods': 7458, 'mike': 7459, 'mikhail': 7460, 'minneapolis': 7461, 'moderately': 7462, 'mourned': 7463, 'multimillion': 7464, 'nathan': 7465, 'negligence': 7466, 'negotiated': 7467, 'nestle': 7468, 'nicolas': 7469, 'nkorea': 7470, 'ntl': 7471, 'obtaining': 7472, 'offsetting': 7473, 'organize': 7474, 'outlawed': 7475, 'outspoken': 7476, 'overseeing': 7477, 'patrols': 7478, 'penal': 7479, 'persons': 7480, 'phoenix': 7481, 'photographers': 7482, 'photography': 7483, 'pier': 7484, 'pierce': 7485, 'pleas': 7486, 'pleased': 7487, 'portable': 7488, 'porter': 7489, 'predecessor': 7490, 'procedures': 7491, 'processor': 7492, 'proves': 7493, 'provision': 7494, 'proxy': 7495, 'psft': 7496, 'purnomo': 7497, 'quot;very': 7498, 'racketeering': 7499, 'raging': 7500, 'rashid': 7501, 'rcmp': 7502, 'rebuffed': 7503, 'recep': 7504, 'recovers': 7505, 'refiners': 7506, 'reflects': 7507, 'removal': 7508, 'renounce': 7509, 'reviving': 7510, 'ross': 7511, 'rounds': 7512, 'sacred': 7513, 'sailors': 7514, 'score': 7515, 'seasonally': 7516, 'sergei': 7517, 'sgt': 7518, 'shalom': 7519, 'sheet': 7520, 'shutting': 7521, 'shy': 7522, 'siberian': 7523, 'silva': 7524, 'sized': 7525, 'skg': 7526, 'slam': 7527, 'smugglers': 7528, 'snatched': 7529, 'spinning': 7530, 'spirit': 7531, 'spiritual': 7532, 'spurs': 7533, 'stabbed': 7534, 'stalemate': 7535, 'stealing': 7536, 'stuff': 7537, 'supermarkets': 7538, 'suppliers': 7539, 'surprises': 7540, 'sustainable': 7541, 'swamped': 7542, 'taste': 7543, 'taxpayers': 7544, 'televised': 7545, 'terminal': 7546, 'testifies': 7547, 'thwarted': 7548, 'ticked': 7549, 'tired': 7550, 'tours': 7551, 'transformation': 7552, 'type': 7553, 'undecided': 7554, 'undermining': 7555, 'uruguay': 7556, 'utah': 7557, 'v': 7558, 'vanguard': 7559, 'ward': 7560, 'warm': 7561, 'waterford': 7562, 'willis': 7563, 'wondering': 7564, 'younger': 7565, 'zimbabwean': 7566, '1,300': 7567, '1.6': 7568, '12th': 7569, '15th': 7570, '1994': 7571, '2.4': 7572, '39;m': 7573, '5.4': 7574, '8,000': 7575, '\\\\$14': 7576, '\\\\$2.6': 7577, '\\\\$23': 7578, '\\\\$350': 7579, '\\\\$9.2': 7580, 'ababa': 7581, 'abbott': 7582, 'absa': 7583, 'addis': 7584, 'adelaide': 7585, 'adjust': 7586, 'algerian': 7587, 'anbar': 7588, 'antonio': 7589, 'appealing': 7590, 'arrangements': 7591, 'article': 7592, 'assurance': 7593, 'aware': 7594, 'backup': 7595, 'bankruptcies': 7596, 'banner': 7597, 'barbara': 7598, 'bargaining': 7599, 'barry': 7600, 'bite': 7601, 'bleak': 7602, 'bombay': 7603, 'bottler': 7604, 'bowed': 7605, 'breather': 7606, 'brightened': 7607, 'buzz': 7608, 'cameroon': 7609, 'campaigners': 7610, 'canon': 7611, 'carrefour': 7612, 'carter': 7613, 'casts': 7614, 'cautioned': 7615, 'cereals': 7616, 'chilcott': 7617, 'christians': 7618, 'collaboration': 7619, 'colleague': 7620, 'columbus': 7621, 'columnist': 7622, 'commuter': 7623, 'completion': 7624, 'congressman': 7625, 'conn.': 7626, 'conspiring': 7627, 'convened': 7628, 'countering': 7629, 'cracks': 7630, 'crushed': 7631, 'dam': 7632, 'defect': 7633, 'defer': 7634, 'defined': 7635, 'developers': 7636, 'dhabi': 7637, 'discover': 7638, 'displays': 7639, 'distillate': 7640, 'dodgers': 7641, 'drafted': 7642, 'drifted': 7643, 'drilling': 7644, 'e.': 7645, 'elects': 7646, 'emptive': 7647, 'enact': 7648, 'exanta': 7649, 'excluding': 7650, 'extreme': 7651, 'facts': 7652, 'fashioned': 7653, 'feed': 7654, 'fend': 7655, 'filings': 7656, 'format': 7657, 'fruit': 7658, 'funded': 7659, 'fungus': 7660, 'gainers': 7661, 'gallery': 7662, 'gdt.n': 7663, 'glazer': 7664, 'glory': 7665, 'grabs': 7666, 'grown': 7667, 'hariri': 7668, 'hasina': 7669, 'hate': 7670, 'headlined': 7671, 'henan': 7672, 'highlight': 7673, 'homeowners': 7674, 'hummer': 7675, 'idg': 7676, 'iger': 7677, 'inadequate': 7678, 'indo': 7679, 'instant': 7680, 'intellectual': 7681, 'intensifies': 7682, 'interbrew': 7683, 'invitation': 7684, 'jonathan': 7685, 'k': 7686, 'karmazin': 7687, 'kingpin': 7688, 'kmrt.o': 7689, 'kurds': 7690, 'lagging': 7691, 'legally': 7692, 'literature': 7693, 'lnm': 7694, 'load': 7695, 'lockout': 7696, 'locks': 7697, 'logic': 7698, 'logistics': 7699, 'manipulation': 7700, 'masked': 7701, 'matched': 7702, 'maverick': 7703, 'maximum': 7704, 'metlife': 7705, 'mirage': 7706, 'mitsui': 7707, 'moments': 7708, 'monsanto': 7709, 'mothers': 7710, 'mushroom': 7711, 'namesake': 7712, 'nasty': 7713, 'natwar': 7714, 'neglect': 7715, 'nor': 7716, 'on\\\\saturday': 7717, 'ousting': 7718, 'overwhelming': 7719, 'pakistanis': 7720, 'parks': 7721, 'paypal': 7722, 'peacefully': 7723, 'pedro': 7724, 'performances': 7725, 'performed': 7726, 'piled': 7727, 'pink': 7728, 'plummets': 7729, 'premiere': 7730, 'pretty': 7731, 'proclaimed': 7732, 'produces': 7733, 'propaganda': 7734, 'proposing': 7735, 'pumping': 7736, 'quotes': 7737, 'quoting': 7738, 'radler': 7739, 'rages': 7740, 'rampage': 7741, 'ranges': 7742, 'raytheon': 7743, 'readies': 7744, 'rebuke': 7745, 'reconciliation': 7746, 'redmond': 7747, 'refinery': 7748, 'relay': 7749, 'remark': 7750, 'reopened': 7751, 'resigning': 7752, 'restricted': 7753, 'retires': 7754, 'reversal': 7755, 'rewards': 7756, 'rica': 7757, 'rico': 7758, 'rid': 7759, 'rings': 7760, 'roaring': 7761, 'royalty': 7762, 'rumor': 7763, 'rumors': 7764, 'schoolgirl': 7765, 'schrder': 7766, 'seals': 7767, 'selloff': 7768, 'shelved': 7769, 'sigh': 7770, 'simultaneous': 7771, 'skip': 7772, 'slaughter': 7773, 'sorry': 7774, 'sovereign': 7775, 'speeches': 7776, 'spies': 7777, 'sponsorship': 7778, 'stomach': 7779, 'stone': 7780, 'strained': 7781, 'strait': 7782, 'studying': 7783, 'subway': 7784, 'suggestion': 7785, 'switkowski': 7786, 'tainted': 7787, 'thousand': 7788, 'tightens': 7789, 'tragic': 7790, 'tsvangirai': 7791, 'ugly': 7792, 'ulster': 7793, 'ultimately': 7794, 'ultimatum': 7795, 'ultra': 7796, 'undercut': 7797, 'uniform': 7798, 'unique': 7799, 'unpaid': 7800, 'upholds': 7801, 'uribe': 7802, 'usher': 7803, 'variety': 7804, 'voip': 7805, 'volunteer': 7806, 'warring': 7807, 'washing': 7808, 'welch': 7809, 'whale': 7810, 'yawar': 7811, 'yusuf': 7812, \"'d\": 7813, '100th': 7814, '12-year': 7815, '125': 7816, '13th': 7817, '19th': 7818, '320': 7819, '350th': 7820, '380': 7821, '4,400': 7822, '600,000': 7823, '650': 7824, '7-week': 7825, '74': 7826, '\\\\$1bn': 7827, '\\\\$2.1': 7828, 'abductors': 7829, 'adam': 7830, 'addressed': 7831, 'adopts': 7832, 'adrian': 7833, 'afghanistans': 7834, 'airasia': 7835, 'ambushed': 7836, 'amgen': 7837, 'angrily': 7838, 'anticipation': 7839, 'aon': 7840, 'apologize': 7841, 'approving': 7842, 'argosy': 7843, 'arrivals': 7844, 'attributed': 7845, 'bags': 7846, 'baltic': 7847, 'basescu': 7848, 'bashar': 7849, 'belief': 7850, 'benazir': 7851, 'beneath': 7852, 'besieged': 7853, 'bmw': 7854, 'bondholders': 7855, 'bracing': 7856, 'browns': 7857, 'bulls': 7858, 'calendar': 7859, 'carmakers': 7860, 'casualty': 7861, 'caucasus': 7862, 'cemetery': 7863, 'centrifuges': 7864, 'christopher': 7865, 'cleveland': 7866, 'clock': 7867, 'concentrate': 7868, 'consolidate': 7869, 'contentguard': 7870, 'convert': 7871, 'convoys': 7872, 'cooking': 7873, 'copy': 7874, 'cousin': 7875, 'crush': 7876, 'crystal': 7877, 'curbed': 7878, 'dash': 7879, 'davidson': 7880, 'dealings': 7881, 'describing': 7882, 'desk': 7883, 'digging': 7884, 'dilemma': 7885, 'disappoint': 7886, 'dominance': 7887, 'dupont': 7888, 'dynamic': 7889, 'dynamics': 7890, 'ecuador': 7891, 'eligible': 7892, 'enhance': 7893, 'enriched': 7894, 'erasing': 7895, 'escalation': 7896, 'establishing': 7897, 'establishment': 7898, 'everywhere': 7899, 'expresses': 7900, 'fao': 7901, 'favorable': 7902, 'finals': 7903, 'firebrand': 7904, 'flooded': 7905, 'founding': 7906, 'freelance': 7907, 'freezing': 7908, 'frustrated': 7909, 'fullquote\"&gt;ko.n&lt;/a&gt': 7910, 'fusion': 7911, 'garcia': 7912, 'gis': 7913, 'god': 7914, 'goodale': 7915, 'grid': 7916, 'grounded': 7917, 'hammer': 7918, 'hangs': 7919, 'harley': 7920, 'henkel': 7921, 'herald': 7922, 'hid': 7923, 'hideouts': 7924, 'historical': 7925, 'hometown': 7926, 'homosexuality': 7927, 'hosni': 7928, 'hotly': 7929, 'hsbc': 7930, 'imaging': 7931, 'implementation': 7932, 'indicates': 7933, 'indications': 7934, 'informed': 7935, 'installed': 7936, 'intercontinental': 7937, 'investigates': 7938, 'joe': 7939, 'jurors': 7940, 'justin': 7941, 'koda': 7942, 'landfall': 7943, 'leap': 7944, 'legendary': 7945, 'legs': 7946, 'li': 7947, 'liabilities': 7948, 'likes': 7949, 'litigation': 7950, 'lloyd': 7951, 'loyalists': 7952, 'manufactured': 7953, 'marriages': 7954, 'mend': 7955, 'mere': 7956, 'meters': 7957, 'michel': 7958, 'mozambique': 7959, 'muniswamy': 7960, 'nab': 7961, 'nagaland': 7962, 'nanny': 7963, 'neared': 7964, 'neighbor': 7965, 'nepali': 7966, 'nevada': 7967, 'nicaragua': 7968, 'niigata': 7969, 'oilfield': 7970, 'oprah': 7971, 'optus': 7972, 'ordinary': 7973, 'outages': 7974, 'panhandle': 7975, 'pardon': 7976, 'parked': 7977, 'participation': 7978, 'patrick': 7979, 'peshawar': 7980, 'plots': 7981, 'poet': 7982, 'populated': 7983, 'pornography': 7984, 'postwar': 7985, 'pradesh': 7986, 'prestigious': 7987, 'principles': 7988, 'prisons': 7989, 'properly': 7990, 'propose': 7991, 'provisional': 7992, 'q1': 7993, 'q2': 7994, 'racked': 7995, 'railroad': 7996, 'ranch': 7997, 'reception': 7998, 'recommending': 7999, 'redwood': 8000, 'refinancing': 8001, 'refining': 8002, 'renewal': 8003, 'requests': 8004, 'reservist': 8005, 'respite': 8006, 'restored': 8007, 'revamped': 8008, 'roche': 8009, 'rodrigo': 8010, 'roof': 8011, 'rooms': 8012, 'rulers': 8013, 'russias': 8014, 'sabmiller': 8015, 'sabre': 8016, 'salvage': 8017, 'screens': 8018, 'searches': 8019, 'shelves': 8020, 'sit': 8021, 'slapped': 8022, 'slim': 8023, 'smell': 8024, 'smucker': 8025, 'softening': 8026, 'sounded': 8027, 'speedy': 8028, 'standstill': 8029, 'statehood': 8030, 'stelmar': 8031, 'stuart': 8032, 'stung': 8033, 'stunning': 8034, 'suburban': 8035, 'succeeds': 8036, 'sultan': 8037, 'sum': 8038, 'survivor': 8039, 'suzuki': 8040, 'swainson': 8041, 'swelled': 8042, 'tapes': 8043, 'taxing': 8044, 'therapy': 8045, 'thick': 8046, 'throws': 8047, 'tomb': 8048, 'tonnes': 8049, 'totaling': 8050, 'transferred': 8051, 'trichet': 8052, 'tutsi': 8053, 'ukrainians': 8054, 'undermined': 8055, 'uneasy': 8056, 'unveiling': 8057, 'updates': 8058, 'v.': 8059, 'visteon': 8060, 'walkout': 8061, 'wartime': 8062, 'weeping': 8063, 'wells': 8064, 'wendy': 8065, 'whatever': 8066, 'wheels': 8067, 'widow': 8068, 'wielding': 8069, 'wisconsin': 8070, 'wracked': 8071, 'yearly': 8072, 'yusgiantoro': 8073, 'zero': 8074, '0.8': 8075, '1.9': 8076, '135': 8077, '141': 8078, '17th': 8079, '3.1': 8080, '36;1': 8081, '6.3': 8082, '6.5': 8083, '7.1': 8084, '76': 8085, '81': 8086, '8212': 8087, '92': 8088, '950': 8089, '\\\\$25.4': 8090, '\\\\$550': 8091, 'academic': 8092, 'admission': 8093, 'adolph': 8094, 'advertisements': 8095, 'advertisers': 8096, 'afford': 8097, 'agricultural': 8098, 'alter': 8099, 'alternatives': 8100, 'americas': 8101, 'ammunition': 8102, 'anarchy': 8103, 'anheuser': 8104, 'ann': 8105, 'anne': 8106, 'anonymity': 8107, 'anxiety': 8108, 'anywhere': 8109, 'appliances': 8110, 'appoint': 8111, 'ark.': 8112, 'armstrong': 8113, 'array': 8114, 'arts': 8115, 'australias': 8116, 'aylwin': 8117, 'baggage': 8118, 'bailout': 8119, 'barnes': 8120, 'bicycle': 8121, 'bissau': 8122, 'bochum': 8123, 'bouake': 8124, 'bskyb': 8125, 'bubble': 8126, 'builders': 8127, 'bumper': 8128, 'bumpy': 8129, 'burmese': 8130, 'chaba': 8131, 'chest': 8132, 'childhood': 8133, 'chronic': 8134, 'citrus': 8135, 'cleaning': 8136, 'clothes': 8137, 'coffin': 8138, 'cole': 8139, 'collar': 8140, 'comfortable': 8141, 'commissioners': 8142, 'committing': 8143, 'concludes': 8144, 'concluding': 8145, 'condemn': 8146, 'condolences': 8147, 'consent': 8148, 'contacted': 8149, 'cooperating': 8150, 'coveted': 8151, 'creator': 8152, 'criticizing': 8153, 'czech': 8154, 'defensive': 8155, 'denmark': 8156, 'describe': 8157, 'designate': 8158, 'deter': 8159, 'determination': 8160, 'difference': 8161, 'difficulties': 8162, 'dismantle': 8163, 'dismissing': 8164, 'disperse': 8165, 'dominates': 8166, 'dose': 8167, 'download': 8168, 'drugstore': 8169, 'dubbed': 8170, 'dulles': 8171, 'eastley': 8172, 'ed': 8173, 'embrace': 8174, 'emerges': 8175, 'emile': 8176, 'enlargement': 8177, 'evil': 8178, 'expectation': 8179, 'experienced': 8180, 'farewell': 8181, 'faults': 8182, 'fearing': 8183, 'ferrari': 8184, 'fifty': 8185, 'foothold': 8186, 'footing': 8187, 'forecasting': 8188, 'forging': 8189, 'frenzy': 8190, 'fullquote\"&gt;pfe.n&lt;/a&gt': 8191, 'gene': 8192, 'generals': 8193, 'giuliani': 8194, 'glaxo': 8195, 'globally': 8196, 'goodbye': 8197, 'gorda': 8198, 'gradually': 8199, 'grinstein': 8200, 'grower': 8201, 'hardly': 8202, 'headline': 8203, 'hearts': 8204, 'henry': 8205, 'hershey': 8206, 'hhg': 8207, 'hitler': 8208, 'hokkaido': 8209, 'hosts': 8210, 'hovering': 8211, 'idec': 8212, 'implications': 8213, 'inaugural': 8214, 'inaugurated': 8215, 'industrials': 8216, 'inmate': 8217, 'insiders': 8218, 'insufficient': 8219, 'jemaah': 8220, 'jimmy': 8221, 'kandahar': 8222, 'kb': 8223, 'kettles': 8224, 'kkd.n': 8225, 'koose': 8226, 'kufa': 8227, 'la.': 8228, 'lima': 8229, 'lindh': 8230, 'liners': 8231, 'listening': 8232, 'luiz': 8233, 'lull': 8234, 'lvmh': 8235, 'mafia': 8236, 'malaria': 8237, 'maoists': 8238, 'marie': 8239, 'marijuana': 8240, 'martinez': 8241, 'masters': 8242, 'matches': 8243, 'mediterranean': 8244, 'messaging': 8245, 'minn.': 8246, 'missouri': 8247, 'morale': 8248, 'muted': 8249, 'n.c.': 8250, 'namibia': 8251, 'nazis': 8252, 'newsletter': 8253, 'nice': 8254, 'nyc': 8255, 'obstacles': 8256, 'olive': 8257, 'ont': 8258, 'outlines': 8259, 'outraged': 8260, 'oversee': 8261, 'parade': 8262, 'parking': 8263, 'patience': 8264, 'peregrine': 8265, 'permit': 8266, 'pessimistic': 8267, 'pf': 8268, 'pharmacies': 8269, 'piper': 8270, 'pirates': 8271, 'pitched': 8272, 'playboy': 8273, 'plummeted': 8274, 'powerhouse': 8275, 'pricey': 8276, 'publicity': 8277, 'publish': 8278, 'punta': 8279, 'purposes': 8280, 'qualify': 8281, 'quantities': 8282, 'rage': 8283, 'raged': 8284, 'raines': 8285, 'rap': 8286, 'readiness': 8287, 'reelection': 8288, 'refueling': 8289, 'reinforced': 8290, 'relieved': 8291, 'reliever': 8292, 'reservists': 8293, 'restraint': 8294, 'restrict': 8295, 'revolutionary': 8296, 'ringing': 8297, 'rocky': 8298, 'roles': 8299, 'romanians': 8300, 'rooney': 8301, 'sanpaolo': 8302, 'sans': 8303, 'satellites': 8304, 'sendo': 8305, 'sewage': 8306, 'shaped': 8307, 'shifted': 8308, 'shrank': 8309, 'signature': 8310, 'sin': 8311, 'slot': 8312, 'softer': 8313, 'solidarity': 8314, 'spar': 8315, 'specter': 8316, 'spiral': 8317, 'springs': 8318, 'stave': 8319, 'steadies': 8320, 'stockholders': 8321, 'stole': 8322, 'stonecipher': 8323, 'supplied': 8324, 'syndrome': 8325, 'tampa': 8326, 'taxus': 8327, 'tearing': 8328, 'thales': 8329, 'theater': 8330, 'tightly': 8331, 'tippingpoint': 8332, 'titles': 8333, 'tokage': 8334, 'touts': 8335, 'tracks': 8336, 'transform': 8337, 'travels': 8338, 'treating': 8339, 'treo': 8340, 'turbulent': 8341, 'turnover': 8342, 'typical': 8343, 'ualaq.ob': 8344, 'ultimate': 8345, 'unconfirmed': 8346, 'unocal': 8347, 'unwanted': 8348, 'upstart': 8349, 'viewed': 8350, 'vigil': 8351, 'wear': 8352, 'wet': 8353, 'wickets': 8354, 'wis.': 8355, 'wraps': 8356, 'wreck': 8357, 'youths': 8358, 'zawahri': 8359, '1.4': 8360, '110': 8361, '150,000': 8362, '170': 8363, '2-us': 8364, '2.25': 8365, '386': 8366, '58': 8367, '6.1': 8368, '7.8': 8369, '850': 8370, '\\\\$126': 8371, '\\\\$13.5': 8372, '\\\\$16': 8373, '\\\\$415': 8374, '\\\\$725': 8375, '\\\\$9': 8376, 'abdication': 8377, 'actors': 8378, 'afraid': 8379, 'airing': 8380, 'ambev': 8381, 'amjad': 8382, 'amp;a': 8383, 'announcements': 8384, 'anthony': 8385, 'archbishop': 8386, 'arson': 8387, 'ashore': 8388, 'associate': 8389, 'authoritarian': 8390, 'authorize': 8391, 'babies': 8392, 'ballmer': 8393, 'balloting': 8394, 'batch': 8395, 'battalion': 8396, 'bertie': 8397, 'bipartisan': 8398, 'biz': 8399, 'bleidt': 8400, 'blueprint': 8401, 'blues': 8402, 'bowing': 8403, 'bowl': 8404, 'breast': 8405, 'briefing': 8406, 'bronze': 8407, 'busch': 8408, 'bust': 8409, 'c.i.a.': 8410, 'campaigned': 8411, 'campaigner': 8412, 'cao': 8413, 'cd': 8414, 'ceos': 8415, 'chambers': 8416, 'checked': 8417, 'chi': 8418, 'chilling': 8419, 'chris': 8420, 'clinched': 8421, 'clogged': 8422, 'cognos': 8423, 'commentary': 8424, 'conciliatory': 8425, 'condemnation': 8426, 'cope': 8427, 'covers': 8428, 'daschle': 8429, 'dave': 8430, 'dedicated': 8431, 'deepen': 8432, 'demise': 8433, 'dependence': 8434, 'depends': 8435, 'desperately': 8436, 'destroys': 8437, 'diabetes': 8438, 'diamond': 8439, 'differ': 8440, 'dioxin': 8441, 'directed': 8442, 'dismissal': 8443, 'dole': 8444, 'dominican': 8445, 'doses': 8446, 'downturn': 8447, 'dram': 8448, 'elimination': 8449, 'enable': 8450, 'enriching': 8451, 'enrnq.pk': 8452, 'environmentalists': 8453, 'exceeding': 8454, 'exception': 8455, 'excited': 8456, 'expired': 8457, 'f': 8458, 'fanfare': 8459, 'fdx.n': 8460, 'feeding': 8461, 'finishing': 8462, 'firefighters': 8463, 'firmed': 8464, 'flocked': 8465, 'floodwaters': 8466, 'flush': 8467, 'forex': 8468, 'framework': 8469, 'frightened': 8470, 'fta': 8471, 'ftc': 8472, 'fuelled': 8473, 'fullquote\"&gt;ba.n&lt;/a&gt': 8474, 'furious': 8475, 'gases': 8476, 'gays': 8477, 'gears': 8478, 'glut': 8479, 'graham': 8480, 'grass': 8481, 'grumman': 8482, 'gurkhas': 8483, 'hal.n': 8484, 'hamilton': 8485, 'harris': 8486, 'hathaway': 8487, 'heal': 8488, 'heats': 8489, 'hint': 8490, 'holocaust': 8491, 'homer': 8492, 'homered': 8493, 'humanity': 8494, 'hung': 8495, 'hunters': 8496, 'hurled': 8497, 'hyderabad': 8498, 'importing': 8499, 'indefinite': 8500, 'infiltrated': 8501, 'ingram': 8502, 'ingredient': 8503, 'innovative': 8504, 'invading': 8505, 'involve': 8506, 'jay': 8507, 'jc': 8508, 'jebaliya': 8509, 'juan': 8510, 'kickbacks': 8511, 'klein': 8512, 'knock': 8513, 'krawcheck': 8514, 'lampert': 8515, 'latter': 8516, 'letting': 8517, 'limiting': 8518, 'liquid': 8519, 'lnr': 8520, 'lobbying': 8521, 'locals': 8522, 'loomed': 8523, 'loose': 8524, 'loved': 8525, 'luis': 8526, 'lunch': 8527, 'madonna': 8528, 'makeover': 8529, 'malpractice': 8530, 'manipur': 8531, 'mann': 8532, 'mars': 8533, 'mcd.n': 8534, 'meari': 8535, 'mechanics': 8536, 'menlo': 8537, 'migration': 8538, 'minds': 8539, 'missions': 8540, 'mistakenly': 8541, 'mobs': 8542, 'moktada': 8543, 'moral': 8544, 'mordechai': 8545, 'mounts': 8546, 'mouse': 8547, 'mtv': 8548, 'nascent': 8549, 'neighborhoods': 8550, 'newsday': 8551, 'nominations': 8552, 'normally': 8553, 'noted': 8554, 'notified': 8555, 'ntt': 8556, 'observer': 8557, 'operated': 8558, 'optic': 8559, 'oregon': 8560, 'oriented': 8561, 'pacts': 8562, 'paintings': 8563, 'paragraph': 8564, 'pattani': 8565, 'paused': 8566, 'permanently': 8567, 'permits': 8568, 'poles': 8569, 'prefecture': 8570, 'psychological': 8571, 'pumped': 8572, 'pursued': 8573, 'radar': 8574, 'rafah': 8575, 'raft': 8576, 'raped': 8577, 'rebounding': 8578, 'regret': 8579, 'reinforce': 8580, 'rejoin': 8581, 'rely': 8582, 'remembered': 8583, 'renews': 8584, 'resembling': 8585, 'reservations': 8586, 'reshape': 8587, 'resident': 8588, 'resist': 8589, 'rev': 8590, 'rewrite': 8591, 'roadmap': 8592, 'roadway': 8593, 'rod': 8594, 'roots': 8595, 'rosy': 8596, 'roundup': 8597, 's.africa': 8598, 'safely': 8599, 'sagging': 8600, 'sanofi': 8601, 'satisfaction': 8602, 'scrapped': 8603, 'sean': 8604, 'sentencing': 8605, 'serbs': 8606, 'shipped': 8607, 'shirts': 8608, 'skin': 8609, 'slumps': 8610, 'snaps': 8611, 'specific': 8612, 'sporting': 8613, 'sprawling': 8614, 'steer': 8615, 'stoking': 8616, 'sungard': 8617, 'superstar': 8618, 'supplying': 8619, 'sustain': 8620, 'sway': 8621, 'swiftly': 8622, 'ted': 8623, 'theory': 8624, 'tibet': 8625, 'topic': 8626, 'topple': 8627, 'transit': 8628, 'transparency': 8629, 'travelling': 8630, 'turner': 8631, 'u': 8632, 'u.k.': 8633, 'ugandan': 8634, 'unctad': 8635, 'unionized': 8636, 'unitedhealth': 8637, 'unpopular': 8638, 'upgraded': 8639, 'vector': 8640, 'verheugen': 8641, 'vna': 8642, 'void': 8643, 'volunteers': 8644, 'vornado': 8645, 'walker': 8646, 'warfare': 8647, 'wheel': 8648, 'wines': 8649, 'winnipeg': 8650, 'x': 8651, 'xiaoping': 8652, 'zapatero': 8653, '/prnewswire': 8654, '103': 8655, '114': 8656, '17-year': 8657, '20th': 8658, '240': 8659, '30-day': 8660, '39;the': 8661, '5.2': 8662, '7.5': 8663, '8.5': 8664, '94': 8665, '99': 8666, '\\\\$1.35': 8667, '\\\\$1.7': 8668, '\\\\$36': 8669, 'ablaze': 8670, 'adapt': 8671, 'advancing': 8672, 'advantest': 8673, 'aerial': 8674, 'afx': 8675, 'alarmed': 8676, 'alarming': 8677, 'albanians': 8678, 'alcatel': 8679, 'alex': 8680, 'amex': 8681, 'angel': 8682, 'apologise': 8683, 'applying': 8684, 'arbitration': 8685, 'arena': 8686, 'arkansas': 8687, 'artist': 8688, 'asem': 8689, 'assaults': 8690, 'astana': 8691, 'asx': 8692, 'attracted': 8693, 'audiotape': 8694, 'automatic': 8695, 'avon': 8696, 'ayman': 8697, 'badawi': 8698, 'bancorp': 8699, 'barneys': 8700, 'bearish': 8701, 'begged': 8702, 'bermuda': 8703, 'billionaires': 8704, 'bitterly': 8705, 'bjp': 8706, 'bodyguard': 8707, 'boerse': 8708, 'bonuses': 8709, 'booking': 8710, 'bottling': 8711, 'bounces': 8712, 'brave': 8713, 'brazen': 8714, 'breakfast': 8715, 'brewery': 8716, 'brightens': 8717, 'buildup': 8718, 'bump': 8719, 'burgeoning': 8720, 'cafe': 8721, 'cairn': 8722, 'candidacy': 8723, 'caps': 8724, 'capsule': 8725, 'cautiously': 8726, 'cellphones': 8727, 'censure': 8728, 'cerberus': 8729, 'checkpoints': 8730, 'chissano': 8731, 'cholesterol': 8732, 'cio': 8733, 'classified': 8734, 'cleaner': 8735, 'cologne': 8736, 'conclude': 8737, 'conclusion': 8738, 'conditional': 8739, 'congestion': 8740, 'console': 8741, 'contention': 8742, 'contribution': 8743, 'converting': 8744, 'coordinate': 8745, 'cosmetics': 8746, 'credentials': 8747, 'crept': 8748, 'cubans': 8749, 'cutbacks': 8750, 'dan': 8751, 'danish': 8752, 'daughters': 8753, 'deaf': 8754, 'decreased': 8755, 'defeats': 8756, 'designs': 8757, 'detection': 8758, 'digested': 8759, 'dioxide': 8760, 'dipping': 8761, 'directory': 8762, 'disabled': 8763, 'disc': 8764, 'dismal': 8765, 'dispel': 8766, 'distributed': 8767, 'dividing': 8768, 'docomo': 8769, 'documentary': 8770, 'drastic': 8771, 'durango': 8772, 'edvard': 8773, 'elephants': 8774, 'eleven': 8775, 'engage': 8776, 'engulfed': 8777, 'enormous': 8778, 'entirely': 8779, 'entrepreneur': 8780, 'equivalent': 8781, 'eritrea': 8782, 'escalated': 8783, 'exercises': 8784, 'exiles': 8785, 'expensing': 8786, 'fades': 8787, 'fault': 8788, 'favors': 8789, 'favourite': 8790, 'feb.': 8791, 'fec': 8792, 'fernando': 8793, 'fi': 8794, 'fiasco': 8795, 'firstcall/': 8796, 'fishermen': 8797, 'flares': 8798, 'flowing': 8799, 'fon.n': 8800, 'forever': 8801, 'forwarding': 8802, 'frame': 8803, 'fray': 8804, 'frederick': 8805, 'fullquote\"&gt;fnm.n&lt;/a&gt': 8806, 'ga.': 8807, 'ge.n': 8808, 'georgetown': 8809, 'gerald': 8810, 'gloom': 8811, 'greets': 8812, 'grouping': 8813, 'gujarat': 8814, 'gwr': 8815, 'hampered': 8816, 'handful': 8817, 'hardest': 8818, 'harmful': 8819, 'hawaii': 8820, 'hazardous': 8821, 'healthsouth': 8822, 'hell': 8823, 'henman': 8824, 'hezbollah': 8825, 'hop': 8826, 'horrific': 8827, 'hubs': 8828, 'hunter': 8829, 'hydroelectric': 8830, 'hyundai': 8831, 'ibm.n': 8832, 'ignore': 8833, 'inaccurate': 8834, 'inacio': 8835, 'incredibles': 8836, 'indicator': 8837, 'infected': 8838, 'inflate': 8839, 'inland': 8840, 'int': 8841, 'interactive': 8842, 'islamonline.net': 8843, 'javier': 8844, 'jeopardy': 8845, 'jewelry': 8846, 'jittery': 8847, 'jumping': 8848, 'jungle': 8849, 'laundry': 8850, 'lawn': 8851, 'laying': 8852, 'leonid': 8853, 'locust': 8854, 'lourdes': 8855, 'lt': 8856, 'luck': 8857, 'lucky': 8858, 'mailed': 8859, 'maintaining': 8860, 'maintains': 8861, 'male': 8862, 'manny': 8863, 'marginally': 8864, 'maritime': 8865, 'matsushita': 8866, 'megi': 8867, 'memories': 8868, 'mercenary': 8869, 'mercury': 8870, 'microcell': 8871, 'minerals': 8872, 'minh': 8873, 'monarch': 8874, 'motive': 8875, 'motorcycle': 8876, 'mouth': 8877, 'murders': 8878, 'muscle': 8879, 'naming': 8880, 'nasa': 8881, 'natick': 8882, 'nationalists': 8883, 'neurontin': 8884, 'newer': 8885, 'nfl': 8886, 'nfld': 8887, 'ngc': 8888, 'nonetheless': 8889, 'noranda': 8890, 'novartis': 8891, 'nowhere': 8892, 'obligations': 8893, 'obstructing': 8894, 'opener': 8895, 'opinions': 8896, 'overture': 8897, 'oxfam': 8898, 'pages': 8899, 'partisan': 8900, 'peg': 8901, 'pensacola': 8902, 'perth': 8903, 'pilgrim': 8904, 'pit': 8905, 'pitches': 8906, 'plague': 8907, 'plug': 8908, 'praising': 8909, 'pride': 8910, 'print': 8911, 'prius': 8912, 'privatize': 8913, 'prizes': 8914, 'prolonged': 8915, 'propel': 8916, 'prospective': 8917, 'protested': 8918, 'purge': 8919, 'quot;best': 8920, 'quot;illegal': 8921, 'quot;in': 8922, 'r.': 8923, 'raffarin': 8924, 'reagan': 8925, 'realty': 8926, 'rebellious': 8927, 'religion': 8928, 'remarkable': 8929, 'reopening': 8930, 'respects': 8931, 'retreats': 8932, 'rig': 8933, 'rigs': 8934, 'rips': 8935, 'rivera': 8936, 'rochester': 8937, 'royalties': 8938, 'sack': 8939, 'saint': 8940, 'sandy': 8941, 'sardinia': 8942, 'scholars': 8943, 'selection': 8944, 'serves': 8945, 'shells': 8946, 'shiites': 8947, 'shimon': 8948, 'shrink': 8949, 'sinking': 8950, 'sinopec': 8951, 'skepticism': 8952, 'slept': 8953, 'smiling': 8954, 'snapped': 8955, 'sonic': 8956, 'soothe': 8957, 'spared': 8958, 'spc': 8959, 'spokesperson': 8960, 'stabilizing': 8961, 'stirring': 8962, 'stockbroker': 8963, 'stormy': 8964, 'stream': 8965, 'subpoenas': 8966, 'suffocated': 8967, 'supergen': 8968, 'surcharges': 8969, 'surrenders': 8970, 'switching': 8971, 'tame': 8972, 'telemarketing': 8973, 'telephony': 8974, 'tendulkar': 8975, 'terry': 8976, 'tibetan': 8977, 'touches': 8978, 'tournament': 8979, 'traian': 8980, 'transatlantic': 8981, 'tremor': 8982, 'trick': 8983, 'tsx': 8984, 'turk': 8985, 'tussle': 8986, 'txn.n': 8987, 'tying': 8988, 'uncle': 8989, 'understood': 8990, 'univision': 8991, 'unsafe': 8992, 'upsurge': 8993, 'vaccines': 8994, 'ventures': 8995, 'vessel': 8996, 'viagra': 8997, 'vicente': 8998, 'victoria': 8999, 'vp': 9000, 'warmer': 9001, 'wasn': 9002, 'waving': 9003, 'wayne': 9004, 'weakest': 9005, 'welcoming': 9006, 'wi': 9007, 'winemaker': 9008, 'wipe': 9009, 'wishes': 9010, 'witnessed': 9011, 'worsens': 9012, '18-year': 9013, '2.1': 9014, '300,000': 9015, '39;l': 9016, '4-year': 9017, '425': 9018, '68': 9019, '750': 9020, '777': 9021, '87': 9022, '96': 9023, '\\\\$13': 9024, '\\\\$19': 9025, '\\\\$2.8': 9026, '\\\\$42': 9027, '\\\\$519': 9028, 'abkhazia': 9029, 'absent': 9030, 'acceptable': 9031, 'accredo': 9032, 'accurate': 9033, 'acute': 9034, 'adopting': 9035, 'aeronautic': 9036, 'affordable': 9037, 'afl': 9038, 'agi': 9039, 'alberto': 9040, 'alerts': 9041, 'alzheimer': 9042, 'anthrax': 9043, 'antidepressant': 9044, 'appliance': 9045, 'aqsa': 9046, 'armor': 9047, 'assume': 9048, 'ati': 9049, 'attractive': 9050, 'auditing': 9051, 'autos': 9052, 'aventis': 9053, 'averting': 9054, 'backdrop': 9055, 'background': 9056, 'baldoni': 9057, 'banda': 9058, 'barges': 9059, 'barnier': 9060, 'barometer': 9061, 'baxter': 9062, 'beheadings': 9063, 'beit': 9064, 'blackrock': 9065, 'blower': 9066, 'blowing': 9067, 'bonanza': 9068, 'bookings': 9069, 'bottles': 9070, 'boycotted': 9071, 'braves': 9072, 'breaching': 9073, 'bribe': 9074, 'capitals': 9075, 'carefully': 9076, 'carlyle': 9077, 'carnage': 9078, 'cbms': 9079, 'cherkasky': 9080, 'chevrontexaco': 9081, 'cigarettes': 9082, 'circumstances': 9083, 'clip': 9084, 'cnf': 9085, 'collecting': 9086, 'color': 9087, 'comfort': 9088, 'commemorate': 9089, 'computerworld': 9090, 'comrades': 9091, 'conagra': 9092, 'concede': 9093, 'congratulated': 9094, 'consultant': 9095, 'consultants': 9096, 'contend': 9097, 'converted': 9098, 'convincing': 9099, 'coroner': 9100, 'costello': 9101, 'costing': 9102, 'counterfeit': 9103, 'counterterrorism': 9104, 'countrywide': 9105, 'covert': 9106, 'cream': 9107, 'crocodile': 9108, 'crore': 9109, 'davita': 9110, 'debated': 9111, 'defenses': 9112, 'defied': 9113, 'defrauded': 9114, 'denounce': 9115, 'denounces': 9116, 'deposed': 9117, 'deposit': 9118, 'derek': 9119, 'descended': 9120, 'describes': 9121, 'dhl': 9122, 'diminished': 9123, 'diseases': 9124, 'doomed': 9125, 'ds': 9126, 'dup': 9127, 'dust': 9128, 'effectiveness': 9129, 'egg': 9130, 'eilat': 9131, 'elder': 9132, 'electrolux': 9133, 'embraced': 9134, 'embroiled': 9135, 'enjoying': 9136, 'epilepsy': 9137, 'eroded': 9138, 'erupt': 9139, 'europes': 9140, 'explanation': 9141, 'extent': 9142, 'extradite': 9143, 'f1': 9144, 'fading': 9145, 'famed': 9146, 'fasher': 9147, 'fever': 9148, 'financially': 9149, 'flames': 9150, 'flashpoint': 9151, 'floating': 9152, 'foray': 9153, 'forged': 9154, 'freely': 9155, 'fretted': 9156, 'fujimori': 9157, 'fullquote\"&gt;gdt.n&lt;/a&gt': 9158, 'g8': 9159, 'gadhafi': 9160, 'glimpse': 9161, 'gmt': 9162, 'gore': 9163, 'grieving': 9164, 'guardian': 9165, 'guest': 9166, 'guests': 9167, 'guided': 9168, 'guidelines': 9169, 'h5n1': 9170, 'hampshire': 9171, 'hans': 9172, 'headscarf': 9173, 'highlighted': 9174, 'highways': 9175, 'homebuilder': 9176, 'honored': 9177, 'hormone': 9178, 'hostility': 9179, 'humans': 9180, 'iconic': 9181, 'ignited': 9182, 'indigenous': 9183, 'infection': 9184, 'infosys': 9185, 'insured': 9186, 'intrusion': 9187, 'invaded': 9188, 'invite': 9189, 'isg': 9190, 'item': 9191, 'janeiro': 9192, 'janus': 9193, 'jim': 9194, 'jnj.n': 9195, 'junior': 9196, 'kadyrov': 9197, 'kilometres': 9198, 'kiosks': 9199, 'kyushu': 9200, 'lags': 9201, 'laredo': 9202, 'lashing': 9203, 'leasing': 9204, 'legitimacy': 9205, 'lend': 9206, 'lg': 9207, 'limbo': 9208, 'linger': 9209, 'lining': 9210, 'listings': 9211, 'lithuanian': 9212, 'llp': 9213, 'lovers': 9214, 'lse': 9215, 'maharashtra': 9216, 'malcolm': 9217, 'malnutrition': 9218, 'manhunt': 9219, 'manner': 9220, 'manufacture': 9221, 'metcash': 9222, 'mg': 9223, 'migrant': 9224, 'minivans': 9225, 'misery': 9226, 'mistaken': 9227, 'mom': 9228, 'moroccan': 9229, 'movements': 9230, 'munich': 9231, 'mutineers': 9232, 'mwd.n': 9233, 'necessarily': 9234, 'neighbour': 9235, 'newfoundland': 9236, 'nke.n': 9237, 'nonprofit': 9238, 'notebook': 9239, 'nutrition': 9240, 'oath': 9241, 'of\\\\the': 9242, 'okinawa': 9243, 'opium': 9244, 'origami': 9245, 'outdoor': 9246, 'outline': 9247, 'pacificare': 9248, 'paint': 9249, 'paperwork': 9250, 'paralympics': 9251, 'pared': 9252, 'peoples': 9253, 'permata': 9254, 'photographs': 9255, 'pioneering': 9256, 'pitting': 9257, 'plantation': 9258, 'planting': 9259, 'plasma': 9260, 'plight': 9261, 'policing': 9262, 'predictions': 9263, 'presents': 9264, 'preserve': 9265, 'prix': 9266, 'programmes': 9267, 'protects': 9268, 'provoked': 9269, 'publication': 9270, 'publications': 9271, 'pupils': 9272, 'pursues': 9273, 'qassam': 9274, 'qualifying': 9275, 'questionable': 9276, 'quiz': 9277, 'quot;it': 9278, 'react': 9279, 'reap': 9280, 'reassuring': 9281, 'rebuffs': 9282, 'recognizes': 9283, 'recoup': 9284, 'referred': 9285, 'reinforcements': 9286, 'reinforcing': 9287, 'relics': 9288, 'relocate': 9289, 'remembers': 9290, 'rentokil': 9291, 'represented': 9292, 'restitution': 9293, 'restricting': 9294, 'retains': 9295, 'revoke': 9296, 'rioting': 9297, 'rivalry': 9298, 'routine': 9299, 'runner': 9300, 'sailor': 9301, 'saskatchewan': 9302, 'satisfied': 9303, 'scales': 9304, 'scathing': 9305, 'sch': 9306, 'scotia': 9307, 'screeners': 9308, 'screening': 9309, 'sedan': 9310, 'sellers': 9311, 'shade': 9312, 'shakeup': 9313, 'shaking': 9314, 'sharm': 9315, 'shattering': 9316, 'sheik': 9317, 'shore': 9318, 'shores': 9319, 'shortened': 9320, 'shosei': 9321, 'shutdown': 9322, 'shwe': 9323, 'simona': 9324, 'skidded': 9325, 'sleep': 9326, 'slice': 9327, 'snag': 9328, 'softness': 9329, 'spammers': 9330, 'spectacular': 9331, 'speeds': 9332, 'spilled': 9333, 'spoken': 9334, 'stark': 9335, 'steadied': 9336, 'stearns': 9337, 'strategists': 9338, 'stress': 9339, 'strongman': 9340, 'stubbornly': 9341, 'succeeding': 9342, 'suha': 9343, 'suitor': 9344, 'supporter': 9345, 'swell': 9346, 'tactic': 9347, 'tag': 9348, 'takeovers': 9349, 'tarnished': 9350, 'termed': 9351, 'the\\\\united': 9352, 'thompson': 9353, 'tide': 9354, 'topix': 9355, 'tories': 9356, 'touching': 9357, 'trash': 9358, 'tribesmen': 9359, 'tributes': 9360, 'trinidad': 9361, 'trips': 9362, 'trusts': 9363, 'tune': 9364, 'tvs': 9365, 'uncertainties': 9366, 'underwent': 9367, 'unfairly': 9368, 'unhurt': 9369, 'unlike': 9370, 'unprofitable': 9371, 'update6': 9372, 'us\\\\$1': 9373, 'usda': 9374, 'venerable': 9375, 'walks': 9376, 'wallets': 9377, 'wana': 9378, 'waning': 9379, 'wanting': 9380, 'watches': 9381, 'weakens': 9382, 'wembley': 9383, 'whampoa': 9384, 'wholesaler': 9385, 'wilmington': 9386, 'writers': 9387, 'wrongly': 9388, 'xp': 9389, 'zanu': 9390, 'zones': 9391, \"'m\": 9392, '1,400': 9393, '1965': 9394, '2012': 9395, '25,000': 9396, '337,000': 9397, '36;49': 9398, '5.8': 9399, '550': 9400, '84': 9401, '\\\\$115': 9402, '\\\\$2bn': 9403, '\\\\$970': 9404, '\\\\the': 9405, 'a\\\\barrel': 9406, 'aa.n': 9407, 'abandoning': 9408, 'abimael': 9409, 'aboriginal': 9410, 'accelerate': 9411, 'accelerating': 9412, 'acceptance': 9413, 'acknowledges': 9414, 'acknowledging': 9415, 'alta': 9416, 'amend': 9417, 'amidst': 9418, 'andean': 9419, 'anyway': 9420, 'apartments': 9421, 'apologises': 9422, 'arctic': 9423, 'arial': 9424, 'arteries': 9425, 'ashcroft': 9426, 'assumed': 9427, 'assure': 9428, 'atkins': 9429, 'attached': 9430, 'attitude': 9431, 'autumn': 9432, 'avoids': 9433, 'awami': 9434, 'basement': 9435, 'bbdb': 9436, 'beautiful': 9437, 'begs': 9438, 'beside': 9439, 'blessing': 9440, 'bloated': 9441, 'bombardment': 9442, 'bordering': 9443, 'bottle': 9444, 'bows': 9445, 'brake': 9446, 'brakes': 9447, 'bribing': 9448, 'brigades': 9449, 'buddhists': 9450, 'bulgarian': 9451, 'burns': 9452, 'ca.n': 9453, 'cache': 9454, 'cameraman': 9455, 'candles': 9456, 'capitalists': 9457, 'carb': 9458, 'catching': 9459, 'centres': 9460, 'chanting': 9461, 'character': 9462, 'cheese': 9463, 'chooses': 9464, 'chorus': 9465, 'clampdown': 9466, 'cn': 9467, 'collective': 9468, 'colleges': 9469, 'colvin': 9470, 'combatants': 9471, 'condoleezza': 9472, 'confession': 9473, 'connect': 9474, 'consistent': 9475, 'contender': 9476, 'contrast': 9477, 'cook': 9478, 'creative': 9479, 'crimp': 9480, 'critic': 9481, 'criticises': 9482, 'csco.o': 9483, 'cure': 9484, 'cushion': 9485, 'dal': 9486, 'dashed': 9487, 'dating': 9488, 'davis': 9489, 'debuts': 9490, 'deception': 9491, 'decrease': 9492, 'deepened': 9493, 'defected': 9494, 'defectors': 9495, 'defunct': 9496, 'defused': 9497, 'deliberations': 9498, 'democratically': 9499, 'demonstrate': 9500, 'dented': 9501, 'dependent': 9502, 'depressed': 9503, 'descendants': 9504, 'deserve': 9505, 'deserves': 9506, 'detaining': 9507, 'deterrent': 9508, 'devolution': 9509, 'devoted': 9510, 'diebold': 9511, 'digest': 9512, 'dinner': 9513, 'disastrous': 9514, 'disciplined': 9515, 'disrupting': 9516, 'districts': 9517, 'dividends': 9518, 'divisive': 9519, 'dock': 9520, 'dogged': 9521, 'doughnut': 9522, 'downloads': 9523, 'dragging': 9524, 'drift': 9525, 'druyun': 9526, 'duffield': 9527, 'earning': 9528, 'eas': 9529, 'ecstasy': 9530, 'efficiency': 9531, 'eid': 9532, 'elements': 9533, 'elusive': 9534, 'emc': 9535, 'encounter': 9536, 'enforce': 9537, 'enjoys': 9538, 'enzo': 9539, 'eradicate': 9540, 'escorted': 9541, 'eventual': 9542, 'exelon': 9543, 'exempt': 9544, 'exist': 9545, 'explaining': 9546, 'expos': 9547, 'face=\"verdana': 9548, 'faded': 9549, 'fat': 9550, 'fathers': 9551, 'featuring': 9552, 'fletcher': 9553, 'floated': 9554, 'floors': 9555, 'fonterra': 9556, 'footwear': 9557, 'forests': 9558, 'forthcoming': 9559, 'franc': 9560, 'franchise': 9561, 'frattini': 9562, 'fraudulently': 9563, 'frills': 9564, 'fullquote\"&gt;jnj.n&lt;/a&gt': 9565, 'fullquote\"&gt;nt.to&lt;/a&gt': 9566, 'gaston': 9567, 'gauhati': 9568, 'gen': 9569, 'genetically': 9570, 'glenmorangie': 9571, 'gotten': 9572, 'greet': 9573, 'guatemala': 9574, 'gymnastics': 9575, 'hampering': 9576, 'harvest': 9577, 'headwinds': 9578, 'heartbeat': 9579, 'heed': 9580, 'helvetica': 9581, 'hensley': 9582, 'hijack': 9583, 'holes': 9584, 'horizon': 9585, 'hostess': 9586, 'hostilities': 9587, 'hover': 9588, 'hoy': 9589, 'hpq.n': 9590, 'hudson': 9591, 'humana': 9592, 'idf': 9593, 'imbalances': 9594, 'imclone': 9595, 'implementing': 9596, 'implicated': 9597, 'infiltration': 9598, 'inflows': 9599, 'insist': 9600, 'insures': 9601, 'integrated': 9602, 'intensity': 9603, 'internationally': 9604, 'invalid': 9605, 'investigative': 9606, 'irin': 9607, 'japans': 9608, 'jetliners': 9609, 'jolts': 9610, 'katmandu': 9611, 'kharrazi': 9612, 'khurshid': 9613, 'knowledge': 9614, 'latvia': 9615, 'lauds': 9616, 'leaked': 9617, 'lean': 9618, 'lennar': 9619, 'levi': 9620, 'levy': 9621, 'lieutenants': 9622, 'lingered': 9623, 'lit': 9624, 'lofty': 9625, 'lone': 9626, 'loyalist': 9627, 'lured': 9628, 'mahdi': 9629, 'mahmud': 9630, 'majors': 9631, 'malabo': 9632, 'mandela': 9633, 'markdowns': 9634, 'matching': 9635, 'may.': 9636, 'mcgee': 9637, 'memphis': 9638, 'menace': 9639, 'menu': 9640, 'merely': 9641, 'mervyn': 9642, 'meteorological': 9643, 'mongolia': 9644, 'monster': 9645, 'muammar': 9646, 'multimedia': 9647, 'mum': 9648, 'mutilated': 9649, 'n.j.': 9650, 'nadu': 9651, 'nastase': 9652, 'netegrity': 9653, 'neutral': 9654, 'niche': 9655, 'nielsen': 9656, 'nominate': 9657, 'nordstrom': 9658, 'npr': 9659, 'nun': 9660, 'nvidia': 9661, 'offensives': 9662, 'operational': 9663, 'ops': 9664, 'outage': 9665, 'outsource': 9666, 'passports': 9667, 'pat': 9668, 'pathmark': 9669, 'pattern': 9670, 'payoffs': 9671, 'pen': 9672, 'penthouse': 9673, 'pharma': 9674, 'ponders': 9675, 'portions': 9676, 'portrayed': 9677, 'pota': 9678, 'powder': 9679, 'prediction': 9680, 'premarket': 9681, 'presumed': 9682, 'printer': 9683, 'prodi': 9684, 'promotions': 9685, 'prop': 9686, 'protracted': 9687, 'proving': 9688, 'pumps': 9689, 'punishment': 9690, 'purchasing': 9691, 'qureia': 9692, 'rammed': 9693, 'random': 9694, 'rapes': 9695, 'rash': 9696, 'rationale': 9697, 'rattle': 9698, 'ravine': 9699, 'realignment': 9700, 'realnetworks': 9701, 'reclaim': 9702, 'reconsider': 9703, 'reference': 9704, 'refinance': 9705, 'reflected': 9706, 'registering': 9707, 'reins': 9708, 'reluctance': 9709, 'reopens': 9710, 'resilient': 9711, 'responds': 9712, 'restatement': 9713, 'retaliate': 9714, 'riches': 9715, 'rick': 9716, 'ridden': 9717, 'riddled': 9718, 'rituxan': 9719, 'rivers': 9720, 'roadblock': 9721, 'robertson': 9722, 'romney': 9723, 'rumbled': 9724, 'runway': 9725, 'sagged': 9726, 'sanderson': 9727, 'sands': 9728, 'sara': 9729, 'savvy': 9730, 'schoolchildren': 9731, 'schwarz': 9732, 'scope': 9733, 'serif': 9734, 'sham': 9735, 'shelf': 9736, 'shipper': 9737, 'showcase': 9738, 'shrines': 9739, 'shrugging': 9740, 'shuffled': 9741, 'sia': 9742, 'sikh': 9743, 'singing': 9744, 'slack': 9745, 'slated': 9746, 'slowest': 9747, 'snapshot': 9748, 'sneakers': 9749, 'snubs': 9750, 'soaked': 9751, 'soda': 9752, 'softened': 9753, 'sonoma': 9754, 'span': 9755, 'spiraling': 9756, 'splinter': 9757, 'sponsor': 9758, 'squibb': 9759, 'startup': 9760, 'stationed': 9761, 'stents': 9762, 'stoppage': 9763, 'strips': 9764, 'successive': 9765, 'suicidal': 9766, 'superior': 9767, 'surfer': 9768, 'susan': 9769, 'sweeps': 9770, 'sweetened': 9771, 'switches': 9772, 'tags': 9773, 'tapping': 9774, 'teaming': 9775, 'tempered': 9776, 'tenth': 9777, 'terrified': 9778, 'thoughts': 9779, 'tikrit': 9780, 'to&lt;/a&gt': 9781, 'toledo': 9782, 'torturing': 9783, 'tracked': 9784, 'transitional': 9785, 'tug': 9786, 'turbulence': 9787, 'twx.n': 9788, 'u.s.-based': 9789, 'uda': 9790, 'unabated': 9791, 'unacceptable': 9792, 'underage': 9793, 'underscored': 9794, 'unified': 9795, 'unionist': 9796, 'unlimited': 9797, 'unspecified': 9798, 'upgrading': 9799, 'upside': 9800, 'uss': 9801, 'valuation': 9802, 'vanished': 9803, 'versions': 9804, 'victor': 9805, 'warheads': 9806, 'wheat': 9807, 'withstand': 9808, 'worshippers': 9809, 'wrath': 9810, 'wrecked': 9811, 'xom.n': 9812, 'yanks': 9813, 'yanukovich': 9814, 'younis': 9815, '0.7': 9816, '0.9': 9817, '1-us': 9818, '112,000': 9819, '148': 9820, '155': 9821, '2-year': 9822, '2.3bn': 9823, '2009': 9824, '24-year': 9825, '36;47': 9826, '39;asyir': 9827, '39;no': 9828, '39;not': 9829, '39;we': 9830, '4.8': 9831, '400,000': 9832, '5.5': 9833, '\\\\$1.48': 9834, '\\\\$1.5bn': 9835, '\\\\$1.67': 9836, '\\\\$11.5': 9837, '\\\\$117': 9838, '\\\\$145': 9839, '\\\\$1b': 9840, '\\\\$2.5': 9841, '\\\\$21': 9842, '\\\\$225': 9843, '\\\\$280': 9844, '\\\\$350,000': 9845, 'a380': 9846, 'achievement': 9847, 'acres': 9848, 'adjourned': 9849, 'administrator': 9850, 'advocate': 9851, 'aetna': 9852, 'agassi': 9853, 'aggression': 9854, 'agra': 9855, 'aig.n': 9856, 'airfares': 9857, 'airlift': 9858, 'albany': 9859, 'alvaro': 9860, 'ambassadors': 9861, 'amcor': 9862, 'anew': 9863, 'anxiously': 9864, 'approvals': 9865, 'archrival': 9866, 'argues': 9867, 'artists': 9868, 'asserted': 9869, 'asserts': 9870, 'associations': 9871, 'atherogenics': 9872, 'attracting': 9873, 'auckland': 9874, 'automated': 9875, 'barbie': 9876, 'bath': 9877, 'batter': 9878, 'benefiting': 9879, 'bernanke': 9880, 'bike': 9881, 'biological': 9882, 'bj': 9883, 'bloodied': 9884, 'boardroom': 9885, 'bookseller': 9886, 'breached': 9887, 'breed': 9888, 'brew': 9889, 'brokerages': 9890, 'bruandwo': 9891, 'brushed': 9892, 'burn': 9893, 'catastrophic': 9894, 'categories': 9895, 'cc.n': 9896, 'champagne': 9897, 'charities': 9898, 'charts': 9899, 'chasing': 9900, 'cheated': 9901, 'clarify': 9902, 'cleanup': 9903, 'collapses': 9904, 'collided': 9905, 'colo.': 9906, 'color=\"#666666\"&gt;&lt;b&gt;-the': 9907, 'combating': 9908, 'comedy': 9909, 'commuters': 9910, 'comparison': 9911, 'confronting': 9912, 'considerably': 9913, 'consolidates': 9914, 'consuming': 9915, 'contracting': 9916, 'contributing': 9917, 'convenience': 9918, 'convertible': 9919, 'cools': 9920, 'coordinated': 9921, 'corning': 9922, 'corrects': 9923, 'countered': 9924, 'craft': 9925, 'crescent': 9926, 'crowned': 9927, 'crusade': 9928, 'cry': 9929, 'curbing': 9930, 'cytec': 9931, 'dad': 9932, 'dancer': 9933, 'darkness': 9934, 'dates': 9935, 'debacle': 9936, 'deceptive': 9937, 'default': 9938, 'defies': 9939, 'del.': 9940, 'delegate': 9941, 'deliberately': 9942, 'denial': 9943, 'deploying': 9944, 'derrida': 9945, 'desertion': 9946, 'destinations': 9947, 'detail': 9948, 'detains': 9949, 'deterioration': 9950, 'dis.n': 9951, 'disarming': 9952, 'discriminated': 9953, 'discusses': 9954, 'distribute': 9955, 'dives': 9956, 'dogwood': 9957, 'domecq': 9958, 'dormitory': 9959, 'doubleclick': 9960, 'douglas': 9961, 'downed': 9962, 'dress': 9963, 'duel': 9964, 'dynegy': 9965, 'eagle': 9966, 'earmarked': 9967, 'eichel': 9968, 'eleanor': 9969, 'engagement': 9970, 'enlarged': 9971, 'entice': 9972, 'entrepreneurs': 9973, 'eric': 9974, 'eritreans': 9975, 'erode': 9976, 'escalates': 9977, 'exact': 9978, 'exam': 9979, 'excuse': 9980, 'exits': 9981, 'expel': 9982, 'extremism': 9983, 'faithful': 9984, 'faltering': 9985, 'farming': 9986, 'ferguson': 9987, 'filipinos': 9988, 'financed': 9989, 'fitch': 9990, 'fizz': 9991, 'flextronics': 9992, 'flotation': 9993, 'flyi': 9994, 'forgive': 9995, 'fourteen': 9996, 'frenchman': 9997, 'friendship': 9998, 'fullquote\"&gt;aig.n&lt;/a&gt': 9999, 'fullquote\"&gt;enrnq.pk&lt;/a&gt': 10000, 'fullquote\"&gt;fon.n&lt;/a&gt': 10001, 'fullquote\"&gt;gm.n&lt;/a&gt': 10002, 'fullquote\"&gt;hal.n&lt;/a&gt': 10003, 'fullquote\"&gt;ibm.n&lt;/a&gt': 10004, 'fullquote\"&gt;xom.n&lt;/a&gt': 10005, 'fundamental': 10006, 'geographic': 10007, 'gfi': 10008, 'ghost': 10009, 'goodrich': 10010, 'greatly': 10011, 'guaranteed': 10012, 'gwalia': 10013, 'hacking': 10014, 'haitians': 10015, 'halfway': 10016, 'halloween': 10017, 'harassment': 10018, 'harper': 10019, 'hca': 10020, 'heartland': 10021, 'heroin': 10022, 'hewitt': 10023, 'hijacking': 10024, 'hinting': 10025, 'horton': 10026, 'hottest': 10027, 'hsien': 10028, 'hunted': 10029, 'hyatt': 10030, 'icelandair': 10031, 'imposition': 10032, 'imprisonment': 10033, 'inc.&lt;a': 10034, 'incorporated': 10035, 'ind.': 10036, 'inflammatory': 10037, 'ingersoll': 10038, 'insecurity': 10039, 'insolvent': 10040, 'inspire': 10041, 'intelsat': 10042, 'interviewed': 10043, 'introducing': 10044, 'involves': 10045, 'j.c.': 10046, 'jackpot': 10047, 'jam': 10048, 'janet': 10049, 'jardine': 10050, 'jason': 10051, 'jelinek': 10052, 'ji': 10053, 'jon': 10054, 'jos': 10055, 'juice': 10056, 'kabila': 10057, 'kamal': 10058, 'keen': 10059, 'kerik': 10060, 'kerr': 10061, 'koreas': 10062, 'lash': 10063, 'laugh': 10064, 'lavrov': 10065, 'lawless': 10066, 'le': 10067, 'leeds': 10068, 'legitimate': 10069, 'lens': 10070, 'lesson': 10071, 'liberalization': 10072, 'linda': 10073, 'lip': 10074, 'loong': 10075, 'loosen': 10076, 'loyalty': 10077, 'ltte': 10078, 'macapagal': 10079, 'manipulated': 10080, 'marches': 10081, 'marshall': 10082, 'mary': 10083, 'mason': 10084, 'massed': 10085, 'mattel': 10086, 'maxim': 10087, 'mayoral': 10088, 'mentally': 10089, 'merging': 10090, 'mexicans': 10091, 'mill': 10092, 'mirant': 10093, 'mitchell': 10094, 'monks': 10095, 'morrisons': 10096, 'msn': 10097, 'munitions': 10098, 'muse': 10099, 'mustafa': 10100, 'neighbourhood': 10101, 'neo': 10102, 'noting': 10103, 'offenses': 10104, 'ojiya': 10105, 'organizers': 10106, 'orlando': 10107, 'oscar': 10108, 'ossetian': 10109, 'overtures': 10110, 'overturns': 10111, 'overwhelmed': 10112, 'p.m.': 10113, 'pa.': 10114, 'palmsource': 10115, 'panels': 10116, 'paramount': 10117, 'pascal': 10118, 'patil': 10119, 'patina': 10120, 'patrolled': 10121, 'paxil': 10122, 'payouts': 10123, 'pearson': 10124, 'pep.n': 10125, 'pessimism': 10126, 'pet': 10127, 'pinault': 10128, 'pinch': 10129, 'pizza': 10130, 'playstation': 10131, 'ploy': 10132, 'post&lt;/b&gt;&lt;/font&gt': 10133, 'postponement': 10134, 'pour': 10135, 'pray': 10136, 'premiers': 10137, 'presiding': 10138, 'preventive': 10139, 'printemps': 10140, 'processes': 10141, 'procurement': 10142, 'promoted': 10143, 'prosperity': 10144, 'punished': 10145, 'quezon': 10146, 'quot;positive': 10147, 'quot;r': 10148, 'quot;to': 10149, 'rainy': 10150, 'rapper': 10151, 'rattles': 10152, 'reactors': 10153, 'recordings': 10154, 'recruit': 10155, 'recruiting': 10156, 'redoute': 10157, 'reforming': 10158, 'regaining': 10159, 'registers': 10160, 'rehire': 10161, 'reit': 10162, 'reliable': 10163, 'relying': 10164, 'reply': 10165, 'reservation': 10166, 'reshuffled': 10167, 'reunification': 10168, 'reviewed': 10169, 'ripe': 10170, 'rob': 10171, 'robin': 10172, 'robot': 10173, 'roddick': 10174, 'ronald': 10175, 'ronin': 10176, 'routinely': 10177, 'rp': 10178, 'ruined': 10179, 's.c.': 10180, 'sacking': 10181, 'saic': 10182, 'sanction': 10183, 'satisfy': 10184, 'scared': 10185, 'schilling': 10186, 'seagate': 10187, 'secures': 10188, 'sedans': 10189, 'servicemen': 10190, 'shaanxi': 10191, 'sharemarket': 10192, 'sharks': 10193, 'sharper': 10194, 'sheets': 10195, 'shrinks': 10196, 'shrug': 10197, 'sidewalks': 10198, 'significance': 10199, 'silvan': 10200, 'singtel': 10201, 'sits': 10202, 'skilling': 10203, 'sleeping': 10204, 'snapping': 10205, 'soliciting': 10206, 'songda': 10207, 'sooner': 10208, 'sophisticated': 10209, 'speculative': 10210, 'speculators': 10211, 'spinoff': 10212, 'splashing': 10213, 'splitting': 10214, 'springfield': 10215, 'stanford': 10216, 'staunch': 10217, 'stockland': 10218, 'streamline': 10219, 'stretched': 10220, 'suitors': 10221, 'swarms': 10222, 'swisscom': 10223, 'synonymous': 10224, 'tackles': 10225, 'tal': 10226, 'teheran': 10227, 'thais': 10228, 'thank': 10229, 'thriving': 10230, 'tory': 10231, 'tossed': 10232, 'traditionally': 10233, 'trapping': 10234, 'tricks': 10235, 'triumph': 10236, 'troubling': 10237, 'trough': 10238, 'u.n': 10239, 'uair.o': 10240, 'unaffected': 10241, 'unhappy': 10242, 'universities': 10243, 'unofficial': 10244, 'untouched': 10245, 'upturn': 10246, 'uzbekistan': 10247, 'vauxhall': 10248, 'vetoes': 10249, 'vibrating': 10250, 'victorious': 10251, 'viewing': 10252, 'violates': 10253, 'vouchers': 10254, 'vuitton': 10255, 'waltham': 10256, 'wapping': 10257, 'warhead': 10258, 'whisky': 10259, 'winfrey': 10260, 'withholding': 10261, 'worsen': 10262, 'xilinx': 10263, 'yanukovych': 10264, 'yonhap': 10265, 'zoellick': 10266, '-report': 10267, '1,600': 10268, '16th': 10269, '181': 10270, '19-year': 10271, '1981': 10272, '1993': 10273, '1bn': 10274, '3.4': 10275, '30th': 10276, '36;2': 10277, '39;to': 10278, '4-month': 10279, '4.4': 10280, '40,000': 10281, '48-hour': 10282, '5-year': 10283, '6.4': 10284, '737': 10285, '75-year': 10286, '8,500': 10287, '8.2': 10288, '\\\\$1.6': 10289, '\\\\$60': 10290, '\\\\$7.1': 10291, 'a.m.': 10292, 'abandons': 10293, 'abide': 10294, 'absentee': 10295, 'absorb': 10296, 'accessories': 10297, 'accompanied': 10298, 'accounted': 10299, 'adequate': 10300, 'advisor': 10301, 'affiliated': 10302, 'affiliates': 10303, 'airs': 10304, 'alike': 10305, 'allay': 10306, 'allegation': 10307, 'amp;k': 10308, 'amp;s': 10309, 'amvescap': 10310, 'anchor': 10311, 'anna': 10312, 'anz': 10313, 'apartheid': 10314, 'apologizes': 10315, 'armoured': 10316, 'arraigned': 10317, 'arranged': 10318, 'assailants': 10319, 'assertion': 10320, 'asthma': 10321, 'authenticity': 10322, 'awarding': 10323, 'axes': 10324, 'bac.n': 10325, 'bakery': 10326, 'balkan': 10327, 'banners': 10328, 'bat': 10329, 'batters': 10330, 'bce': 10331, 'beefed': 10332, 'belo': 10333, 'bentonville': 10334, 'beware': 10335, 'biased': 10336, 'billed': 10337, 'billy': 10338, 'biovail': 10339, 'bishops': 10340, 'biting': 10341, 'bnp': 10342, 'bolivia': 10343, 'bones': 10344, 'bosox': 10345, 'brad': 10346, 'breaches': 10347, 'brighter': 10348, 'brilliant': 10349, 'broadcasters': 10350, 'broaden': 10351, 'brooklyn': 10352, 'bryant': 10353, 'businessweek': 10354, 'buyouts': 10355, 'c.n': 10356, 'cadbury': 10357, 'cannons': 10358, 'careful': 10359, 'cathedral': 10360, 'caymans': 10361, 'centered': 10362, 'champ': 10363, 'charitable': 10364, 'chelsea': 10365, 'cherie': 10366, 'chunk': 10367, 'cigna': 10368, 'circle': 10369, 'cleansing': 10370, 'closings': 10371, 'closures': 10372, 'clubs': 10373, 'cmcsa.o': 10374, 'collectors': 10375, 'compare': 10376, 'confusing': 10377, 'conscious': 10378, 'consultancy': 10379, 'contenders': 10380, 'corp.&lt;a': 10381, 'cosatu': 10382, 'cott': 10383, 'couldn': 10384, 'counties': 10385, 'courage': 10386, 'cracker': 10387, 'credible': 10388, 'credited': 10389, 'cultivation': 10390, 'danske': 10391, 'dear': 10392, 'decker': 10393, 'deemed': 10394, 'delight': 10395, 'demonstrating': 10396, 'dems': 10397, 'departments': 10398, 'departures': 10399, 'depending': 10400, 'derailment': 10401, 'derivatives': 10402, 'destination': 10403, 'diagnosed': 10404, 'diamonds': 10405, 'dignitaries': 10406, 'diocese': 10407, 'disagreed': 10408, 'disappear': 10409, 'discontent': 10410, 'discontinued': 10411, 'dispatched': 10412, 'dissent': 10413, 'dixie': 10414, 'dla': 10415, 'doldrums': 10416, 'donaldson': 10417, 'donor': 10418, 'doubted': 10419, 'drastically': 10420, 'dreaded': 10421, 'drugmakers': 10422, 'dumps': 10423, 'dusty': 10424, 'dwindle': 10425, 'ear': 10426, 'eat': 10427, 'ebookers': 10428, 'educational': 10429, 'elementary': 10430, 'embarrassment': 10431, 'emergencies': 10432, 'engaging': 10433, 'enraged': 10434, 'envy': 10435, 'epic': 10436, 'equals': 10437, 'equipped': 10438, 'escalade': 10439, 'escalate': 10440, 'espn': 10441, 'evaluating': 10442, 'examines': 10443, 'f.d.a.': 10444, 'farc': 10445, 'favourable': 10446, 'fences': 10447, 'fending': 10448, 'fenway': 10449, 'festive': 10450, 'fiery': 10451, 'fifteen': 10452, 'fisher': 10453, 'fist': 10454, 'flaws': 10455, 'flier': 10456, 'forcibly': 10457, 'frightening': 10458, 'frito': 10459, 'fugitives': 10460, 'fulfilled': 10461, 'fullquote\"&gt;c.n&lt;/a&gt': 10462, 'fullquote\"&gt;ca.n&lt;/a&gt': 10463, 'fullquote\"&gt;mcd.n&lt;/a&gt': 10464, 'fullquote\"&gt;mwd.n&lt;/a&gt': 10465, 'fullquote\"&gt;txn.n&lt;/a&gt': 10466, 'fullquote\"&gt;uairq.ob&lt;/a&gt': 10467, 'gamblers': 10468, 'garen': 10469, 'gencorp': 10470, 'generator': 10471, 'genuine': 10472, 'gibson': 10473, 'girlfriend': 10474, 'gonzales': 10475, 'graphic': 10476, 'graves': 10477, 'greeting': 10478, 'guantnamo': 10479, 'guides': 10480, 'gum': 10481, 'hamburg': 10482, 'happening': 10483, 'hd.n': 10484, 'helens': 10485, 'hinder': 10486, 'hinges': 10487, 'historically': 10488, 'hizbollah': 10489, 'holland': 10490, 'hood': 10491, 'hosted': 10492, 'hugh': 10493, 'illicit': 10494, 'imposes': 10495, 'indeed': 10496, 'indices': 10497, 'indictments': 10498, 'indirect': 10499, 'infantry': 10500, 'infighting': 10501, 'inflict': 10502, 'inked': 10503, 'institution': 10504, 'integrity': 10505, 'intersection': 10506, 'intraday': 10507, 'iranians': 10508, 'ire': 10509, 'islamists': 10510, 'ismail': 10511, 'israels': 10512, 'jabaliya': 10513, 'jeans': 10514, 'jeter': 10515, 'jetstar': 10516, 'jones)--china': 10517, 'joschka': 10518, 'judiciary': 10519, 'kalam': 10520, 'kashmiris': 10521, 'kentucky': 10522, 'khalifa': 10523, 'kigali': 10524, 'kilometers': 10525, 'kitchen': 10526, 'laboratory': 10527, 'lacks': 10528, 'lately': 10529, 'lawrence': 10530, 'libraries': 10531, 'lid': 10532, 'lightly': 10533, 'lineup': 10534, 'lisa': 10535, 'lodged': 10536, 'mammoth': 10537, 'manages': 10538, 'mandatory': 10539, 'manipulate': 10540, 'mannheim': 10541, 'mentioned': 10542, 'mets': 10543, 'millennium': 10544, 'mmc': 10545, 'mo.': 10546, 'mode': 10547, 'molestation': 10548, 'montana': 10549, 'motorists': 10550, 'muscles': 10551, 'n.b.': 10552, 'nabbed': 10553, 'nabil': 10554, 'nahyan': 10555, 'naimi': 10556, 'nasser': 10557, 'nationally': 10558, 'navistar': 10559, 'nba': 10560, 'nec': 10561, 'nerve': 10562, 'nerves': 10563, 'netcom': 10564, 'newsweek': 10565, 'ni': 10566, 'nod': 10567, 'ntp': 10568, 'nudged': 10569, 'nursery': 10570, 'nurses': 10571, 'nursing': 10572, 'nxtl.o': 10573, 'offs': 10574, 'oh': 10575, 'okay': 10576, 'omnicom': 10577, 'opposite': 10578, 'organizing': 10579, 'outback': 10580, 'outperform': 10581, 'overstated': 10582, 'packaging': 10583, 'painting': 10584, 'pakistans': 10585, 'pandemic': 10586, 'paparazzi': 10587, 'paychecks': 10588, 'peaked': 10589, 'pence': 10590, 'pepper': 10591, 'perception': 10592, 'persian': 10593, 'pfe': 10594, 'pinned': 10595, 'placement': 10596, 'placing': 10597, 'playoff': 10598, 'plummet': 10599, 'pnc': 10600, 'poker': 10601, 'populist': 10602, 'portrait': 10603, 'portraits': 10604, 'post-9/11': 10605, 'postpones': 10606, 'postseason': 10607, 'pot': 10608, 'pouring': 10609, 'pragmatic': 10610, 'prayed': 10611, 'prefer': 10612, 'premiership': 10613, 'preview': 10614, 'programming': 10615, 'prone': 10616, 'proper': 10617, 'protestors': 10618, 'publishes': 10619, 'pummeled': 10620, 'pure': 10621, 'quetta': 10622, 'quot;one': 10623, 'quot;terrorist': 10624, 'rafik': 10625, 'ramanna': 10626, 'rats': 10627, 'ravens': 10628, 'reacting': 10629, 'reasonable': 10630, 'reassured': 10631, 'recognise': 10632, 'recognized': 10633, 'recruited': 10634, 'reebok': 10635, 'reed': 10636, 'refinancings': 10637, 'regina': 10638, 'rehnquist': 10639, 'reid': 10640, 'reilly': 10641, 'reiterates': 10642, 'relieve': 10643, 'renault': 10644, 'repeats': 10645, 'rerun': 10646, 'resisting': 10647, 'responsibilities': 10648, 'resting': 10649, 'resurgence': 10650, 'retiree': 10651, 'rev.': 10652, 'revise': 10653, 'revising': 10654, 'rnc': 10655, 'roars': 10656, 'rogue': 10657, 'rosneft': 10658, 'rowhani': 10659, 'ruins': 10660, 'sahara': 10661, 'salem': 10662, 'salt': 10663, 'scarf': 10664, 'schedules': 10665, 'scramble': 10666, 'scuttle': 10667, 'seasons': 10668, 'secession': 10669, 'secular': 10670, 'seemingly': 10671, 'semitic': 10672, 'sensors': 10673, 'servants': 10674, 'sexually': 10675, 'shaath': 10676, 'shaft': 10677, 'shahab-3': 10678, 'shaik': 10679, 'sheriff': 10680, 'shine': 10681, 'shouting': 10682, 'sideline': 10683, 'simmering': 10684, 'skid': 10685, 'smokers': 10686, 'solvency': 10687, 'somewhat': 10688, 'somewhere': 10689, 'sopranos': 10690, 'soros': 10691, 'soy': 10692, 'sped': 10693, 'speeding': 10694, 'spiked': 10695, 'spill': 10696, 'staffers': 10697, 'staggering': 10698, 'steered': 10699, 'stoning': 10700, 'strains': 10701, 'strasbourg': 10702, 'strauss': 10703, 'stretching': 10704, 'strictly': 10705, 'stumbling': 10706, 'submarines': 10707, 'suite': 10708, 'supervisory': 10709, 'surf': 10710, 'swath': 10711, 'tables': 10712, 'tales': 10713, 'taxation': 10714, 'tbilisi': 10715, 'teach': 10716, 'tenn.': 10717, 'terminals': 10718, 'the\\\\u.s.': 10719, 'thornton': 10720, 'threshold': 10721, 'ti': 10722, 'tires': 10723, 'topics': 10724, 'transfers': 10725, 'translator': 10726, 'transplant': 10727, 'trap': 10728, 'treatments': 10729, 'triggers': 10730, 'triton': 10731, 'truly': 10732, 'trumped': 10733, 'ucb': 10734, 'undergoes': 10735, 'underlining': 10736, 'unearthed': 10737, 'unfit': 10738, 'uniforms': 10739, 'uninsured': 10740, 'unusually': 10741, 'upi': 10742, 'vacationing': 10743, 'valuing': 10744, 'victories': 10745, 'visions': 10746, 'washed': 10747, 'wedgwood': 10748, 'weisel': 10749, 'wheeling': 10750, 'widows': 10751, 'wilson': 10752, 'winding': 10753, 'wings': 10754, 'with\\\\the': 10755, 'wood': 10756, 'wooden': 10757, 'wore': 10758, 'wrest': 10759, 'z': 10760, 'zeiss': 10761, 'zoo': 10762, '-paper': 10763, '....': 10764, '/&gt': 10765, '1,800': 10766, '1.75': 10767, '107': 10768, '146;s': 10769, '1972': 10770, '1986': 10771, '1988': 10772, '2.0': 10773, '202': 10774, '26-year': 10775, '260': 10776, '270': 10777, '3-year': 10778, '3.8': 10779, '3.9': 10780, '330': 10781, '335': 10782, '36;46': 10783, '39;final': 10784, '39;will': 10785, '4.6': 10786, '529': 10787, '6,900': 10788, '6.2': 10789, '78-year': 10790, '9-year': 10791, '\\\\$': 10792, '\\\\$295': 10793, '\\\\$34': 10794, '\\\\$5.5': 10795, '\\\\$5.8': 10796, '\\\\$502': 10797, '\\\\$510': 10798, '\\\\$7.2': 10799, '\\\\$75': 10800, '\\\\$80': 10801, '\\\\$913': 10802, 'abdicate': 10803, 'abductions': 10804, 'accidents': 10805, 'achievements': 10806, 'acknowledge': 10807, 'administered': 10808, 'adoption': 10809, 'advising': 10810, 'advocacy': 10811, 'affects': 10812, 'agony': 10813, 'airspace': 10814, 'alliances': 10815, 'altered': 10816, 'amelie': 10817, 'amended': 10818, 'amp;d': 10819, 'anguished': 10820, 'appreciation': 10821, 'architects': 10822, 'arrangement': 10823, 'articles': 10824, 'asda': 10825, 'ashes': 10826, 'aspirations': 10827, 'assassinations': 10828, 'assumption': 10829, 'atlas': 10830, 'aussies': 10831, 'authorizing': 10832, 'aviva': 10833, 'awake': 10834, 'awe.n': 10835, 'balanced': 10836, 'bands': 10837, 'baring': 10838, 'barney': 10839, 'battering': 10840, 'bedside': 10841, 'benjamin': 10842, 'bennett': 10843, 'bent': 10844, 'besides': 10845, 'bizarre': 10846, 'blistering': 10847, 'bloodbath': 10848, 'blumenthal': 10849, 'bofa': 10850, 'bolsters': 10851, 'bottled': 10852, 'boucher': 10853, 'bradford': 10854, 'branding': 10855, 'brawl': 10856, 'brick': 10857, 'bridges': 10858, 'brigand': 10859, 'brunswick': 10860, 'budgets': 10861, 'buffalo': 10862, 'buoyant': 10863, 'button': 10864, 'bystanders': 10865, 'calculated': 10866, 'californians': 10867, 'cambodians': 10868, 'canal': 10869, 'carbohydrate': 10870, 'carpet': 10871, 'cashing': 10872, 'cautions': 10873, 'celtic': 10874, 'centrist': 10875, 'ceremonies': 10876, 'chang': 10877, 'charleston': 10878, 'chased': 10879, 'chill': 10880, 'chiofaro': 10881, 'clara': 10882, 'clearer': 10883, 'clinic': 10884, 'clouded': 10885, 'clung': 10886, 'clutch': 10887, 'coated': 10888, 'coleman': 10889, 'collaborate': 10890, 'collected': 10891, 'combining': 10892, 'comic': 10893, 'commercials': 10894, 'commissioned': 10895, 'comparable': 10896, 'complain': 10897, 'complaining': 10898, 'compounds': 10899, 'conceding': 10900, 'confined': 10901, 'confinement': 10902, 'confused': 10903, 'convene': 10904, 'converged': 10905, 'cooled': 10906, 'cop': 10907, 'coronary': 10908, 'corpse': 10909, 'counterfeiting': 10910, 'coupled': 10911, 'cr': 10912, 'crashing': 10913, 'cripple': 10914, 'croatia': 10915, 'crpf': 10916, 'curt': 10917, 'curtain': 10918, 'danaher': 10919, 'dcxgn': 10920, 'debit': 10921, 'deere': 10922, 'deliberate': 10923, 'dell.o': 10924, 'deports': 10925, 'deposits': 10926, 'depp': 10927, 'diluted': 10928, 'dining': 10929, 'dirt': 10930, 'disability': 10931, 'disagree': 10932, 'disbelief': 10933, 'discharged': 10934, 'discipline': 10935, 'disclosures': 10936, 'discord': 10937, 'dismantled': 10938, 'distant': 10939, 'dixon': 10940, 'doctrine': 10941, 'donation': 10942, 'downfall': 10943, 'downplays': 10944, 'drone': 10945, 'duncan': 10946, 'eaten': 10947, 'echostar': 10948, 'eddie': 10949, 'eiffel': 10950, 'elaborate': 10951, 'element': 10952, 'elpida': 10953, 'email': 10954, 'enabled': 10955, 'endorsing': 10956, 'enhancing': 10957, 'eritrean': 10958, 'et': 10959, 'everybody': 10960, 'exaggerated': 10961, 'excerpts': 10962, 'exchanged': 10963, 'explains': 10964, 'exploding': 10965, 'exploring': 10966, 'expression': 10967, 'falter': 10968, 'fanned': 10969, 'farmer': 10970, 'fiercely': 10971, 'finalised': 10972, 'finnish': 10973, 'fliers': 10974, 'flowers': 10975, 'folks': 10976, 'for\\\\the': 10977, 'forgiven': 10978, 'forgotten': 10979, 'forth': 10980, 'frail': 10981, 'frantically': 10982, 'fraught': 10983, 'frequently': 10984, 'fronts': 10985, 'fsb': 10986, 'fulfill': 10987, 'fullquote\"&gt;csco.o&lt;/a&gt': 10988, 'fullquote\"&gt;fdx.n&lt;/a&gt': 10989, 'fullquote\"&gt;hpq.n&lt;/a&gt': 10990, 'functioning': 10991, 'fundamentals': 10992, 'g.': 10993, 'galloway': 10994, 'gannett': 10995, 'garamendi': 10996, 'genes': 10997, 'geopolitical': 10998, 'gillette': 10999, 'glacier': 11000, 'globalization': 11001, 'governmental': 11002, 'grabbing': 11003, 'graduate': 11004, 'grapefruit': 11005, 'graphics': 11006, 'gravely': 11007, 'greetings': 11008, 'grips': 11009, 'guenter': 11010, 'guilt': 11011, 'gullivers': 11012, 'gymnasium': 11013, 'gyurcsany': 11014, 'ha': 11015, 'handled': 11016, 'handlers': 11017, 'hanson': 11018, 'harrowing': 11019, 'hawks': 11020, 'headache': 11021, 'helen': 11022, 'hennessy': 11023, 'hiked': 11024, 'hosting': 11025, 'huddled': 11026, 'humiliating': 11027, 'hurry': 11028, 'hype': 11029, 'identifying': 11030, 'iea': 11031, 'imbalance': 11032, 'imi': 11033, 'immigrant': 11034, 'impairment': 11035, 'implant': 11036, 'inappropriate': 11037, 'incomplete': 11038, 'industrialized': 11039, 'infant': 11040, 'inks': 11041, 'inquiries': 11042, 'inspected': 11043, 'intruded': 11044, 'investcorp': 11045, 'investigator': 11046, 'ion': 11047, 'islamiyah': 11048, 'islanders': 11049, 'ism': 11050, 'jammed': 11051, 'jawan': 11052, 'jd': 11053, 'jeremy': 11054, 'jm': 11055, 'jumbo': 11056, 'justification': 11057, 'justified': 11058, 'kadhafi': 11059, 'kagame': 11060, 'karnataka': 11061, 'kazinform': 11062, 'kelly': 11063, 'kent': 11064, 'khalil': 11065, 'khodorkovsky': 11066, 'kicking': 11067, 'knocks': 11068, 'lacked': 11069, 'lacklustre': 11070, 'lame': 11071, 'landmines': 11072, 'laptop': 11073, 'lauded': 11074, 'lauder': 11075, 'leaf': 11076, 'leapt': 11077, 'legg': 11078, 'lesbian': 11079, 'linx': 11080, 'liquefied': 11081, 'lobbies': 11082, 'lodging': 11083, 'logan': 11084, 'looters': 11085, 'lt;meta': 11086, 'lukewarm': 11087, 'machimura': 11088, 'maiden': 11089, 'massacred': 11090, 'meddle': 11091, 'mediate': 11092, 'merchants': 11093, 'metres': 11094, 'miguel': 11095, 'millau': 11096, 'minded': 11097, 'mishap': 11098, 'mn': 11099, 'mobiltel': 11100, 'moet': 11101, 'monk': 11102, 'monrovia': 11103, 'montoya': 11104, 'muhammad': 11105, 'mutiny': 11106, 'n.m.': 11107, 'nagging': 11108, 'nam': 11109, 'naples': 11110, 'narcotics': 11111, 'nearer': 11112, 'negotiation': 11113, 'newsfactor': 11114, 'nicholas': 11115, 'nights': 11116, 'nippon': 11117, 'nixon': 11118, 'noisy': 11119, 'nominees': 11120, 'noor': 11121, 'oak': 11122, 'oas': 11123, 'object': 11124, 'observe': 11125, 'observed': 11126, 'ofcom': 11127, 'on\\\\sunday': 11128, 'orderly': 11129, 'organisers': 11130, 'osmond': 11131, 'outlaw': 11132, 'overhead': 11133, 'packer': 11134, 'painted': 11135, 'pardoned': 11136, 'parker': 11137, 'participating': 11138, 'payless': 11139, 'peacemaking': 11140, 'perry': 11141, 'persists': 11142, 'personally': 11143, 'phishing': 11144, 'physicians': 11145, 'picket': 11146, 'piles': 11147, 'platoon': 11148, 'playoffs': 11149, 'plotters': 11150, 'plummeting': 11151, 'ponte': 11152, 'pontiff': 11153, 'preacher': 11154, 'presse': 11155, 'principal': 11156, 'pritzker': 11157, 'promotes': 11158, 'prostitute': 11159, 'proud': 11160, 'psychiatric': 11161, 'quadrupled': 11162, 'queens': 11163, 'quot;good': 11164, 'quot;not': 11165, 'quot;old': 11166, 'quot;this': 11167, 'racist': 11168, 'rafsanjani': 11169, 'rallying': 11170, 'raping': 11171, 'rarely': 11172, 'reader': 11173, 'reaffirms': 11174, 'realtors': 11175, 'receded': 11176, 'recorder': 11177, 'recreational': 11178, 'reformist': 11179, 'regarded': 11180, 'reining': 11181, 'relationships': 11182, 'removes': 11183, 'renewable': 11184, 'renewing': 11185, 'rent': 11186, 'reorganize': 11187, 'reserved': 11188, 'reshuffles': 11189, 'respectively': 11190, 'restarting': 11191, 'retained': 11192, 'revisions': 11193, 'rewarded': 11194, 'ridge': 11195, 'robbed': 11196, 'robinson': 11197, 'rode': 11198, 'rugged': 11199, 's.korean': 11200, 'sacks': 11201, 'sacramento': 11202, 'safeguard': 11203, 'saleh': 11204, 'sallie': 11205, 'salmon': 11206, 'salvadoran': 11207, 'samples': 11208, 'sand': 11209, 'santomero': 11210, 'sars': 11211, 'sayyaf': 11212, 'scaling': 11213, 'scarce': 11214, 'scuffled': 11215, 'seizes': 11216, 'separation': 11217, 'sergey': 11218, 'serial': 11219, 'sf': 11220, 'shaping': 11221, 'shedding': 11222, 'sheer': 11223, 'shields': 11224, 'shirt': 11225, 'shoulder': 11226, 'shun': 11227, 'shutout': 11228, 'signalling': 11229, 'sinclair': 11230, 'skipper': 11231, 'slate': 11232, 'snub': 11233, 'solely': 11234, 'somerfield': 11235, 'soul': 11236, 'sponsors': 11237, 'spx': 11238, 'stalinist': 11239, 'stalking': 11240, 'stifle': 11241, 'stockpiled': 11242, 'straits': 11243, 'streamed': 11244, 'studied': 11245, 'subjected': 11246, 'sudans': 11247, 'suicides': 11248, 'sunset': 11249, 'surpassing': 11250, 'surrounds': 11251, 'swimming': 11252, 'swoop': 11253, 'symptoms': 11254, 'sysco': 11255, 'systematic': 11256, 'tasmania': 11257, 'tasr.o': 11258, 'tate': 11259, 'tcs': 11260, 'telephoned': 11261, 'teller': 11262, 'tempe': 11263, 'tenet': 11264, 'teresa': 11265, 'termination': 11266, 'the\\\\company': 11267, 'thirteen': 11268, 'thumbs': 11269, 'thus': 11270, 'ticking': 11271, 'tilt': 11272, 'toddler': 11273, 'tolerance': 11274, 'tolls': 11275, 'tongue': 11276, 'torched': 11277, 'toro': 11278, 'totally': 11279, 'totals': 11280, 'traffickers': 11281, 'transformed': 11282, 'translate': 11283, 'transparent': 11284, 'travellers': 11285, 'trendy': 11286, 'troy': 11287, 'tsa': 11288, 'unauthorized': 11289, 'undercover': 11290, 'unwelcome': 11291, 'uptick': 11292, 'urgency': 11293, 'vacancy': 11294, 'vegetables': 11295, 'verbal': 11296, 'viab': 11297, 'vigorously': 11298, 'vimpelcom': 11299, 'visible': 11300, 'volatility': 11301, 'waging': 11302, 'watchdogs': 11303, 'westward': 11304, 'whoever': 11305, 'wilbur': 11306, 'winn': 11307, 'winnick': 11308, 'withheld': 11309, 'workman': 11310, 'worn': 11311, 'wouldn': 11312, 'wtc': 11313, 'yo': 11314, 'yugoslavia': 11315, 'zeta': 11316, '000': 11317, '1.27bn': 11318, '1.35': 11319, '10-month': 11320, '106': 11321, '11,000': 11322, '12.5': 11323, '1929': 11324, '1980': 11325, '2,500': 11326, '238': 11327, '241': 11328, '250,000': 11329, '3-month': 11330, '3.6': 11331, '36;41': 11332, '39;i': 11333, '40-year': 11334, '50-year': 11335, '530': 11336, '7-year': 11337, '7.2': 11338, '7.7': 11339, '73': 11340, '747': 11341, '8-month': 11342, '83': 11343, '\\\\$1.34': 11344, '\\\\$110': 11345, '\\\\$114': 11346, '\\\\$2.9': 11347, '\\\\$23.3': 11348, '\\\\$230': 11349, '\\\\$33': 11350, '\\\\$50-a': 11351, '\\\\$7.4': 11352, '\\\\$8.7': 11353, 'a\\\\second': 11354, 'abducting': 11355, 'aborigines': 11356, 'abuzz': 11357, 'accompanying': 11358, 'accuser': 11359, 'adnan': 11360, 'adriatic': 11361, 'aer': 11362, 'affirms': 11363, 'ageing': 11364, 'agence': 11365, 'airborne': 11366, 'albeit': 11367, 'alcan': 11368, 'alkhanov': 11369, 'alleviate': 11370, 'allstate': 11371, 'altogether': 11372, 'ambanis': 11373, 'ambulance': 11374, 'amerisuites': 11375, 'amp;r': 11376, 'andre': 11377, 'anymore': 11378, 'apiece': 11379, 'apollo': 11380, 'applauded': 11381, 'applebee': 11382, 'apples': 11383, 'appropriate': 11384, 'arbor': 11385, 'arcoxia': 11386, 'ardmona': 11387, 'areva': 11388, 'artery': 11389, 'asianews': 11390, 'assuming': 11391, 'athletes': 11392, 'athletics': 11393, 'authorization': 11394, 'automobiles': 11395, 'aznar': 11396, 'baiji': 11397, 'bailiffs': 11398, 'banana': 11399, 'barcelona': 11400, 'barracks': 11401, 'barrages': 11402, 'beacon': 11403, 'belongings': 11404, 'beverages': 11405, 'beverly': 11406, 'bhd': 11407, 'biopharmaceutical': 11408, 'blanket': 11409, 'boasts': 11410, 'bogus': 11411, 'bombarded': 11412, 'bone': 11413, 'booby': 11414, 'bore': 11415, 'bouncing': 11416, 'boxer': 11417, 'boyfriend': 11418, 'brin': 11419, 'broadcasts': 11420, 'broadcom': 11421, 'broadest': 11422, 'brushing': 11423, 'bryan': 11424, 'buffer': 11425, 'bugging': 11426, 'bureaucracy': 11427, 'butterfly': 11428, 'buybacks': 11429, 'calif': 11430, 'cancun': 11431, 'canterbury': 11432, 'cantor': 11433, 'canwest': 11434, 'cardinals': 11435, 'carmax': 11436, 'carolinas': 11437, 'carolyn': 11438, 'cat.n': 11439, 'catalog': 11440, 'cats': 11441, 'cementing': 11442, 'chat': 11443, 'chewing': 11444, 'chidambaram': 11445, 'chilly': 11446, 'choo': 11447, 'churning': 11448, 'citation': 11449, 'clamart': 11450, 'clearest': 11451, 'clemens': 11452, 'clergy': 11453, 'clings': 11454, 'coastline': 11455, 'cod': 11456, 'col': 11457, 'collaborating': 11458, 'colossal': 11459, 'comfortably': 11460, 'commanding': 11461, 'commentators': 11462, 'communism': 11463, 'communists': 11464, 'complains': 11465, 'complicate': 11466, 'composer': 11467, 'compulsory': 11468, 'condemning': 11469, 'consideration': 11470, 'consolidated': 11471, 'consolidating': 11472, 'conspired': 11473, 'consultations': 11474, 'conversation': 11475, 'convey': 11476, 'convicts': 11477, 'cooler': 11478, 'cooperative': 11479, 'coordination': 11480, 'cops': 11481, 'cornwall': 11482, 'corzine': 11483, 'counters': 11484, 'courtney': 11485, 'crazy': 11486, 'credits': 11487, 'creek': 11488, 'cries': 11489, 'cult': 11490, 'custom': 11491, 'cypriot': 11492, 'daimler': 11493, 'dampening': 11494, 'damper': 11495, 'dated': 11496, 'daunting': 11497, 'decent': 11498, 'decidedly': 11499, 'defendant': 11500, 'deferred': 11501, 'demonstrates': 11502, 'dennis': 11503, 'designated': 11504, 'destined': 11505, 'detect': 11506, 'devers': 11507, 'digitalnet': 11508, 'dim': 11509, 'directing': 11510, 'disappearing': 11511, 'disarmed': 11512, 'disclosing': 11513, 'discovering': 11514, 'disgruntled': 11515, 'dismayed': 11516, 'disposal': 11517, 'disrupts': 11518, 'distributing': 11519, 'distrust': 11520, 'domain': 11521, 'dormant': 11522, 'doulton': 11523, 'downs': 11524, 'dreamliner': 11525, 'dsl': 11526, 'duck': 11527, 'duo': 11528, 'dwindling': 11529, 'e.u.': 11530, 'eagerly': 11531, 'ears': 11532, 'ebbers': 11533, 'eddington': 11534, 'eighteen': 11535, 'eliminated': 11536, 'eliminates': 11537, 'eminem': 11538, 'employs': 11539, 'enables': 11540, 'enabling': 11541, 'encana': 11542, 'enclave': 11543, 'encourages': 11544, 'endure': 11545, 'entity': 11546, 'ep': 11547, 'epa': 11548, 'equally': 11549, 'erase': 11550, 'erased': 11551, 'estates': 11552, 'ethical': 11553, 'eurostar': 11554, 'evaded': 11555, 'evaluate': 11556, 'evaluation': 11557, 'exceeds': 11558, 'exchequer': 11559, 'exclusivity': 11560, 'executions': 11561, 'experiencing': 11562, 'explained': 11563, 'expulsion': 11564, 'faltered': 11565, 'fargo': 11566, 'fasb': 11567, 'fatality': 11568, 'favoring': 11569, 'ferenc': 11570, 'finneran': 11571, 'firefight': 11572, 'fitzgerald': 11573, 'flagging': 11574, 'flanigan': 11575, 'flap': 11576, 'fleming': 11577, 'flirted': 11578, 'fog': 11579, 'foils': 11580, 'forecaster': 11581, 'forgeard': 11582, 'forges': 11583, 'forstmann': 11584, 'forty': 11585, 'foul': 11586, 'francois': 11587, 'fraser': 11588, 'freshly': 11589, 'fruits': 11590, 'fuelling': 11591, 'fullquote\"&gt;aa.n&lt;/a&gt': 11592, 'fullquote\"&gt;dis.n&lt;/a&gt': 11593, 'fullquote\"&gt;ge.n&lt;/a&gt': 11594, 'fullquote\"&gt;hd.n&lt;/a&gt': 11595, 'fullquote\"&gt;kkd.n&lt;/a&gt': 11596, 'fullquote\"&gt;kmrt.o&lt;/a&gt': 11597, 'fullquote\"&gt;nke.n&lt;/a&gt': 11598, 'funk': 11599, 'fy': 11600, 'ganguly': 11601, 'gazpromneft': 11602, 'gem': 11603, 'genesis': 11604, 'goma': 11605, 'grandson': 11606, 'grappling': 11607, 'greg': 11608, 'grokster': 11609, 'grove': 11610, 'groves': 11611, 'guangdong': 11612, 'gunfight': 11613, 'guys': 11614, 'hanged': 11615, 'happens': 11616, 'harbour': 11617, 'harshest': 11618, 'healing': 11619, 'heartbeats': 11620, 'hispanics': 11621, 'hitachi': 11622, 'hitch': 11623, 'homemaking': 11624, 'homosexuals': 11625, 'hooded': 11626, 'hui': 11627, 'hunts': 11628, 'hurriyat': 11629, 'i.b.m.': 11630, 'iata': 11631, 'icc': 11632, 'idaho': 11633, 'ifo': 11634, 'iii': 11635, 'imagine': 11636, 'inch': 11637, 'incitement': 11638, 'incompetence': 11639, 'indecisive': 11640, 'indicts': 11641, 'infinity': 11642, 'inheritance': 11643, 'initiated': 11644, 'injure': 11645, 'inspect': 11646, 'installation': 11647, 'intact': 11648, 'intend': 11649, 'intercepted': 11650, 'interfering': 11651, 'internally': 11652, 'interpreter': 11653, 'intifada': 11654, 'introduction': 11655, 'intruder': 11656, 'invested': 11657, 'invests': 11658, 'ipos': 11659, 'iranmania': 11660, 'iressa': 11661, 'isolation': 11662, 'jailing': 11663, 'jamaican': 11664, 'jazz': 11665, 'jeb': 11666, 'jennings': 11667, 'jerry': 11668, 'jewel': 11669, 'jnj': 11670, 'jockey': 11671, 'joel': 11672, 'joke': 11673, 'jones)--the': 11674, 'jpm.n': 11675, 'juices': 11676, 'jv': 11677, 'kaneb': 11678, 'kaplan': 11679, 'kazakh': 11680, 'keyhole': 11681, 'keynote': 11682, 'kgaa': 11683, 'khalid': 11684, 'kin': 11685, 'kirk': 11686, 'kiss': 11687, 'knot': 11688, 'ko': 11689, 'kufuor': 11690, 'kurd': 11691, 'kurdistan': 11692, 'labeled': 11693, 'lambasted': 11694, 'lapse': 11695, 'laser': 11696, 'lax': 11697, 'leaking': 11698, 'leaping': 11699, 'legality': 11700, 'legislator': 11701, 'leone': 11702, 'leverage': 11703, 'lifeline': 11704, 'lighter': 11705, 'lingus': 11706, 'lions': 11707, 'lloyds': 11708, 'loaded': 11709, 'lobbyists': 11710, 'locally': 11711, 'locate': 11712, 'loopholes': 11713, 'lori': 11714, 'lottery': 11715, 'lubbers': 11716, 'luggage': 11717, 'lundberg': 11718, 'lynn': 11719, 'macedonians': 11720, 'madhya': 11721, 'manitoba': 11722, 'mar': 11723, 'marble': 11724, 'marchers': 11725, 'marching': 11726, 'marries': 11727, 'maskhadov': 11728, 'masterminded': 11729, 'math': 11730, 'mckinnon': 11731, 'mdt.n': 11732, 'meals': 11733, 'medarex': 11734, 'median': 11735, 'merchant': 11736, 'method': 11737, 'microchip': 11738, 'mil': 11739, 'militancy': 11740, 'mineral': 11741, 'minivan': 11742, 'minmetals': 11743, 'minorities': 11744, 'minsk': 11745, 'mislead': 11746, 'mississippi': 11747, 'moderates': 11748, 'modify': 11749, 'monica': 11750, 'monte': 11751, 'morgues': 11752, 'motions': 11753, 'mrk': 11754, 'mullah': 11755, 'mulling': 11756, 'multilateral': 11757, 'multiyear': 11758, 'muncie': 11759, 'musicians': 11760, 'mussab': 11761, 'n&lt;/a&gt': 11762, 'nafta': 11763, 'naked': 11764, 'nationality': 11765, 'neglected': 11766, 'nets': 11767, 'neuromodulation': 11768, 'nguema': 11769, 'nk': 11770, 'nobody': 11771, 'nobutaka': 11772, 'nose': 11773, 'novosti': 11774, 'nurse': 11775, \"o'hare\": 11776, \"o'reilly\": 11777, 'oakville': 11778, 'oats': 11779, 'obiang': 11780, 'obligation': 11781, 'occasion': 11782, 'occupy': 11783, 'odp.n': 11784, 'odyssey': 11785, 'olmert': 11786, 'ominous': 11787, 'operatives': 11788, 'orbit': 11789, 'organised': 11790, 'organizer': 11791, 'orinoco': 11792, 'orissa': 11793, 'orphanage': 11794, 'osi': 11795, 'outer': 11796, 'outs': 11797, 'overboard': 11798, 'overdue': 11799, 'overlooking': 11800, 'owens': 11801, 'oxford': 11802, 'pal': 11803, 'papua': 11804, 'paradise': 11805, 'pare': 11806, 'particular': 11807, 'patiently': 11808, 'payoff': 11809, 'pbhg': 11810, 'pep': 11811, 'perez': 11812, 'peril': 11813, 'periods': 11814, 'personality': 11815, 'philly': 11816, 'pimco': 11817, 'pitching': 11818, 'pits': 11819, 'planemaker': 11820, 'planner': 11821, 'politicking': 11822, 'poorer': 11823, 'portfolios': 11824, 'potter': 11825, 'pr': 11826, 'practical': 11827, 'prays': 11828, 'pressuring': 11829, 'pretrial': 11830, 'prime\\\\minister': 11831, 'probable': 11832, 'procession': 11833, 'prognosis': 11834, 'progressive': 11835, 'prohibition': 11836, 'prospectus': 11837, 'prostate': 11838, 'providence': 11839, 'provoking': 11840, 'qanooni': 11841, 'quot;shrek': 11842, 'quot;they': 11843, 'ramp': 11844, 'raps': 11845, 'rays': 11846, 'readers': 11847, 'rebate': 11848, 'rebates': 11849, 'receipts': 11850, 'recommends': 11851, 'reconnaissance': 11852, 'recruiters': 11853, 'refer': 11854, 'refile': 11855, 'refrain': 11856, 'regains': 11857, 'regard': 11858, 'regularly': 11859, 'regulated': 11860, 'rehabilitation': 11861, 'relaxed': 11862, 'religions': 11863, 'remainder': 11864, 'renegade': 11865, 'renowned': 11866, 'residences': 11867, 'resisted': 11868, 'resists': 11869, 'restrained': 11870, 'resurgent': 11871, 'retaliatory': 11872, 'reverses': 11873, 'reviewers': 11874, 'rfid': 11875, 'rhode': 11876, 'rides': 11877, 'rioters': 11878, 'rip': 11879, 'ripping': 11880, 'risked': 11881, 'rockwell': 11882, 'rods': 11883, 'rollout': 11884, 'rounded': 11885, 'royce': 11886, 'rudnick': 11887, 'rukh': 11888, 'runaway': 11889, 'saab': 11890, 'sabotaged': 11891, 'sacrifice': 11892, 'safeguards': 11893, 'sag': 11894, 'santana': 11895, 'sbc.n': 11896, 'sbux.o': 11897, 'scams': 11898, 'scan': 11899, 'sceptical': 11900, 'scheele': 11901, 'scoop': 11902, 'scoring': 11903, 'scraps': 11904, 'screamed': 11905, 'scrushy': 11906, 'seaside': 11907, 'semiconductors': 11908, 'semis': 11909, 'senegal': 11910, 'seng': 11911, 'seniors': 11912, 'severed': 11913, 'sheffield': 11914, 'shelled': 11915, 'shire': 11916, 'shouldn': 11917, 'shuffle': 11918, 'shutdowns': 11919, 'singaporean': 11920, 'singled': 11921, 'singles': 11922, 'size=\"-2': 11923, 'sizzling': 11924, 'skeptics': 11925, 'skirted': 11926, 'slaps': 11927, 'slogans': 11928, 'smile': 11929, 'smiles': 11930, 'smoothly': 11931, 'smuggler': 11932, 'snags': 11933, 'socialists': 11934, 'somber': 11935, 'spawn': 11936, 'spawned': 11937, 'spends': 11938, 'spikes': 11939, 'spurns': 11940, 'spurring': 11941, 'spurt': 11942, 'sputtering': 11943, 'srebrenica': 11944, 'stalling': 11945, 'stampede': 11946, 'starwood': 11947, 'statewide': 11948, 'stimulus': 11949, 'stoke': 11950, 'stones': 11951, 'straining': 11952, 'strides': 11953, 'stringent': 11954, 'substance': 11955, 'successors': 11956, 'suppress': 11957, 'surpassed': 11958, 'surround': 11959, 'surveyed': 11960, 'swelling': 11961, 'swells': 11962, 'swinging': 11963, 'syed': 11964, 'symbols': 11965, 'synopsys': 11966, 'tajikistan': 11967, 'takeoff': 11968, 'tasman': 11969, 'teamed': 11970, 'technician': 11971, 'telcos': 11972, 'telemarketers': 11973, 'telemedia': 11974, 'temasek': 11975, 'tennessee': 11976, 'teodoro': 11977, 'terrible': 11978, 'thanked': 11979, 'thedeal.com': 11980, 'themes': 11981, 'tick': 11982, 'timely': 11983, 'tornadoes': 11984, 'toughest': 11985, 'toured': 11986, 'toymakers': 11987, 'transco': 11988, 'transferring': 11989, 'tremors': 11990, 'trent': 11991, 'tri': 11992, 'trimming': 11993, 'trousers': 11994, 'tsunamis': 11995, 'tunes': 11996, 'tunisian': 11997, 'tunnels': 11998, 'turks': 11999, 'typhoons': 12000, 'unanimous': 12001, 'underestimated': 12002, 'uneven': 12003, 'unionists': 12004, 'united\\\\states': 12005, 'unlawful': 12006, 'unmanned': 12007, 'unwilling': 12008, 'unwind': 12009, 'update7': 12010, 'uphill': 12011, 'uphold': 12012, 'uproar': 12013, 'utc': 12014, 'utter': 12015, 'valve': 12016, 'vazquez': 12017, 'vibrant': 12018, 'videotaped': 12019, 'vie': 12020, 'vijay': 12021, 'vincent': 12022, 'wane': 12023, 'warriors': 12024, 'wbix': 12025, 'weeklong': 12026, 'wharf': 12027, 'whereabouts': 12028, 'whipped': 12029, 'willingness': 12030, 'wisdom': 12031, 'wrapping': 12032, 'wreak': 12033, 'wreath': 12034, 'wwe': 12035, 'yorkers': 12036, 'yu': 12037, 'zambia': 12038, 'zia': 12039, '-fed': 12040, '//--': 12041, '0.25': 12042, '100-meter': 12043, '102': 12044, '104': 12045, '105': 12046, '115': 12047, '14,000': 12048, '146': 12049, '16,000': 12050, '17,000': 12051, '17-month': 12052, '182': 12053, '191': 12054, '1967': 12055, '1974': 12056, '1975': 12057, '1984': 12058, '2,800': 12059, '2011': 12060, '2015': 12061, '2020': 12062, '205': 12063, '230': 12064, '3,700': 12065, '350,000': 12066, '36;10': 12067, '36;100': 12068, '36;5': 12069, '39;04': 12070, '39;in': 12071, '39;strategic': 12072, '4,200': 12073, '400-meter': 12074, '5-week': 12075, '5.6': 12076, '575': 12077, '62-year': 12078, '8-year': 12079, '8.4': 12080, '\\\\$1,000': 12081, '\\\\$1.75': 12082, '\\\\$1.9': 12083, '\\\\$11.4': 12084, '\\\\$112': 12085, '\\\\$130': 12086, '\\\\$17.8': 12087, '\\\\$22': 12088, '\\\\$28': 12089, '\\\\$3.05': 12090, '\\\\$4.5': 12091, '\\\\$4bn': 12092, '\\\\$500,000': 12093, '\\\\$55.5': 12094, 'a\\\\$1': 12095, 'aapl.o': 12096, 'abercrombie': 12097, 'abraham': 12098, 'absorbed': 12099, 'abusive': 12100, 'accelerates': 12101, 'accenture': 12102, 'accidental': 12103, 'accidentally': 12104, 'accountable': 12105, 'accountants': 12106, 'acquits': 12107, 'actual': 12108, 'afloat': 12109, 'agere': 12110, 'agl': 12111, 'ailment': 12112, 'akbar': 12113, 'album': 12114, 'alcs': 12115, 'alejandro': 12116, 'alexei': 12117, 'alltel': 12118, 'alo.n': 12119, 'amendments': 12120, 'amounted': 12121, 'amp;g': 12122, 'amp;w': 12123, 'ample': 12124, 'amtrak': 12125, 'amusement': 12126, 'amzn.o': 12127, 'anadarko': 12128, 'angels': 12129, 'annetta': 12130, 'anonymous': 12131, 'antibiotic': 12132, 'applause': 12133, 'appreciate': 12134, 'apprentice': 12135, 'arising': 12136, 'ariz.': 12137, 'asians': 12138, 'aslan': 12139, 'attends': 12140, 'auctioned': 12141, 'auctions': 12142, 'audiences': 12143, 'austerity': 12144, 'authorizes': 12145, 'authors': 12146, 'autozone': 12147, 'avenge': 12148, 'averted': 12149, 'axing': 12150, 'baa': 12151, 'bachelor': 12152, 'backlog': 12153, 'baer': 12154, 'balkans': 12155, 'bancshares': 12156, 'barreled': 12157, 'barrick': 12158, 'baton': 12159, 'bb': 12160, 'bbi.n': 12161, 'bea': 12162, 'beachings': 12163, 'bean': 12164, 'beatifies': 12165, 'bedding': 12166, 'beds': 12167, 'beersheba': 12168, 'behaviour': 12169, 'beige': 12170, 'believing': 12171, 'belong': 12172, 'beneficiaries': 12173, 'benign': 12174, 'bernhard': 12175, 'bertelsmann': 12176, 'bf': 12177, 'bible': 12178, 'bleustein': 12179, 'boasted': 12180, 'boasting': 12181, 'boj': 12182, 'bollore': 12183, 'bolted': 12184, 'booked': 12185, 'booths': 12186, 'boring': 12187, 'botched': 12188, 'boutique': 12189, 'bpo': 12190, 'bragging': 12191, 'breakthroughs': 12192, 'breweries': 12193, 'brit': 12194, 'brush': 12195, 'bsf': 12196, 'buck': 12197, 'bujumbura': 12198, 'burkina': 12199, 'bustling': 12200, 'butter': 12201, 'byrd': 12202, 'cabin': 12203, 'cadillac': 12204, 'calculate': 12205, 'californian': 12206, 'canas': 12207, 'canceling': 12208, 'cannabis': 12209, 'cans': 12210, 'capitalize': 12211, 'carmel': 12212, 'cartoon': 12213, 'casual': 12214, 'cemented': 12215, 'censured': 12216, 'centenary': 12217, 'centene': 12218, 'ch': 12219, 'chairmen': 12220, 'chalone': 12221, 'championed': 12222, 'championships': 12223, 'chemotherapy': 12224, 'chickens': 12225, 'chopper': 12226, 'chvez': 12227, 'clashing': 12228, 'cluster': 12229, 'coffers': 12230, 'cohen': 12231, 'collaborator': 12232, 'combative': 12233, 'commscope': 12234, 'compact': 12235, 'concedes': 12236, 'conditionally': 12237, 'condo': 12238, 'congratulates': 12239, 'contains': 12240, 'contaminated': 12241, 'continents': 12242, 'contradicting': 12243, 'contradictory': 12244, 'coo': 12245, 'cord': 12246, 'corvette': 12247, 'countryside': 12248, 'courthouse': 12249, 'cowboy': 12250, 'crammed': 12251, 'crane': 12252, 'crewman': 12253, 'croat': 12254, 'cruel': 12255, 'crumbled': 12256, 'crumbling': 12257, 'curtail': 12258, 'cusp': 12259, 'cvs': 12260, 'cyber': 12261, 'cyclical': 12262, 'dakar': 12263, 'damp': 12264, 'danielle': 12265, 'daring': 12266, 'darling': 12267, 'debating': 12268, 'deck': 12269, 'decries': 12270, 'dedication': 12271, 'deduct': 12272, 'deducting': 12273, 'deductions': 12274, 'defamation': 12275, 'definitely': 12276, 'deflate': 12277, 'delicate': 12278, 'deloitte': 12279, 'deluge': 12280, 'deluxe': 12281, 'demolished': 12282, 'denominated': 12283, 'dental': 12284, 'depend': 12285, 'der': 12286, 'derided': 12287, 'deserved': 12288, 'detectives': 12289, 'deuba': 12290, 'develops': 12291, 'di': 12292, 'diary': 12293, 'diets': 12294, 'difficulty': 12295, 'dillard': 12296, 'dis': 12297, 'disagrees': 12298, 'disband': 12299, 'disk': 12300, 'displayed': 12301, 'diverse': 12302, 'dlr': 12303, 'dove': 12304, 'downbeat': 12305, 'drafts': 12306, 'draining': 12307, 'drenching': 12308, 'drinkers': 12309, 'drm': 12310, 'du': 12311, 'dusk': 12312, 'dvds': 12313, 'echo': 12314, 'echoing': 12315, 'eco': 12316, 'econ': 12317, 'edgy': 12318, 'edison': 12319, 'eggs': 12320, 'ek.n': 12321, 'elders': 12322, 'electron': 12323, 'elegant': 12324, 'eleventh': 12325, 'elfriede': 12326, 'eligibility': 12327, 'embracing': 12328, 'embraer': 12329, 'embryos': 12330, 'emerson': 12331, 'enacted': 12332, 'enclaves': 12333, 'endangering': 12334, 'endorsement': 12335, 'endured': 12336, 'enduring': 12337, 'enhanced': 12338, 'entitled': 12339, 'epicenter': 12340, 'equitable': 12341, 'ernst': 12342, 'erratic': 12343, 'eruption': 12344, 'ethiopian': 12345, 'examinations': 12346, 'excludes': 12347, 'expels': 12348, 'expenditure': 12349, 'expiration': 12350, 'expose': 12351, 'exposing': 12352, 'exposure': 12353, 'extinction': 12354, 'eyetech': 12355, 'f.c.c.': 12356, 'facto': 12357, 'falconio': 12358, 'fanning': 12359, 'farce': 12360, 'farmland': 12361, 'farther': 12362, 'fashions': 12363, 'fatally': 12364, 'faulted': 12365, 'feast': 12366, 'featured': 12367, 'federal\\\\reserve': 12368, 'fiercest': 12369, 'fiji': 12370, 'finger': 12371, 'fingers': 12372, 'finucane': 12373, 'first-': 12374, 'fitness': 12375, 'fixes': 12376, 'flare': 12377, 'flattened': 12378, 'flattening': 12379, 'fleetcenter': 12380, 'flip': 12381, 'fn': 12382, 'fnm': 12383, 'fodder': 12384, 'footsteps': 12385, 'forensic': 12386, 'forfeit': 12387, 'forgiveness': 12388, 'formation': 12389, 'formidable': 12390, 'fortress': 12391, 'forums': 12392, 'fosters': 12393, 'fraction': 12394, 'fradkov': 12395, 'fre.n': 12396, 'fred': 12397, 'freedoms': 12398, 'fremont': 12399, 'frequented': 12400, 'friction': 12401, 'fujitsu': 12402, 'fullquote\"&gt;awe.n&lt;/a&gt': 12403, 'fullquote\"&gt;cat.n&lt;/a&gt': 12404, 'fullquote\"&gt;mmm.n&lt;/a&gt': 12405, 'fullquote\"&gt;s.n&lt;/a&gt': 12406, 'fullquote\"&gt;twx.n&lt;/a&gt': 12407, 'fullquote\"&gt;uair.o&lt;/a&gt': 12408, 'fumes': 12409, 'g.i.': 12410, 'gadgets': 12411, 'gaulle': 12412, 'genetic': 12413, 'gerard': 12414, 'gilberto': 12415, 'giveaway': 12416, 'glasner': 12417, 'glitch': 12418, 'goog': 12419, 'govern': 12420, 'greens': 12421, 'grisly': 12422, 'grueling': 12423, 'gruesome': 12424, 'guarding': 12425, 'gubernatorial': 12426, 'haaretz': 12427, 'hain': 12428, 'halls': 12429, 'halve': 12430, 'hanover': 12431, 'harmed': 12432, 'harvey': 12433, 'hashemi': 12434, 'hauled': 12435, 'haunts': 12436, 'hawaiian': 12437, 'hawkish': 12438, 'headway': 12439, 'healthier': 12440, 'heavyweights': 12441, 'hebei': 12442, 'helsinki': 12443, 'herbicide': 12444, 'hess': 12445, 'hiking': 12446, 'historians': 12447, 'hoax': 12448, 'holmes': 12449, 'homegrown': 12450, 'homicide': 12451, 'honoring': 12452, 'horse': 12453, 'hosoda': 12454, 'hostel': 12455, 'hotspots': 12456, 'howling': 12457, 'hugely': 12458, 'hughes': 12459, 'humor': 12460, 'husseini': 12461, 'idle': 12462, 'ignores': 12463, 'immune': 12464, 'implemented': 12465, 'impressed': 12466, 'inability': 12467, 'inaction': 12468, 'inca': 12469, 'incapable': 12470, 'inclusion': 12471, 'incorrect': 12472, 'indirectly': 12473, 'infamous': 12474, 'infiltrators': 12475, 'inflicted': 12476, 'infringed': 12477, 'innocence': 12478, 'insolvency': 12479, 'insults': 12480, 'integris': 12481, 'interpol': 12482, 'intervened': 12483, 'introduces': 12484, 'isdell': 12485, 'jarvis': 12486, 'jaws': 12487, 'jeopardize': 12488, 'joanna': 12489, 'john\\\\kerry': 12490, 'jorge': 12491, 'journalism': 12492, 'jubilant': 12493, 'k.': 12494, 'kampala': 12495, 'kerkorian': 12496, 'kingston': 12497, 'knowing': 12498, 'kohl': 12499, 'kryptonite': 12500, 'lahiya': 12501, 'lance': 12502, 'lapses': 12503, 'lastminute.com': 12504, 'layoff': 12505, 'leaseholder': 12506, 'leh.n': 12507, 'lg.philips': 12508, 'lighting': 12509, 'lingers': 12510, 'liquidate': 12511, 'logging': 12512, 'logistical': 12513, 'lorry': 12514, 'louvre': 12515, 'lt;font': 12516, 'luster': 12517, 'lymphoma': 12518, 'magellan': 12519, 'magic': 12520, 'magnate': 12521, 'mahatma': 12522, 'maldives': 12523, 'malfunction': 12524, 'manning': 12525, 'mansion': 12526, 'mapping': 12527, 'maps': 12528, 'marek': 12529, 'mariano': 12530, 'marion': 12531, 'marketer': 12532, 'marquez': 12533, 'mask': 12534, 'masse': 12535, 'masterminding': 12536, 'masterpiece': 12537, 'masterpieces': 12538, 'mauritania': 12539, 'mazda': 12540, 'mazen': 12541, 'mcguinty': 12542, 'meaningful': 12543, 'mediator': 12544, 'medications': 12545, 'medimmune': 12546, 'mehmood': 12547, 'melissa': 12548, 'memorandum': 12549, 'mental': 12550, 'merged': 12551, 'meyer': 12552, 'mickey': 12553, 'midsize': 12554, 'midtown': 12555, 'mighty': 12556, 'minimal': 12557, 'mmm.n': 12558, 'mmo2': 12559, 'mo.n': 12560, 'monarchy': 12561, 'montenegro': 12562, 'municipalities': 12563, 'murphy': 12564, 'murray': 12565, 'museveni': 12566, 'natwest': 12567, 'nayan': 12568, 'nemo': 12569, 'nervously': 12570, 'netware': 12571, 'nexen': 12572, 'nhk': 12573, 'nock': 12574, 'nonunion': 12575, 'norilsk': 12576, 'notably': 12577, 'notch': 12578, 'noticed': 12579, 'notion': 12580, 'nottingham': 12581, 'objected': 12582, 'objective': 12583, 'odd': 12584, 'offense': 12585, 'offsets': 12586, 'oil\\\\prices': 12587, 'ongc': 12588, 'organisations': 12589, 'osman': 12590, 'ot': 12591, 'otc': 12592, 'ought': 12593, 'ounce': 12594, 'outcry': 12595, 'outpaced': 12596, 'outposts': 12597, 'outsourced': 12598, 'ovation': 12599, 'overcoming': 12600, 'oversees': 12601, 'overshadow': 12602, 'pablo': 12603, 'paced': 12604, 'pacify': 12605, 'pageant': 12606, 'painkillers': 12607, 'pancreatic': 12608, 'par': 12609, 'paramilitaries': 12610, 'patriot': 12611, 'paykel': 12612, 'peek': 12613, 'perilous': 12614, 'perimeter': 12615, 'perjury': 12616, 'permira': 12617, 'persecution': 12618, 'personalities': 12619, 'persuaded': 12620, 'peso': 12621, 'petrochemical': 12622, 'petros': 12623, 'pg': 12624, 'phillips': 12625, 'pigment': 12626, 'pills': 12627, 'pipes': 12628, 'plain': 12629, 'planets': 12630, 'planners': 12631, 'plaza': 12632, 'pleasanton': 12633, 'plotted': 12634, 'plume': 12635, 'plumes': 12636, 'pmc': 12637, 'pollsters': 12638, 'polo': 12639, 'pondered': 12640, 'porsche': 12641, 'portland': 12642, 'positively': 12643, 'possessing': 12644, 'postage': 12645, 'potent': 12646, 'ppi': 12647, 'predominantly': 12648, 'presentation': 12649, 'pretoria': 12650, 'printers': 12651, 'privatisation': 12652, 'prized': 12653, 'profound': 12654, 'programmer': 12655, 'promptly': 12656, 'pronk': 12657, 'pros': 12658, 'proxim': 12659, 'pulte': 12660, 'pundits': 12661, 'qaqaa': 12662, 'quadruple': 12663, 'qualified': 12664, 'quarantine': 12665, 'que': 12666, 'quintain': 12667, 'quot;all': 12668, 'quot;an': 12669, 'quot;big': 12670, 'quot;is': 12671, 'quot;market': 12672, 'quot;shark': 12673, 'rabbis': 12674, 'rabin': 12675, 'rafael': 12676, 'raiding': 12677, 'rangers': 12678, 'ratcheted': 12679, 'rated': 12680, 'reacts': 12681, 'readied': 12682, 'realized': 12683, 'rear': 12684, 'rebuked': 12685, 'recede': 12686, 'reclusive': 12687, 'redemption': 12688, 'redeployed': 12689, 'reeve': 12690, 'regardless': 12691, 'rekindled': 12692, 'relies': 12693, 'relocation': 12694, 'reminded': 12695, 'renovation': 12696, 'rented': 12697, 'repairs': 12698, 'repealed': 12699, 'requesting': 12700, 'requirement': 12701, 'rescind': 12702, 'rescuing': 12703, 'rheumatoid': 12704, 'ricardo': 12705, 'ripple': 12706, 'ritter': 12707, 'robbers': 12708, 'robbery': 12709, 'roiled': 12710, 'ron': 12711, 'routed': 12712, 'rows': 12713, 'rpt': 12714, 'ruud': 12715, 's.n': 12716, 'saarc': 12717, 'saarland': 12718, 'saharan': 12719, 'saigon': 12720, 'sailed': 12721, 'sainthood': 12722, 'saints': 12723, 'sandwich': 12724, 'santos': 12725, 'sapped': 12726, 'sarah': 12727, 'sarajevo': 12728, 'sarbanes': 12729, 'satanist': 12730, 'sayako': 12731, 'scarred': 12732, 'scenario': 12733, 'schlumberger': 12734, 'screaming': 12735, 'script': 12736, 'sealing': 12737, 'secrecy': 12738, 'segments': 12739, 'semifinals': 12740, 'semitism': 12741, 'separately': 12742, 'sergio': 12743, 'seri': 12744, 'severn': 12745, 'sharpest': 12746, 'shippers': 12747, 'shocking': 12748, 'shocks': 12749, 'shoddy': 12750, 'shoesource': 12751, 'shootouts': 12752, 'shoots': 12753, 'siachen': 12754, 'siberia': 12755, 'sided': 12756, 'siding': 12757, 'silk': 12758, 'silverstein': 12759, 'similarly': 12760, 'simulator': 12761, 'sixty': 12762, 'ski': 12763, 'skidding': 12764, 'slaughtered': 12765, 'sleepy': 12766, 'sliced': 12767, 'slovakia': 12768, 'slovenia': 12769, 'slums': 12770, 'smfg': 12771, 'smuggled': 12772, 'snecma': 12773, 'sodomy': 12774, 'soften': 12775, 'soggy': 12776, 'sola': 12777, 'solemn': 12778, 'solo': 12779, 'sour': 12780, 'soured': 12781, 'soyuz': 12782, 'speakers': 12783, 'spice': 12784, 'spinal': 12785, 'spitz': 12786, 'spr': 12787, 'spun': 12788, 'stabilizes': 12789, 'stacked': 12790, 'staffing': 12791, 'stamford': 12792, 'starring': 12793, 'steals': 12794, 'stemmed': 12795, 'stf': 12796, 'stoppages': 12797, 'storming': 12798, 'streams': 12799, 'stumble': 12800, 'stunt': 12801, 'subjects': 12802, 'submitting': 12803, 'sunnis': 12804, 'sunrise': 12805, 'surgical': 12806, 'surrendering': 12807, 'swallow': 12808, 'swarm': 12809, 'swearing': 12810, 'swedes': 12811, 'swiffer': 12812, 'switched': 12813, 'swollen': 12814, 'tablets': 12815, 'tabloid': 12816, 'takefuji': 12817, 'tanzania': 12818, 'taught': 12819, 'tawhid': 12820, 'teaching': 12821, 'tearfully': 12822, 'teeth': 12823, 'tend': 12824, 'tenders': 12825, 'testifying': 12826, 'thirst': 12827, 'thrash': 12828, 'thumb': 12829, 'tightfisted': 12830, 'tigris': 12831, 'till': 12832, 'timed': 12833, 'timeline': 12834, 'timor': 12835, 'tinto': 12836, 'tissue': 12837, 'tout': 12838, 'tpv': 12839, 'trace': 12840, 'trailed': 12841, 'trails': 12842, 'trainees': 12843, 'travelled': 12844, 'trb.n': 12845, 'treasure': 12846, 'tremendous': 12847, 'trenton': 12848, 'tricky': 12849, 'triples': 12850, 'troublesome': 12851, 'truckload': 12852, 'trusted': 12853, 'tsb': 12854, 'tucked': 12855, 'turkeys': 12856, 'txu': 12857, 'types': 12858, 'tysabri': 12859, 'unconditional': 12860, 'uncover': 12861, 'underlines': 12862, 'underperforming': 12863, 'underpinned': 12864, 'unease': 12865, 'unfazed': 12866, 'unfolding': 12867, 'unicef': 12868, 'unify': 12869, 'unimpressed': 12870, 'unites': 12871, 'unnoticed': 12872, 'unscheduled': 12873, 'upholding': 12874, 'uproot': 12875, 'upwards': 12876, 'us\\\\$50': 12877, 'useful': 12878, 'valid': 12879, 'vans': 12880, 'vent': 12881, 'vessels': 12882, 'vetoed': 12883, 'videos': 12884, 'videsh': 12885, 'vigorous': 12886, 'vii': 12887, 'villain': 12888, 'vonage': 12889, 'vulnerability': 12890, 'wade': 12891, 'wajed': 12892, 'wall\\\\street': 12893, 'waned': 12894, 'wash': 12895, 'watershed': 12896, 'wavering': 12897, 'westpac': 12898, 'weyerhaeuser': 12899, 'whiskey': 12900, 'wichita': 12901, 'wicket': 12902, 'wills': 12903, 'wise': 12904, 'wmt': 12905, 'wolfensohn': 12906, 'wonderful': 12907, 'wong': 12908, 'woos': 12909, 'wording': 12910, 'wordperfect': 12911, 'workplace': 12912, \"world's\\\\largest\": 12913, 'wrestling': 12914, 'xerox': 12915, 'y': 12916, 'yacht': 12917, 'yawning': 12918, 'yunus': 12919, 'zen': 12920, 'zhang': 12921, '-medics': 12922, '-s': 12923, '0.69': 12924, '08': 12925, '1,250': 12926, '11-year': 12927, '11.2': 12928, '12.7': 12929, '129': 12930, '16-day': 12931, '16.5': 12932, '18,000': 12933, '1944': 12934, '1982': 12935, '1989': 12936, '2,200': 12937, '2-week': 12938, '2.2': 12939, '200-meter': 12940, '23-year': 12941, '25-nation': 12942, '25-year': 12943, '334': 12944, '36;20': 12945, '36;55': 12946, '39;black': 12947, '39;most': 12948, '39;r': 12949, '430': 12950, '450': 12951, '59th': 12952, '6-month': 12953, '6.0': 12954, '60th': 12955, '622': 12956, '6bn': 12957, '7.3': 12958, '7.4': 12959, '7th': 12960, '9,500': 12961, '9.1': 12962, '9.7': 12963, '967': 12964, '9th': 12965, '\\\\$1.30': 12966, '\\\\$1.3b': 12967, '\\\\$1.93': 12968, '\\\\$10bn': 12969, '\\\\$125': 12970, '\\\\$150,000': 12971, '\\\\$180': 12972, '\\\\$2.7': 12973, '\\\\$222.5': 12974, '\\\\$23.9': 12975, '\\\\$26': 12976, '\\\\$2b': 12977, '\\\\$3.1': 12978, '\\\\$3.8': 12979, '\\\\$375': 12980, '\\\\$3bn': 12981, '\\\\$4.1': 12982, '\\\\$436': 12983, '\\\\$49.40': 12984, '\\\\$5bn': 12985, '\\\\$7.5': 12986, '\\\\$8.1': 12987, '\\\\$805': 12988, '\\\\$815': 12989, '\\\\$87.5': 12990, 'aaa': 12991, 'abb': 12992, 'aber': 12993, 'absolute': 12994, 'accountability': 12995, 'accountingweb.com': 12996, 'adapters': 12997, 'addresses': 12998, 'adjustment': 12999, 'advises': 13000, 'affluent': 13001, 'afrol': 13002, 'agis': 13003, 'aisle': 13004, 'aiyar': 13005, 'akhmad': 13006, 'akin': 13007, 'albert': 13008, 'alfonso': 13009, 'alfred': 13010, 'alienated': 13011, 'alinta': 13012, 'aljazeera': 13013, 'allan': 13014, 'allocation': 13015, 'alu': 13016, 'alumina': 13017, 'ambition': 13018, 'amending': 13019, 'ameritrade': 13020, 'amp;e': 13021, 'analog': 13022, 'anguish': 13023, 'ansar': 13024, 'anticipates': 13025, 'anytime': 13026, 'apax': 13027, 'argentines': 13028, 'arranging': 13029, 'arsonists': 13030, 'artificially': 13031, 'arun': 13032, 'asbury': 13033, 'ascension': 13034, 'assessing': 13035, 'assuring': 13036, 'astronomers': 13037, 'atlantis': 13038, 'attrition': 13039, 'aunt': 13040, 'automatically': 13041, 'awash': 13042, 'awe': 13043, 'axp.n': 13044, 'backer': 13045, 'bacteria': 13046, 'bahadur': 13047, 'balancing': 13048, 'balcony': 13049, 'banc': 13050, 'bankrolled': 13051, 'bankrolling': 13052, 'barghuti': 13053, 'barn': 13054, 'barrichello': 13055, 'basics': 13056, 'bass': 13057, 'battlefield': 13058, 'battlegrounds': 13059, 'bbva': 13060, 'belka': 13061, 'belongs': 13062, 'beloved': 13063, 'bend': 13064, 'berkeley': 13065, 'beshir': 13066, 'bethesda': 13067, 'bethlehem': 13068, 'bfi': 13069, 'bgp.n': 13070, 'bharti': 13071, 'biblical': 13072, 'bies': 13073, 'billboard': 13074, 'blackout': 13075, 'blairs': 13076, 'blasting': 13077, 'blogs': 13078, 'blooded': 13079, 'bmg': 13080, 'bmo': 13081, 'boarding': 13082, 'boe': 13083, 'bookkeeping': 13084, 'borgwarner': 13085, 'borrowed': 13086, 'bosnians': 13087, 'boulevard': 13088, 'bourse': 13089, 'bout': 13090, 'boxing': 13091, 'boycotts': 13092, 'brady': 13093, 'brewers': 13094, 'bridgetown': 13095, 'brisbane': 13096, 'broadway': 13097, 'browser': 13098, 'brunt': 13099, 'budapest': 13100, 'buffeted': 13101, 'bug': 13102, 'bullying': 13103, 'bundle': 13104, 'bungled': 13105, 'buoy': 13106, 'buoys': 13107, 'busted': 13108, 'bye': 13109, 'cablevision': 13110, 'cabrera': 13111, 'cake': 13112, 'cal.n': 13113, 'cali': 13114, 'campina': 13115, 'canned': 13116, 'caroline': 13117, 'catz': 13118, 'ce': 13119, 'certainty': 13120, 'chairmanship': 13121, 'chairs': 13122, 'challengers': 13123, 'characterization': 13124, 'characters': 13125, 'charest': 13126, 'charismatic': 13127, 'charred': 13128, 'che': 13129, 'chenjiashan': 13130, 'chennai': 13131, 'chew': 13132, 'chief\\\\executive': 13133, 'chronology': 13134, 'chuck': 13135, 'cibc': 13136, 'ciena': 13137, 'circulatory': 13138, 'civic': 13139, 'cl.n': 13140, 'clad': 13141, 'clan': 13142, 'clarification': 13143, 'clarity': 13144, 'classes': 13145, 'clause': 13146, 'clerical': 13147, 'climates': 13148, 'climax': 13149, 'clint': 13150, 'clouding': 13151, 'co.&lt;a': 13152, 'cockpit': 13153, 'coffins': 13154, 'colon': 13155, 'colored': 13156, 'combatant': 13157, 'commerzbank': 13158, 'committees': 13159, 'commoner': 13160, 'companion': 13161, 'compelling': 13162, 'complicity': 13163, 'computershare': 13164, 'concentrating': 13165, 'concept': 13166, 'concorde': 13167, 'condos': 13168, 'conferees': 13169, 'confessed': 13170, 'confronted': 13171, 'confronts': 13172, 'congratulate': 13173, 'consciousness': 13174, 'constant': 13175, 'consular': 13176, 'contempt': 13177, 'contending': 13178, 'contends': 13179, 'contests': 13180, 'contrary': 13181, 'contrasts': 13182, 'copied': 13183, 'cordiale': 13184, 'correction': 13185, 'coughlin': 13186, 'cpc': 13187, 'crafts': 13188, 'crawled': 13189, 'craze': 13190, 'cremated': 13191, 'criteria': 13192, 'crusader': 13193, 'culmination': 13194, 'curse': 13195, 'czechs': 13196, 'dalton': 13197, 'damon': 13198, 'dar': 13199, 'darleen': 13200, 'daylong': 13201, 'dazzling': 13202, 'deadlines': 13203, 'dealmaker': 13204, 'deceiving': 13205, 'decommissioning': 13206, 'deduction': 13207, 'defecting': 13208, 'defection': 13209, 'defences': 13210, 'define': 13211, 'defrauding': 13212, 'delighted': 13213, 'demilitarised': 13214, 'densely': 13215, 'deployments': 13216, 'des': 13217, 'deserting': 13218, 'despair': 13219, 'detentions': 13220, 'determining': 13221, 'devil': 13222, 'devotion': 13223, 'diagnosis': 13224, 'digits': 13225, 'dignity': 13226, 'dimmed': 13227, 'disagreements': 13228, 'discloses': 13229, 'discounters': 13230, 'dispatch': 13231, 'distressed': 13232, 'distributions': 13233, 'distributors': 13234, 'diva': 13235, 'diversify': 13236, 'diversion': 13237, 'diversity': 13238, 'divest': 13239, 'divides': 13240, 'dominating': 13241, 'doom': 13242, 'doorstep': 13243, 'doug': 13244, 'douri': 13245, 'dovish': 13246, 'dpa': 13247, 'drenched': 13248, 'dresser': 13249, 'drifting': 13250, 'drums': 13251, 'duelguide': 13252, 'durban': 13253, 'dutchman': 13254, 'dyke': 13255, 'earliest': 13256, 'earnest': 13257, 'echoes': 13258, 'ehud': 13259, 'eln': 13260, 'els': 13261, 'embarked': 13262, 'embarrassed': 13263, 'employing': 13264, 'endless': 13265, 'enel': 13266, 'ensuring': 13267, 'entente': 13268, 'environmentally': 13269, 'episcopal': 13270, 'episode': 13271, 'eps': 13272, 'erbitux': 13273, 'escort': 13274, 'espionage': 13275, 'estee': 13276, 'estonian': 13277, 'ethernet': 13278, 'evaluated': 13279, 'evident': 13280, 'exchange\\\\commission': 13281, 'excite': 13282, 'excitement': 13283, 'exciting': 13284, 'excluded': 13285, 'executes': 13286, 'exercised': 13287, 'existence': 13288, 'exists': 13289, 'expatriates': 13290, 'expeditionary': 13291, 'experiences': 13292, 'expertise': 13293, 'exploiting': 13294, 'explorer': 13295, 'expo': 13296, 'exposes': 13297, 'expressions': 13298, 'fa': 13299, 'facilitate': 13300, 'failings': 13301, 'fairfax': 13302, 'falters': 13303, 'famine': 13304, 'fantasy': 13305, 'faso': 13306, 'fated': 13307, 'felony': 13308, 'fervor': 13309, 'festivities': 13310, 'festus': 13311, 'fiance': 13312, 'financials': 13313, 'fireman': 13314, 'flesh': 13315, 'flick': 13316, 'flocking': 13317, 'flop': 13318, 'flops': 13319, 'flouted': 13320, 'foil': 13321, 'folk': 13322, 'forcefully': 13323, 'formats': 13324, 'fortnight': 13325, 'fourth-': 13326, 'fracturing': 13327, 'framingham': 13328, 'frankly': 13329, 'frantic': 13330, 'fredericton': 13331, 'freestyle': 13332, 'frenchmen': 13333, 'frequency': 13334, 'frontline': 13335, 'froze': 13336, 'fullquote\"&gt;cc.n&lt;/a&gt': 13337, 'fullquote\"&gt;cl.n&lt;/a&gt': 13338, 'fullquote\"&gt;jpm.n&lt;/a&gt': 13339, 'fullquote\"&gt;nxtl.o&lt;/a&gt': 13340, 'fullquote\"&gt;pep.n&lt;/a&gt': 13341, 'fullquote\"&gt;tasr.o&lt;/a&gt': 13342, 'fullquote\"&gt;ualaq.ob&lt;/a&gt': 13343, 'fundamentally': 13344, 'fundraising': 13345, 'funny': 13346, 'furnishings': 13347, 'furor': 13348, 'g-8': 13349, 'gail': 13350, 'gala': 13351, 'gallaher': 13352, 'gaps': 13353, 'garage': 13354, 'gatwick': 13355, 'gcc': 13356, 'gentle': 13357, 'genzyme': 13358, 'ghosts': 13359, 'gi': 13360, 'glowing': 13361, 'goers': 13362, 'gps': 13363, 'gps.n': 13364, 'graduation': 13365, 'grammy': 13366, 'grappled': 13367, 'grapples': 13368, 'greed': 13369, 'grill': 13370, 'grilling': 13371, 'groep': 13372, 'gs.n': 13373, 'guangzhou': 13374, 'guessing': 13375, 'guinness': 13376, 'gul': 13377, 'gurkha': 13378, 'hallmarks': 13379, 'halo': 13380, 'handbag': 13381, 'handcuffed': 13382, 'hanjin': 13383, 'happiness': 13384, 'hardened': 13385, 'hauspie': 13386, 'hbo': 13387, 'heaven': 13388, 'height': 13389, 'heineken': 13390, 'herzegovina': 13391, 'hi': 13392, 'highbridge': 13393, 'hilltop': 13394, 'hiroyuki': 13395, 'hitter': 13396, 'hlr.n': 13397, 'holder': 13398, 'holidaymakers': 13399, 'homosexual': 13400, 'honest': 13401, 'honors': 13402, 'honoured': 13403, 'horrified': 13404, 'hotbed': 13405, 'hotter': 13406, 'humble': 13407, 'humiliation': 13408, 'hussain': 13409, 'hyped': 13410, 'ideological': 13411, 'iliescu': 13412, 'img': 13413, 'impacted': 13414, 'impetus': 13415, 'improbable': 13416, 'in\\\\iraq': 13417, 'inaugurate': 13418, 'incendiary': 13419, 'incite': 13420, 'incredible': 13421, 'indecency': 13422, 'indict': 13423, 'infecting': 13424, 'inflamed': 13425, 'ingredients': 13426, 'injected': 13427, 'instance': 13428, 'intellectuals': 13429, 'intermediate': 13430, 'interrogation': 13431, 'intruders': 13432, 'intrusive': 13433, 'inventor': 13434, 'invoking': 13435, 'irrelevant': 13436, 'islamiah': 13437, 'israelnn.com': 13438, 'issing': 13439, 'issuers': 13440, 'isuzu': 13441, 'izz': 13442, 'jabs': 13443, 'jacob': 13444, 'jamaicans': 13445, 'jams': 13446, 'joaquim': 13447, 'jones)--singapore': 13448, 'joyce': 13449, 'junction': 13450, 'juniper': 13451, 'kalashnikov': 13452, 'kamil': 13453, 'karbala': 13454, 'kazaa': 13455, 'kenteris': 13456, 'kg': 13457, 'ki': 13458, 'kickoff': 13459, 'kings': 13460, 'kirchner': 13461, 'knives': 13462, 'kostov': 13463, 'kroes': 13464, 'kumaratunga': 13465, 'l-3': 13466, 'laments': 13467, 'lampedusa': 13468, 'langer': 13469, 'languages': 13470, 'lazarus': 13471, 'learns': 13472, 'ledge': 13473, 'lego': 13474, 'leno': 13475, 'lernout': 13476, 'les': 13477, 'liberties': 13478, 'lincoln': 13479, 'listeners': 13480, 'literary': 13481, 'littered': 13482, 'lng': 13483, 'lobbed': 13484, 'lobbied': 13485, 'lonely': 13486, 'long-': 13487, 'loves': 13488, 'loving': 13489, 'low.n': 13490, 'lu.n': 13491, 'lures': 13492, 'ma': 13493, 'macadamia': 13494, 'macdonald': 13495, 'mahathir': 13496, 'maj': 13497, 'mandated': 13498, 'maneuvering': 13499, 'mansour': 13500, 'marlins': 13501, 'masood': 13502, 'materialize': 13503, 'maughan': 13504, 'maven': 13505, 'maxima': 13506, 'mayors': 13507, 'mbna': 13508, 'medgyessy': 13509, 'mediacom': 13510, 'medicaid': 13511, 'medley': 13512, 'mehdi': 13513, 'mellon': 13514, 'melnyk': 13515, 'memoir': 13516, 'mention': 13517, 'merit': 13518, 'methane': 13519, 'micah': 13520, 'microchips': 13521, 'microprocessors': 13522, 'min': 13523, 'misgivings': 13524, 'misguided': 13525, 'mixture': 13526, 'mizuho': 13527, 'moammar': 13528, 'mobilized': 13529, 'moderated': 13530, 'mofaz': 13531, 'mogae': 13532, 'moguls': 13533, 'monstrous': 13534, 'montgomery': 13535, 'monthlong': 13536, 'more\\\\than': 13537, 'moribund': 13538, 'moss': 13539, 'moussa': 13540, 'msft': 13541, 'mtfg': 13542, 'mujuru': 13543, 'mulled': 13544, 'museums': 13545, 'musicmatch': 13546, 'mustang': 13547, 'muzaffarabad': 13548, 'mystic': 13549, 'n.ireland': 13550, 'n.korean': 13551, 'n.koreans': 13552, 'nabi': 13553, 'narathiwat': 13554, 'narrowing': 13555, 'ndp': 13556, 'ne': 13557, 'newsview': 13558, 'newton': 13559, 'nigerians': 13560, 'nld': 13561, 'nonpartisan': 13562, 'nonstop': 13563, 'norms': 13564, 'notable': 13565, 'nujoma': 13566, 'nuts': 13567, 'objection': 13568, 'okla.': 13569, 'onboard': 13570, 'orchestrated': 13571, 'orejuela': 13572, 'orphans': 13573, 'os': 13574, 'outfit': 13575, 'outkast': 13576, 'outpace': 13577, 'overcame': 13578, 'overcharging': 13579, 'overcrowded': 13580, 'overheating': 13581, 'overland': 13582, 'overpaid': 13583, 'override': 13584, 'overshadowing': 13585, 'overstatement': 13586, 'overtaken': 13587, 'paints': 13588, 'pall': 13589, 'palpitations': 13590, 'paralyze': 13591, 'pardons': 13592, 'pari': 13593, 'patriots': 13594, 'patrolling': 13595, 'pausing': 13596, 'performers': 13597, 'perle': 13598, 'permitted': 13599, 'perrigo': 13600, 'pervasive': 13601, 'philippe': 13602, 'phrase': 13603, 'pilbara': 13604, 'pin': 13605, 'pinching': 13606, 'pine': 13607, 'plaintiffs': 13608, 'plenum': 13609, 'pneumonia': 13610, 'pocket': 13611, 'poke': 13612, 'ponder': 13613, 'portraying': 13614, 'positioned': 13615, 'possess': 13616, 'powerless': 13617, 'praying': 13618, 'prebon': 13619, 'precarious': 13620, 'preserved': 13621, 'presided': 13622, 'president\\\\bush': 13623, 'presidential\\\\election': 13624, 'prestige': 13625, 'prey': 13626, 'primaries': 13627, 'prohibit': 13628, 'prolong': 13629, 'promotional': 13630, 'psa': 13631, 'publicist': 13632, 'punishing': 13633, 'purple': 13634, 'purporting': 13635, 'putrajaya': 13636, 'qcom.o': 13637, 'quartet': 13638, 'quot;neutral': 13639, 'quot;our': 13640, 'quot;outperform': 13641, 'quot;significant': 13642, 'quot;soft': 13643, 'quot;strategic': 13644, 'quot;strong': 13645, 'quot;there': 13646, 'quot;triangle': 13647, 'quot;without': 13648, 'radios': 13649, 'raiders': 13650, 'raj': 13651, 'raja': 13652, 'rampaged': 13653, 'rang': 13654, 'ransacked': 13655, 'rapists': 13656, 'ratifying': 13657, 'ratio': 13658, 'realistic': 13659, 'reassess': 13660, 'rebid': 13661, 'recaptured': 13662, 'recipe': 13663, 'recycling': 13664, 'redeploying': 13665, 'redevelopment': 13666, 'redrawing': 13667, 'redskins': 13668, 'referring': 13669, 'reformed': 13670, 'reigns': 13671, 'reimburse': 13672, 'relax': 13673, 'relevant': 13674, 'remake': 13675, 'rematch': 13676, 'reparations': 13677, 'repealing': 13678, 'representation': 13679, 'repurchases': 13680, 'rescues': 13681, 'residue': 13682, 'resilience': 13683, 'resolves': 13684, 'respectable': 13685, 'restates': 13686, 'restoration': 13687, 'rests': 13688, 'retirements': 13689, 'reunite': 13690, 'revolving': 13691, 'rexel': 13692, 'ria': 13693, 'rican': 13694, 'richer': 13695, 'richmond': 13696, 'riders': 13697, 'rifts': 13698, 'rightists': 13699, 'ril': 13700, 'riley': 13701, 'ringer': 13702, 'risking': 13703, 'ritual': 13704, 'rollover': 13705, 'romance': 13706, 'romano': 13707, 'rothschild': 13708, 'rubbish': 13709, 'ruesselsheim': 13710, 'rugby': 13711, 'ryan': 13712, 'sachin': 13713, 'safest': 13714, 'sage': 13715, 'sagem': 13716, 'said.&lt;/p&gt': 13717, 'sails': 13718, 'salvo': 13719, 'sanchar': 13720, 'sandwiches': 13721, 'sang': 13722, 'satisfactory': 13723, 'saves': 13724, 'scans': 13725, 'schemes': 13726, 'scots': 13727, 'scratching': 13728, 'screw': 13729, 'secondary': 13730, 'seeds': 13731, 'sensor': 13732, 'separated': 13733, 'sequel': 13734, 'sequential': 13735, 'seventeen': 13736, 'sfd.n': 13737, 'shadows': 13738, 'sharpen': 13739, 'sharpens': 13740, 'shaul': 13741, 'sheen': 13742, 'sher': 13743, 'shipbuilding': 13744, 'shivraj': 13745, 'shootings': 13746, 'shopko': 13747, 'shoulders': 13748, 'shouted': 13749, 'shutters': 13750, 'shuttled': 13751, 'sichuan': 13752, 'sisters': 13753, 'sixfold': 13754, 'skorea': 13755, 'sleek': 13756, 'slogan': 13757, 'smuggle': 13758, 'sniper': 13759, 'sobering': 13760, 'softball': 13761, 'softens': 13762, 'solaris': 13763, 'sometime': 13764, 'sonia': 13765, 'sorts': 13766, 'southtrust': 13767, 'spacecraft': 13768, 'sparsely': 13769, 'specifically': 13770, 'splits': 13771, 'spokane': 13772, 'spooked': 13773, 'sprinters': 13774, 'spurned': 13775, 'squabble': 13776, 'stabbing': 13777, 'stagnant': 13778, 'stamps': 13779, 'stamps.com': 13780, 'standings': 13781, 'starkly': 13782, 'stating': 13783, 'steelmakers': 13784, 'steroids': 13785, 'stocked': 13786, 'stokes': 13787, 'strange': 13788, 'stranger': 13789, 'strengthens': 13790, 'stresses': 13791, 'stressing': 13792, 'stretches': 13793, 'strewn': 13794, 'stricter': 13795, 'stride': 13796, 'strive': 13797, 'striving': 13798, 'stuffing': 13799, 'subsequent': 13800, 'sufficient': 13801, 'summed': 13802, 'sunny': 13803, 'superpower': 13804, 'supervision': 13805, 'supposedly': 13806, 'swallowed': 13807, 'swaying': 13808, 'swim': 13809, 'sympathy': 13810, 'tack': 13811, 'tadic': 13812, 'tail': 13813, 'taped': 13814, 'tarceva': 13815, 'taylor': 13816, 'teammates': 13817, 'teck': 13818, 'teeming': 13819, 'telus': 13820, 'terminated': 13821, 'thaw': 13822, 'the\\\\government': 13823, 'theron': 13824, 'thorpe': 13825, 'thrilling': 13826, 'throat': 13827, 'thundered': 13828, 'thwarting': 13829, 'tin': 13830, 'titans': 13831, 'to\\\\the': 13832, 'toe': 13833, 'toit': 13834, 'toothpaste': 13835, 'torretta': 13836, 'toughen': 13837, 'touring': 13838, 'tow': 13839, 'trailer': 13840, 'transforming': 13841, 'traps': 13842, 'trevor': 13843, 'tsn.n': 13844, 'tube': 13845, 'tubes': 13846, 'tumultuous': 13847, 'tung': 13848, 'tutsis': 13849, 'twisted': 13850, 'twx': 13851, 'typically': 13852, 'u.s.\\\\presidential': 13853, 'uks': 13854, 'uma': 13855, 'umbrella': 13856, 'unbeaten': 13857, 'undersecretary': 13858, 'undocumented': 13859, 'uniting': 13860, 'unleash': 13861, 'unreasonable': 13862, 'unregulated': 13863, 'unrwa': 13864, 'unseat': 13865, 'unsold': 13866, 'unstable': 13867, 'untapped': 13868, 'upped': 13869, 'upswing': 13870, 'us\\\\$49': 13871, 'va': 13872, 'vacated': 13873, 'vain': 13874, 'venue': 13875, 'verisign': 13876, 'viable': 13877, 'vigilante': 13878, 'vnu': 13879, 'vocal': 13880, 'voicing': 13881, 'vouch': 13882, 'wacky': 13883, 'wagoner': 13884, 'warships': 13885, 'watts': 13886, 'waved': 13887, 'wealthiest': 13888, 'weren': 13889, 'westwood': 13890, 'whenever': 13891, 'whitehouse': 13892, 'wholesalers': 13893, 'whopping': 13894, 'wildcat': 13895, 'winery': 13896, 'winston': 13897, 'winterthur': 13898, 'woke': 13899, 'wolves': 13900, 'wrangling': 13901, 'wrongful': 13902, 'wrought': 13903, 'www': 13904, 'wyeth': 13905, 'wyo': 13906, 'yard': 13907, 'yassir': 13908, 'yunis': 13909, 'zale': 13910, 'zardari': 13911, 'zuma': 13912, '--(business': 13913, '-un': 13914, '-witnesses': 13915, '01': 13916, '06': 13917, '1,001': 13918, '1.35bn': 13919, '1.4bn': 13920, '1/2-year': 13921, '10bn': 13922, '113': 13923, '12-nation': 13924, '143': 13925, '145': 13926, '15-member': 13927, '15.5': 13928, '165': 13929, '17-day': 13930, '175,000': 13931, '177': 13932, '18.8': 13933, '180': 13934, '19.6': 13935, '1945': 13936, '1983': 13937, '1985': 13938, '1h': 13939, '2-month': 13940, '2.75': 13941, '22-year': 13942, '2bn': 13943, '3,400': 13944, '30-': 13945, '30.5': 13946, '313': 13947, '360': 13948, '363': 13949, '36;29': 13950, '36;54': 13951, '39;aretz': 13952, '39;batman': 13953, '39;best': 13954, '39;em': 13955, '39;illegal': 13956, '39;shrek': 13957, '39;terror': 13958, '3q04': 13959, '40th': 13960, '5,900': 13961, '5.1': 13962, '5.3': 13963, '5.9': 13964, '52-week': 13965, '6,800': 13966, '6-week': 13967, '6-year': 13968, '60,000': 13969, '60-day': 13970, '64-year': 13971, '7,400': 13972, '800,000': 13973, '82-year': 13974, '86-year': 13975, '8th': 13976, '9,000': 13977, '9.0': 13978, '9.5': 13979, '90,000': 13980, '93': 13981, '97': 13982, '\\\\$108': 13983, '\\\\$12bn': 13984, '\\\\$14.6': 13985, '\\\\$18': 13986, '\\\\$2.2': 13987, '\\\\$24-a': 13988, '\\\\$266': 13989, '\\\\$27': 13990, '\\\\$290': 13991, '\\\\$293': 13992, '\\\\$3.2': 13993, '\\\\$3.3': 13994, '\\\\$3.7': 13995, '\\\\$340': 13996, '\\\\$3b': 13997, '\\\\$422': 13998, '\\\\$463': 13999, '\\\\$5.4': 14000, '\\\\$646': 14001, '\\\\$68': 14002, '\\\\$70': 14003, '\\\\$900': 14004, '\\\\$95': 14005, 'a\\\\$7.4': 14006, 'aaron': 14007, 'abdicated': 14008, 'abramovich': 14009, 'ac.to': 14010, 'academics': 14011, 'acclaim': 14012, 'accomplishments': 14013, 'accusation': 14014, 'achieving': 14015, 'acrimonious': 14016, 'adamant': 14017, 'adelq.pk': 14018, 'adequately': 14019, 'adhere': 14020, 'adjacent': 14021, 'adolf': 14022, 'adrift': 14023, 'adventure': 14024, 'adversely': 14025, 'afc': 14026, 'affirmed': 14027, 'aftershock': 14028, 'ages': 14029, 'agfa': 14030, 'al-': 14031, 'allege': 14032, 'allergan': 14033, 'almaty': 14034, 'almunia': 14035, 'altera': 14036, 'altering': 14037, 'alters': 14038, 'alto': 14039, 'amerisourcebergen': 14040, 'ammar': 14041, 'amp;c': 14042, 'anc': 14043, 'andhra': 14044, 'angers': 14045, 'anglicans': 14046, 'answered': 14047, 'antibody': 14048, 'anticipating': 14049, 'antigua': 14050, 'antique': 14051, 'antivirus': 14052, 'appearances': 14053, 'archipelago': 14054, 'arla': 14055, 'arlen': 14056, 'armies': 14057, 'aspects': 14058, 'assaulting': 14059, 'assembled': 14060, 'assisted': 14061, 'astra': 14062, 'astronauts': 14063, 'atos': 14064, 'attitudes': 14065, 'attraction': 14066, 'autism': 14067, 'autonomous': 14068, 'availability': 14069, 'averse': 14070, 'avis': 14071, 'azahari': 14072, 'backsliding': 14073, 'baikonur': 14074, 'baked': 14075, 'balk': 14076, 'balloon': 14077, 'balloons': 14078, 'baqouba': 14079, 'baradei': 14080, 'bare': 14081, 'barham': 14082, 'barrel\\\\on': 14083, 'batteries': 14084, 'bc': 14085, 'beaching': 14086, 'beazer': 14087, 'bedford': 14088, 'beefs': 14089, 'belarussian': 14090, 'bellwethers': 14091, 'belonged': 14092, 'belts': 14093, 'benchmarks': 14094, 'benz': 14095, 'beru': 14096, 'bested': 14097, 'biib': 14098, 'bil': 14099, 'billabong': 14100, 'bio': 14101, 'bits': 14102, 'blockades': 14103, 'blocs': 14104, 'bloomfield': 14105, 'bludgeoned': 14106, 'blueprints': 14107, 'boarded': 14108, 'bombmaker': 14109, 'bondi': 14110, 'boomer': 14111, 'boot': 14112, 'bordeaux': 14113, 'borrowers': 14114, 'brash': 14115, 'brasov': 14116, 'brass': 14117, 'braved': 14118, 'brazilians': 14119, 'breathe': 14120, 'breathed': 14121, 'breeding': 14122, 'brits': 14123, 'broadened': 14124, 'brokaw': 14125, 'bruising': 14126, 'bsx.n': 14127, 'bucks': 14128, 'bulldozers': 14129, 'bulletin': 14130, 'bundling': 14131, 'bunker': 14132, 'burdines': 14133, 'burger': 14134, 'butt': 14135, 'cae': 14136, 'cage': 14137, 'caller': 14138, 'calorie': 14139, 'camarillo': 14140, 'candid': 14141, 'captures': 14142, 'carbide': 14143, 'caretaker': 14144, 'carrot': 14145, 'cartagena': 14146, 'carve': 14147, 'cary': 14148, 'catalyst': 14149, 'catherine': 14150, 'caucus': 14151, 'cavalry': 14152, 'cave': 14153, 'cce.n': 14154, 'ccia': 14155, 'cdma': 14156, 'celebrities': 14157, 'celestica': 14158, 'certican': 14159, 'certificates': 14160, 'certify': 14161, 'chairwoman': 14162, 'chamberlin': 14163, 'chancery': 14164, 'chandrika': 14165, 'charms': 14166, 'cheat': 14167, 'chee': 14168, 'cheering': 14169, 'cherbourg': 14170, 'chico': 14171, 'chides': 14172, 'childcare': 14173, 'choked': 14174, 'choppy': 14175, 'chronicle': 14176, 'circles': 14177, 'circling': 14178, 'circulated': 14179, 'claire': 14180, 'clandestine': 14181, 'classifieds': 14182, 'claw': 14183, 'clinches': 14184, 'cling': 14185, 'clinging': 14186, 'clips': 14187, 'clobber': 14188, 'clotting': 14189, 'clue': 14190, 'cna': 14191, 'coaster': 14192, 'coincide': 14193, 'collapsing': 14194, 'colourful': 14195, 'comatose': 14196, 'communion': 14197, 'comparing': 14198, 'compensated': 14199, 'complied': 14200, 'compuware': 14201, 'con': 14202, 'conducive': 14203, 'confectionery': 14204, 'confederation': 14205, 'conferencing': 14206, 'conform': 14207, 'congressmen': 14208, 'conservation': 14209, 'conserve': 14210, 'considerable': 14211, 'constantly': 14212, 'constitute': 14213, 'container': 14214, 'converse': 14215, 'converts': 14216, 'conveyed': 14217, 'cop.n': 14218, 'coping': 14219, 'corresponding': 14220, 'councils': 14221, 'courtyard': 14222, 'cracked': 14223, 'cranes': 14224, 'creeping': 14225, 'croc': 14226, 'crocker': 14227, 'cruises': 14228, 'crusaders': 14229, 'crying': 14230, 'cue': 14231, 'culinary': 14232, 'cupcake': 14233, 'cures': 14234, 'cuzco': 14235, 'cybx.o': 14236, 'cycling': 14237, 'czar': 14238, 'danced': 14239, 'daniels': 14240, 'danny': 14241, 'davenport': 14242, 'daw': 14243, 'daytime': 14244, 'debuted': 14245, 'deconstructionism': 14246, 'decorated': 14247, 'decry': 14248, 'deductibles': 14249, 'defaulted': 14250, 'defections': 14251, 'defector': 14252, 'defenseless': 14253, 'definity': 14254, 'deflation': 14255, 'deflect': 14256, 'defoe': 14257, 'delinquencies': 14258, 'demo': 14259, 'denials': 14260, 'dents': 14261, 'derails': 14262, 'deryck': 14263, 'desperation': 14264, 'devolved': 14265, 'devote': 14266, 'dice': 14267, 'dilute': 14268, 'dimmer': 14269, 'dims': 14270, 'directs': 14271, 'disagreement': 14272, 'disbanded': 14273, 'discharge': 14274, 'discounting': 14275, 'discredit': 14276, 'dish': 14277, 'dismay': 14278, 'disorders': 14279, 'dissolve': 14280, 'distinctly': 14281, 'distraction': 14282, 'distress': 14283, 'divorce': 14284, 'dj': 14285, 'dlj': 14286, 'doctorate': 14287, 'doha': 14288, 'donate': 14289, 'downgrading': 14290, 'downplayed': 14291, 'downside': 14292, 'drags': 14293, 'drain': 14294, 'drained': 14295, 'dreamed': 14296, 'drill': 14297, 'dubious': 14298, 'dublon': 14299, 'duped': 14300, 'dyncorp': 14301, 'ebb': 14302, 'ecclestone': 14303, 'eclipse': 14304, 'eds.n': 14305, 'efficacy': 14306, 'electing': 14307, 'elevated': 14308, 'elin': 14309, 'embedded': 14310, 'embezzlement': 14311, 'embryonic': 14312, 'emmy': 14313, 'emphasis': 14314, 'endanger': 14315, 'endorses': 14316, 'enfield': 14317, 'engulfing': 14318, 'enlisted': 14319, 'enmity': 14320, 'entertaining': 14321, 'eqt': 14322, 'evacuating': 14323, 'everton': 14324, 'everyday': 14325, 'evoked': 14326, 'exaggerating': 14327, 'exclude': 14328, 'exclusively': 14329, 'exhibit': 14330, 'exiting': 14331, 'exotic': 14332, 'extract': 14333, 'eyebrows': 14334, 'faa': 14335, 'facilitated': 14336, 'fasting': 14337, 'fastow': 14338, 'favoured': 14339, 'faxes': 14340, 'fearful': 14341, 'feeds': 14342, 'feelings': 14343, 'fended': 14344, 'ferries': 14345, 'festering': 14346, 'fetch': 14347, 'fiction': 14348, 'figured': 14349, 'figuring': 14350, 'filthy': 14351, 'fin': 14352, 'finale': 14353, 'finalise': 14354, 'finalizing': 14355, 'finishes': 14356, 'firefighter': 14357, 'fitr': 14358, 'fizzle': 14359, 'fla': 14360, 'flatten': 14361, 'flaw': 14362, 'fluctuating': 14363, 'fluvirin': 14364, 'focal': 14365, 'fon': 14366, 'footprint': 14367, 'forbidding': 14368, 'foreigner': 14369, 'fortescue': 14370, 'fossil': 14371, 'fountain': 14372, 'fracas': 14373, 'fragrance': 14374, 'franks': 14375, 'freighter': 14376, 'freshman': 14377, 'fright': 14378, 'frist': 14379, 'frost': 14380, 'frx': 14381, 'fullquote\"&gt;aapl.o&lt;/a&gt': 14382, 'fullquote\"&gt;bbdb': 14383, 'fullquote\"&gt;cmcsa.o&lt;/a&gt': 14384, 'fullquote\"&gt;dell.o&lt;/a&gt': 14385, 'fullquote\"&gt;ek.n&lt;/a&gt': 14386, 'fullquote\"&gt;mdt.n&lt;/a&gt': 14387, 'fullquote\"&gt;odp.n&lt;/a&gt': 14388, 'fullquote\"&gt;trb.n&lt;/a&gt': 14389, 'function': 14390, 'fundamentalist': 14391, 'fy04': 14392, 'g.o.p.': 14393, 'galapagos': 14394, 'gamestop': 14395, 'gangsters': 14396, 'garbage': 14397, 'gardens': 14398, 'gargantuan': 14399, 'garment': 14400, 'garner': 14401, 'gatlin': 14402, 'gdt': 14403, 'generations': 14404, 'generators': 14405, 'generics': 14406, 'genta': 14407, 'gentler': 14408, 'gevaert': 14409, 'gilead': 14410, 'gilmartin': 14411, 'gleaming': 14412, 'glenn': 14413, 'glg': 14414, 'goldsmith': 14415, 'graffiti': 14416, 'grandmother': 14417, 'grandparents': 14418, 'grateful': 14419, 'greenpeace': 14420, 'grievances': 14421, 'griffin': 14422, 'gripping': 14423, 'grouse': 14424, 'grupo': 14425, 'gsm': 14426, 'guaranty': 14427, 'gunbattles': 14428, 'gunship': 14429, 'gunshots': 14430, 'gym': 14431, 'h2': 14432, 'habit': 14433, 'haggling': 14434, 'hamdi': 14435, 'hamish': 14436, 'han': 14437, 'hannifin': 14438, 'hardee': 14439, 'harold': 14440, 'hasan': 14441, 'hastily': 14442, 'hatch': 14443, 'haunt': 14444, 'haunted': 14445, 'havens': 14446, 'heaps': 14447, 'hebrew': 14448, 'heeled': 14449, 'heightening': 14450, 'heirs': 14451, 'hellman': 14452, 'hello': 14453, 'heritage': 14454, 'heroic': 14455, 'hesitate': 14456, 'heyer': 14457, 'hmong': 14458, 'hmy': 14459, 'hnz.n': 14460, 'hogan': 14461, 'honolulu': 14462, 'honorary': 14463, 'hoops': 14464, 'horrors': 14465, 'hovers': 14466, 'huffy': 14467, 'hungarians': 14468, 'husky': 14469, 'husseins': 14470, 'hut': 14471, 'hypertension': 14472, 'i.': 14473, 'ibc.n': 14474, 'ichiro': 14475, 'ideal': 14476, 'idled': 14477, 'implied': 14478, 'impotence': 14479, 'impress': 14480, 'in\\\\september': 14481, 'incompetent': 14482, 'indebted': 14483, 'industrialist': 14484, 'influx': 14485, 'injecting': 14486, 'injection': 14487, 'input': 14488, 'inquirer': 14489, 'inroads': 14490, 'insatiable': 14491, 'inspiration': 14492, 'installations': 14493, 'instincts': 14494, \"int'l\": 14495, 'intc': 14496, 'interceptor': 14497, 'interfere': 14498, 'interpublic': 14499, 'interrogators': 14500, 'intervening': 14501, 'intl': 14502, 'intranet': 14503, 'intrawest': 14504, 'intriguing': 14505, 'invented': 14506, 'invoked': 14507, 'ioc': 14508, 'ipsos': 14509, 'isle': 14510, 'italys': 14511, 'itv': 14512, 'iv': 14513, 'ivanov': 14514, 'ivorians': 14515, 'izzat': 14516, 'jab': 14517, 'jabil': 14518, 'jackal': 14519, 'jacket': 14520, 'jailbreak': 14521, 'jamal': 14522, 'jarden': 14523, 'jaw': 14524, 'jelly': 14525, 'jesse': 14526, 'jesus': 14527, 'jetliner': 14528, 'jiddah': 14529, 'jiulin': 14530, 'jk': 14531, 'jockeying': 14532, 'jones)--australia': 14533, 'jones)--new': 14534, 'jude': 14535, 'julius': 14536, 'juvenile': 14537, 'jw': 14538, 'kanye': 14539, 'karzais': 14540, 'keeper': 14541, 'keith': 14542, 'ketchup': 14543, 'khaled': 14544, 'kickstart': 14545, 'kidwa': 14546, 'kirkland': 14547, 'kissinger': 14548, 'kmrt': 14549, 'kofi\\\\annan': 14550, 'kyiv': 14551, 'lacking': 14552, 'lakefield': 14553, 'lancet': 14554, 'laptops': 14555, 'lavished': 14556, 'lawlessness': 14557, 'layovers': 14558, 'leaped': 14559, 'leaps': 14560, 'leo': 14561, 'leung': 14562, 'liar': 14563, 'liberalize': 14564, 'liberian': 14565, 'licences': 14566, 'lieber': 14567, 'lifelong': 14568, 'limburg': 14569, 'limitations': 14570, 'lisbon': 14571, 'literally': 14572, 'litres': 14573, 'liz': 14574, 'lmt.n': 14575, 'lojack': 14576, 'loos': 14577, 'loosening': 14578, 'loreto': 14579, 'loudspeakers': 14580, 'louisville': 14581, 'ltd.n': 14582, 'lump': 14583, 'lungs': 14584, 'luzon': 14585, 'lyrics': 14586, 'magistrate': 14587, 'maneuver': 14588, 'mani': 14589, 'marcus': 14590, 'marketed': 14591, 'martyrs': 14592, 'mates': 14593, 'matt': 14594, 'matthew': 14595, 'maxtor': 14596, 'mclean': 14597, 'mdc': 14598, 'meal': 14599, 'mechanical': 14600, 'mediocre': 14601, 'micron': 14602, 'middleware': 14603, 'midmorning': 14604, 'midweek': 14605, 'milwaukee': 14606, 'ministries': 14607, 'mint': 14608, 'miscalculation': 14609, 'misdeeds': 14610, 'misrepresented': 14611, 'mistaking': 14612, 'misused': 14613, 'mitt': 14614, 'mixing': 14615, 'mna': 14616, 'moamer': 14617, 'mock': 14618, 'moderation': 14619, 'moe': 14620, 'moines': 14621, 'mojave': 14622, 'mortality': 14623, 'movers': 14624, 'mozambicans': 14625, 'mp3': 14626, 'mukata': 14627, 'murky': 14628, 'muster': 14629, 'musu': 14630, 'mytravel': 14631, 'na': 14632, 'nahayan': 14633, 'nail': 14634, 'nakar': 14635, 'nasiriyah': 14636, 'nationalism': 14637, 'nazarbayev': 14638, 'nebraska': 14639, 'neelie': 14640, 'neighborcare': 14641, 'neverland': 14642, 'newcomers': 14643, 'newswires': 14644, 'nhl': 14645, 'nicole': 14646, 'nigam': 14647, 'nix': 14648, 'nlc': 14649, 'noise': 14650, 'nordegren': 14651, 'norman': 14652, 'norris': 14653, 'norwich': 14654, 'novatek': 14655, 'nudging': 14656, 'nutritional': 14657, 'nwac.o': 14658, \"o'brien\": 14659, 'obliging': 14660, 'observing': 14661, 'obsessed': 14662, 'obvious': 14663, 'occupying': 14664, 'offenders': 14665, 'ofgem': 14666, 'olympians': 14667, 'omnicare': 14668, 'omnivision': 14669, 'openings': 14670, 'opt': 14671, 'orchestrating': 14672, 'organic': 14673, 'orioles': 14674, 'ortiz': 14675, 'outdated': 14676, 'outfitters': 14677, 'outnumbered': 14678, 'outplacement': 14679, 'outsiders': 14680, 'oval': 14681, 'oven': 14682, 'overcharges': 14683, 'overhauling': 14684, 'overhauls': 14685, 'overheat': 14686, 'overrun': 14687, 'overshadows': 14688, 'oversupply': 14689, 'overturning': 14690, 'overvalued': 14691, 'owen': 14692, 'oxley': 14693, 'p2p': 14694, 'padres': 14695, 'pains': 14696, 'panchen': 14697, 'pancreas': 14698, 'pants': 14699, 'paradox': 14700, 'parallel': 14701, 'paralympic': 14702, 'parchin': 14703, 'parkinson': 14704, 'parliamentarians': 14705, 'paves': 14706, 'paycheck': 14707, 'paychex': 14708, 'penetrated': 14709, 'perched': 14710, 'perfume': 14711, 'persistently': 14712, 'perspective': 14713, 'persuading': 14714, 'pete': 14715, 'petersburg': 14716, 'petra': 14717, 'philosopher': 14718, 'phony': 14719, 'photograph': 14720, 'physicist': 14721, 'physics': 14722, 'pickings': 14723, 'pileup': 14724, 'pilgrimage': 14725, 'pincus': 14726, 'pins': 14727, 'pioneered': 14728, 'pipe': 14729, 'pistol': 14730, 'pitcher': 14731, 'pitfalls': 14732, 'plowed': 14733, 'pms': 14734, 'poisonous': 14735, 'pole': 14736, 'pontiac': 14737, 'poorly': 14738, 'portsmouth': 14739, 'posco': 14740, 'posh': 14741, 'poster': 14742, 'potato': 14743, 'pours': 14744, 'prague': 14745, 'precise': 14746, 'predator': 14747, 'predecessors': 14748, 'preferential': 14749, 'prelude': 14750, 'presage': 14751, 'prescriptions': 14752, 'prevail': 14753, 'prevailed': 14754, 'prevents': 14755, 'pricewaterhousecoopers': 14756, 'priests': 14757, 'proclaiming': 14758, 'projection': 14759, 'promoters': 14760, 'proposition': 14761, 'protections': 14762, 'protective': 14763, 'protein': 14764, 'psp': 14765, 'purse': 14766, 'qlt': 14767, 'quagmire': 14768, 'quarterly\\\\profit': 14769, 'quash': 14770, 'quebecois': 14771, 'queries': 14772, 'questrom': 14773, 'queue': 14774, 'queued': 14775, 'quot;abrupt': 14776, 'quot;get': 14777, 'quot;massive': 14778, 'quot;more': 14779, 'quot;poison': 14780, 'quot;serious': 14781, 'quot;super': 14782, 'qurei': 14783, 'rabat': 14784, 'racism': 14785, 'radcliffe': 14786, 'radically': 14787, 'raleigh': 14788, 'rampaging': 14789, 'ramping': 14790, 'raul': 14791, 'razor': 14792, 'realize': 14793, 'realm': 14794, 'rebukes': 14795, 'receding': 14796, 'receiver': 14797, 'recipients': 14798, 'recouped': 14799, 'redundancy': 14800, 'referral': 14801, 'regards': 14802, 'regroup': 14803, 'relation': 14804, 'reliant': 14805, 'remedy': 14806, 'reorganizes': 14807, 'republics': 14808, 'resemble': 14809, 'restatements': 14810, 'restores': 14811, 'restraining': 14812, 'retreating': 14813, 'revaluation': 14814, 'revamping': 14815, 'revamps': 14816, 'revives': 14817, 'ridder': 14818, 'ridiculed': 14819, 'rifle': 14820, 'rj': 14821, 'roadways': 14822, 'roam': 14823, 'rockefeller': 14824, 'rodney': 14825, 'roller': 14826, 'rosier': 14827, 'rostov': 14828, 'routers': 14829, 'royals': 14830, 'rubles': 14831, 'rude': 14832, 'ruin': 14833, 'rulings': 14834, 'rumored': 14835, 'runup': 14836, 'rushes': 14837, 'ruthless': 14838, 'sabah': 14839, 'sags': 14840, 'sahib': 14841, 'sail': 14842, 'sake': 14843, 'salaried': 14844, 'salazar': 14845, 'salinas': 14846, 'salute': 14847, 'sample': 14848, 'sampling': 14849, 'sanaa': 14850, 'sanctioned': 14851, 'sanz': 14852, 'sardinian': 14853, 'savannah': 14854, 'sbs': 14855, 'scala': 14856, 'scares': 14857, 'scaring': 14858, 'schabir': 14859, 'scholar': 14860, 'schweppes': 14861, 'scooped': 14862, 'scorpions': 14863, 'scottsdale': 14864, 'scoured': 14865, 'scourge': 14866, 'scrutinizing': 14867, 'seating': 14868, 'sebl.o': 14869, 'seclusion': 14870, 'seething': 14871, 'separating': 14872, 'servant': 14873, 'setbacks': 14874, 'shafts': 14875, 'sharons': 14876, 'shatters': 14877, 'shelling': 14878, 'shepard': 14879, 'shin': 14880, 'shing': 14881, 'shinui': 14882, 'shipowners': 14883, 'shopper': 14884, 'shortcomings': 14885, 'shorts': 14886, 'shower': 14887, 'showering': 14888, 'shrapnel': 14889, 'shredded': 14890, 'shutter': 14891, 'shuttered': 14892, 'shuttle': 14893, 'simpler': 14894, 'simplify': 14895, 'sims': 14896, 'sincere': 14897, 'sino': 14898, 'siri': 14899, 'siri.o': 14900, 'skeleton': 14901, 'skipped': 14902, 'skirt': 14903, 'skyrocketed': 14904, 'slamming': 14905, 'slaughtering': 14906, 'slave': 14907, 'slices': 14908, 'smartphone': 14909, 'smashing': 14910, 'smothering': 14911, 'snarling': 14912, 'snubbed': 14913, 'sofia': 14914, 'softwood': 14915, 'solar': 14916, 'solidly': 14917, 'solving': 14918, 'somalis': 14919, 'soothed': 14920, 'sorting': 14921, 'soundview': 14922, 'soupmaker': 14923, 'southernmost': 14924, 'spaceshipone': 14925, 'spaniards': 14926, 'sparring': 14927, 'spears': 14928, 'specializing': 14929, 'specially': 14930, 'speculated': 14931, 'spells': 14932, 'spiralling': 14933, 'splurge': 14934, 'spokesmen': 14935, 'sponsoring': 14936, 'sporlan': 14937, 'spotlights': 14938, 'squared': 14939, 'squeezing': 14940, 'stabilise': 14941, 'staggered': 14942, 'stagnated': 14943, 'staking': 14944, 'stamped': 14945, 'standby': 14946, 'starhub': 14947, 'startling': 14948, 'starved': 14949, 'statistical': 14950, 'stature': 14951, 'staunchly': 14952, 'stea': 14953, 'steadier': 14954, 'stealth': 14955, 'steeper': 14956, 'steepest': 14957, 'stelios': 14958, 'stems': 14959, 'sti.n': 14960, 'stray': 14961, 'structures': 14962, 'stuffed': 14963, 'stuns': 14964, 'stuttle': 14965, 'stymied': 14966, 'stymiest': 14967, 'stz.n': 14968, 'subcommittee': 14969, 'substitute': 14970, 'sunw.o': 14971, 'supercomputing': 14972, 'superhero': 14973, 'supervise': 14974, 'supportive': 14975, 'surpass': 14976, 'suspense': 14977, 'suspiciously': 14978, 'swamp': 14979, 'swaps': 14980, 'swatch': 14981, 'swears': 14982, 'swipe': 14983, 'swirl': 14984, 'swirling': 14985, 'swirls': 14986, 'swooped': 14987, 'syneron': 14988, 'syrians': 14989, 'tabare': 14990, 'tabled': 14991, 'tailspin': 14992, 'taker': 14993, 'takings': 14994, 'taleban': 14995, 'tallies': 14996, 'tariff': 14997, 'tastes': 14998, 'taxi': 14999, 'tcl': 15000, 'tearful': 15001, 'technological': 15002, 'teflon': 15003, 'templeton': 15004, 'tempo': 15005, 'tempting': 15006, 'tex': 15007, 'theories': 15008, 'therapies': 15009, 'thinktank': 15010, 'thorny': 15011, 'thq': 15012, 'throttle': 15013, 'thyroid': 15014, 'ticker': 15015, 'tidal': 15016, 'tier': 15017, 'timothy': 15018, 'tm': 15019, 'todd': 15020, 'toilet': 15021, 'tornado': 15022, 'touting': 15023, 'toxicology': 15024, 'toy.n': 15025, 'trademarks': 15026, 'trafford': 15027, 'trailing': 15028, 'transcript': 15029, 'translation': 15030, 'transported': 15031, 'treacherous': 15032, 'treasured': 15033, 'trek': 15034, 'tripped': 15035, 'triumphant': 15036, 'trooper': 15037, 'trouser': 15038, 'trucking': 15039, 'trumps': 15040, 'trustee': 15041, 'tsmc': 15042, 'tufts': 15043, 'tunisia': 15044, 'tyrant': 15045, 'u.s.-iraqi': 15046, 'uair': 15047, 'uefa': 15048, 'uffizi': 15049, 'unclaimed': 15050, 'unconventional': 15051, 'undated': 15052, 'undeliverable': 15053, 'underlined': 15054, 'underpin': 15055, 'underscores': 15056, 'undertaking': 15057, 'underwriters': 15058, 'unexplained': 15059, 'unfinished': 15060, 'unification': 15061, 'unlawfully': 15062, 'unloaded': 15063, 'unrealistic': 15064, 'unsc': 15065, 'unskilled': 15066, 'unsubstantiated': 15067, 'unsuccessfully': 15068, 'unsure': 15069, 'unumprovident': 15070, 'upa': 15071, 'upheaval': 15072, 'urgently': 15073, 'uri': 15074, 'us\\\\$': 15075, 'usc': 15076, 'uzbek': 15077, 'vacancies': 15078, 'vacant': 15079, 'vague': 15080, 'valero': 15081, 'vandals': 15082, 'vanish': 15083, 'vanuatu': 15084, 'veil': 15085, 'ventured': 15086, 'veolia': 15087, 'verdicts': 15088, 'vets': 15089, 'viability': 15090, 'vicious': 15091, 'victimized': 15092, 'videogame': 15093, 'videotapes': 15094, 'vietnamese': 15095, 'vindicated': 15096, 'vintage': 15097, 'vip': 15098, 'visas': 15099, 'volcano': 15100, 'vz.n': 15101, 'wag.n': 15102, 'waged': 15103, 'waive': 15104, 'walled': 15105, 'wanes': 15106, 'warburg': 15107, 'warne': 15108, 'wasted': 15109, 'wealthier': 15110, 'weathered': 15111, 'wednesday.&lt;/p&gt': 15112, 'wednesday\\\\said': 15113, 'whitbread': 15114, 'whiz': 15115, 'wineries': 15116, 'wiped': 15117, 'wire)--': 15118, 'wires': 15119, 'wondered': 15120, 'woodside': 15121, 'worries\\\\about': 15122, 'worthy': 15123, 'wrapup': 15124, 'wright': 15125, 'writedowns': 15126, 'wyatt': 15127, 'xmsr.o': 15128, 'yala': 15129, 'yawer': 15130, 'yellowpages.com': 15131, 'yitzhak': 15132, 'yong': 15133, 'yugansk': 15134, 'yugo': 15135, 'zama': 15136, 'zdnet': 15137, '    ': 15138, '----': 15139, '-police': 15140, '-sources': 15141, '-survey': 15142, '03': 15143, '1,070': 15144, '1.62': 15145, '1/2-month': 15146, '10-day': 15147, '10-member': 15148, '1000': 15149, '101': 15150, '11-member': 15151, '11-month': 15152, '118': 15153, '120,000': 15154, '14-hour': 15155, '14-year': 15156, '14.9': 15157, '144': 15158, '150-mph': 15159, '153': 15160, '162': 15161, '17.7': 15162, '172': 15163, '173': 15164, '18-day': 15165, '187': 15166, '188': 15167, '1949': 15168, '1950s': 15169, '1960s': 15170, '2,850': 15171, '2.6': 15172, '2030': 15173, '22-month': 15174, '240,000': 15175, '26.5': 15176, '275': 15177, '28-month': 15178, '29-year': 15179, '3,800': 15180, '3000': 15181, '310': 15182, '36;2.6': 15183, '36;33': 15184, '36;60': 15185, '36;75': 15186, '36;85': 15187, '37-year': 15188, '39;all': 15189, '39;ites': 15190, '39;must': 15191, '39;road': 15192, '39;should': 15193, '39;soft': 15194, '4.5bn': 15195, '411': 15196, '5,500': 15197, '5-month': 15198, '5.7': 15199, '500,000': 15200, '585': 15201, '6-way': 15202, '660': 15203, '6th': 15204, '7-eleven': 15205, '700,000': 15206, '740,000': 15207, '75th': 15208, '798': 15209, '8.8': 15210, '80,000': 15211, '84-year': 15212, '9.2': 15213, '9.3': 15214, '9.4': 15215, '\\\\$1.14': 15216, '\\\\$1.18': 15217, '\\\\$1.31': 15218, '\\\\$1.5b': 15219, '\\\\$1.96': 15220, '\\\\$105': 15221, '\\\\$106': 15222, '\\\\$11bn': 15223, '\\\\$177': 15224, '\\\\$18.2': 15225, '\\\\$2.3': 15226, '\\\\$24bn': 15227, '\\\\$26.50': 15228, '\\\\$271': 15229, '\\\\$300,000': 15230, '\\\\$35-billion': 15231, '\\\\$38': 15232, '\\\\$388': 15233, '\\\\$4.4': 15234, '\\\\$4.6': 15235, '\\\\$408': 15236, '\\\\$440': 15237, '\\\\$493': 15238, '\\\\$50.47': 15239, '\\\\$550,000': 15240, '\\\\$569': 15241, '\\\\$63': 15242, '\\\\$650': 15243, '\\\\$677': 15244, '\\\\$812': 15245, '\\\\$9.2bn': 15246, '\\\\$90': 15247, '\\\\$97': 15248, '\\\\$us50': 15249, '\\\\a': 15250, 'aa': 15251, 'aapl': 15252, 'abduct': 15253, 'aborted': 15254, 'abortions': 15255, 'absorbs': 15256, 'accessible': 15257, 'accommodate': 15258, 'accomplices': 15259, 'accomplished': 15260, 'accomplishment': 15261, 'accordance': 15262, 'according\\\\to': 15263, 'accuracy': 15264, 'acer': 15265, 'acrobat': 15266, 'actively': 15267, 'acura': 15268, 'addiction': 15269, 'adjusters': 15270, 'adjusts': 15271, 'adler': 15272, 'admissions': 15273, 'advise': 15274, 'adwatch': 15275, 'against\\\\the': 15276, 'agreed\\\\to': 15277, 'ain': 15278, 'airbase': 15279, 'airfare': 15280, 'airlifts': 15281, 'alarms': 15282, 'aldersgate': 15283, 'alicia': 15284, 'aligned': 15285, 'allianz': 15286, 'allowances': 15287, 'alpine': 15288, 'aluminium': 15289, 'amar': 15290, 'amatil': 15291, 'amazing': 15292, 'amd.n': 15293, 'amgn.o': 15294, 'amr.n': 15295, 'amy': 15296, 'anatolia': 15297, 'ancestors': 15298, 'andrea': 15299, 'angelito': 15300, 'answering': 15301, 'antara': 15302, 'anticompetitive': 15303, 'apologised': 15304, 'appetites': 15305, 'applauds': 15306, 'appointing': 15307, 'appointments': 15308, 'appreciated': 15309, 'arar': 15310, 'arcelor': 15311, 'architecture': 15312, 'archives': 15313, 'ardent': 15314, 'arise': 15315, 'armbands': 15316, 'armenian': 15317, 'armys': 15318, 'arrange': 15319, 'as\\\\the': 15320, 'asari': 15321, 'ascend': 15322, 'asias': 15323, 'asif': 15324, 'asml': 15325, 'aspiring': 15326, 'assailed': 15327, 'assails': 15328, 'assaulted': 15329, 'assemble': 15330, 'asserting': 15331, 'assessed': 15332, 'assignment': 15333, 'assisting': 15334, 'assumptions': 15335, 'assures': 15336, 'atah.o': 15337, 'ate': 15338, 'attendant': 15339, 'attendees': 15340, 'auctioneer': 15341, 'audacious': 15342, 'aust': 15343, 'authentic': 15344, 'autistic': 15345, 'automaking': 15346, 'avp.n': 15347, 'azam': 15348, 'backward': 15349, 'baghdads': 15350, 'bagram': 15351, 'bahraini': 15352, 'bailed': 15353, 'bailey': 15354, 'baja': 15355, 'baldwin&lt;/p&gt;&lt;p&gt': 15356, 'ballet': 15357, 'ballooned': 15358, 'balls': 15359, 'baramulla': 15360, 'barbaric': 15361, 'barbecue': 15362, 'barbs': 15363, 'barcelo': 15364, 'barons': 15365, 'barren': 15366, 'barron': 15367, 'barrot': 15368, 'baseless': 15369, 'bashing': 15370, 'bbdsvb': 15371, 'bbi': 15372, 'bbl': 15373, 'beached': 15374, 'beans': 15375, 'beatification': 15376, 'beatified': 15377, 'beckham': 15378, 'beg': 15379, 'behemoths': 15380, 'belarusian': 15381, 'berenson': 15382, 'bernie': 15383, 'bi': 15384, 'billowed': 15385, 'binding': 15386, 'bipartisanship': 15387, 'birthplace': 15388, 'blackouts': 15389, 'blackstone': 15390, 'blog': 15391, 'bloomingdale': 15392, 'blowers': 15393, 'bls.n': 15394, 'bluff': 15395, 'blunder': 15396, 'bmc': 15397, 'bmy.n': 15398, 'boca': 15399, 'bogged': 15400, 'boise': 15401, 'bonderman': 15402, 'bookies': 15403, 'boomers': 15404, 'boon': 15405, 'borne': 15406, 'boscastle': 15407, 'bourses': 15408, 'brando': 15409, 'breakdown': 15410, 'breakeven': 15411, 'breakingviews': 15412, 'breakup': 15413, 'breeze': 15414, 'bremer': 15415, 'brett': 15416, 'briefcase': 15417, 'broadening': 15418, 'brutally': 15419, 'bucked': 15420, 'bucking': 15421, 'buckle': 15422, 'buddha': 15423, 'budding': 15424, 'budged': 15425, 'bugged': 15426, 'bugle': 15427, 'bundesbank': 15428, 'buries': 15429, 'burnett': 15430, 'burnt': 15431, 'burying': 15432, 'businesswoman': 15433, 'busting': 15434, 'byelection': 15435, 'byrne': 15436, 'cables': 15437, 'cadre': 15438, 'cahill': 15439, 'calderon': 15440, 'cancellation': 15441, 'cannon': 15442, 'capitalism': 15443, 'capitalist': 15444, 'capriati': 15445, 'capsized': 15446, 'capturing': 15447, 'carcasses': 15448, 'caring': 15449, 'carla': 15450, 'carmaking': 15451, 'carr': 15452, 'carved': 15453, 'cascade': 15454, 'catches': 15455, 'cavernous': 15456, 'cdn': 15457, 'centrica': 15458, 'ceremonial': 15459, 'certified': 15460, 'chained': 15461, 'characterized': 15462, 'charlton': 15463, 'charm': 15464, 'chatter': 15465, 'chemistry': 15466, 'chesnot': 15467, 'chided': 15468, 'chihuahua': 15469, 'chileans': 15470, 'chili': 15471, 'chinatown': 15472, 'chir.o': 15473, 'chocolate': 15474, 'choking': 15475, 'churns': 15476, 'cinven': 15477, 'cit': 15478, 'citi': 15479, 'clamp': 15480, 'clarified': 15481, 'classroom': 15482, 'classrooms': 15483, 'clauses': 15484, 'clawed': 15485, 'cleaned': 15486, 'click': 15487, 'clothier': 15488, 'coalmine': 15489, 'coat': 15490, 'coax': 15491, 'codes': 15492, 'coeur': 15493, 'coins': 15494, 'colliding': 15495, 'collusion': 15496, 'colour': 15497, 'colts': 15498, 'combines': 15499, 'cominco': 15500, 'commandments': 15501, 'commended': 15502, 'commits': 15503, 'commonly': 15504, 'communicate': 15505, 'compares': 15506, 'complexity': 15507, 'complicating': 15508, 'complications': 15509, 'compounded': 15510, 'comps': 15511, 'comptroller': 15512, 'concerted': 15513, 'conferences': 15514, 'confiscated': 15515, 'conspicuous': 15516, 'constable': 15517, 'constituency': 15518, 'constructive': 15519, 'consumed': 15520, 'contents': 15521, 'continuity': 15522, 'contradicted': 15523, 'controller': 15524, 'convenes': 15525, 'convening': 15526, 'conventions': 15527, 'convict': 15528, 'convicting': 15529, 'cookie': 15530, 'coordinating': 15531, 'copco': 15532, 'copter': 15533, 'copycat': 15534, 'copying': 15535, 'corel': 15536, 'corners': 15537, 'coronation': 15538, 'corp.\\\\': 15539, 'corridor': 15540, 'cosmetic': 15541, 'costliest': 15542, 'countless': 15543, 'countrymen': 15544, 'courting': 15545, 'cowboys': 15546, 'crafting': 15547, 'cranberry': 15548, 'cranked': 15549, 'crest': 15550, 'crestline': 15551, 'crestor': 15552, 'criminalise': 15553, 'crisp': 15554, 'crosby': 15555, 'cruised': 15556, 'cured': 15557, 'curtailed': 15558, 'curve': 15559, 'custard': 15560, 'cutthroat': 15561, 'cvh.n': 15562, 'cypress': 15563, 'daley': 15564, 'dali': 15565, 'dancers': 15566, 'dangerfield': 15567, 'danilov': 15568, 'datuk': 15569, 'daytona': 15570, 'dcx.n': 15571, 'de&lt;/a&gt': 15572, 'dealership': 15573, 'dearth': 15574, 'decatur': 15575, 'deceived': 15576, 'decisively': 15577, 'defective': 15578, 'defects': 15579, 'defender': 15580, 'defiantly': 15581, 'defibrillator': 15582, 'defibrillators': 15583, 'defining': 15584, 'deforestation': 15585, 'defraud': 15586, 'delagrange': 15587, 'delist': 15588, 'denouncing': 15589, 'dentistry': 15590, 'departing': 15591, 'departs': 15592, 'depicting': 15593, 'depicts': 15594, 'depleted': 15595, 'deportees': 15596, 'depreciation': 15597, 'deprive': 15598, 'derailing': 15599, 'descend': 15600, 'descending': 15601, 'descent': 15602, 'deserters': 15603, 'designation': 15604, 'designers': 15605, 'desktops': 15606, 'desserts': 15607, 'destabilize': 15608, 'destructive': 15609, 'deteriorate': 15610, 'detonate': 15611, 'devised': 15612, 'dietz': 15613, 'dime': 15614, 'diminish': 15615, 'dina': 15616, 'dinesh': 15617, 'dingo': 15618, 'directions': 15619, 'discarded': 15620, 'disciplinary': 15621, 'disco': 15622, 'discontinue': 15623, 'discourage': 15624, 'dishonorable': 15625, 'disposals': 15626, 'disputing': 15627, 'distorted': 15628, 'distraught': 15629, 'divergent': 15630, 'divert': 15631, 'dockers': 15632, 'docks': 15633, 'dokubo': 15634, 'domination': 15635, 'downloading': 15636, 'downplay': 15637, 'draconian': 15638, 'draped': 15639, 'dreaming': 15640, 'dressing': 15641, 'drifts': 15642, 'drunk': 15643, 'druze': 15644, 'dry': 15645, 'ducking': 15646, 'dudley': 15647, 'dueling': 15648, 'duke': 15649, 'dunhill': 15650, 'durangos': 15651, 'dwa': 15652, 'dynamite': 15653, 'eagles': 15654, 'eclipsed': 15655, 'ecological': 15656, 'edinburgh': 15657, 'editions': 15658, 'editors': 15659, 'educated': 15660, 'eerie': 15661, 'electronically': 15662, 'elgindy': 15663, 'ellis': 15664, 'embarking': 15665, 'emergence': 15666, 'emission': 15667, 'emotions': 15668, 'emphasize': 15669, 'emphasized': 15670, 'emphasizing': 15671, 'employ': 15672, 'empress': 15673, 'emptying': 15674, 'encounters': 15675, 'endemic': 15676, 'enforced': 15677, 'enthusiastic': 15678, 'envisions': 15679, 'epidemics': 15680, 'equiserve': 15681, 'eradicated': 15682, 'eradication': 15683, 'ereli': 15684, 'erez': 15685, 'eroding': 15686, 'es': 15687, 'essentially': 15688, 'este': 15689, 'etfs': 15690, 'etheridge': 15691, 'eton': 15692, 'euphoria': 15693, 'eur': 15694, 'eurostocks': 15695, 'eus': 15696, 'eutelsat': 15697, 'exacerbating': 15698, 'exams': 15699, 'exceptional': 15700, 'excuses': 15701, 'executing': 15702, 'exempted': 15703, 'exert': 15704, 'exhausted': 15705, 'exhibits': 15706, 'expediency': 15707, 'expelling': 15708, 'expiry': 15709, 'ext': 15710, 'extinct': 15711, 'extortion': 15712, 'exxonmobil': 15713, 'f.b.i.': 15714, 'fab': 15715, 'fabled': 15716, 'faint': 15717, 'faking': 15718, 'famously': 15719, 'fancy': 15720, 'fantastic': 15721, 'farooq': 15722, 'faslane': 15723, 'fatwa': 15724, 'feather': 15725, 'federally': 15726, 'feisty': 15727, 'fertilizer': 15728, 'finanziaria': 15729, 'fiorina': 15730, 'fisheries': 15731, 'fisted': 15732, 'fixated': 15733, 'fixture': 15734, 'flagged': 15735, 'flex': 15736, 'florence': 15737, 'fluviral': 15738, 'fond': 15739, 'footballers': 15740, 'forbidden': 15741, 'forefront': 15742, 'forestall': 15743, 'forsee': 15744, 'fortunate': 15745, 'foundations': 15746, 'fractured': 15747, 'francis': 15748, 'francs': 15749, 'frayed': 15750, 'freescale': 15751, 'freezes': 15752, 'frenzied': 15753, 'fret': 15754, 'friday\\\\after': 15755, 'friedman': 15756, 'fsa': 15757, 'fulfilling': 15758, 'fullquote\"&gt;alo.n&lt;/a&gt': 15759, 'fullquote\"&gt;amzn.o&lt;/a&gt': 15760, 'fullquote\"&gt;bmy.n&lt;/a&gt': 15761, 'fullquote\"&gt;dcxgn': 15762, 'fullquote\"&gt;gs.n&lt;/a&gt': 15763, 'fullquote\"&gt;kft.n&lt;/a&gt': 15764, 'fullquote\"&gt;lmt.n&lt;/a&gt': 15765, 'fullquote\"&gt;low.n&lt;/a&gt': 15766, 'fullquote\"&gt;qcom.o&lt;/a&gt': 15767, 'fullquote\"&gt;sbc.n&lt;/a&gt': 15768, 'fullquote\"&gt;sbux.o&lt;/a&gt': 15769, 'fullquote\"&gt;sebl.o&lt;/a&gt': 15770, 'fullquote\"&gt;sti.n&lt;/a&gt': 15771, 'fullquote\"&gt;tsn.n&lt;/a&gt': 15772, 'fullquote\"&gt;vz.n&lt;/a&gt': 15773, 'fuming': 15774, 'fur': 15775, 'furst': 15776, 'fx': 15777, 'g.m.': 15778, 'gadaffi': 15779, 'gagliano': 15780, 'gales': 15781, 'gando': 15782, 'garang': 15783, 'gardez': 15784, 'gassee': 15785, 'gatherings': 15786, 'gathers': 15787, 'gatumba': 15788, 'gaymard': 15789, 'gaze': 15790, 'genting': 15791, 'genvec': 15792, 'gestures': 15793, 'ghazni': 15794, 'gifford': 15795, 'gilbert': 15796, 'ginseng': 15797, 'gis.n': 15798, 'giveback': 15799, 'glaciers': 15800, 'glasses': 15801, 'glitches': 15802, 'glove': 15803, 'glum': 15804, 'gmo': 15805, 'gong': 15806, 'goog.oq': 15807, 'gorges': 15808, 'gramlich': 15809, 'grasp': 15810, 'greatness': 15811, 'gregory': 15812, 'grimsby': 15813, 'grinding': 15814, 'groove': 15815, 'grumbling': 15816, 'gryzlov': 15817, 'gsk.l': 15818, 'guardsman': 15819, 'guerillas': 15820, 'guevara': 15821, 'guiding': 15822, 'gunning': 15823, 'gush': 15824, 'gymnast': 15825, 'h1': 15826, 'habits': 15827, 'hacked': 15828, 'hailing': 15829, 'haji': 15830, 'hajj': 15831, 'hammons': 15832, 'hampers': 15833, 'handily': 15834, 'handles': 15835, 'handy': 15836, 'hank': 15837, 'hapless': 15838, 'happily': 15839, 'haradinaj': 15840, 'harbor': 15841, 'harding': 15842, 'hardliners': 15843, 'harming': 15844, 'hastert': 15845, 'hatf': 15846, 'hatim': 15847, 'hats': 15848, 'hawk': 15849, 'headless': 15850, 'heartthrob': 15851, 'heaviest': 15852, 'hennes': 15853, 'hepatitis': 15854, 'heralded': 15855, 'hertrich': 15856, 'highland': 15857, 'hinders': 15858, 'hodgkin': 15859, 'hoffman': 15860, 'homage': 15861, 'homebuilders': 15862, 'homebuilding': 15863, 'homecoming': 15864, 'homemaker': 15865, 'homestretch': 15866, 'homework': 15867, 'hon.n': 15868, 'hormel': 15869, 'horns': 15870, 'horseback': 15871, 'hospitalised': 15872, 'hotelier': 15873, 'hotspot': 15874, 'housewares': 15875, 'howes': 15876, 'htil': 15877, 'humiliated': 15878, 'humming': 15879, 'huntsman': 15880, 'hwa': 15881, 'hybrids': 15882, 'hygiene': 15883, 'identical': 15884, 'identities': 15885, 'idiot': 15886, 'iesi': 15887, 'ikea': 15888, 'illustrates': 15889, 'im': 15890, 'imams': 15891, 'immunization': 15892, 'imperils': 15893, 'implanted': 15894, 'importation': 15895, 'improvised': 15896, 'in\\\\a': 15897, 'inappropriately': 15898, 'inaugurates': 15899, 'inbev': 15900, 'inconclusive': 15901, 'indecent': 15902, 'induced': 15903, 'industrialised': 15904, 'inexperienced': 15905, 'infanta': 15906, 'inflating': 15907, 'influenced': 15908, 'infuriated': 15909, 'inherited': 15910, 'inject': 15911, 'inn': 15912, 'instinet': 15913, 'institutes': 15914, 'instrument': 15915, 'insult': 15916, 'insure': 15917, 'interpretations': 15918, 'interrogated': 15919, 'interrupted': 15920, 'ioannou': 15921, 'irelands': 15922, 'irishmen': 15923, 'irwin': 15924, 'isi': 15925, 'it\\\\will': 15926, 'itanium': 15927, 'jackets': 15928, 'jaffray': 15929, 'jaguars': 15930, 'jalna': 15931, 'jamming': 15932, 'jar': 15933, 'jeep': 15934, 'jeers': 15935, 'jennifer': 15936, 'jewels': 15937, 'jingle': 15938, 'joan': 15939, 'joaquin': 15940, 'jr': 15941, 'julian': 15942, 'juncker': 15943, 'jungles': 15944, 'junkyard': 15945, 'ka': 15946, 'kate': 15947, 'katherine': 15948, 'kay': 15949, 'kayak': 15950, 'kelantan': 15951, 'kft.n': 15952, 'kid': 15953, 'kiwi': 15954, 'kneecap': 15955, 'kobe': 15956, 'kos': 15957, 'kostas': 15958, 'kudrin': 15959, 'kun': 15960, 'ky.': 15961, 'landfill': 15962, 'lanxess': 15963, 'laotian': 15964, 'largest\\\\u.s.': 15965, 'last\\\\week': 15966, 'latortue': 15967, 'lauderdale': 15968, 'lauren': 15969, 'layer': 15970, 'lazy': 15971, 'leans': 15972, 'leased': 15973, 'leather': 15974, 'legoland': 15975, 'length': 15976, 'lent': 15977, 'lesser': 15978, 'leveled': 15979, 'liechtenstein': 15980, 'lifepoint': 15981, 'limelight': 15982, 'limo': 15983, 'lipped': 15984, 'litany': 15985, 'literacy': 15986, 'livestock': 15987, 'lly.n': 15988, 'lm': 15989, 'lobster': 15990, 'lobsters': 15991, 'locke': 15992, 'locker': 15993, 'locking': 15994, 'lockup': 15995, 'loews': 15996, 'loonie': 15997, 'lopez': 15998, 'lopsided': 15999, 'lounge': 16000, 'lows\\\\against': 16001, 'lra': 16002, 'luring': 16003, 'luton': 16004, 'lutz': 16005, 'magazines': 16006, 'magistrates': 16007, 'magnet': 16008, 'maher': 16009, 'mailbox': 16010, 'majeure': 16011, 'majorities': 16012, 'malbrunot': 16013, 'manama': 16014, 'maneuvers': 16015, 'mangled': 16016, 'manifesto': 16017, 'manipulating': 16018, 'manned': 16019, 'mantra': 16020, 'maple': 16021, 'marauding': 16022, 'marbury': 16023, 'marietta': 16024, 'markedly': 16025, 'marlboro': 16026, 'marlborough': 16027, 'marquee': 16028, 'martialed': 16029, 'martinkus': 16030, 'maruti': 16031, 'masako': 16032, 'masks': 16033, 'massacres': 16034, 'massing': 16035, 'mattress': 16036, 'mauling': 16037, 'maurice': 16038, 'mauritz': 16039, 'mayhem': 16040, 'mcdonalds': 16041, 'mcgill': 16042, 'mcgrath': 16043, 'mcgreevey': 16044, 'melting': 16045, 'mentor': 16046, 'mer.n': 16047, 'merges': 16048, 'meshnetworks': 16049, 'messy': 16050, 'methamphetamine': 16051, 'metin': 16052, 'mice': 16053, 'michele': 16054, 'mick': 16055, 'mickelson': 16056, 'milder': 16057, 'millionaires': 16058, 'mineweb.com': 16059, 'mints': 16060, 'minus': 16061, 'mirror': 16062, 'mistreatment': 16063, 'mistress': 16064, 'misunderstood': 16065, 'mitterrand': 16066, 'mkt': 16067, 'mobbed': 16068, 'mocked': 16069, 'mofa': 16070, 'moncton': 16071, 'mond.o': 16072, 'monday\\\\said': 16073, 'monde': 16074, 'monkeys': 16075, 'moonlit': 16076, 'moro': 16077, 'moshe': 16078, 'mot.n': 16079, 'motives': 16080, 'motorway': 16081, 'moussaoui': 16082, 'mouths': 16083, 'moya': 16084, 'mrs': 16085, 'ms.': 16086, 'muddy': 16087, 'mufti': 16088, 'multimillionaire': 16089, 'murderers': 16090, 'murderous': 16091, 'muslimeen': 16092, 'mutilation': 16093, 'mutinous': 16094, 'myriad': 16095, 'n.h.': 16096, 'n.s.': 16097, 'nagaoka': 16098, 'napa': 16099, 'nashville': 16100, 'nassiriya': 16101, 'nastech': 16102, 'nawabshah': 16103, 'neatly': 16104, 'needham': 16105, 'needles': 16106, 'neiman': 16107, 'nepad': 16108, 'nepalis': 16109, 'nestor': 16110, 'nev.': 16111, 'neville': 16112, 'newsasia': 16113, 'newsman': 16114, 'newstrack': 16115, 'nexium': 16116, 'nfd.au': 16117, 'nichols': 16118, 'nicobar': 16119, 'nile': 16120, 'ninety': 16121, 'niro': 16122, 'nixes': 16123, 'nlcs': 16124, 'noc.n': 16125, 'nominating': 16126, 'nonproliferation': 16127, 'northernmost': 16128, 'nostalgic': 16129, 'notches': 16130, 'npt': 16131, 'nuaimi': 16132, 'nunavut': 16133, 'nwa': 16134, 'o.': 16135, 'obama': 16136, 'objects': 16137, 'obscure': 16138, 'observance': 16139, 'occasions': 16140, 'occur': 16141, 'occurrences': 16142, 'oft': 16143, 'ogre': 16144, 'olympian': 16145, 'optional': 16146, 'opts': 16147, 'orca': 16148, 'osaka': 16149, 'otto': 16150, 'outbreaks': 16151, 'outlet': 16152, 'outpouring': 16153, 'outsider': 16154, 'outweigh': 16155, 'overlooked': 16156, 'overruns': 16157, 'overtakes': 16158, 'overthrew': 16159, 'owe': 16160, 'owning': 16161, 'oz': 16162, 'pacifying': 16163, 'padilla': 16164, 'pageantry': 16165, 'paige': 16166, 'painter': 16167, 'palo': 16168, 'pals': 16169, 'panicky': 16170, 'paralyzed': 16171, 'pariah': 16172, 'paribas': 16173, 'parishioners': 16174, 'parkway': 16175, 'parsons': 16176, 'participated': 16177, 'passionate': 16178, 'patricia': 16179, 'patriotism': 16180, 'patterns': 16181, 'payback': 16182, 'payday': 16183, 'pbl': 16184, 'peacekeeper': 16185, 'peddled': 16186, 'pediatric': 16187, 'pelting': 16188, 'pennies': 16189, 'perceived': 16190, 'perceptions': 16191, 'percy': 16192, 'perfectly': 16193, 'pesticide': 16194, 'petitioned': 16195, 'petronas': 16196, 'pets': 16197, 'pharmacare': 16198, 'phenomenon': 16199, 'philosophy': 16200, 'phishers': 16201, 'photographed': 16202, 'physician': 16203, 'pictured': 16204, 'picturesque': 16205, 'pid': 16206, 'pig': 16207, 'pigeons': 16208, 'pisanu': 16209, 'placebo': 16210, 'plank': 16211, 'plum': 16212, 'podium': 16213, 'poiana': 16214, 'poisons': 16215, 'polar': 16216, 'polarizing': 16217, 'pollen': 16218, 'polluted': 16219, 'polluting': 16220, 'polycom': 16221, 'pools': 16222, 'popping': 16223, 'poppy': 16224, 'possibilities': 16225, 'possis': 16226, 'postponing': 16227, 'potatoes': 16228, 'pounce': 16229, 'power5': 16230, 'prabhakaran': 16231, 'prairie': 16232, 'precedent': 16233, 'precision': 16234, 'preference': 16235, 'prescribed': 16236, 'presenting': 16237, 'preserving': 16238, 'pricier': 16239, 'princes': 16240, 'prithvi': 16241, 'proceeding': 16242, 'processed': 16243, 'processors': 16244, 'progressing': 16245, 'prohibiting': 16246, 'propelling': 16247, 'proportions': 16248, 'prosecutions': 16249, 'provocation': 16250, 'provocative': 16251, 'psychologically': 16252, 'publicized': 16253, 'publishers': 16254, 'pummeling': 16255, 'purpose': 16256, 'purposeful': 16257, 'pyramid': 16258, 'q.': 16259, 'qa': 16260, 'qorei': 16261, 'qrs': 16262, 'quadrupling': 16263, 'quashed': 16264, 'quo': 16265, 'quot;at': 16266, 'quot;death': 16267, 'quot;do': 16268, 'quot;final': 16269, 'quot;fiscal': 16270, 'quot;for': 16271, 'quot;green': 16272, 'quot;historic': 16273, 'quot;major': 16274, 'quot;miracle': 16275, 'quot;over': 16276, 'quot;regained': 16277, 'quot;road': 16278, 'quot;take': 16279, 'quot;too': 16280, 'quot;us': 16281, 'quot;with': 16282, 'racine': 16283, 'rahman': 16284, 'rained': 16285, 'rainer': 16286, 'rajasthan': 16287, 'raked': 16288, 'ramirez': 16289, 'rammell': 16290, 'rapped': 16291, 'ratan': 16292, 'rattling': 16293, 'raucous': 16294, 'rawalpindi': 16295, 'reads': 16296, 'realign': 16297, 'realities': 16298, 'reaped': 16299, 'reaping': 16300, 'rebranding': 16301, 'rebuff': 16302, 'recapitalization': 16303, 'recapture': 16304, 'recertifying': 16305, 'recessions': 16306, 'recipient': 16307, 'reckoning': 16308, 'recognised': 16309, 'recognizing': 16310, 'reconsidering': 16311, 'recycled': 16312, 'reelected': 16313, 'refiner': 16314, 'reflection': 16315, 'refocus': 16316, 'reformists': 16317, 'regretted': 16318, 'reignited': 16319, 'reimbursements': 16320, 'reinstate': 16321, 'reinsurance': 16322, 'reiterating': 16323, 'relaunch': 16324, 'relaunched': 16325, 'relenting': 16326, 'relentlessly': 16327, 'relents': 16328, 'relevance': 16329, 'relinquish': 16330, 'remarkably': 16331, 'remembrance': 16332, 'reminiscent': 16333, 'remodeling': 16334, 'reneging': 16335, 'repayment': 16336, 'repeating': 16337, 'repo': 16338, 'reprisal': 16339, 'reputed': 16340, 'resistant': 16341, 'resonates': 16342, 'respiratory': 16343, 'responses': 16344, 'restructured': 16345, 'restructures': 16346, 'resurface': 16347, 'retracts': 16348, 'reunion': 16349, 'reviewer': 16350, 'revoked': 16351, 'revolts': 16352, 'revolutionized': 16353, 'revs': 16354, 'reza': 16355, 'rhino': 16356, 'riad': 16357, 'rigid': 16358, 'rimm': 16359, 'ringleader': 16360, 'roadblocks': 16361, 'roberts': 16362, 'rockies': 16363, 'rookie': 16364, 'roster': 16365, 'roth': 16366, 'rousing': 16367, 'rove': 16368, 'rubin': 16369, 'rudy': 16370, 'rukeyser': 16371, 'russell': 16372, 'sadness': 16373, 'sado': 16374, 'safeco': 16375, 'safin': 16376, 'safm.o': 16377, 'safra': 16378, 'said\\\\it': 16379, 'salesman': 16380, 'sanctuary': 16381, 'sandra': 16382, 'santoro': 16383, 'saps': 16384, 'sarin': 16385, 'sby': 16386, 'sc': 16387, 'schiphol': 16388, 'schumacher': 16389, 'scoreless': 16390, 'scotch': 16391, 'scrafton': 16392, 'scrambles': 16393, 'scripps': 16394, 'sderot': 16395, 'se': 16396, 'searchers': 16397, 'secretaries': 16398, 'seeded': 16399, 'seer': 16400, 'seismic': 16401, 'seizures': 16402, 'selective': 16403, 'selects': 16404, 'sen.\\\\john': 16405, 'serena': 16406, 'sevenfold': 16407, 'seventy': 16408, 'sever': 16409, 'shadowy': 16410, 'shambles': 16411, 'shame': 16412, 'shameful': 16413, 'shankar': 16414, 'shannon': 16415, 'shanxi': 16416, 'sharapova': 16417, 'shareholding': 16418, 'shawn': 16419, 'sheila': 16420, 'sheraton': 16421, 'shipbuilders': 16422, 'shoemaker': 16423, 'shortfalls': 16424, 'shrouded': 16425, 'shuffles': 16426, 'shunned': 16427, 'shuns': 16428, 'shyi': 16429, 'sibling': 16430, 'sidestepped': 16431, 'sideways': 16432, 'sift': 16433, 'sifted': 16434, 'sikhs': 16435, 'silenced': 16436, 'simmered': 16437, 'simpson': 16438, 'sirikit': 16439, 'situations': 16440, 'sixteen': 16441, 'sizable': 16442, 'skids': 16443, 'skilled': 16444, 'skinner': 16445, 'skyteam': 16446, 'skyway': 16447, 'sleazy': 16448, 'slope': 16449, 'sloppy': 16450, 'slots': 16451, 'slurs': 16452, 'smash': 16453, 'smear': 16454, 'smoker': 16455, 'sneak': 16456, 'solicit': 16457, 'solicitations': 16458, 'solidifying': 16459, 'solved': 16460, 'soothing': 16461, 'sopore': 16462, 'souring': 16463, 'southampton': 16464, 'soviets': 16465, 'soybeans': 16466, 'spammer': 16467, 'sparkling': 16468, 'spearheaded': 16469, 'specialties': 16470, 'spectator': 16471, 'spector': 16472, 'speyer': 16473, 'spills': 16474, 'spins': 16475, 'splintered': 16476, 'spooks': 16477, 'spotty': 16478, 'spouse': 16479, 'squads': 16480, 'squeaked': 16481, 'ssangyong': 16482, 'stabilized': 16483, 'staffed': 16484, 'staffer': 16485, 'stagnation': 16486, 'stained': 16487, 'starter': 16488, 'statesman': 16489, 'statscan': 16490, 'statute': 16491, 'steakhouse': 16492, 'steal': 16493, 'stellar': 16494, 'stereo': 16495, 'sterility': 16496, 'stewardship': 16497, 'sticky': 16498, 'stoned': 16499, 'stored': 16500, 'storefronts': 16501, 'storey': 16502, 'stranding': 16503, 'strandings': 16504, 'strategist': 16505, 'striker': 16506, 'strings': 16507, 'stumbled': 16508, 'stumbles': 16509, 'stumped': 16510, 'stumps': 16511, 'stupid': 16512, 'styled': 16513, 'styles': 16514, 'subhi': 16515, 'subordinates': 16516, 'subs': 16517, 'subscriptions': 16518, 'subtle': 16519, 'suburbs': 16520, 'succumbed': 16521, 'sufferers': 16522, 'suitable': 16523, 'sulawesi': 16524, 'sumatra': 16525, 'supercenters': 16526, 'superiors': 16527, 'supersonic': 16528, 'surfaces': 16529, 'surfers': 16530, 'surgeon': 16531, 'sustaining': 16532, 'swallows': 16533, 'swan': 16534, 'swapped': 16535, 'swarmed': 16536, 'swear': 16537, 'sweeten': 16538, 'swimmers': 16539, 'swipes': 16540, 'swirled': 16541, 'swore': 16542, 'symbian': 16543, 'symbolized': 16544, 'symc': 16545, 'syndicate': 16546, 'synnex': 16547, 't.': 16548, 'tab': 16549, 'tacit': 16550, 'tallahassee': 16551, 'tandem': 16552, 'tangled': 16553, 'tb': 16554, 'td.to': 16555, 'technicians': 16556, 'telco': 16557, 'temper': 16558, 'tempt': 16559, 'tempted': 16560, 'tendering': 16561, 'tending': 16562, 'tents': 16563, 'tenuous': 16564, 'terminally': 16565, 'terra': 16566, 'texan': 16567, 'the\\\\country': 16568, 'theede': 16569, 'thereby': 16570, 'therefore': 16571, 'thief': 16572, 'thinner': 16573, 'this\\\\week': 16574, 'thorough': 16575, 'thoroughfare': 16576, 'thread': 16577, 'thrilled': 16578, 'throes': 16579, 'throngs': 16580, 'thumping': 16581, 'thunderstorm': 16582, 'thwarts': 16583, 'timeframe': 16584, 'tishman': 16585, 'to\\\\be': 16586, 'to\\\\withdraw': 16587, 'toes': 16588, 'touchdown': 16589, 'touche': 16590, 'touchy': 16591, 'towing': 16592, 'trademarked': 16593, 'trainers': 16594, 'translated': 16595, 'translating': 16596, 'trauma': 16597, 'traumatized': 16598, 'treading': 16599, 'trix': 16600, 'trudged': 16601, 'trumpet': 16602, 'trustees': 16603, 'tufano': 16604, 'tui': 16605, 'tullett': 16606, 'tuned': 16607, 'tyler': 16608, 'u2': 16609, 'uaw': 16610, 'uh': 16611, 'ulfa': 16612, 'umno': 16613, 'umts': 16614, 'unconditionally': 16615, 'uncooperative': 16616, 'uncouple': 16617, 'undercutting': 16618, 'underestimating': 16619, 'undergone': 16620, 'undertake': 16621, 'undisputed': 16622, 'unemployed': 16623, 'unfamiliar': 16624, 'uninspiring': 16625, 'unnecessary': 16626, 'unresolved': 16627, 'unseated': 16628, 'unsecured': 16629, 'unsuspecting': 16630, 'update9': 16631, 'upping': 16632, 'uprooting': 16633, 'us\\\\$2': 16634, 'utilization': 16635, 'varied': 16636, 'vasp': 16637, 'vault': 16638, 'vegetable': 16639, 'verhofstadt': 16640, 'verified': 16641, 'vet': 16642, 'vieira': 16643, 'vigilant': 16644, 'vigilantes': 16645, 'virtues': 16646, 'viruses': 16647, 'visionary': 16648, 'visual': 16649, 'vodka': 16650, 'volare': 16651, 'vrts': 16652, 'vsnl': 16653, 'wa': 16654, 'wallace': 16655, 'wallet': 16656, 'wandered': 16657, 'wang': 16658, 'wartorn': 16659, 'wasting': 16660, 'watchful': 16661, 'waterfront': 16662, 'watergate': 16663, 'waterloo': 16664, 'weaponry': 16665, 'websites': 16666, 'weekends': 16667, 'wfp': 16668, 'whipping': 16669, 'whitman': 16670, 'whitney': 16671, 'wield': 16672, 'williamson': 16673, 'wiseman': 16674, 'wishers': 16675, 'wives': 16676, 'wmds': 16677, 'wooing': 16678, 'woolies': 16679, 'worrisome': 16680, 'wreaked': 16681, 'wrist': 16682, 'wwii': 16683, 'yankee': 16684, 'yearlong': 16685, 'youngest': 16686, 'youngsters': 16687, 'yours': 16688, 'yoweri': 16689, 'zabul': 16690, 'zeppelin': 16691, 'zim': 16692, '--tv': 16693, '-as': 16694, '-bernanke': 16695, '-he': 16696, '-mba': 16697, '-n': 16698, '-nyt': 16699, '-prosecutor': 16700, '-source': 16701, '-tv': 16702, '-us': 16703, '/prnewswire/': 16704, '0.14': 16705, '0.19': 16706, '0.27': 16707, '0.29': 16708, '054': 16709, '09': 16710, '0992.hk': 16711, '1,150': 16712, '1-imf': 16713, '1.25': 16714, '1.27': 16715, '1.3bn': 16716, '10-week': 16717, '10.5': 16718, '10.8': 16719, '1010': 16720, '11-style': 16721, '11.4': 16722, '116': 16723, '12-week': 16724, '1200': 16725, '128': 16726, '133': 16727, '135-mph': 16728, '14-foot': 16729, '142': 16730, '146-billion': 16731, '14th': 16732, '1500': 16733, '161': 16734, '170,000': 16735, '174': 16736, '18-hour': 16737, '190,000': 16738, '1968': 16739, '1969': 16740, '1979': 16741, '2-delta': 16742, '2.5bn': 16743, '20-month': 16744, '21,000': 16745, '219': 16746, '23rd': 16747, '24th': 16748, '262': 16749, '265': 16750, '28,000': 16751, '280': 16752, '3,250': 16753, '3.75': 16754, '319,000': 16755, '31st': 16756, '32-member': 16757, '32-year': 16758, '322': 16759, '329': 16760, '34-year': 16761, '35,000': 16762, '362': 16763, '36;1.25': 16764, '36;136': 16765, '36;150': 16766, '36;18': 16767, '36;200': 16768, '36;300': 16769, '36;32': 16770, '36;400': 16771, '36;45': 16772, '36;53': 16773, '36;9.2': 16774, '390': 16775, '39;06': 16776, '39;90s': 16777, '39;big': 16778, '39;do': 16779, '39;is': 16780, '39;mercenaries': 16781, '39;new': 16782, '39;on': 16783, '39;out': 16784, '39;still': 16785, '39;ta': 16786, '39;war': 16787, '39;yes': 16788, '3d': 16789, '4.0': 16790, '4.2': 16791, '4.7': 16792, '4.9': 16793, '400th': 16794, '401(k)-style': 16795, '420': 16796, '44,000': 16797, '45,000': 16798, '47.7': 16799, '5,100': 16800, '50-seat': 16801, '500-stock': 16802, '5000': 16803, '51-year': 16804, '54-year': 16805, '551': 16806, '55170': 16807, '556': 16808, '56th': 16809, '570': 16810, '5bn': 16811, '60-year': 16812, '6758.t': 16813, '7.0': 16814, '767': 16815, '777s': 16816, '7e7s': 16817, '8-day': 16818, '8.0': 16819, '8.1': 16820, '8.3': 16821, '8.7': 16822, '810': 16823, '850-strong': 16824, '9,200': 16825, '9.89': 16826, '98': 16827, '98,000': 16828, '9bn': 16829, '\\\\$1.1b': 16830, '\\\\$1.1bn': 16831, '\\\\$1.25b': 16832, '\\\\$1.3329': 16833, '\\\\$1.49': 16834, '\\\\$100,000': 16835, '\\\\$11.6': 16836, '\\\\$146': 16837, '\\\\$158': 16838, '\\\\$15bn': 16839, '\\\\$16.5': 16840, '\\\\$2.26': 16841, '\\\\$2.28': 16842, '\\\\$2.6b': 16843, '\\\\$220': 16844, '\\\\$227': 16845, '\\\\$232': 16846, '\\\\$235': 16847, '\\\\$250,000': 16848, '\\\\$298': 16849, '\\\\$3.4bn': 16850, '\\\\$3.6': 16851, '\\\\$31': 16852, '\\\\$321': 16853, '\\\\$339': 16854, '\\\\$4.5b': 16855, '\\\\$442': 16856, '\\\\$455': 16857, '\\\\$460': 16858, '\\\\$461': 16859, '\\\\$496': 16860, '\\\\$5,000': 16861, '\\\\$5.3': 16862, '\\\\$51.6': 16863, '\\\\$522': 16864, '\\\\$56': 16865, '\\\\$575': 16866, '\\\\$575,000': 16867, '\\\\$6.5': 16868, '\\\\$690': 16869, '\\\\$7.4bn': 16870, '\\\\$73': 16871, '\\\\$76': 16872, '\\\\$8.3': 16873, '\\\\$8.8bn': 16874, '\\\\$83': 16875, '\\\\$9.1': 16876, '\\\\$900-million': 16877, '\\\\$92': 16878, '\\\\$94': 16879, '\\\\$965': 16880, '\\\\japan': 16881, 'a1': 16882, 'a320': 16883, 'a9.com': 16884, 'a\\\\larger': 16885, 'a\\\\third': 16886, 'abacha': 16887, 'abated': 16888, 'abdel': 16889, 'abdicates': 16890, 'abductees': 16891, 'abdullahi': 16892, 'abolition': 16893, 'abortive': 16894, 'abound': 16895, 'abs.n': 16896, 'abstain': 16897, 'accomplish': 16898, 'accra': 16899, 'acdo.o': 16900, 'acquittals': 16901, 'acrimony': 16902, 'acronyms': 16903, 'actuarial': 16904, 'addict': 16905, 'addicts': 16906, 'adjourn': 16907, 'adjusting': 16908, 'administrators': 16909, 'adoptive': 16910, 'advancers': 16911, 'advani': 16912, 'adverse': 16913, 'advo': 16914, 'aegis': 16915, 'aeronautics': 16916, 'aest': 16917, 'agencys': 16918, 'agonizes': 16919, 'agricole': 16920, 'aground': 16921, 'aimtc': 16922, 'airgate': 16923, 'airlifting': 16924, 'akihito': 16925, 'alain': 16926, 'albuquerque': 16927, 'alexandra': 16928, 'alistair': 16929, 'allaying': 16930, 'alley': 16931, 'allure': 16932, 'aloft': 16933, 'altiris': 16934, 'amassed': 16935, 'amat.o': 16936, 'ambulances': 16937, 'ambushes': 16938, 'amends': 16939, 'ameridebt': 16940, 'amin': 16941, 'amir': 16942, 'amongst': 16943, 'amounting': 16944, 'an\\\\industry': 16945, 'anantnag': 16946, 'anatolian': 16947, 'and\\\\said': 16948, 'and\\\\the': 16949, 'andaman': 16950, 'andrx': 16951, 'anemic': 16952, 'angst': 16953, 'ankle': 16954, 'annals': 16955, 'annoying': 16956, 'annualized': 16957, 'annulled': 16958, 'antegren': 16959, 'antennas': 16960, 'anticipate': 16961, 'antiterror': 16962, 'antiterrorism': 16963, 'antiwar': 16964, 'anton': 16965, 'anxieties': 16966, 'apj': 16967, 'app': 16968, 'appalachian': 16969, 'appalling': 16970, 'apparatus': 16971, 'applies': 16972, 'apt': 16973, 'aqr': 16974, 'arbil': 16975, 'archaeologists': 16976, 'architectural': 16977, 'argentaria': 16978, 'ariel\\\\sharon': 16979, 'ariz': 16980, 'arming': 16981, 'armonk': 16982, 'arraignment': 16983, 'arrogance': 16984, 'arrow': 16985, 'arsenic': 16986, 'arthur': 16987, 'arti': 16988, 'arvinmeritor': 16989, 'asahi': 16990, 'ascent': 16991, 'assembling': 16992, 'assesses': 16993, 'assessments': 16994, 'astronaut': 16995, 'at\\\\least': 16996, 'at\\\\the': 16997, 'atm': 16998, 'atp': 16999, 'attendance': 17000, 'attracts': 17001, 'attributing': 17002, 'auburn': 17003, 'auctioning': 17004, 'audi': 17005, 'aurora': 17006, 'authorised': 17007, 'autocratic': 17008, 'autodesk': 17009, 'avedon': 17010, 'awa.n': 17011, 'awakening': 17012, 'awareness': 17013, 'axed': 17014, 'axel': 17015, 'axis': 17016, 'axle': 17017, 'ayers': 17018, 'azad': 17019, 'azn.l': 17020, 'bacall': 17021, 'bachchan': 17022, 'bachtiar': 17023, 'backtracked': 17024, 'backyard': 17025, 'baffle': 17026, 'bai': 17027, 'baidu': 17028, 'bailing': 17029, 'bain': 17030, 'balkenende': 17031, 'ballard': 17032, 'ballooning': 17033, 'bally': 17034, 'balm': 17035, 'baltovich': 17036, 'bandage': 17037, 'bandar': 17038, 'bandits': 17039, 'bang': 17040, 'bangladeshs': 17041, 'banquet': 17042, 'barot': 17043, 'basel': 17044, 'bathed': 17045, 'bavarian': 17046, 'bcci': 17047, 'bead': 17048, 'beast': 17049, 'beatify': 17050, 'beck': 17051, 'bedouin': 17052, 'bedouins': 17053, 'begawan': 17054, 'behemoth': 17055, 'belatedly': 17056, 'beliefs': 17057, 'believers': 17058, 'bernstein': 17059, 'bestseller': 17060, 'beth': 17061, 'betty': 17062, 'bfgoodrich': 17063, 'bickering': 17064, 'bigleys': 17065, 'bihar': 17066, 'bilbao': 17067, 'bild': 17068, 'bind': 17069, 'binyamin': 17070, 'biocryst': 17071, 'biography': 17072, 'biometric': 17073, 'biomira': 17074, 'bites': 17075, 'blank': 17076, 'blazed': 17077, 'blazing': 17078, 'bleeding': 17079, 'blindfolded': 17080, 'blink': 17081, 'bloodless': 17082, 'boc': 17083, 'boil': 17084, 'boils': 17085, 'boldest': 17086, 'bollard': 17087, 'bolt': 17088, 'bombshell': 17089, 'bon': 17090, 'bookmaker': 17091, 'boomerang': 17092, 'border=\"0\"/&gt;&lt;a': 17093, 'bot': 17094, 'bounded': 17095, 'bounties': 17096, 'bowes': 17097, 'bowler': 17098, 'bowling': 17099, 'boycotting': 17100, 'bradley': 17101, 'brandenburg': 17102, 'branigan': 17103, 'breakers': 17104, 'breeden': 17105, 'brendsel': 17106, 'bricks': 17107, 'bridgestone': 17108, 'brigade': 17109, 'brigham': 17110, 'brisker': 17111, 'brook': 17112, 'brookstone': 17113, 'broward': 17114, 'brutality': 17115, 'bsc.n': 17116, 'bubbled': 17117, 'bubbles': 17118, 'buckling': 17119, 'bud': 17120, 'buffet': 17121, 'buffeting': 17122, 'bully': 17123, 'bumped': 17124, 'bunch': 17125, 'burdens': 17126, 'burgers': 17127, 'burlington': 17128, 'burmas': 17129, 'bursting': 17130, 'bursts': 17131, 'burtonwood': 17132, 'burundian': 17133, 'businessmen': 17134, 'buster': 17135, 'butcher': 17136, 'buzzing': 17137, 'c\\\\$1.4': 17138, 'c\\\\$3': 17139, 'c\\\\$381': 17140, 'caches': 17141, 'cacophony': 17142, 'cadillacs': 17143, 'cafes': 17144, 'caffeine': 17145, 'cag.n': 17146, 'cal': 17147, 'calamity': 17148, 'calculating': 17149, 'callao': 17150, 'callaway': 17151, 'calms': 17152, 'calories': 17153, 'calpine': 17154, 'camilleri': 17155, 'campuses': 17156, 'canadair': 17157, 'canary': 17158, 'canaveral': 17159, 'cancers': 17160, 'candlelight': 17161, 'cantwell': 17162, 'capitalization': 17163, 'capsizes': 17164, 'caravan': 17165, 'cardholder': 17166, 'careers': 17167, 'cargill': 17168, 'carly': 17169, 'carnegie': 17170, 'carphone': 17171, 'carroll': 17172, 'casablanca': 17173, 'castigated': 17174, 'castor': 17175, 'cbc': 17176, 'ceased': 17177, 'ceded': 17178, 'cellulite': 17179, 'cenotaph': 17180, 'censor': 17181, 'censorship': 17182, 'centralize': 17183, 'centura': 17184, 'chads': 17185, 'champs': 17186, 'chandler': 17187, 'chanted': 17188, 'chapters': 17189, 'charki': 17190, 'charlize': 17191, 'chats': 17192, 'chauffeur': 17193, 'cheapest': 17194, 'cheaply': 17195, 'cheerful': 17196, 'chefs': 17197, 'cherished': 17198, 'chevron': 17199, 'chills': 17200, 'chino': 17201, 'chipmakers': 17202, 'chiropody': 17203, 'choir': 17204, 'chokes': 17205, 'choreographed': 17206, 'chunghwa': 17207, 'circus': 17208, 'citgo': 17209, 'claiborne': 17210, 'clamor': 17211, 'clarence': 17212, 'clarifies': 17213, 'classmate': 17214, 'clayton': 17215, 'cleaners': 17216, 'cleans': 17217, 'clever': 17218, 'clicks': 17219, 'cloudy': 17220, 'clutching': 17221, 'cm': 17222, 'cms': 17223, 'cnet': 17224, 'cobbled': 17225, 'cochlear': 17226, 'coded': 17227, 'cognac': 17228, 'coinciding': 17229, 'coll': 17230, 'collaborated': 17231, 'collectively': 17232, 'collects': 17233, 'colorectal': 17234, 'colorful': 17235, 'colors': 17236, 'columns': 17237, 'comb': 17238, 'combed': 17239, 'commemorated': 17240, 'commenting': 17241, 'communal': 17242, 'competes': 17243, 'compiled': 17244, 'compromises': 17245, 'coms': 17246, 'conan': 17247, 'conceal': 17248, 'concentrated': 17249, 'concentration': 17250, 'conciliation': 17251, 'conclusions': 17252, 'concoction': 17253, 'concord': 17254, 'conditioning': 17255, 'condominiums': 17256, 'conexant': 17257, 'confessions': 17258, 'congratulations': 17259, 'congresswoman': 17260, 'connecting': 17261, 'conseco': 17262, 'conservationists': 17263, 'constitutes': 17264, 'constraints': 17265, 'containers': 17266, 'contended': 17267, 'continuation': 17268, 'contradiction': 17269, 'contradictions': 17270, 'contributor': 17271, 'converge': 17272, 'converging': 17273, 'coolers': 17274, 'cooperates': 17275, 'coordinator': 17276, 'copenhagen': 17277, 'copyrighted': 17278, 'coral': 17279, 'corbett': 17280, 'cordoned': 17281, 'cornered': 17282, 'correspondents': 17283, 'cote': 17284, 'cotherix': 17285, 'counseling': 17286, 'coupling': 17287, 'courtesy': 17288, 'courtship': 17289, 'couture': 17290, 'cox-2': 17291, 'cozy': 17292, 'cpb.n': 17293, 'crackled': 17294, 'crafted': 17295, 'crank': 17296, 'crater': 17297, 'crawl': 17298, 'creators': 17299, 'creep': 17300, 'critique': 17301, 'croats': 17302, 'cromwell': 17303, 'crosses': 17304, 'crowns': 17305, 'cruising': 17306, 'crushes': 17307, 'csx': 17308, 'culkin': 17309, 'cullen': 17310, 'curfews': 17311, 'cutback': 17312, 'cutter': 17313, 'cwa': 17314, 'cybersecurity': 17315, 'cypher': 17316, 'dade': 17317, 'dame': 17318, 'damien': 17319, 'damning': 17320, 'dampier': 17321, 'dangerously': 17322, 'daoud': 17323, 'dare': 17324, 'dared': 17325, 'darrell': 17326, 'darren': 17327, 'dashing': 17328, 'davao': 17329, 'dazed': 17330, 'deafening': 17331, 'deceased': 17332, 'deceit': 17333, 'declassified': 17334, 'decliners': 17335, 'decoma': 17336, 'decorating': 17337, 'decreasing': 17338, 'decried': 17339, 'decriminalise': 17340, 'defenders': 17341, 'deflated': 17342, 'degrees': 17343, 'dem': 17344, 'dementia': 17345, 'demilitarized': 17346, 'democrat\\\\john': 17347, 'den': 17348, 'denise': 17349, 'depicted': 17350, 'deploys': 17351, 'depress': 17352, 'depressant': 17353, 'depressants': 17354, 'deprived': 17355, 'depths': 17356, 'derivative': 17357, 'despicable': 17358, 'destabilizing': 17359, 'destiny': 17360, 'destitute': 17361, 'detectors': 17362, 'deteriorates': 17363, 'determines': 17364, 'detract': 17365, 'detractors': 17366, 'devaluation': 17367, 'devastates': 17368, 'devise': 17369, 'dharam': 17370, 'dharmapuri': 17371, 'diabetics': 17372, 'dials': 17373, 'differently': 17374, 'differing': 17375, 'digitally': 17376, 'diminishing': 17377, 'dimon': 17378, 'dino': 17379, 'dinosaur': 17380, 'dinosaurs': 17381, 'dion': 17382, 'disaffected': 17383, 'disappointments': 17384, 'discriminates': 17385, 'discriminatory': 17386, 'diseased': 17387, 'disguised': 17388, 'dismantlement': 17389, 'dispatching': 17390, 'distiller': 17391, 'distinction': 17392, 'distinguished': 17393, 'disturbed': 17394, 'disturbing': 17395, 'diverts': 17396, 'diy': 17397, 'djtc.ob': 17398, 'docked': 17399, 'dodged': 17400, 'dodging': 17401, 'dolby': 17402, 'doll': 17403, 'domaines': 17404, 'domingo': 17405, 'dominique': 17406, 'donating': 17407, 'donna': 17408, 'doping': 17409, 'dora': 17410, 'dorchester': 17411, 'dorm': 17412, 'doves': 17413, 'dragon': 17414, 'dravid': 17415, 'dried': 17416, 'drills': 17417, 'drowned': 17418, 'duceppe': 17419, 'dumb': 17420, 'dunn': 17421, 'dunsmuir': 17422, 'duplicate': 17423, 'durable\\\\goods': 17424, 'dushanbe': 17425, 'dynasty': 17426, 'e*trade': 17427, 'ead.pa': 17428, 'ebay.o': 17429, 'ebersol': 17430, 'econoline': 17431, 'economically': 17432, 'economys': 17433, 'ecstatic': 17434, 'edict': 17435, 'editing': 17436, 'eelam': 17437, 'egan': 17438, 'eidos': 17439, 'eightfold': 17440, 'eitan': 17441, 'ek': 17442, 'eke': 17443, 'eked': 17444, 'elevating': 17445, 'elisabeth': 17446, 'elites': 17447, 'elk': 17448, 'ellesmere': 17449, 'elliott': 17450, 'eluded': 17451, 'embark': 17452, 'embodied': 17453, 'emboldened': 17454, 'emmys': 17455, 'emotionally': 17456, 'emphasizes': 17457, 'encountered': 17458, 'encouragement': 17459, 'endgame': 17460, 'endorsements': 17461, 'endowment': 17462, 'endurance': 17463, 'enforcing': 17464, 'engulf': 17465, 'enlist': 17466, 'enmeshed': 17467, 'enrico': 17468, 'enrollment': 17469, 'ensured': 17470, 'entangled': 17471, 'entergy': 17472, 'entities': 17473, 'entrenched': 17474, 'envelope': 17475, 'environments': 17476, 'equality': 17477, 'equalization': 17478, 'equip': 17479, 'escaping': 17480, 'eternal': 17481, 'ethanol': 17482, 'etsu': 17483, 'euthanasia': 17484, 'evade': 17485, 'evasion': 17486, 'evenly': 17487, 'everett': 17488, 'evict': 17489, 'evidenced': 17490, 'evolution': 17491, 'excelcomindo': 17492, 'exemptions': 17493, 'existed': 17494, 'expansions': 17495, 'expirations': 17496, 'explanations': 17497, 'exploit': 17498, 'exploitation': 17499, 'exported': 17500, 'extermination': 17501, 'extracting': 17502, 'extraction': 17503, 'eyeglass': 17504, 'factbox': 17505, 'factional': 17506, 'fahrenheit': 17507, 'fairchild': 17508, 'fairer': 17509, 'fairness': 17510, 'falconbridge': 17511, 'falsely': 17512, 'falun': 17513, 'famished': 17514, 'fared': 17515, 'fascist': 17516, 'fates': 17517, 'favorites': 17518, 'favours': 17519, 'fax': 17520, 'fayed': 17521, 'felix': 17522, 'felled': 17523, 'fema': 17524, 'ferdinand': 17525, 'ferrying': 17526, 'fertility': 17527, 'fest': 17528, 'feuding': 17529, 'filmed': 17530, 'finalist': 17531, 'finalize': 17532, 'finalizes': 17533, 'finer': 17534, 'fingerprints': 17535, 'fini': 17536, 'finn': 17537, 'firearms': 17538, 'firecrackers': 17539, 'firming': 17540, 'firsthand': 17541, 'fits': 17542, 'fivefold': 17543, 'fizzled': 17544, 'flak': 17545, 'flamboyant': 17546, 'flashing': 17547, 'flashy': 17548, 'flattens': 17549, 'flavor': 17550, 'flavored': 17551, 'fledged': 17552, 'fleetwood': 17553, 'flipped': 17554, 'floats': 17555, 'flourish': 17556, 'flower': 17557, 'floyd': 17558, 'fluctuations': 17559, 'fluid': 17560, 'folded': 17561, 'fomenting': 17562, 'foolish': 17563, 'fools': 17564, 'forgiving': 17565, 'forgo': 17566, 'fork': 17567, 'formulation': 17568, 'fortunately': 17569, 'fosrenol': 17570, 'fostering': 17571, 'foundered': 17572, 'fourfold': 17573, 'fpl': 17574, 'fractures': 17575, 'fragility': 17576, 'fragmented': 17577, 'framed': 17578, 'frango': 17579, 'frankel': 17580, 'freetown': 17581, 'fresno': 17582, 'frets': 17583, 'fried': 17584, 'frigid': 17585, 'frivolous': 17586, 'frosty': 17587, 'frustrating': 17588, 'frx.n': 17589, 'fuller': 17590, 'fullquote\"&gt;adelq.pk&lt;/a&gt': 17591, 'fullquote\"&gt;amgn.o&lt;/a&gt': 17592, 'fullquote\"&gt;avp.n&lt;/a&gt': 17593, 'fullquote\"&gt;axp.n&lt;/a&gt': 17594, 'fullquote\"&gt;bbdsvb': 17595, 'fullquote\"&gt;bbi.n&lt;/a&gt': 17596, 'fullquote\"&gt;bgp.n&lt;/a&gt': 17597, 'fullquote\"&gt;cag.n&lt;/a&gt': 17598, 'fullquote\"&gt;chir.o&lt;/a&gt': 17599, 'fullquote\"&gt;dcx.n&lt;/a&gt': 17600, 'fullquote\"&gt;eds.n&lt;/a&gt': 17601, 'fullquote\"&gt;fre.n&lt;/a&gt': 17602, 'fullquote\"&gt;goog.oq&lt;/a&gt': 17603, 'fullquote\"&gt;gps.n&lt;/a&gt': 17604, 'fullquote\"&gt;gsk.l&lt;/a&gt': 17605, 'fullquote\"&gt;hlr.n&lt;/a&gt': 17606, 'fullquote\"&gt;ibc.n&lt;/a&gt': 17607, 'fullquote\"&gt;jci.n&lt;/a&gt': 17608, 'fullquote\"&gt;leh.n&lt;/a&gt': 17609, 'fullquote\"&gt;ltd.n&lt;/a&gt': 17610, 'fullquote\"&gt;lu.n&lt;/a&gt': 17611, 'fullquote\"&gt;mer.n&lt;/a&gt': 17612, 'fullquote\"&gt;mo.n&lt;/a&gt': 17613, 'fullquote\"&gt;mot.n&lt;/a&gt': 17614, 'fullquote\"&gt;siri.o&lt;/a&gt': 17615, 'fullquote\"&gt;sunw.o&lt;/a&gt': 17616, 'fullquote\"&gt;supg.o&lt;/a&gt': 17617, 'fullquote\"&gt;toy.n&lt;/a&gt': 17618, 'fullquote\"&gt;viab': 17619, 'fullquote\"&gt;wag.n&lt;/a&gt': 17620, 'fullquote\"&gt;wlp.n&lt;/a&gt': 17621, 'fullquote\"&gt;wpp.l&lt;/a&gt': 17622, 'fullquote\"&gt;xmsr.o&lt;/a&gt': 17623, 'functional': 17624, 'funerals': 17625, 'funneling': 17626, 'furloughed': 17627, 'fuse': 17628, 'futility': 17629, 'g-20': 17630, 'g-7': 17631, 'gaborone': 17632, 'gabriel': 17633, 'gadget': 17634, 'gaffe': 17635, 'gag': 17636, 'gainesville': 17637, 'gal': 17638, 'gallacher': 17639, 'gallstone': 17640, 'gamal': 17641, 'gambit': 17642, 'gaping': 17643, 'gastric': 17644, 'gauntlet': 17645, 'gazette': 17646, 'gd.n': 17647, 'geared': 17648, 'gecis': 17649, 'gendarmerie': 17650, 'gender': 17651, 'genocidal': 17652, 'georges': 17653, 'ghoul': 17654, 'gilmore': 17655, 'gilmour': 17656, 'girds': 17657, 'giuseppe': 17658, 'glad': 17659, 'glamis': 17660, 'glittering': 17661, 'globo': 17662, 'gloomier': 17663, 'gloves': 17664, 'gods': 17665, 'golds': 17666, 'goliaths': 17667, 'golisano': 17668, 'golkar': 17669, 'golun': 17670, 'gonaves': 17671, 'gopur': 17672, 'gourmet': 17673, 'governed': 17674, 'gp': 17675, 'gpt': 17676, 'graduated': 17677, 'grains': 17678, 'grammys': 17679, 'granth': 17680, 'grapple': 17681, 'grassley': 17682, 'gratitude': 17683, 'graveside': 17684, 'gravest': 17685, 'graveyard': 17686, 'gravity': 17687, 'greeks': 17688, 'greenlight': 17689, 'gregg': 17690, 'gribbles': 17691, 'gridlock': 17692, 'grievance': 17693, 'grinds': 17694, 'groceries': 17695, 'grocers': 17696, 'grounding': 17697, 'groundwork': 17698, 'gt.n': 17699, 'gtw.n': 17700, 'guatemalan': 17701, 'guillermo': 17702, 'gus': 17703, 'gusts': 17704, 'h.j.': 17705, 'haft': 17706, 'haggard': 17707, 'haggle': 17708, 'haidari': 17709, 'haifa': 17710, 'halved': 17711, 'halving': 17712, 'hamad': 17713, 'hamburger': 17714, 'hammering': 17715, 'handoff': 17716, 'handshake': 17717, 'handsome': 17718, 'hangover': 17719, 'harbouring': 17720, 'hardening': 17721, 'hardliner': 17722, 'hari': 17723, 'harkin': 17724, 'harrington': 17725, 'harrisburg': 17726, 'harshly': 17727, 'hartz': 17728, 'harymurti': 17729, 'hasty': 17730, 'hauler': 17731, 'hazard': 17732, 'hd': 17733, 'headaches': 17734, 'headquartered': 17735, 'hedges': 17736, 'hedging': 17737, 'height=\"1': 17738, 'heiress': 17739, 'heist': 17740, 'hells': 17741, 'helpful': 17742, 'hen': 17743, 'henley': 17744, 'heralding': 17745, 'herbert': 17746, 'heroes': 17747, 'herzliya': 17748, 'hesitant': 17749, 'hhs': 17750, 'hibbett': 17751, 'hiccup': 17752, 'hih': 17753, 'hijackings': 17754, 'hilt': 17755, 'hindi': 17756, 'hindus': 17757, 'homers': 17758, 'hon': 17759, 'honduras': 17760, 'hone': 17761, 'honesty': 17762, 'hook': 17763, 'hookes': 17764, 'hooters': 17765, 'hordes': 17766, 'horne': 17767, 'horrible': 17768, 'horrifying': 17769, 'hose': 17770, 'hospice': 17771, 'hounded': 17772, 'howards': 17773, 'href=\"http://ad.doubleclick.net': 17774, 'huddle': 17775, 'hug': 17776, 'hugged': 17777, 'humbled': 17778, 'humvees': 17779, 'hurriedly': 17780, 'hyde': 17781, 'iberia': 17782, 'iboa': 17783, 'icelandic': 17784, 'idema': 17785, 'ideology': 17786, 'idg.us.ifw.general': 17787, 'ig': 17788, 'illicitly': 17789, 'illustrated': 17790, 'imagery': 17791, 'imbecile': 17792, 'imcl': 17793, 'imcl.o': 17794, 'immense': 17795, 'immucor': 17796, 'impaired': 17797, 'impartial': 17798, 'impassioned': 17799, 'impeachment': 17800, 'impede': 17801, 'imperil': 17802, 'impression': 17803, 'in\\\\october': 17804, 'incitec': 17805, 'incited': 17806, 'incorrectly': 17807, 'incursions': 17808, 'independently': 17809, 'indicative': 17810, 'indigenously': 17811, 'indira': 17812, 'industrie': 17813, 'infect': 17814, 'infections': 17815, 'infertile': 17816, 'inflow': 17817, 'infusion': 17818, 'inhumane': 17819, 'innovations': 17820, 'inovis': 17821, 'inquest': 17822, 'ins': 17823, 'inspects': 17824, 'installing': 17825, 'instructed': 17826, 'instructions': 17827, 'instructors': 17828, 'insulting': 17829, 'integrating': 17830, 'intentional': 17831, 'interaction': 17832, 'interiors': 17833, 'intermediaries': 17834, 'interpreted': 17835, 'intuit': 17836, 'inviting': 17837, 'invoices': 17838, 'invoke': 17839, 'invokes': 17840, 'inward': 17841, 'ionics': 17842, 'ipods': 17843, 'irked': 17844, 'irony': 17845, 'isolating': 17846, 'isp': 17847, 'ivax': 17848, 'izvestia': 17849, 'j.m.': 17850, 'jacobs': 17851, 'jaime': 17852, 'jaish': 17853, 'jakks': 17854, 'jalal': 17855, 'jamdat': 17856, 'jamie': 17857, 'jane': 17858, 'jara': 17859, 'jasc': 17860, 'jb': 17861, 'jblu.o': 17862, 'jci.n': 17863, 'jcp.n': 17864, 'jds': 17865, 'jeeves': 17866, 'jefferies': 17867, 'jenna': 17868, 'jermain': 17869, 'jerzy': 17870, 'jessica': 17871, 'jeweler': 17872, 'jfk': 17873, 'jidda': 17874, 'jilted': 17875, 'jjb': 17876, 'jo': 17877, 'jolt': 17878, 'jones)--a': 17879, 'jones)--air': 17880, 'jones)--hong': 17881, 'jordans': 17882, 'jostling': 17883, 'joyous': 17884, 'jpm': 17885, 'jubilation': 17886, 'judged': 17887, 'judging': 17888, 'juicy': 17889, 'julia': 17890, 'jumpstart': 17891, 'junkies': 17892, 'jurisdiction': 17893, 'justifying': 17894, 'kai': 17895, 'kalbfell': 17896, 'kallis': 17897, 'kalmykia': 17898, 'kan.': 17899, 'kansai': 17900, 'karadzic': 17901, 'karami': 17902, 'katerina': 17903, 'kawasaki': 17904, 'kazmir': 17905, 'kcna': 17906, 'kgb': 17907, 'khaleda': 17908, 'khokhar': 17909, 'kibaki': 17910, 'kickback': 17911, 'kidman': 17912, 'kidnapper': 17913, 'kinder': 17914, 'kinds': 17915, 'kippur': 17916, 'klebnikov': 17917, 'kleptocracy': 17918, 'koch': 17919, 'kota': 17920, 'kotak': 17921, 'krishna': 17922, 'kroll': 17923, 'kumble': 17924, 'kwok': 17925, 'kyocera': 17926, 'labeling': 17927, 'labelled': 17928, 'labranche': 17929, 'ladies': 17930, 'landmarks': 17931, 'landstuhl': 17932, 'lapierre': 17933, 'lasted': 17934, 'latvian': 17935, 'laughed': 17936, 'laughing': 17937, 'launcher': 17938, 'layton': 17939, 'leadoff': 17940, 'leaflets': 17941, 'leander': 17942, 'leapfrog': 17943, 'leases': 17944, 'lecture': 17945, 'legalizing': 17946, 'lehmann': 17947, 'leighton': 17948, 'leinart': 17949, 'leland': 17950, 'lends': 17951, 'leniency': 17952, 'lenox': 17953, 'lessen': 17954, 'letup': 17955, 'leveling': 17956, 'licensed': 17957, 'liked': 17958, 'limp': 17959, 'lionore': 17960, 'lipinski': 17961, 'lipitor': 17962, 'liquidated': 17963, 'liquidators': 17964, 'listless': 17965, 'littering': 17966, 'liu': 17967, 'ljubicic': 17968, 'lleyton': 17969, 'loans\\\\rose': 17970, 'log': 17971, 'longhorns': 17972, 'longwell': 17973, 'loophole': 17974, 'loot': 17975, 'lopes': 17976, 'loser': 17977, 'louise': 17978, 'lpg': 17979, 'lt;kmrt.o&gt': 17980, 'lu': 17981, 'lyne': 17982, 'lynne': 17983, 'm.t.a.': 17984, 'maasai': 17985, 'macaulay': 17986, 'maccentral': 17987, 'machete': 17988, 'macrovision': 17989, 'madden': 17990, 'magnificent': 17991, 'mahindra': 17992, 'mahotsav': 17993, 'mailing': 17994, 'maimed': 17995, 'maktoum': 17996, 'malaysias': 17997, 'maligned': 17998, 'malnourished': 17999, 'manar': 18000, 'mandalay': 18001, 'mandates': 18002, 'mandil': 18003, 'manhasset': 18004, 'manslaughter': 18005, 'manulife': 18006, 'maputo': 18007, 'marc': 18008, 'marginal': 18009, 'mariners': 18010, 'marketers': 18011, 'markey&lt;/p&gt;&lt;p&gt': 18012, 'marlon': 18013, 'mart\\\\stores': 18014, 'martyr': 18015, 'marvel': 18016, 'marvin': 18017, 'marysville': 18018, 'mashaal': 18019, 'masnet': 18020, 'masses': 18021, 'masts': 18022, 'matchup': 18023, 'matsui': 18024, 'maturity': 18025, 'mauled': 18026, 'maxwell': 18027, 'mayan': 18028, 'mcewen': 18029, 'mcip.o': 18030, 'mcnealy': 18031, 'mcqueen': 18032, 'meager': 18033, 'meagre': 18034, 'meaningless': 18035, 'mechanic': 18036, 'mechanism': 18037, 'med': 18038, 'medic': 18039, 'mehsud': 18040, 'melvin': 18041, 'memorabilia': 18042, 'menatep': 18043, 'mending': 18044, 'menopause': 18045, 'mens': 18046, 'mesa': 18047, 'mesh': 18048, 'metall': 18049, 'meteorologists': 18050, 'mfs': 18051, 'mgm.n': 18052, 'mi': 18053, 'michelle': 18054, 'microscope': 18055, 'mid-': 18056, 'midfielder': 18057, 'midlevel': 18058, 'milburn': 18059, 'milf': 18060, 'miloevic': 18061, 'minibus': 18062, 'minimize': 18063, 'miraculously': 18064, 'miramax': 18065, 'mirrored': 18066, 'mirrors': 18067, 'mismanagement': 18068, 'misrepresenting': 18069, 'mistook': 18070, 'mistrust': 18071, 'mit': 18072, 'mk': 18073, 'mlb': 18074, 'mo': 18075, 'mobile-': 18076, 'mobiles': 18077, 'mobilize': 18078, 'mobsters': 18079, 'mocking': 18080, 'mocks': 18081, 'modem': 18082, 'modernize': 18083, 'mohawk': 18084, 'monitored': 18085, 'monterrey': 18086, 'monuments': 18087, 'moolen': 18088, 'moonlight': 18089, 'moratorium': 18090, 'morgue': 18091, 'motorcade': 18092, 'motorist': 18093, 'mountainside': 18094, 'mpc': 18095, 'mpi': 18096, 'mri': 18097, 'mrs.': 18098, 'mts': 18099, 'mudslide': 18100, 'mujahid': 18101, 'munabao': 18102, 'muralitharan': 18103, 'mushrooming': 18104, 'mussina': 18105, 'mwai': 18106, 'myl.n': 18107, 'n.zealand': 18108, 'nancy': 18109, 'napster': 18110, 'nasal': 18111, 'nationalize': 18112, 'naturally': 18113, 'navigate': 18114, 'navigation': 18115, 'nearsightedness': 18116, 'needing': 18117, 'nemesis': 18118, 'nervousness': 18119, 'newall': 18120, 'newark': 18121, 'newcastle': 18122, 'next\\\\week': 18123, 'nextcard': 18124, 'ng': 18125, 'nicaraguan': 18126, 'nightclubs': 18127, 'nikon': 18128, 'nil': 18129, 'nineteen': 18130, 'nm': 18131, 'no.2': 18132, 'noah': 18133, 'nobels': 18134, 'noel': 18135, 'nominates': 18136, 'nonprofits': 18137, 'noose': 18138, 'northland': 18139, 'norton': 18140, 'nosed': 18141, 'noses': 18142, 'nostalgia': 18143, 'notched': 18144, 'noticeable': 18145, 'notification': 18146, 'notting': 18147, 'novelist': 18148, 'novl': 18149, 'novl.o': 18150, 'npd': 18151, 'nri': 18152, 'nsw': 18153, 'nucor': 18154, 'nudges': 18155, 'nullify': 18156, 'nursultan': 18157, 'nut': 18158, 'nws': 18159, 'obelisk': 18160, 'obliged': 18161, 'obscured': 18162, 'obsession': 18163, 'occurring': 18164, 'odeon': 18165, 'of\\\\its': 18166, 'offender': 18167, 'offending': 18168, 'officials\\\\said': 18169, 'offing': 18170, 'offshoring': 18171, 'okays': 18172, 'oliver': 18173, 'olympia': 18174, 'omaha': 18175, 'on\\\\the': 18176, 'ono': 18177, 'onward': 18178, 'openly': 18179, 'oppn': 18180, 'oppression': 18181, 'opted': 18182, 'optical': 18183, 'oraclesoft': 18184, 'orascom': 18185, 'ordinance': 18186, 'ore.': 18187, 'organizational': 18188, 'orica': 18189, 'orin': 18190, 'otmar': 18191, 'ouagadougou': 18192, 'outburst': 18193, 'outdoors': 18194, 'outfits': 18195, 'outlining': 18196, 'outpacing': 18197, 'outperformed': 18198, 'outperforming': 18199, 'outreach': 18200, 'overcapacity': 18201, 'overhauled': 18202, 'overheated': 18203, 'overpowered': 18204, 'overtake': 18205, 'overwhelm': 18206, 'owing': 18207, 'oxygen': 18208, 'p.m': 18209, 'p2pnet.net': 18210, 'pacifism': 18211, 'packaged': 18212, 'packers': 18213, 'packs': 18214, 'pacs': 18215, 'painstaking': 18216, 'palaces': 18217, 'panamanian': 18218, 'pancreatitis': 18219, 'pandas': 18220, 'pandemonium': 18221, 'panicked': 18222, 'paprika': 18223, 'parades': 18224, 'paraguay': 18225, 'parallels': 18226, 'parole': 18227, 'parry': 18228, 'parting': 18229, 'partisans': 18230, 'passwords': 18231, 'patches': 18232, 'patchwork': 18233, 'paternal': 18234, 'pathan': 18235, 'pathology': 18236, 'paths': 18237, 'patrons': 18238, 'paula': 18239, 'pauses': 18240, 'pawn': 18241, 'pbs': 18242, 'pdf': 18243, 'peacemaker': 18244, 'peanut': 18245, 'pearlstein': 18246, 'peasant': 18247, 'peasants': 18248, 'peculiar': 18249, 'pedal': 18250, 'pedophile': 18251, 'pegged': 18252, 'penetrate': 18253, 'pennant': 18254, 'pensioners': 18255, 'peoplesofts': 18256, 'percent\\\\by': 18257, 'performer': 18258, 'perils': 18259, 'perished': 18260, 'perked': 18261, 'perpetual': 18262, 'pershing': 18263, 'persuades': 18264, 'pest': 18265, 'petersen': 18266, 'petrocan': 18267, 'peugeot': 18268, 'pg.n': 18269, 'philosophical': 18270, 'phoned': 18271, 'photographing': 18272, 'photomasks': 18273, 'photoshop': 18274, 'phs.n': 18275, 'piano': 18276, 'picker': 18277, 'piercing': 18278, 'pillars': 18279, 'pillows': 18280, 'pilotless': 18281, 'pinar': 18282, 'pinewood': 18283, 'pitted': 18284, 'pixr': 18285, 'pizzas': 18286, 'plagues': 18287, 'plainclothes': 18288, 'plaques': 18289, 'plastics': 18290, 'plate': 18291, 'plates': 18292, 'ploughed': 18293, 'pna': 18294, 'pocketbooks': 18295, 'polluter': 18296, 'polymedica': 18297, 'pondering': 18298, 'ponting': 18299, 'ponzi': 18300, 'poorna': 18301, 'populations': 18302, 'porch': 18303, 'portalplayer': 18304, 'porto': 18305, 'portray': 18306, 'positioning': 18307, 'poso': 18308, 'pottery': 18309, 'powerhouses': 18310, 'practically': 18311, 'pratt': 18312, 'precautions': 18313, 'precincts': 18314, 'preemptive': 18315, 'pregnancy': 18316, 'prepaid': 18317, 'preschoolers': 18318, 'prescribing': 18319, 'preside': 18320, 'presumably': 18321, 'prevailing': 18322, 'preying': 18323, 'priceless': 18324, 'prides': 18325, 'primed': 18326, 'privatise': 18327, 'privatized': 18328, 'processions': 18329, 'prodding': 18330, 'professionally': 18331, 'programing': 18332, 'projecting': 18333, 'promos': 18334, 'pronged': 18335, 'proponents': 18336, 'prosecuted': 18337, 'prostitution': 18338, 'prototype': 18339, 'provident': 18340, 'prowl': 18341, 'pru': 18342, 'psychiatrist': 18343, 'pte': 18344, 'pul': 18345, 'pulpit': 18346, 'pummels': 18347, 'punching': 18348, 'punjab': 18349, 'purged': 18350, 'purses': 18351, 'purveyor': 18352, 'putsch': 18353, 'pwn': 18354, 'pyramids': 18355, 'qbe': 18356, 'quadruples': 18357, 'qualifier': 18358, 'quarterback': 18359, 'query': 18360, 'quicken': 18361, 'quicker': 18362, 'quiznos': 18363, 'quot;as': 18364, 'quot;be': 18365, 'quot;black': 18366, 'quot;cars': 18367, 'quot;chemical': 18368, 'quot;city': 18369, 'quot;clear': 18370, 'quot;encouraging': 18371, 'quot;finding': 18372, 'quot;float': 18373, 'quot;forces': 18374, 'quot;fundamentally': 18375, 'quot;has': 18376, 'quot;high': 18377, 'quot;hold': 18378, 'quot;immediately': 18379, 'quot;important': 18380, 'quot;lost': 18381, 'quot;mr': 18382, 'quot;on': 18383, 'quot;peace': 18384, 'quot;real': 18385, 'quot;robust': 18386, 'quot;rule': 18387, 'quot;self': 18388, 'quot;solid': 18389, 'quot;spider': 18390, 'quot;substantial': 18391, 'quot;success': 18392, 'quot;taiwan': 18393, 'quot;unbalanced': 18394, 'quot;unlikely': 18395, 'quot;update': 18396, 'quot;war': 18397, 'qurie': 18398, 'qxl': 18399, 'rabies': 18400, 'racal': 18401, 'racking': 18402, 'rad.n': 18403, 'radiation': 18404, 'radicalism': 18405, 'rafiq': 18406, 'rahul': 18407, 'rai': 18408, 'raider': 18409, 'rails': 18410, 'rainfall': 18411, 'rainforest': 18412, 'raisers': 18413, 'ram': 18414, 'ranariddh': 18415, 'rancor': 18416, 'ranged': 18417, 'rangoon': 18418, 'rapids': 18419, 'ratchet': 18420, 'rayovac': 18421, 'rcn': 18422, 'readying': 18423, 'realigns': 18424, 'rears': 18425, 'reasserts': 18426, 'recalcitrant': 18427, 'reckless': 18428, 'reckons': 18429, 'reclaimed': 18430, 'recoletos': 18431, 'recounted': 18432, 'recuperating': 18433, 'recurring': 18434, 'recycler': 18435, 'reddy': 18436, 'redistribute': 18437, 'redoubled': 18438, 'redundancies': 18439, 'reef': 18440, 'refit': 18441, 'refocuses': 18442, 'reformer': 18443, 'reformers': 18444, 'refrained': 18445, 'regal': 18446, 'regiments': 18447, 'regulates': 18448, 'reigning': 18449, 'reigniting': 18450, 'reincorporation': 18451, 'reiterate': 18452, 'rejuvenated': 18453, 'relieving': 18454, 'relocated': 18455, 'relocating': 18456, 'remembering': 18457, 'remicade': 18458, 'remotely': 18459, 'rendered': 18460, 'renounced': 18461, 'renovated': 18462, 'renteria': 18463, 'reorganisation': 18464, 'reorganizing': 18465, 'rep': 18466, 'repairing': 18467, 'repayments': 18468, 'repeals': 18469, 'replacements': 18470, 'repossess': 18471, 'repressive': 18472, 'reprisals': 18473, 'reprocessed': 18474, 'resale': 18475, 'reshuffling': 18476, 'resolutions': 18477, 'restarted': 18478, 'restriction': 18479, 'retaining': 18480, 'retaking': 18481, 'retried': 18482, 'reuben': 18483, 'reunited': 18484, 'revisit': 18485, 'revitalize': 18486, 'revitalized': 18487, 'revlon': 18488, 'revved': 18489, 'rheinmetall': 18490, 'riaz': 18491, 'ribbon': 18492, 'richardson': 18493, 'riddling': 18494, 'ridiculous': 18495, 'rightist': 18496, 'riled': 18497, 'rita': 18498, 'riverboat': 18499, 'rivero': 18500, 'roadshows': 18501, 'roamed': 18502, 'roaming': 18503, 'robbing': 18504, 'robotic': 18505, 'rocker': 18506, 'rocking': 18507, 'rockville': 18508, 'rogge': 18509, 'rollovers': 18510, 'rooted': 18511, 'ropes': 18512, 'roses': 18513, 'rossi': 18514, 'rot': 18515, 'rounding': 18516, 'rowan': 18517, 'rubens': 18518, 'ruble': 18519, 'rudolph': 18520, 'rumble': 18521, 'ruth': 18522, 'rv': 18523, 'sacrificed': 18524, 'sacrifices': 18525, 'sad': 18526, 'sada': 18527, 'sadrs': 18528, 'safehouse': 18529, 'said\\\\third': 18530, 'sainsburys': 18531, 'salaam': 18532, 'salesforce.com': 18533, 'salon': 18534, 'saloon': 18535, 'saluted': 18536, 'sampaio': 18537, 'sani': 18538, 'santo': 18539, 'santucci': 18540, 'saxony': 18541, 'sbux': 18542, 'scanning': 18543, 'scent': 18544, 'sch.n': 18545, 'schaumburg': 18546, 'scheduling': 18547, 'schoolteacher': 18548, 'schumer': 18549, 'scorn': 18550, 'scour': 18551, 'scouring': 18552, 'scraped': 18553, 'screened': 18554, 'screws': 18555, 'scrooge': 18556, 'scrutinise': 18557, 'scudder': 18558, 'scuffles': 18559, 'searing': 18560, 'sebastian': 18561, 'sections': 18562, 'seed': 18563, 'seeker': 18564, 'seldom': 18565, 'seminaries': 18566, 'sensation': 18567, 'sensing': 18568, 'sep.': 18569, 'sequence': 18570, 'sequentially': 18571, 'seriousness': 18572, 'sermons': 18573, 'servicing': 18574, 'seventh-': 18575, 'severity': 18576, 'severstal': 18577, 'sewer': 18578, 'sexy': 18579, 'sgw.au': 18580, 'shadowed': 18581, 'shahrukh': 18582, 'shane': 18583, 'sharif': 18584, 'sharpening': 18585, 'shatter': 18586, 'shave': 18587, 'shaved': 18588, 'shaving': 18589, 'shaw': 18590, 'sheds': 18591, 'sheltered': 18592, 'sheltering': 18593, 'sheryl': 18594, \"shi'ites\": 18595, 'shines': 18596, 'shiny': 18597, 'shipyard': 18598, 'shorten': 18599, 'shorter': 18600, 'shouts': 18601, 'showcasing': 18602, 'shr': 18603, 'shrimpers': 18604, 'shrunk': 18605, 'sightings': 18606, 'silly': 18607, 'simonas': 18608, 'sinotrans': 18609, 'size=\"-2\"\\\\': 18610, 'skill': 18611, 'skips': 18612, 'skittish': 18613, 'sla': 18614, 'slander': 18615, 'slapping': 18616, 'slavery': 18617, 'sleeper': 18618, 'slick': 18619, 'slightest': 18620, 'slinging': 18621, 'slippery': 18622, 'slovak': 18623, 'sluggishness': 18624, 'slur': 18625, 'sly': 18626, 'smarting': 18627, 'smeared': 18628, 'smog': 18629, 'smokes': 18630, 'smoothing': 18631, 'sn': 18632, 'snagged': 18633, 'snaked': 18634, 'snatching': 18635, 'sniffing': 18636, 'snyder': 18637, 'someday': 18638, 'sorbara': 18639, 'sorrow': 18640, 'sotheby': 18641, 'sounding': 18642, 'soundness': 18643, 'spanning': 18644, 'spearhead': 18645, 'spearheading': 18646, 'specialized': 18647, 'specializes': 18648, 'specials': 18649, 'spectre': 18650, 'speculate': 18651, 'speculating': 18652, 'spider': 18653, 'spigot': 18654, 'spilling': 18655, 'spirited': 18656, 'splashed': 18657, 'spls.o': 18658, 'spoils': 18659, 'squabbling': 18660, 'squarely': 18661, 'squares': 18662, 'squash': 18663, 'sr': 18664, 'src=\"http://ad.doubleclick.net': 18665, 'stabilised': 18666, 'stacks': 18667, 'stagnates': 18668, 'stakeholder': 18669, 'stakeholders': 18670, 'stalker': 18671, 'stalwarts': 18672, 'staple': 18673, 'staring': 18674, 'staunchest': 18675, 'steelcase': 18676, 'steelworkers': 18677, 'steeply': 18678, 'stepfather': 18679, 'stg': 18680, 'stigma': 18681, 'stimulate': 18682, 'stimulative': 18683, 'sting': 18684, 'stink': 18685, 'stint': 18686, 'stopover': 18687, 'stormier': 18688, 'streamcast': 18689, 'streamlining': 18690, 'strikers': 18691, 'stripes': 18692, 'stripping': 18693, 'strung': 18694, 'submariner': 18695, 'submerged': 18696, 'submerging': 18697, 'subsided': 18698, 'subsidize': 18699, 'substantiate': 18700, 'successes': 18701, 'sucked': 18702, 'suez': 18703, 'suffocate': 18704, 'suffocation': 18705, 'sulfate': 18706, 'superferry': 18707, 'superstores': 18708, 'supervisors': 18709, 'supg.o': 18710, 'suppressing': 18711, 'suse': 18712, 'sven': 18713, 'swallowing': 18714, 'swam': 18715, 'swanepoel': 18716, 'swastika': 18717, 'swaths': 18718, 'swayed': 18719, 'sweat': 18720, 'sweetening': 18721, 'sweetens': 18722, 'sweltering': 18723, 'sylhet': 18724, 'sympathetic': 18725, 'sympathisers': 18726, 'systematically': 18727, 'tabcorp': 18728, 'tabloids': 18729, 'taboo': 18730, 'taco': 18731, 'tactical': 18732, 'tajik': 18733, 'talbots': 18734, 'talkie': 18735, 'taller': 18736, 'tamest': 18737, 'tantamount': 18738, 'taoiseach': 18739, 'tareq': 18740, 'tat': 18741, 'taunts': 18742, 'tauzin': 18743, 'taxable': 18744, 'tbi': 18745, 'teammate': 18746, 'techies': 18747, 'technically': 18748, 'technique': 18749, 'techtarget': 18750, 'teetering': 18751, 'telecast': 18752, 'telecommunication': 18753, 'telemarketer': 18754, 'tellers': 18755, 'tempers': 18756, 'temples': 18757, 'teng': 18758, 'terminating': 18759, 'terming': 18760, 'terrain': 18761, 'thanking': 18762, 'thanou': 18763, 'thayer': 18764, 'the\\\\two': 18765, 'the\\\\wall': 18766, 'theaters': 18767, 'theatre': 18768, 'theodore': 18769, 'thinned': 18770, 'thirsty': 18771, 'thorpedo': 18772, 'thrive': 18773, 'throng': 18774, 'thune': 18775, 'thursday\\\\it': 18776, 'thyssenkrupp': 18777, 'tibetans': 18778, 'ticketing': 18779, 'tijuana': 18780, 'timer': 18781, 'tirade': 18782, 'tiring': 18783, 'tit': 18784, 'tmm': 18785, 'tnk': 18786, 'todays': 18787, 'toilets': 18788, 'tompor': 18789, 'ton': 18790, 'toned': 18791, 'tonne': 18792, 'topnews': 18793, 'toppan': 18794, 'torpedo': 18795, 'totalling': 18796, 'touchdowns': 18797, 'towering': 18798, 'tragedies': 18799, 'trailers': 18800, 'tranche': 18801, 'translates': 18802, 'transmit': 18803, 'transmitted': 18804, 'transporting': 18805, 'trappings': 18806, 'traumatised': 18807, 'traveler': 18808, 'travis': 18809, 'treads': 18810, 'tribunals': 18811, 'trickle': 18812, 'trilogy': 18813, 'trophies': 18814, 'troupe': 18815, 'trumping': 18816, 'trustworthy': 18817, 'tuc': 18818, 'tuesday\\\\said': 18819, 'tuesdays': 18820, 'tumor': 18821, 'tumours': 18822, 'tuning': 18823, 'turkmen': 18824, 'tutu': 18825, 'tw': 18826, 'twentieth': 18827, 'tyc.n': 18828, 'tycoons': 18829, 'tyres': 18830, 'u.n.\\\\security': 18831, 'u.s.\\\\forces': 18832, 'uairq.oq': 18833, 'ualaq': 18834, 'uc': 18835, 'ullman': 18836, 'una': 18837, 'unaccounted': 18838, 'unannounced': 18839, 'unanticipated': 18840, 'unaware': 18841, 'unconscious': 18842, 'uncovering': 18843, 'uncovers': 18844, 'undersea': 18845, 'underwater': 18846, 'undo': 18847, 'unethical': 18848, 'unfavorable': 18849, 'unhealthy': 18850, 'uninterrupted': 18851, 'uniphase': 18852, 'unitedhealthcare': 18853, 'univ': 18854, 'universe': 18855, 'unjustified': 18856, 'unleashes': 18857, 'unleashing': 18858, 'unnerved': 18859, 'unorthodox': 18860, 'unravel': 18861, 'unraveled': 18862, 'unreliable': 18863, 'unsealed': 18864, 'unseasonably': 18865, 'unseen': 18866, 'unsuccessful': 18867, 'unwound': 18868, 'upmarket': 18869, 'ups.n': 18870, 'upsetting': 18871, 'uranium\\\\enrichment': 18872, 'us\\\\$550': 18873, 'ushering': 18874, 'utterly': 18875, 'vac': 18876, 'vaguely': 18877, 'valor': 18878, 'vaulted': 18879, 'vaunted': 18880, 'velvet': 18881, 'venice': 18882, 'venturing': 18883, 'venus': 18884, 'verification': 18885, 'vermont': 18886, 'vest': 18887, 'vibrator': 18888, 'viewpoints': 18889, 'vince': 18890, 'vintner': 18891, 'vizcaya': 18892, 'vladimir\\\\putin': 18893, 'voyage': 18894, 'vrts.o': 18895, 'vu': 18896, 'vying': 18897, 'waded': 18898, 'wafer': 18899, 'wailing': 18900, 'walkie': 18901, 'walkouts': 18902, 'walter': 18903, 'wardrobe': 18904, 'warehouses': 18905, 'warplane': 18906, 'warranted': 18907, 'warrior': 18908, 'warship': 18909, 'wastes': 18910, 'watered': 18911, 'waterway': 18912, 'wavered': 18913, 'wb': 18914, 'weaknesses': 18915, 'wears': 18916, 'weds': 18917, 'weighted': 18918, 'weinstein': 18919, 'wenger': 18920, 'wept': 18921, 'westlb': 18922, 'westmoreland': 18923, 'westport': 18924, 'whacked': 18925, 'whammy': 18926, 'whirlwind': 18927, 'whitehall': 18928, 'wholly': 18929, 'wicked': 18930, 'width=\"1': 18931, 'wifi': 18932, 'wiggle': 18933, 'wildly': 18934, 'wilted': 18935, 'wimbledon': 18936, 'windhoek': 18937, 'winnie': 18938, 'wipro': 18939, 'wiretapping': 18940, 'wishing': 18941, 'wlp.n': 18942, 'wmb.n': 18943, 'wmr.au': 18944, 'wolfgang': 18945, 'wolfowitz': 18946, 'womb': 18947, 'wonders': 18948, 'worcester': 18949, 'worded': 18950, 'wordsworth': 18951, 'workweek': 18952, 'worms': 18953, 'wpp.l': 18954, 'wreaks': 18955, 'wrestle': 18956, 'wrestled': 18957, 'wrinkle': 18958, 'wrongdoers': 18959, 'wrongfully': 18960, 'wsm.n': 18961, 'x86': 18962, 'xinjiang': 18963, 'xta.ln': 18964, 'yanked': 18965, 'yaser': 18966, 'yassin': 18967, 'yasukuni': 18968, 'yesterdays': 18969, 'yielding': 18970, 'yom': 18971, 'yoshinori': 18972, 'yourself': 18973, 'yrs': 18974, 'yucatan': 18975, 'yury': 18976, 'yves': 18977, 'zeal': 18978, 'zell': 18979, 'zew': 18980, 'zhukov': 18981, 'zogby': 18982, 'zte': 18983, \"'em\": 18984, '-2': 18985, '-agencies': 18986, '-agency': 18987, '-diplomats': 18988, '-u.n.': 18989, '-watchdog': 18990, '-xinhua': 18991, '0.26': 18992, '0.2pc': 18993, '0.37': 18994, '0.54': 18995, '0.58': 18996, '1,000th': 18997, '1,700': 18998, '1-argentina': 18999, '1-citigroup': 19000, '1-fed': 19001, '1-month': 19002, '1-s': 19003, '1-sec': 19004, '1-trump': 19005, '1-united': 19006, '1.025': 19007, '1.03': 19008, '1.15': 19009, '1.16': 19010, '1.21': 19011, '1.30': 19012, '1.32': 19013, '1.56': 19014, '1.6bn': 19015, '1.84': 19016, '1.86': 19017, '1.8bn': 19018, '10,8': 19019, '10-percent': 19020, '10.7': 19021, '10.9': 19022, '108': 19023, '1100': 19024, '112.81': 19025, '117': 19026, '119': 19027, '12-country': 19028, '12-member': 19029, '12-month': 19030, '12.1': 19031, '121': 19032, '122': 19033, '125,000': 19034, '13-percent': 19035, '13.4': 19036, '130,000': 19037, '136': 19038, '14.7': 19039, '147': 19040, '149': 19041, '15-month': 19042, '150th': 19043, '154': 19044, '1559': 19045, '160,000': 19046, '160-mph': 19047, '164': 19048, '169': 19049, '18.5': 19050, '19-day': 19051, '19-month': 19052, '1901': 19053, '191-member': 19054, '193': 19055, '1933': 19056, '1938': 19057, '1947': 19058, '1953': 19059, '1955': 19060, '1960': 19061, '1966': 19062, '2-fed': 19063, '2-greenspan': 19064, '2.26': 19065, '2.2bn': 19066, '2.50': 19067, '2.78': 19068, '20.5': 19069, '2016': 19070, '203': 19071, '204': 19072, '208': 19073, '20bn': 19074, '217': 19075, '220': 19076, '23,000': 19077, '230.5': 19078, '25-member': 19079, '25.76': 19080, '254': 19081, '29-month': 19082, '2d': 19083, '3,100': 19084, '3,200': 19085, '3-us': 19086, '3-week': 19087, '3.2': 19088, '3.65': 19089, '30-member': 19090, '30-month': 19091, '300-year': 19092, '308': 19093, '32.5': 19094, '323,000': 19095, '332': 19096, '338': 19097, '35-nation': 19098, '35-year': 19099, '36-year': 19100, '36;1.1': 19101, '36;1.2': 19102, '36;1.31': 19103, '36;1.6': 19104, '36;120': 19105, '36;160': 19106, '36;24': 19107, '36;260': 19108, '36;3.5': 19109, '36;30': 19110, '36;42': 19111, '36;450': 19112, '36;48': 19113, '36;500,000': 19114, '36;8.9': 19115, '36;800': 19116, '37,000': 19117, '37,000-person': 19118, '375': 19119, '376': 19120, '38th': 19121, '39;alene': 19122, '39;alon': 19123, '39;ashir': 19124, '39;can': 19125, '39;coup': 19126, '39;death': 19127, '39;genocide': 19128, '39;green': 19129, '39;hoy': 19130, '39;hundreds': 19131, '39;ida': 19132, '39;kills': 19133, '39;mercenary': 19134, '39;miracle': 19135, '39;old': 19136, '39;poison': 19137, '39;red': 19138, '39;reilly': 19139, '39;right': 19140, '39;set': 19141, '39;spy': 19142, '39;strong': 19143, '39;suicide': 19144, '39;terrorist': 19145, '39;too': 19146, '39;without': 19147, '3bn': 19148, '4-week': 19149, '401(k)s': 19150, '410': 19151, '43-year': 19152, '44-year': 19153, '4863.ku': 19154, '4:00': 19155, '4:30': 19156, '5,070': 19157, '5-mile': 19158, '5.0': 19159, '527': 19160, '53-month': 19161, '55-year': 19162, '6.0-magnitude': 19163, '6.7': 19164, '6.9': 19165, '6000': 19166, '62,000': 19167, '650,000': 19168, '691': 19169, '7,500': 19170, '700th': 19171, '70th': 19172, '711': 19173, '72-year': 19174, '740': 19175, '743': 19176, '75,000': 19177, '76.8': 19178, '8,000-mile': 19179, '8,300': 19180, '8-week': 19181, '8.6': 19182, '8.75': 19183, '80s': 19184, '820': 19185, '825': 19186, '837': 19187, '840': 19188, '88-year': 19189, '8bn': 19190, '9.6': 19191, '900,000': 19192, '957': 19193, '9:02': 19194, '\\\\$0': 19195, '\\\\$1.02': 19196, '\\\\$1.07bn': 19197, '\\\\$1.1-billion': 19198, '\\\\$1.125': 19199, '\\\\$1.33': 19200, '\\\\$1.52': 19201, '\\\\$1.53': 19202, '\\\\$1.8bn': 19203, '\\\\$1.92': 19204, '\\\\$10.4': 19205, '\\\\$100.01': 19206, '\\\\$112.5': 19207, '\\\\$12.5': 19208, '\\\\$12.6': 19209, '\\\\$12.8': 19210, '\\\\$13.7': 19211, '\\\\$138': 19212, '\\\\$13bn': 19213, '\\\\$149': 19214, '\\\\$151': 19215, '\\\\$156': 19216, '\\\\$157': 19217, '\\\\$16.4': 19218, '\\\\$163': 19219, '\\\\$164.71': 19220, '\\\\$167': 19221, '\\\\$17.5': 19222, '\\\\$170': 19223, '\\\\$175': 19224, '\\\\$18.4': 19225, '\\\\$19.7': 19226, '\\\\$19.95': 19227, '\\\\$191': 19228, '\\\\$2.01': 19229, '\\\\$2.49': 19230, '\\\\$200,000': 19231, '\\\\$208': 19232, '\\\\$21-per': 19233, '\\\\$21.3': 19234, '\\\\$219': 19235, '\\\\$25,000': 19236, '\\\\$25.1': 19237, '\\\\$25.4bn': 19238, '\\\\$274': 19239, '\\\\$277': 19240, '\\\\$285': 19241, '\\\\$3.75': 19242, '\\\\$316': 19243, '\\\\$32': 19244, '\\\\$330': 19245, '\\\\$381': 19246, '\\\\$390': 19247, '\\\\$4.7': 19248, '\\\\$4.8': 19249, '\\\\$4.9': 19250, '\\\\$40,000': 19251, '\\\\$445': 19252, '\\\\$456': 19253, '\\\\$475': 19254, '\\\\$476': 19255, '\\\\$49.1': 19256, '\\\\$4b': 19257, '\\\\$5.2': 19258, '\\\\$5.38': 19259, '\\\\$5.5bn': 19260, '\\\\$5.8bn': 19261, '\\\\$50,000': 19262, '\\\\$509': 19263, '\\\\$516': 19264, '\\\\$52.2': 19265, '\\\\$55-a': 19266, '\\\\$55.33': 19267, '\\\\$578': 19268, '\\\\$579': 19269, '\\\\$660': 19270, '\\\\$665': 19271, '\\\\$675': 19272, '\\\\$6bn': 19273, '\\\\$7.3': 19274, '\\\\$7.7bn': 19275, '\\\\$70bn': 19276, '\\\\$71': 19277, '\\\\$77': 19278, '\\\\$782': 19279, '\\\\$8.1bn': 19280, '\\\\$8.2': 19281, '\\\\$8.5': 19282, '\\\\$8.6': 19283, '\\\\$81': 19284, '\\\\$85-\\\\$95': 19285, '\\\\$87': 19286, '\\\\$897': 19287, '\\\\$8bn': 19288, '\\\\$9.5': 19289, '\\\\$9.7': 19290, '\\\\$90,000': 19291, '\\\\$980': 19292, '\\\\$us154': 19293, '\\\\$us7.7': 19294, '\\\\an': 19295, '\\\\china': 19296, '\\\\fell': 19297, '\\\\on': 19298, 'a.i.g.': 19299, 'a2': 19300, 'a9': 19301, 'a\\\\$130': 19302, 'a\\\\$825': 19303, 'a\\\\$846': 19304, 'a\\\\day': 19305, 'a\\\\higher': 19306, 'a\\\\palestinian': 19307, 'a\\\\parliamentary': 19308, 'a\\\\report': 19309, 'a\\\\reuters': 19310, 'aa\\\\$7.4': 19311, 'abdicating': 19312, 'abetting': 19313, 'abidine': 19314, 'abiomed': 19315, 'abreast': 19316, 'absolutely': 19317, 'absolved': 19318, 'abul': 19319, 'abyss': 19320, 'ac': 19321, 'ac-130': 19322, 'acceleration': 19323, 'accomplice': 19324, 'accoona': 19325, 'accustomed': 19326, 'aci.n': 19327, 'aclu': 19328, 'acne': 19329, 'actu': 19330, 'adamantly': 19331, 'adapter': 19332, 'adapting': 19333, 'additions': 19334, 'adjournment': 19335, 'adjustments': 19336, 'admonished': 19337, 'adoring': 19338, 'adtranz': 19339, 'advantages': 19340, 'adversaries': 19341, 'advertised': 19342, 'advertisement': 19343, 'adwords': 19344, 'aegean': 19345, 'aet.n': 19346, 'affleck': 19347, 'afflicting': 19348, 'africas': 19349, 'aftab': 19350, 'aga': 19351, 'againt': 19352, 'agilent': 19353, 'ah': 19354, 'ak': 19355, 'ala': 19356, 'alamosa': 19357, 'alaskan': 19358, 'alaskans': 19359, 'albright': 19360, 'alcoholic': 19361, 'algirdas': 19362, 'aliant': 19363, 'alice': 19364, 'alien': 19365, 'alight': 19366, 'aligning': 19367, 'allayed': 19368, 'alleviating': 19369, 'allowance': 19370, 'aloud': 19371, 'alpa': 19372, 'alps': 19373, 'alstom': 19374, 'altitude': 19375, 'alton': 19376, 'amami': 19377, 'amat': 19378, 'amateur': 19379, 'ambrosia': 19380, 'amcc': 19381, 'ameren': 19382, 'amok': 19383, 'amritsar': 19384, 'ams': 19385, 'an\\\\official': 19386, 'anaheim': 19387, 'analogic': 19388, 'analyse': 19389, 'analyzed': 19390, 'analyzing': 19391, 'anarchists': 19392, 'anchorage': 19393, 'anchored': 19394, 'anchors': 19395, 'andamans': 19396, 'andes': 19397, 'andi': 19398, 'andrei': 19399, 'andres': 19400, 'anecdotal': 19401, 'anemia': 19402, 'angioplasty': 19403, 'angola': 19404, 'angus': 19405, 'animosity': 19406, 'annette': 19407, 'annul': 19408, 'annulling': 19409, 'anomaly': 19410, 'ansari': 19411, 'anschutz': 19412, 'ante': 19413, 'antidumping': 19414, 'antimissile': 19415, 'aphc': 19416, 'api': 19417, 'appease': 19418, 'appointees': 19419, 'appraisal': 19420, 'appraised': 19421, 'apprehend': 19422, 'appropriations': 19423, 'apps': 19424, 'apr': 19425, 'arabias': 19426, 'arachnids': 19427, 'arbour': 19428, 'arduous': 19429, 'are\\\\expected': 19430, 'arenas': 19431, 'argentinian': 19432, 'arguably': 19433, 'arkansans': 19434, 'armaments': 19435, 'armin': 19436, 'arnold\\\\schwarzenegger': 19437, 'arrogant': 19438, 'as\\\\a': 19439, 'as\\\\investors': 19440, 'ascended': 19441, 'ascends': 19442, 'ascertain': 19443, 'asefi': 19444, 'asleep': 19445, 'aspiration': 19446, 'aspirin': 19447, 'assail': 19448, 'assertions': 19449, 'assumes': 19450, 'astonishing': 19451, 'astonishment': 19452, 'astounded': 19453, 'ath.n': 19454, 'athabasca': 19455, 'athos': 19456, 'att': 19457, 'atta': 19458, 'attach': 19459, 'attaching': 19460, 'audited': 19461, 'australasia': 19462, 'authorises': 19463, 'autopsy': 19464, 'avenues': 19465, 'averages': 19466, 'averts': 19467, 'awakes': 19468, 'awhile': 19469, 'awol': 19470, 'axum': 19471, 'az': 19472, 'azerbaijan': 19473, 'azores': 19474, 'azpia': 19475, 'bachelorette': 19476, 'backbone': 19477, 'backdoor': 19478, 'backfire': 19479, 'baffling': 19480, 'baghad': 19481, 'bai1.fse': 19482, 'bakr': 19483, 'balks': 19484, 'ballpoint': 19485, 'bancgroup': 19486, 'bandanna': 19487, 'bangladeshis': 19488, 'banja': 19489, 'banked': 19490, 'bankrate': 19491, 'bankroll': 19492, 'baotou': 19493, 'baptist': 19494, 'barack': 19495, 'barbed': 19496, 'barbuda': 19497, 'barefoot': 19498, 'bares': 19499, 'bargainers': 19500, 'barged': 19501, 'barings': 19502, 'barkley': 19503, 'baru': 19504, 'bash': 19505, 'basically': 19506, 'basket': 19507, 'batasuna': 19508, 'batista': 19509, 'batons': 19510, 'battalions': 19511, 'batting': 19512, 'battista': 19513, 'battlegroup': 19514, 'baulk': 19515, 'bavaria': 19516, 'baying': 19517, 'bby.n': 19518, 'bcb.to': 19519, 'beamed': 19520, 'beaming': 19521, 'beara': 19522, 'beatifying': 19523, 'beatty': 19524, 'beaujolais': 19525, 'beccan': 19526, 'bechtel': 19527, 'bedded': 19528, 'bedrock': 19529, 'bedroom': 19530, 'beefing': 19531, 'begging': 19532, 'beheads': 19533, 'bel': 19534, 'belarusians': 19535, 'belated': 19536, 'bell-': 19537, 'bellhops': 19538, 'belly': 19539, 'benetton': 19540, 'bengal': 19541, 'benitez': 19542, 'benson': 19543, 'bereaved': 19544, 'beret': 19545, 'bergstrom': 19546, 'besiege': 19547, 'bestow': 19548, 'bestsellers': 19549, 'beta': 19550, 'betrayal': 19551, 'betrayed': 19552, 'bettered': 19553, 'bfb': 19554, 'bhubaneshwar': 19555, 'bhupathi': 19556, 'bic': 19557, 'bijan': 19558, 'billboards': 19559, 'billerica': 19560, 'billowing': 19561, 'binge': 19562, 'binoculars': 19563, 'biodiversity': 19564, 'biographers': 19565, 'biologists': 19566, 'bistro': 19567, 'bitterness': 19568, 'bittersweet': 19569, 'bj.n': 19570, 'blackmail': 19571, 'blasphemy': 19572, 'blazes': 19573, 'blessed': 19574, 'blesses': 19575, 'blinding': 19576, 'bling': 19577, 'blip': 19578, 'bloomington': 19579, 'blossoms': 19580, 'bls': 19581, 'bluegene': 19582, 'blurs': 19583, 'bmy': 19584, 'bnk.n': 19585, 'boardrooms': 19586, 'bobbed': 19587, 'bodes': 19588, 'bodied': 19589, 'bodo': 19590, 'boisterous': 19591, 'boldly': 19592, 'bolivians': 19593, 'boos': 19594, 'booster': 19595, 'booze': 19596, 'borcz': 19597, 'borse': 19598, 'bose': 19599, 'bothell': 19600, 'botin': 19601, 'bottlenose': 19602, 'boudreaux': 19603, 'bouncer': 19604, 'bountiful': 19605, 'bovine': 19606, 'bra': 19607, 'bragg': 19608, 'braked': 19609, 'brampton': 19610, 'brasil': 19611, 'brazauskas': 19612, 'breaker': 19613, 'breakout': 19614, 'breakwater': 19615, 'bred': 19616, 'brews': 19617, 'bridgeway': 19618, 'briefings': 19619, 'briggs': 19620, 'brighten': 19621, 'brightening': 19622, 'briskly': 19623, 'britney': 19624, 'brka': 19625, 'broadbandaccess': 19626, 'brocade': 19627, 'broking': 19628, 'bromwich': 19629, 'bronner': 19630, 'bronx': 19631, 'brookfield': 19632, 'bros.': 19633, 'brothel': 19634, 'brotherhood': 19635, 'bruised': 19636, 'bse': 19637, 'budanov': 19638, 'budd': 19639, 'buddy': 19640, 'budge': 19641, 'budgetary': 19642, 'bugs': 19643, 'bukavu': 19644, 'bulldozer': 19645, 'bulletins': 19646, 'bumps': 19647, 'bunbury': 19648, 'bundled': 19649, 'bunkers': 19650, 'burdened': 19651, 'bureaucratic': 19652, 'burgos': 19653, 'burials': 19654, 'burnaby': 19655, 'burner': 19656, 'burst.com': 19657, 'bush\\\\administration': 19658, 'bushs': 19659, 'bustle': 19660, 'bustos': 19661, 'by\\\\a': 19662, 'by\\\\the': 19663, 'bypassed': 19664, 'byproduct': 19665, 'c-130': 19666, 'c-17': 19667, 'c2': 19668, 'c\\\\$1.1': 19669, 'cab': 19670, 'cadets': 19671, 'cadres': 19672, 'caetano': 19673, 'caffeinated': 19674, 'caged': 19675, 'cairns': 19676, 'calculation': 19677, 'calif.-based': 19678, 'californias': 19679, 'caliph': 19680, 'calmed': 19681, 'calmly': 19682, 'camel': 19683, 'camouflage': 19684, 'camus': 19685, 'canadas': 19686, 'canals': 19687, 'cancellations': 19688, 'capacities': 19689, 'capitalisation': 19690, 'capitalizing': 19691, 'capitalsource': 19692, 'cardboard': 19693, 'cardiff': 19694, 'careening': 19695, 'careplus': 19696, 'carol': 19697, 'carson': 19698, 'cart': 19699, 'carte': 19700, 'cartels': 19701, 'cartridges': 19702, 'cashed': 19703, 'cashiers': 19704, 'caskets': 19705, 'categorically': 19706, 'catering': 19707, 'catheter': 19708, 'catwalk': 19709, 'cautioning': 19710, 'caves': 19711, 'cbo': 19712, 'ccu': 19713, 'cd.n': 19714, 'ceases': 19715, 'cebu': 19716, 'cede': 19717, 'censors': 19718, 'centerpiece': 19719, 'centrale': 19720, 'centric': 19721, 'ceplene': 19722, 'ceramic': 19723, 'certification': 19724, 'cesare': 19725, 'cfos': 19726, 'chanel': 19727, 'changchun': 19728, 'changi': 19729, 'chants': 19730, 'charcoal': 19731, 'charterhouse': 19732, 'chastised': 19733, 'chaudhry': 19734, 'cheeks': 19735, 'cheeky': 19736, 'cheng': 19737, 'cheque': 19738, 'cherry': 19739, 'cheung': 19740, 'chevrolet': 19741, 'chide': 19742, 'chinadotcom': 19743, 'choe': 19744, 'choke': 19745, 'chop': 19746, 'chopped': 19747, 'choppers': 19748, 'chores': 19749, 'christianity': 19750, 'christina': 19751, 'christine': 19752, 'chronically': 19753, 'churn': 19754, 'cianferoni': 19755, 'cica': 19756, 'cicadas': 19757, 'cigs': 19758, 'cimoli': 19759, 'cinergy': 19760, 'circled': 19761, 'circuits': 19762, 'circulating': 19763, 'circulations': 19764, 'citroen': 19765, 'citys': 19766, 'civilizations': 19767, 'civilized': 19768, 'claburn': 19769, 'clambered': 19770, 'claus': 19771, 'clawing': 19772, 'clearings': 19773, 'clent': 19774, 'clicking': 19775, 'cliff': 19776, 'clinching': 19777, 'clive': 19778, 'clk;11714788;10469367;q?http://infoworld.com': 19779, 'clobbered': 19780, 'clocks': 19781, 'close\\\\to': 19782, 'clothiers': 19783, 'clough': 19784, 'clutter': 19785, 'clydesdale': 19786, 'cme': 19787, 'co.s': 19788, 'co2': 19789, 'coahuila': 19790, 'coasts': 19791, 'cobalt': 19792, 'cobra': 19793, 'coburn': 19794, 'cocktail': 19795, 'cocktails': 19796, 'coercive': 19797, 'coin': 19798, 'coincided': 19799, 'coincidence': 19800, 'coliform': 19801, 'collaborators': 19802, 'collections': 19803, 'colleen': 19804, 'collide': 19805, 'colluded': 19806, 'colluding': 19807, 'colombians': 19808, 'comair': 19809, 'combatting': 19810, 'combing': 19811, 'comedian': 19812, 'comics': 19813, 'commands': 19814, 'commentator': 19815, 'commented': 19816, 'commercially': 19817, 'commotion': 19818, 'communique': 19819, 'commute': 19820, 'company\\\\said': 19821, 'compass': 19822, 'compassionate': 19823, 'compatible': 19824, 'compelled': 19825, 'complacency': 19826, 'complying': 19827, 'concealing': 19828, 'concocted': 19829, 'condensed': 19830, 'conditioned': 19831, 'conditioner': 19832, 'conditioners': 19833, 'condominium': 19834, 'condor': 19835, 'conducts': 19836, 'conflicted': 19837, 'confrontational': 19838, 'congested': 19839, 'conquer': 19840, 'conscience': 19841, 'consecrating': 19842, 'consequence': 19843, 'consequential': 19844, 'consolation': 19845, 'constantinople': 19846, 'constitutionality': 19847, 'construct': 19848, 'contagious': 19849, 'containment': 19850, 'contamination': 19851, 'contestant': 19852, 'contestants': 19853, 'contracted': 19854, 'contravenes': 19855, 'controversies': 19856, 'conversations': 19857, 'convulsed': 19858, 'cooked': 19859, 'cooks': 19860, 'coolest': 19861, 'coonan': 19862, 'coop': 19863, 'corallina': 19864, 'corn': 19865, 'cornerstone': 19866, 'cornish': 19867, 'corrective': 19868, 'corriere': 19869, 'cos.\\\\': 19870, 'cosmodrome': 19871, 'cost.o': 19872, 'costas': 19873, 'costlier': 19874, 'cot.n': 19875, 'counsels': 19876, 'countdown': 19877, 'counterattack': 19878, 'counting\\\\votes': 19879, 'countryman': 19880, 'courageous': 19881, 'courses': 19882, 'covington': 19883, 'cowardly': 19884, 'cows': 19885, 'coy': 19886, 'cracking': 19887, 'cradle': 19888, 'craigslist': 19889, 'cramped': 19890, 'cranberries': 19891, 'creaking': 19892, 'credence': 19893, 'cremation': 19894, 'crescendo': 19895, 'cricketer': 19896, 'cricketers': 19897, 'crimping': 19898, 'cripples': 19899, 'crist': 19900, 'criticise': 19901, 'criticising': 19902, 'criticisms': 19903, 'croatian': 19904, 'crocodiles': 19905, 'crosse': 19906, 'crossharbour': 19907, 'crossroad': 19908, 'crossroads': 19909, 'crow': 19910, 'crudes': 19911, 'crumble': 19912, 'crumbles': 19913, 'crusades': 19914, 'crusading': 19915, 'crystl': 19916, 'cs': 19917, 'csis': 19918, 'ctv.n': 19919, 'cubicle': 19920, 'cubin': 19921, 'cultivate': 19922, 'cultivating': 19923, 'cultures': 19924, 'cummins': 19925, 'cuny': 19926, 'cups': 19927, 'curtly': 19928, 'customized': 19929, 'cy': 19930, 'cycles': 19931, 'cyclist': 19932, 'cyclists': 19933, 'czr.n': 19934, 'dahlan': 19935, 'dallaire': 19936, 'damped': 19937, 'dampens': 19938, 'damping': 19939, 'dams': 19940, 'dana': 19941, 'dancing': 19942, 'danes': 19943, 'dangled': 19944, 'daniela': 19945, 'danon': 19946, 'darfuris': 19947, 'darker': 19948, 'darn': 19949, 'das': 19950, 'databases': 19951, 'dayer': 19952, 'db': 19953, 'dbd.n': 19954, 'dcs': 19955, 'dcu': 19956, 'dds.n': 19957, 'de.n': 19958, 'dealmaking': 19959, 'deborah': 19960, 'decapitate': 19961, 'decay': 19962, 'deceleration': 19963, 'deciphering': 19964, 'declarations': 19965, 'decorative': 19966, 'decriminalizing': 19967, 'decrying': 19968, 'deducted': 19969, 'deeds': 19970, 'deems': 19971, 'deepwater': 19972, 'deer': 19973, 'defrocked': 19974, 'dehubbing': 19975, 'delegations': 19976, 'deliberating': 19977, 'delisting': 19978, 'demilitarization': 19979, 'demilitarize': 19980, 'demobilization': 19981, 'democratic\\\\presidential': 19982, 'democratization': 19983, 'demographic': 19984, 'demographics': 19985, 'demolish': 19986, 'demons': 19987, 'demoralized': 19988, 'dense': 19989, 'depart': 19990, 'deporting': 19991, 'depositary': 19992, 'deposited': 19993, 'descendant': 19994, 'designing': 19995, 'desirable': 19996, 'desist': 19997, 'desks': 19998, 'destabilise': 19999, 'destroyers': 20000, 'detects': 20001, 'devalued': 20002, 'devastate': 20003, 'devilish': 20004, 'devoid': 20005, 'devon': 20006, 'devotees': 20007, 'dew': 20008, 'dge.l': 20009, 'dhamija': 20010, 'dhiren': 20011, 'dhirubhai': 20012, 'diane': 20013, 'diaper': 20014, 'diarra': 20015, 'diaz': 20016, 'dictated': 20017, 'dictatorships': 20018, 'dictionary': 20019, 'diddy': 20020, 'diehards': 20021, 'differed': 20022, 'digesting': 20023, 'digs': 20024, 'dijiel': 20025, 'diligence': 20026, 'disable': 20027, 'disarray': 20028, 'disbanding': 20029, 'disciples': 20030, 'disconnected': 20031, 'discovers': 20032, 'discredited': 20033, 'discrepancies': 20034, 'disgrace': 20035, 'disguise': 20036, 'dishes': 20037, 'disks': 20038, 'dispatchers': 20039, 'dispatches': 20040, 'dispelled': 20041, 'displaying': 20042, 'disquiet': 20043, 'disrespect': 20044, 'disruptive': 20045, 'dissension': 20046, 'dissenting': 20047, 'dissolved': 20048, 'distanced': 20049, 'distances': 20050, 'distinguish': 20051, 'distortion': 20052, 'distracted': 20053, 'ditches': 20054, 'ditching': 20055, 'dived': 20056, 'divers': 20057, 'divulge': 20058, 'diyarbakir': 20059, 'dj.n': 20060, 'djibouti': 20061, 'dmz': 20062, 'dn': 20063, 'dnc': 20064, 'documentaries': 20065, 'documentation': 20066, 'dod': 20067, 'dodges': 20068, 'dodi': 20069, 'dolphin': 20070, 'domicile': 20071, 'dominica': 20072, 'dominicans': 20073, 'donated': 20074, 'donkeys': 20075, 'donnelley': 20076, 'doorway': 20077, 'doris': 20078, 'dos': 20079, 'dosages': 20080, 'dossier': 20081, 'doubleheader': 20082, 'doubtful': 20083, 'doubting': 20084, 'downhill': 20085, 'downloaded': 20086, 'downright': 20087, 'downsizing': 20088, 'downwards': 20089, 'dpp': 20090, 'drafting': 20091, 'dragan': 20092, 'drifter': 20093, 'drilled': 20094, 'drivetrain': 20095, 'driveway': 20096, 'drowning': 20097, 'drum': 20098, 'drumbeat': 20099, 'drunken': 20100, 'dtv.n': 20101, 'dude': 20102, 'duelfer': 20103, 'dues': 20104, 'dull': 20105, 'dupre': 20106, 'durables': 20107, 'duracell': 20108, 'dynamicsoft': 20109, 'dysfunctional': 20110, 'ead': 20111, 'eaton': 20112, 'eaug.pa': 20113, 'eck': 20114, 'eckerd': 20115, 'ecologist': 20116, 'economical': 20117, 'edmund': 20118, 'edocs': 20119, 'edusat': 20120, 'eeoc': 20121, 'efe': 20122, 'efharisto': 20123, 'ego': 20124, 'ehrlich': 20125, 'elantra': 20126, 'eldine': 20127, 'eldon': 20128, 'electrocuted': 20129, 'elephant': 20130, 'elevates': 20131, 'elevator': 20132, 'elevators': 20133, 'eliot\\\\spitzer': 20134, 'elista': 20135, 'elland': 20136, 'ellen': 20137, 'elmer': 20138, 'elton': 20139, 'eludes': 20140, 'eluding': 20141, 'elvis': 20142, 'elyria': 20143, 'emachines': 20144, 'emanating': 20145, 'emblaze': 20146, 'embolden': 20147, 'embryo': 20148, 'emeryville': 20149, 'emil': 20150, 'eminent': 20151, 'emir': 20152, 'emitted': 20153, 'emphatic': 20154, 'encircled': 20155, 'encompass': 20156, 'encompassing': 20157, 'energies': 20158, 'energized': 20159, 'engelhard': 20160, 'engulfs': 20161, 'enlarge': 20162, 'enlisting': 20163, 'enlistment': 20164, 'enlists': 20165, 'enrique': 20166, 'ensuing': 20167, 'entail': 20168, 'enthusiasts': 20169, 'entrusted': 20170, 'envelops': 20171, 'envision': 20172, 'envisioned': 20173, 'ep.n': 20174, 'episodes': 20175, 'eq': 20176, 'equipping': 20177, 'er': 20178, 'erases': 20179, 'erected': 20180, 'erecting': 20181, 'eriksson': 20182, 'ernest': 20183, 'ernie': 20184, 'erosion': 20185, 'esam': 20186, 'esperanza': 20187, 'est': 20188, 'estado': 20189, 'estimating': 20190, 'etf': 20191, 'ethiopians': 20192, 'etiquette': 20193, 'euro10': 20194, 'eurofighter': 20195, 'eurostat': 20196, 'eurotunnel': 20197, 'evacuates': 20198, 'evangelicals': 20199, 'evangelist': 20200, 'evaporating': 20201, 'even\\\\when': 20202, 'everest': 20203, 'evicted': 20204, 'exacerbate': 20205, 'exacting': 20206, 'examiners': 20207, 'excellent': 20208, 'exchanging': 20209, 'exempts': 20210, 'exhausting': 20211, 'exhaustion': 20212, 'exhaustive': 20213, 'exhumed': 20214, 'exited': 20215, 'expat': 20216, 'expected\\\\last': 20217, 'expenditures': 20218, 'expiring': 20219, 'explicit': 20220, 'exploited': 20221, 'expulsions': 20222, 'extinguisher': 20223, 'extracted': 20224, 'extravaganza': 20225, 'extremes': 20226, 'exuberant': 20227, 'eyad': 20228, 'eyewitnesses': 20229, 'ezz': 20230, 'f-16': 20231, 'fabricating': 20232, 'fabrication': 20233, 'fabrics': 20234, 'facades': 20235, 'fad': 20236, 'fairuz': 20237, 'fairytale': 20238, 'fait': 20239, 'faizabad': 20240, 'fakes': 20241, 'fallujans': 20242, 'fantasies': 20243, 'fashionable': 20244, 'fasten': 20245, 'fatigue': 20246, 'favourites': 20247, 'fayetteville': 20248, 'fe': 20249, 'feasibility': 20250, 'feasible': 20251, 'feat': 20252, 'feathers': 20253, 'federline': 20254, 'feedback': 20255, 'feidler': 20256, 'fencing': 20257, 'fernandez': 20258, 'ferrero': 20259, 'fertile': 20260, 'feta': 20261, 'fia.mi': 20262, 'fiancee': 20263, 'fictional': 20264, 'fiddling': 20265, 'fielded': 20266, 'fifa': 20267, 'fifths': 20268, 'figaro': 20269, 'filmmaking': 20270, 'filtered': 20271, 'financiers': 20272, 'finest': 20273, 'fingerprint': 20274, 'finley': 20275, 'firebombing': 20276, 'firemen': 20277, 'fireplace': 20278, 'firepower': 20279, 'firstguard': 20280, 'fiscally': 20281, 'fitted': 20282, 'fitting': 20283, 'fizzy': 20284, 'flashback': 20285, 'flashed': 20286, 'flashes': 20287, 'flexing': 20288, 'flint': 20289, 'floored': 20290, 'flotations': 20291, 'flouting': 20292, 'fluctuate': 20293, 'flung': 20294, 'flute': 20295, 'flutter': 20296, 'fms': 20297, 'foiling': 20298, 'foley': 20299, 'folksy': 20300, 'foodmaker': 20301, 'forbids': 20302, 'ford\\\\motor': 20303, 'fore': 20304, 'foreclosure': 20305, 'foresees': 20306, 'forgave': 20307, 'forgoing': 20308, 'formalised': 20309, 'formality': 20310, 'formulate': 20311, 'fortuyn': 20312, 'foxboro': 20313, 'franchisor': 20314, 'francophone': 20315, 'fraternal': 20316, 'freak': 20317, 'freer': 20318, 'freewheeling': 20319, 'frictions': 20320, 'fridge': 20321, 'friedlander': 20322, 'fries': 20323, 'frighten': 20324, 'frontieres': 20325, 'frontrunner': 20326, 'frosted': 20327, 'frugal': 20328, 'frugally': 20329, 'fulfil': 20330, 'fullquote\"&gt;abs.n&lt;/a&gt': 20331, 'fullquote\"&gt;ac.to&lt;/a&gt': 20332, 'fullquote\"&gt;acdo.o&lt;/a&gt': 20333, 'fullquote\"&gt;aci.n&lt;/a&gt': 20334, 'fullquote\"&gt;aet.n&lt;/a&gt': 20335, 'fullquote\"&gt;agra': 20336, 'fullquote\"&gt;atah.o&lt;/a&gt': 20337, 'fullquote\"&gt;bby.n&lt;/a&gt': 20338, 'fullquote\"&gt;bls.n&lt;/a&gt': 20339, 'fullquote\"&gt;bsx.n&lt;/a&gt': 20340, 'fullquote\"&gt;cal.n&lt;/a&gt': 20341, 'fullquote\"&gt;cop.n&lt;/a&gt': 20342, 'fullquote\"&gt;cybx.o&lt;/a&gt': 20343, 'fullquote\"&gt;czr.n&lt;/a&gt': 20344, 'fullquote\"&gt;ebay.o&lt;/a&gt': 20345, 'fullquote\"&gt;gis.n&lt;/a&gt': 20346, 'fullquote\"&gt;gt.n&lt;/a&gt': 20347, 'fullquote\"&gt;gtw.n&lt;/a&gt': 20348, 'fullquote\"&gt;hca.n&lt;/a&gt': 20349, 'fullquote\"&gt;hon.n&lt;/a&gt': 20350, 'fullquote\"&gt;jblu.o&lt;/a&gt': 20351, 'fullquote\"&gt;kr.n&lt;/a&gt': 20352, 'fullquote\"&gt;lly.n&lt;/a&gt': 20353, 'fullquote\"&gt;noc.n&lt;/a&gt': 20354, 'fullquote\"&gt;novl.o&lt;/a&gt': 20355, 'fullquote\"&gt;nwac.o&lt;/a&gt': 20356, 'fullquote\"&gt;omc.n&lt;/a&gt': 20357, 'fullquote\"&gt;pg.n&lt;/a&gt': 20358, 'fullquote\"&gt;pixr.o&lt;/a&gt': 20359, 'fullquote\"&gt;rad.n&lt;/a&gt': 20360, 'fullquote\"&gt;spls.o&lt;/a&gt': 20361, 'fullquote\"&gt;symc.o&lt;/a&gt': 20362, 'fullquote\"&gt;t.n&lt;/a&gt': 20363, 'fullquote\"&gt;utx.n&lt;/a&gt': 20364, 'fullquote\"&gt;vrts.o&lt;/a&gt': 20365, 'fullquote\"&gt;win.n&lt;/a&gt': 20366, 'fumbling': 20367, 'functionality': 20368, 'functions': 20369, 'funneled': 20370, 'furiously': 20371, 'furnaces': 20372, 'fuso': 20373, 'fy05': 20374, 'g6': 20375, 'gabelli': 20376, 'gah': 20377, 'gaithersburg': 20378, 'gale': 20379, 'galicia': 20380, 'galida': 20381, 'gardena': 20382, 'gardner': 20383, 'garments': 20384, 'garnered': 20385, 'garnering': 20386, 'garnier': 20387, 'gasped': 20388, 'gauging': 20389, 'gavin': 20390, 'gaza\\\\strip': 20391, 'gazing': 20392, 'gb': 20393, 'gci.n': 20394, 'gd': 20395, 'geek': 20396, 'geeks': 20397, 'geelani': 20398, 'gel': 20399, 'gemini': 20400, 'geneina': 20401, 'genital': 20402, 'genome': 20403, 'genre': 20404, 'gently': 20405, 'geo': 20406, 'geoffrey': 20407, 'gergen': 20408, 'germ': 20409, 'germanys': 20410, 'ggp.n': 20411, 'ghanaian': 20412, 'ghaznavi': 20413, 'ghulam': 20414, 'ghz': 20415, 'giancarlo': 20416, 'gig': 20417, 'gillard': 20418, 'gimme': 20419, 'gin': 20420, 'gingrich': 20421, 'givebacks': 20422, 'glaser': 20423, 'glasgow': 20424, 'glendale': 20425, 'glitter': 20426, 'glitzy': 20427, 'glow': 20428, 'gma': 20429, 'gmac': 20430, 'goats': 20431, 'golan': 20432, 'gongloff': 20433, 'gonzi': 20434, 'goodman': 20435, 'googles': 20436, 'goran': 20437, 'gorbachev': 20438, 'goshen': 20439, 'gown': 20440, 'gra.n': 20441, 'graeme': 20442, 'grandfather': 20443, 'granite': 20444, 'grapes': 20445, 'gravy': 20446, 'grease': 20447, 'greene': 20448, 'gregarious': 20449, 'greying': 20450, 'griffiths': 20451, 'grin': 20452, 'grind': 20453, 'groundless': 20454, 'guadeloupe': 20455, 'guarana': 20456, 'guaranteeing': 20457, 'guardia': 20458, 'guess': 20459, 'guild': 20460, 'guitar': 20461, 'guitarist': 20462, 'gut': 20463, 'gutted': 20464, 'guynn': 20465, 'gy.n': 20466, 'haas': 20467, 'habitat': 20468, 'hacienda': 20469, 'hackers': 20470, 'hadn': 20471, 'haemonetics': 20472, 'haired': 20473, 'hairs': 20474, 'haitis': 20475, 'halsey': 20476, 'halves': 20477, 'ham': 20478, 'hamadeh': 20479, 'hambali': 20480, 'hamburgers': 20481, 'hamlet': 20482, 'hammers': 20483, 'hammersmith': 20484, 'hamzah': 20485, 'handcuffs': 20486, 'handicap': 20487, 'handicapped': 20488, 'handouts': 20489, 'handwritten': 20490, 'hanoun': 20491, 'hanukkah': 20492, 'har': 20493, 'harboring': 20494, 'harbors': 20495, 'hardship': 20496, 'harkness': 20497, 'harmless': 20498, 'harmonise': 20499, 'harness': 20500, 'hasbro': 20501, 'haseenah': 20502, 'hashemite': 20503, 'hashmi': 20504, 'hassle': 20505, 'hastings': 20506, 'hatem': 20507, 'haunting': 20508, 'hazim': 20509, 'hazy': 20510, 'hca.n': 20511, 'hcc': 20512, 'headgear': 20513, 'healers': 20514, 'heartening': 20515, 'heavens': 20516, 'heavier': 20517, 'hebron': 20518, 'heck': 20519, 'heel': 20520, 'heighten': 20521, 'heisman': 20522, 'helmet': 20523, 'helper': 20524, 'helplessly': 20525, 'hemingway': 20526, 'hemmed': 20527, 'heptathlon': 20528, 'herd': 20529, 'heri': 20530, 'hernia': 20531, 'heroism': 20532, 'herv': 20533, 'hiatus': 20534, 'hibernia': 20535, 'hilbert': 20536, 'hilla': 20537, 'hindered': 20538, 'hindering': 20539, 'hinge': 20540, 'hirst': 20541, 'histadrut': 20542, 'hitches': 20543, 'hitomi': 20544, 'hj': 20545, 'hlyw.o': 20546, 'hoaxers': 20547, 'hobart': 20548, 'hobble': 20549, 'hobbled': 20550, 'hodge': 20551, 'hogs': 20552, 'holdout': 20553, 'holdouts': 20554, 'hollow': 20555, 'holyrood': 20556, 'hometrack': 20557, 'honey': 20558, 'hongkong': 20559, 'hoover': 20560, 'hopefuls': 20561, 'horizons': 20562, 'horn': 20563, 'hossein': 20564, 'housekeepers': 20565, 'hpq': 20566, 'hrw': 20567, 'hsdpa': 20568, 'huang': 20569, 'hud': 20570, 'hugo\\\\chavez': 20571, 'humane': 20572, 'hun': 20573, 'hunched': 20574, 'huntington': 20575, 'hurley': 20576, 'hurwitz': 20577, 'hustled': 20578, 'huts': 20579, 'hutton': 20580, 'hynes': 20581, 'hyperion': 20582, 'hyping': 20583, 'i.r.s.': 20584, 'ibc': 20585, 'icann': 20586, 'icd': 20587, 'icing': 20588, 'icty': 20589, 'icu': 20590, 'icy': 20591, 'idb.to': 20592, 'idbe.o': 20593, 'idiots': 20594, 'idles': 20595, 'idol': 20596, 'idps': 20597, 'idris': 20598, 'ids': 20599, 'idyllic': 20600, 'ifx.etr': 20601, 'ignite': 20602, 'ignites': 20603, 'igniting': 20604, 'ignorant': 20605, 'igt': 20606, 'ihk': 20607, 'illegitimate': 20608, 'ills': 20609, 'imagination': 20610, 'imation': 20611, 'impartiality': 20612, 'impatience': 20613, 'impeding': 20614, 'imperialism': 20615, 'imperiled': 20616, 'imphal': 20617, 'implants': 20618, 'importer': 20619, 'importers': 20620, 'impressions': 20621, 'in\\\\baghdad': 20622, 'in\\\\chief': 20623, 'in\\\\july': 20624, 'in\\\\u.s.': 20625, 'incarcerated': 20626, 'inception': 20627, 'inching': 20628, 'inclined': 20629, 'incorporate': 20630, 'incur': 20631, 'incurred': 20632, 'indebtedness': 20633, 'indies': 20634, 'indoors': 20635, 'induce': 20636, 'industrys': 20637, 'ineffective': 20638, 'inexcusable': 20639, 'infants': 20640, 'inferior': 20641, 'infested': 20642, 'infiltrate': 20643, 'infringing': 20644, 'ingush': 20645, 'inhabitants': 20646, 'inhaler': 20647, 'inhibitex': 20648, 'inigo': 20649, 'initiate': 20650, 'initiates': 20651, 'initiating': 20652, 'inns': 20653, 'inpex': 20654, 'insee': 20655, 'inserted': 20656, 'insight': 20657, 'insights': 20658, 'insignia': 20659, 'insignificant': 20660, 'insistence': 20661, 'inspecting': 20662, 'inspires': 20663, 'instantly': 20664, 'instigated': 20665, 'instigating': 20666, 'instructing': 20667, 'insulate': 20668, 'insulation': 20669, 'insulted': 20670, 'intelligent': 20671, 'intentionally': 20672, 'interest\\\\rates': 20673, 'interesting': 20674, 'interminable': 20675, 'intern': 20676, 'internationals': 20677, 'internets': 20678, 'interpreting': 20679, 'interrupt': 20680, 'interrupting': 20681, 'interviewing': 20682, 'inthe': 20683, 'intimate': 20684, 'intimidated': 20685, 'intrigue': 20686, 'introductory': 20687, 'inundated': 20688, 'involuntary': 20689, 'iof': 20690, 'iowans': 20691, 'irate': 20692, 'irk': 20693, 'irks': 20694, 'irrational': 20695, 'irreparably': 20696, 'irreplaceable': 20697, 'irresponsible': 20698, 'irreversible': 20699, 'irritant': 20700, 'irritated': 20701, 'irritates': 20702, 'irvine': 20703, 'ishihara': 20704, 'isles': 20705, 'isps': 20706, 'it\\\\was': 20707, 'it\\\\would': 20708, 'its\\\\budget': 20709, 'its\\\\nuclear': 20710, 'iverson': 20711, 'ix': 20712, 'jackie': 20713, 'jacksonville': 20714, 'jamalco': 20715, 'jamboree': 20716, 'jana': 20717, 'jasper': 20718, 'javed': 20719, 'jays': 20720, 'jbl.n': 20721, 'jda': 20722, 'jefferson': 20723, 'jeffery': 20724, 'jenness': 20725, 'jettisoned': 20726, 'jfe': 20727, 'jhx': 20728, 'jintan': 20729, 'jlt': 20730, 'johor': 20731, 'joints': 20732, 'jokes': 20733, 'joking': 20734, 'jolie': 20735, 'jolla': 20736, 'jolly': 20737, 'jones)--philippine': 20738, 'jones)--telekom': 20739, 'jones)--us': 20740, 'joon': 20741, 'jordanians': 20742, 'jostle': 20743, 'jostled': 20744, 'joyo.com': 20745, 'jpm.nys': 20746, 'jti': 20747, 'ju': 20748, 'judgement': 20749, 'judy': 20750, 'juiced': 20751, 'jukebox': 20752, 'juncture': 20753, 'jusuf': 20754, 'kahney': 20755, 'kanesatake': 20756, 'karen': 20757, 'karp': 20758, 'karuna': 20759, 'katie': 20760, 'katif': 20761, 'katyn': 20762, 'kawaguchi': 20763, 'kazan': 20764, 'kddi': 20765, 'kean': 20766, 'keane': 20767, 'kenny': 20768, 'kerala': 20769, 'kernan': 20770, 'kernel': 20771, 'kerosene': 20772, 'kerry\\\\has': 20773, 'kft': 20774, 'khaki': 20775, 'khalilzad': 20776, 'kharazi': 20777, 'khokhrapar': 20778, 'kibbutz': 20779, 'kidnaps': 20780, 'kidneys': 20781, 'kindercare': 20782, 'kingfisher': 20783, 'kits': 20784, 'kkd': 20785, 'kmarts': 20786, 'kmg': 20787, 'knitting': 20788, 'knockout': 20789, 'knuckles': 20790, 'kosovan': 20791, 'kostunica': 20792, 'kovacs': 20793, 'koyakutty': 20794, 'kr.n': 20795, 'kristen': 20796, 'kulim': 20797, 'kuril': 20798, 'kuroda': 20799, 'kuwaitis': 20800, 'kydland': 20801, 'kyoto\\\\protocol': 20802, 'l.a.': 20803, 'labors': 20804, 'lacy': 20805, 'ladder': 20806, 'ladders': 20807, 'lafranchi': 20808, 'lament': 20809, 'laminaria': 20810, 'landowners': 20811, 'lansing': 20812, 'lap': 20813, 'larnaca': 20814, 'laroche': 20815, 'larsen': 20816, 'lasers': 20817, 'latam': 20818, 'latifiya': 20819, 'latino': 20820, 'latinos': 20821, 'latson': 20822, 'laughs': 20823, 'lawnmower': 20824, 'lazaran': 20825, 'ldp': 20826, 'leaderships': 20827, 'leagues': 20828, 'leaner': 20829, 'learnt': 20830, 'leeway': 20831, 'legalize': 20832, 'legalized': 20833, 'legco': 20834, 'legions': 20835, 'leicester': 20836, 'leila': 20837, 'leipzig': 20838, 'lejeune': 20839, 'lengths': 20840, 'lennon': 20841, 'lensworth': 20842, 'leonard': 20843, 'leprechaun': 20844, 'leslie': 20845, 'lessors': 20846, 'lester': 20847, 'lethbridge': 20848, 'leukaemia': 20849, 'leveraged': 20850, 'leviathan': 20851, 'levied': 20852, 'levies': 20853, 'lewinsky': 20854, 'lexar': 20855, 'lexmark': 20856, 'liberalisation': 20857, 'liberalism': 20858, 'liberians': 20859, 'libyans': 20860, 'licence': 20861, 'licensees': 20862, 'lieut': 20863, 'lifesciences': 20864, 'likened': 20865, 'limbs': 20866, 'limping': 20867, 'lindsay': 20868, 'line.&lt;/p&gt': 20869, 'lineage': 20870, 'linear': 20871, 'liner': 20872, 'linkup': 20873, 'lionel': 20874, 'lips': 20875, 'lipton': 20876, 'liquids': 20877, 'lithuanians': 20878, 'litre': 20879, 'ljubisa': 20880, 'lo': 20881, 'loa': 20882, 'loads': 20883, 'loans\\\\fell': 20884, 'loblaw': 20885, 'locating': 20886, 'lodz': 20887, 'loftiest': 20888, 'logo': 20889, 'logs': 20890, 'longstanding': 20891, 'lore': 20892, 'lotto': 20893, 'lou': 20894, 'lousy': 20895, 'lovesick': 20896, 'low-': 20897, 'low\\\\against': 20898, 'lsi': 20899, 'lt;em&gt': 20900, 'lt;low.n&gt': 20901, 'luca': 20902, 'lucas': 20903, 'lucia': 20904, 'luciano': 20905, 'luisita': 20906, 'luka': 20907, 'lumbering': 20908, 'lunchtime': 20909, 'lupus': 20910, 'lurking': 20911, 'lusaka': 20912, 'luv': 20913, 'lv': 20914, 'lynndie': 20915, 'lyricist': 20916, 'macao': 20917, 'macero': 20918, 'machinegun': 20919, 'machinists': 20920, 'macho': 20921, 'mackay': 20922, 'macro': 20923, 'macworld': 20924, 'maddux': 20925, 'madness': 20926, 'madras': 20927, 'magnifies': 20928, 'mai': 20929, 'main.html?lpid0101035400730402idlp\"&gt;white': 20930, 'mainline': 20931, 'mainstay': 20932, 'majid': 20933, 'maker\\\\of': 20934, 'makhachkala': 20935, 'malay': 20936, 'males': 20937, 'malfunctions': 20938, 'malibu': 20939, 'malik': 20940, 'maltreat': 20941, 'maltreating': 20942, 'maltreatment': 20943, 'mania': 20944, 'mansions': 20945, 'mantle': 20946, 'manuals': 20947, 'manufactures': 20948, 'mao': 20949, 'mapquest': 20950, 'marat': 20951, 'marcelo': 20952, 'marchionne': 20953, 'markdown': 20954, 'markham': 20955, 'marktplaats.nl': 20956, 'marqibo': 20957, 'marriot': 20958, 'marrying': 20959, 'masooda': 20960, 'mat': 20961, 'matthews': 20962, 'mausoleum': 20963, 'maximize': 20964, 'mayo': 20965, 'mays': 20966, 'maytag': 20967, 'mazar': 20968, 'mazeikiu': 20969, 'mcauliffe': 20970, 'mcconnell': 20971, 'mcd': 20972, 'mcdowell': 20973, 'mcgregor': 20974, 'mcmullen': 20975, 'md': 20976, 'mds': 20977, 'meandered': 20978, 'meantime': 20979, 'measure\\\\that': 20980, 'measurement': 20981, 'mecca': 20982, 'mechanisms': 20983, 'medalist': 20984, 'medecins': 20985, 'medellin': 20986, 'mediated': 20987, 'medieval': 20988, 'medquist': 20989, 'meg': 20990, 'megaball': 20991, 'megan': 20992, 'meltdown': 20993, 'mena': 20994, 'menino': 20995, 'mer': 20996, 'mercer': 20997, 'mercurial': 20998, 'merits': 20999, 'merriam': 21000, 'merry': 21001, 'methodically': 21002, 'mexicanos': 21003, 'mgi': 21004, 'mhz': 21005, 'mi6': 21006, 'mia': 21007, 'michelin': 21008, 'michiko': 21009, 'microprocessor': 21010, 'mid-1990s': 21011, 'midair': 21012, 'midsummer': 21013, 'mikerevic': 21014, 'mileage': 21015, 'militarily': 21016, 'milken': 21017, 'milton': 21018, 'minefield': 21019, 'minibuses': 21020, 'minster': 21021, 'mir': 21022, 'mis': 21023, 'miscalculations': 21024, 'miscounts': 21025, 'misdemeanors': 21026, 'misfortune': 21027, 'mishandled': 21028, 'misinterpreted': 21029, 'misunderstanding': 21030, 'misuse': 21031, 'mladic': 21032, 'mnd': 21033, 'mobilization': 21034, 'mockery': 21035, 'modalities': 21036, 'mohamad': 21037, 'moldova': 21038, 'molested': 21039, 'mollify': 21040, 'momentous': 21041, 'mon.n': 21042, 'monastery': 21043, 'moncks': 21044, 'monday.&lt;/p&gt': 21045, 'mongers': 21046, 'moniker': 21047, 'monoxide': 21048, 'monsoon': 21049, 'montezemolo': 21050, 'montgomerie': 21051, 'mornings': 21052, 'moroccans': 21053, 'mortal': 21054, 'mosquitoes': 21055, 'mossad': 21056, 'mot': 21057, 'mothballed': 21058, 'motorcycles': 21059, 'mounties': 21060, 'mousavian': 21061, 'mouthful': 21062, 'moyo': 21063, 'mrk.nys': 21064, 'mro.n': 21065, 'mso': 21066, 'msu': 21067, 'muddled': 21068, 'mulcahy': 21069, 'mulroney': 21070, 'mundane': 21071, 'murkowski': 21072, 'musa': 21073, 'muscling': 21074, 'mush': 21075, 'musharrafs': 21076, 'musician': 21077, 'mute': 21078, 'muttiah': 21079, 'mxo.n': 21080, 'myl': 21081, 'myron': 21082, 'myth': 21083, 'naacp': 21084, 'nabs': 21085, 'naga': 21086, 'nagasaki': 21087, 'nagpur': 21088, 'nails': 21089, 'namibians': 21090, 'nanmadol': 21091, 'nanometre': 21092, 'nanoscale': 21093, 'narco': 21094, 'nasdaq-100': 21095, 'natfoods': 21096, 'nda': 21097, 'nduom': 21098, 'nearest': 21099, 'neat': 21100, 'needlessly': 21101, 'needy': 21102, 'negatively': 21103, 'neglectful': 21104, 'negotiates': 21105, 'netsolve': 21106, 'netted': 21107, 'neurosis': 21108, 'newbridge': 21109, 'news:-': 21110, 'newsom': 21111, 'newspoll': 21112, 'newsroom': 21113, 'newsweekly': 21114, 'ngos': 21115, 'nh': 21116, 'nib': 21117, 'niccy': 21118, 'nicotine': 21119, 'nino': 21120, 'nistelrooy': 21121, 'nitromed': 21122, 'nixed': 21123, 'nixing': 21124, 'nmci': 21125, 'noaa': 21126, 'nonfarm': 21127, 'nonsense': 21128, 'nonviolent': 21129, 'noordin': 21130, 'norm': 21131, 'normalize': 21132, 'nosedive': 21133, 'notoriously': 21134, 'notre': 21135, 'notwithstanding': 21136, 'novels': 21137, 'noxious': 21138, 'nrp': 21139, 'nu': 21140, 'nucleus': 21141, 'nude': 21142, 'nuisance': 21143, 'numbered': 21144, 'numbing': 21145, 'nxtl': 21146, 'nylon': 21147, 'nyt': 21148, 'nz\\\\$877': 21149, 'oasis': 21150, 'objecting': 21151, 'objectives': 21152, 'obscenity': 21153, 'observation': 21154, 'occasional': 21155, 'occasionally': 21156, 'occupancy': 21157, 'occupants': 21158, 'oceans': 21159, 'octopus': 21160, 'oeiag': 21161, 'oem': 21162, 'of\\\\gasoline': 21163, 'of\\\\iraq': 21164, 'offseason': 21165, 'ogo': 21166, 'oils': 21167, 'oilsands': 21168, 'oiskhara': 21169, 'okd': 21170, 'olds': 21171, 'oligarch': 21172, 'olsen': 21173, 'olson': 21174, 'omam': 21175, 'omc.n': 21176, 'omega': 21177, 'omi': 21178, 'omit': 21179, 'omx': 21180, 'onetime': 21181, 'ontuesday': 21182, 'opecs': 21183, 'openness': 21184, 'opp': 21185, 'opting': 21186, 'oral': 21187, 'orbiting': 21188, 'orbz': 21189, 'orbz.o': 21190, 'orchards': 21191, 'orchestra': 21192, 'ordinated': 21193, 'organ': 21194, 'organise': 21195, 'orient': 21196, 'oriental': 21197, 'orphan': 21198, 'orthodoxy': 21199, 'osborn': 21200, 'osc': 21201, 'oscars': 21202, 'oshiomhole': 21203, 'ostensibly': 21204, 'outbound': 21205, 'outcomes': 21206, 'outing': 21207, 'outlawing': 21208, 'outpaces': 21209, 'outset': 21210, 'outshines': 21211, 'outstrip': 21212, 'outward': 21213, 'overbooking': 21214, 'overcharged': 21215, 'overcomes': 21216, 'overextended': 21217, 'overlook': 21218, 'overly': 21219, 'overproduction': 21220, 'overran': 21221, 'oversaw': 21222, 'overseer': 21223, 'overstating': 21224, 'overtook': 21225, 'overweight': 21226, 'oxide': 21227, 'oxycontin': 21228, 'oyj': 21229, 'pad': 21230, 'paes': 21231, 'pairing': 21232, 'paktia': 21233, 'paladin': 21234, 'pale': 21235, 'palestinian\\\\president': 21236, 'palme': 21237, 'palmer': 21238, 'palms': 21239, 'pamela': 21240, 'panned': 21241, 'papal': 21242, 'parachutes': 21243, 'paralysed': 21244, 'paralyzes': 21245, 'paraphernalia': 21246, 'pardoning': 21247, 'paring': 21248, 'parliaments': 21249, 'parma': 21250, 'parrish': 21251, 'particles': 21252, 'partnerships': 21253, 'passel': 21254, 'pastor': 21255, 'pataki': 21256, 'patented': 21257, 'paternity': 21258, 'patrician': 21259, 'patriotic': 21260, 'patronage': 21261, 'pats': 21262, 'patten': 21263, 'pauline': 21264, 'paved': 21265, 'pavement': 21266, 'pawnshop': 21267, 'payers': 21268, 'pbg.n': 21269, 'pca.to': 21270, 'pda': 21271, 'pdas': 21272, 'pedals': 21273, 'pedestrian': 21274, 'peel': 21275, 'pemex': 21276, 'penchant': 21277, 'penitence': 21278, 'pennington': 21279, 'perceive': 21280, 'perennial': 21281, 'performs': 21282, 'periodically': 21283, 'permitting': 21284, 'perot': 21285, 'persecuted': 21286, 'peruvians': 21287, 'pesos': 21288, 'petroleos': 21289, 'pew': 21290, 'pft': 21291, 'pga': 21292, 'philanthropist': 21293, 'philanthropy': 21294, 'phoney': 21295, 'photojournalist': 21296, 'photostamps': 21297, 'phuket': 21298, 'physiology': 21299, 'pianalto': 21300, 'piazza': 21301, 'pie': 21302, 'piling': 21303, 'pillar': 21304, 'pim': 21305, 'ping': 21306, 'pinning': 21307, 'pinoy': 21308, 'pinpoint': 21309, 'pinpointed': 21310, 'pioneers': 21311, 'pitney': 21312, 'pitt': 21313, 'pivot': 21314, 'pixr.o': 21315, 'plagiarism': 21316, 'plains': 21317, 'plano': 21318, 'planter': 21319, 'plaster': 21320, 'platt': 21321, 'plaudits': 21322, 'playbill': 21323, 'playwright': 21324, 'pleasant': 21325, 'pleasure': 21326, 'plenary': 21327, 'plows': 21328, 'plucky': 21329, 'plundered': 21330, 'plymouth': 21331, 'pml': 21332, 'poaching': 21333, 'pocketbook': 21334, 'pocketed': 21335, 'pod': 21336, 'poetry': 21337, 'poise': 21338, 'poitier': 21339, 'policewoman': 21340, 'policyholders': 21341, 'policymaker': 21342, 'politicizing': 21343, 'polluters': 21344, 'ponchos': 21345, 'pond': 21346, 'pony': 21347, 'pooh': 21348, 'pops': 21349, 'porous': 21350, 'portals': 21351, 'possessed': 21352, 'postelection': 21353, 'posters': 21354, 'posturing': 21355, 'pounced': 21356, 'powerbroker': 21357, 'powertrain': 21358, 'ppr': 21359, 'practicalities': 21360, 'prada': 21361, 'pranab': 21362, 'pravachol': 21363, 'prc': 21364, 'preaches': 21365, 'precinct': 21366, 'preferring': 21367, 'prefers': 21368, 'preliminaries': 21369, 'prematurely': 21370, 'premeditated': 21371, 'premise': 21372, 'presbyterian': 21373, 'prescott': 21374, 'presidencies': 21375, 'presidential\\\\candidate': 21376, 'presley': 21377, 'prevails': 21378, 'prewar': 21379, 'pri': 21380, 'priceline': 21381, 'priceline.com': 21382, 'primaris': 21383, 'princeton': 21384, 'printed': 21385, 'pristine': 21386, 'privilege': 21387, 'probation': 21388, 'procedural': 21389, 'proclaims': 21390, 'prodded': 21391, 'profession': 21392, 'professors': 21393, 'profitably': 21394, 'profited': 21395, 'profiting': 21396, 'profoundly': 21397, 'prohibited': 21398, 'prohibits': 21399, 'proliferating': 21400, 'prolonging': 21401, 'prominence': 21402, 'pronounced': 21403, 'proportion': 21404, 'propping': 21405, 'proprietary': 21406, 'proquest': 21407, 'protectionism': 21408, 'protege': 21409, 'protestants': 21410, 'provoke': 21411, 'provokes': 21412, 'prudent': 21413, 'pseg': 21414, 'psoriasis': 21415, 'ptmk.o': 21416, 'pty': 21417, 'pujols': 21418, 'pummelled': 21419, 'punters': 21420, 'puppy': 21421, 'purport': 21422, 'pushy': 21423, 'putt': 21424, 'pylons': 21425, 'qadeer': 21426, 'qanuni': 21427, 'qcom': 21428, 'qlt.to': 21429, 'qlti.o': 21430, 'qualifiers': 21431, 'qualities': 21432, 'quang': 21433, 'quantitative': 21434, 'quarry': 21435, 'quarterfinals': 21436, 'quarterly\\\\earnings': 21437, 'quelled': 21438, 'quelling': 21439, 'queues': 21440, 'quickest': 21441, 'quinn': 21442, 'quitno': 21443, 'quito': 21444, 'quot;absolutely': 21445, 'quot;and': 21446, 'quot;angel': 21447, 'quot;another': 21448, 'quot;any': 21449, 'quot;armed': 21450, 'quot;bad': 21451, 'quot;broken': 21452, 'quot;bury': 21453, 'quot;buy': 21454, 'quot;camp': 21455, 'quot;can': 21456, 'quot;chip': 21457, 'quot;cruel': 21458, 'quot;dirty': 21459, 'quot;disappointed': 21460, 'quot;disturbing': 21461, 'quot;excellent': 21462, 'quot;excessive': 21463, 'quot;extremely': 21464, 'quot;fear': 21465, 'quot;fully': 21466, 'quot;god': 21467, 'quot;have': 21468, 'quot;he': 21469, 'quot;iran': 21470, 'quot;islamic': 21471, 'quot;jihad': 21472, 'quot;killing': 21473, 'quot;legal': 21474, 'quot;long': 21475, 'quot;measured': 21476, 'quot;mercenary': 21477, 'quot;most': 21478, 'quot;never': 21479, 'quot;new': 21480, 'quot;nightmare': 21481, 'quot;non': 21482, 'quot;peoplesoft': 21483, 'quot;political': 21484, 'quot;politicking': 21485, 'quot;pretty': 21486, 'quot;propaganda': 21487, 'quot;radio': 21488, 'quot;right': 21489, 'quot;roadmap': 21490, 'quot;several': 21491, 'quot;shared': 21492, 'quot;some': 21493, 'quot;something': 21494, 'quot;source': 21495, 'quot;steady': 21496, 'quot;strongly': 21497, 'quot;that': 21498, 'quot;total': 21499, 'quot;tremendous': 21500, 'quot;true': 21501, 'quot;two': 21502, 'quot;unacceptable': 21503, 'quot;unfair': 21504, 'quot;was': 21505, 'quot;wild': 21506, 'quot;will': 21507, 'quot;within': 21508, 'quot;yellowcake': 21509, 'quot;yes': 21510, 'qvc': 21511, 'rabbit': 21512, 'rabbits': 21513, 'rachel': 21514, 'racially': 21515, 'radiology': 21516, 'radovan': 21517, 'rai.n': 21518, 'rainstorm': 21519, 'raiser': 21520, 'rajaratnam': 21521, 'rajouri': 21522, 'randy': 21523, 'rangebound': 21524, 'rappers': 21525, 'ratcheting': 21526, 'rathore': 21527, 'rations': 21528, 'ratios': 21529, 'raton': 21530, 'ravage': 21531, 'ravages': 21532, 'ravaging': 21533, 'rbis': 21534, 'reaffirming': 21535, 'realignments': 21536, 'reasonably': 21537, 'reassessing': 21538, 'reassigned': 21539, 'reassures': 21540, 'rebellions': 21541, 'reborn': 21542, 'rebuffing': 21543, 'rebuilt': 21544, 'rebuttal': 21545, 'recast': 21546, 'reclaims': 21547, 'recognises': 21548, 'reconcile': 21549, 'reconsiders': 21550, 'record\\\\highs': 21551, 'recounting': 21552, 'recounts': 21553, 'recourse': 21554, 'recoveries': 21555, 'recruitment': 21556, 'rectify': 21557, 'recurrent': 21558, 'redeem': 21559, 'redesign': 21560, 'rediscovered': 21561, 'redistribution': 21562, 'redraw': 21563, 'reels': 21564, 'referee': 21565, 'refers': 21566, 'refined': 21567, 'refrigeration': 21568, 'refrigerators': 21569, 'refutes': 21570, 'regency': 21571, 'regents': 21572, 'regimes': 21573, 'regulating': 21574, 'reined': 21575, 'reinforcement': 21576, 'reinstated': 21577, 'reintegrate': 21578, 'rejoicing': 21579, 'rekindle': 21580, 'rel': 21581, 'relate': 21582, 'relaxation': 21583, 'relaxes': 21584, 'relegated': 21585, 'reliability': 21586, 'relief&lt;/a&gt;&lt;br/&gt;discover': 21587, 'remanded': 21588, 'remedies': 21589, 'remind': 21590, 'reminders': 21591, 'renaissance': 21592, 'rename': 21593, 'renamed': 21594, 'renege': 21595, 'renegotiating': 21596, 'reno': 21597, 'renters': 21598, 'renting': 21599, 'renton': 21600, 'rents': 21601, 'reorganized': 21602, 'repatriate': 21603, 'repel': 21604, 'repercussions': 21605, 'replayed': 21606, 'replenish': 21607, 'reported\\\\on': 21608, 'reprint': 21609, 'reprinted': 21610, 'reps': 21611, 'resales': 21612, 'resembles': 21613, 'resentment': 21614, 'reshaped': 21615, 'resorting': 21616, 'resounding': 21617, 'respective': 21618, 'restarts': 21619, 'restrain': 21620, 'restraints': 21621, 'resurrect': 21622, 'retails': 21623, 'retention': 21624, 'retract': 21625, 'retracted': 21626, 'retribution': 21627, 'retrieve': 21628, 'retrieved': 21629, 'retrieving': 21630, 'revalue': 21631, 'revelation': 21632, 'reverend': 21633, 'revitalization': 21634, 'revitalizing': 21635, 'rework': 21636, 'rhythm': 21637, 'rhythms': 21638, 'ri': 21639, 'richards': 21640, 'richemont': 21641, 'riddle': 21642, 'rider': 21643, 'rife': 21644, 'rigas': 21645, 'rigel': 21646, 'righteous': 21647, 'rightnow': 21648, 'rim.to': 21649, 'riskiest': 21650, 'rituals': 21651, 'rivaling': 21652, 'riverside': 21653, 'rjf.n': 21654, 'rl': 21655, 'rna': 21656, 'roasters': 21657, 'robustly': 21658, 'roc': 21659, 'roechling': 21660, 'roed': 21661, 'rohani': 21662, 'roils': 21663, 'roland': 21664, 'romanow': 21665, 'romans': 21666, 'roosevelt': 21667, 'rosenborg': 21668, 'rosslyn': 21669, 'rotating': 21670, 'rotting': 21671, 'router': 21672, 'rowling': 21673, 'roxbury': 21674, 'rse.n': 21675, 'rsh.n': 21676, 'rub': 21677, 'ruben': 21678, 'rudolf': 21679, 'rue': 21680, 'rug': 21681, 'rulemaker': 21682, 'rumaila': 21683, 'rumblings': 21684, 'rummage': 21685, 'rumoured': 21686, 'rundown': 21687, 'ruptured': 21688, 'russ': 21689, 'rwandans': 21690, 'rya.i': 21691, 'ryerson': 21692, 'saakashvili': 21693, 'saber': 21694, 'saddled': 21695, 'safire': 21696, 'said\\\\in': 21697, 'sakhalin': 21698, 'salacious': 21699, 'salvaged': 21700, 'salvatore': 21701, \"san'a\": 21702, 'sandton': 21703, 'santini': 21704, 'sask': 21705, 'sasol': 21706, 'sated': 21707, 'sauce': 21708, 'saul': 21709, 'savage': 21710, 'savagery': 21711, 'sawed': 21712, 'sbcspotrssfeedgimme;sz=1x1;ord=200301151450': 21713, 'scandinavian': 21714, 'scanner': 21715, 'scant': 21716, 'scars': 21717, 'sceptics': 21718, 'schiavo': 21719, 'schizophrenia': 21720, 'schmidt': 21721, 'schneider': 21722, 'schoolboy': 21723, 'schoolgirls': 21724, 'schrager': 21725, 'schroder': 21726, 'sco': 21727, 'scoffs': 21728, 'scolding': 21729, 'scooping': 21730, 'scorned': 21731, 'scorpion': 21732, 'scratch': 21733, 'screams': 21734, 'scrub': 21735, 'scrutinize': 21736, 'scum': 21737, 'scupper': 21738, 'scurrying': 21739, 'scuttling': 21740, 'seatbelts': 21741, 'security\\\\council': 21742, 'seesaw': 21743, 'segal': 21744, 'segundo': 21745, 'selig': 21746, 'selvaggio': 21747, 'sempra': 21748, 'sensational': 21749, 'sepr': 21750, 'sepracor': 21751, 'sequels': 21752, 'serene': 21753, 'seth': 21754, 'setters': 21755, 'sev.au': 21756, 'sgp.au': 21757, 'shaalan': 21758, 'shades': 21759, 'shahbaz': 21760, 'shahe': 21761, 'shahid': 21762, 'shaikh': 21763, 'shakai': 21764, 'shakers': 21765, 'shakespeare': 21766, 'shallow': 21767, 'shamkhani': 21768, 'shampoo': 21769, 'sharia': 21770, 'sharon\\\\said': 21771, 'shas': 21772, 'shenzhen': 21773, 'shepherd': 21774, 'sherpao': 21775, 'sherry': 21776, 'shielded': 21777, 'shikoku': 21778, 'shipbuilder': 21779, 'shirley': 21780, 'shopping.com': 21781, 'shoring': 21782, 'shortlist': 21783, 'shortness': 21784, 'shotgun': 21785, 'shouldered': 21786, 'shoving': 21787, 'shqipe': 21788, 'shriver': 21789, 'shujaat': 21790, 'shunning': 21791, 'shyam': 21792, 'sibneft': 21793, 'sidelined': 21794, 'sidestepping': 21795, 'sidesteps': 21796, 'sidewalk': 21797, 'sieves': 21798, 'signatures': 21799, 'simplifies': 21800, 'sing': 21801, 'singhs': 21802, 'singling': 21803, 'sings': 21804, 'siniscalco': 21805, 'sins': 21806, 'siphoning': 21807, 'sipping': 21808, 'sisler': 21809, 'sizzle': 21810, 'sjh.n': 21811, 'sjm.n': 21812, 'sketch': 21813, 'skewed': 21814, 'skirmish': 21815, 'skirmishes': 21816, 'skirmishing': 21817, 'skirting': 21818, 'skirts': 21819, 'sks.n': 21820, 'skyline': 21821, 'skymiles': 21822, 'skyrocket': 21823, 'skyscraper': 21824, 'skyward': 21825, 'slackening': 21826, 'slade': 21827, 'slay': 21828, 'sleeve': 21829, 'slippage': 21830, 'slipper': 21831, 'slobodan\\\\milosevic': 21832, 'slugged': 21833, 'slugger': 21834, 'smack': 21835, 'smackdown': 21836, 'smarter': 21837, 'smartly': 21838, 'smb': 21839, 'smiled': 21840, 'smoky': 21841, 'snacks': 21842, 'snakes': 21843, 'snarled': 21844, 'sne': 21845, 'sneaker': 21846, 'sneaking': 21847, 'sniff': 21848, 'sniffer': 21849, 'snipers': 21850, 'snps.o': 21851, 'snubbing': 21852, 'soaps': 21853, 'sober': 21854, 'sobs': 21855, 'societe': 21856, 'societies': 21857, 'sock': 21858, 'socked': 21859, 'soe': 21860, 'soekarnoputri': 21861, 'soft-': 21862, 'soga': 21863, 'sohu': 21864, 'soils': 21865, 'soka': 21866, 'sol.n': 21867, 'solectron': 21868, 'solicited': 21869, 'solitary': 21870, 'solvent': 21871, 'somehow': 21872, 'songwriter': 21873, 'soothes': 21874, 'sophistication': 21875, 'sorted': 21876, 'sosa': 21877, 'souls': 21878, 'souped': 21879, 'soups': 21880, 'sourav': 21881, 'sours': 21882, 'sow': 21883, 'sp': 21884, 'spaces': 21885, 'spacewalk': 21886, 'spaghettios': 21887, 'spamming': 21888, 'spaniard': 21889, 'spans': 21890, 'sparred': 21891, 'spasm': 21892, 'spdc': 21893, 'spec': 21894, 'specifics': 21895, 'spectators': 21896, 'spiegel': 21897, 'spiking': 21898, 'spine': 21899, 'spines': 21900, 'spirals': 21901, 'splashy': 21902, 'splenda': 21903, 'splendid': 21904, 'spoiled': 21905, 'spoiling': 21906, 'spongiform': 21907, 'spoofing': 21908, 'spooking': 21909, 'sportsmanship': 21910, 'spousal': 21911, 'springboard': 21912, 'spymasters': 21913, 'squabbles': 21914, 'squadron': 21915, 'squandered': 21916, 'squires': 21917, 'squirrel': 21918, 'stack': 21919, 'stadiums': 21920, 'staked': 21921, 'stale': 21922, 'stalk': 21923, 'stanchart': 21924, 'standardize': 21925, 'stardom': 21926, 'starker': 21927, 'stashed': 21928, 'stateside': 21929, 'stats': 21930, 'statue': 21931, 'steamed': 21932, 'steamroller': 21933, 'steers': 21934, 'stefan': 21935, 'stereotypes': 21936, 'stickers': 21937, 'stiffen': 21938, 'stks': 21939, 'stockbuild': 21940, 'stocking': 21941, 'stockings': 21942, 'stockmarket': 21943, 'stragglers': 21944, 'strangest': 21945, 'strattera': 21946, 'straying': 21947, 'streaming': 21948, 'strengths': 21949, 'strine': 21950, 'strives': 21951, 'structural': 21952, 'stt.n': 21953, 'stunts': 21954, 'stuttering': 21955, 'stylist': 21956, 'su': 21957, 'subaru': 21958, 'subsequently': 21959, 'subsides': 21960, 'subsidized': 21961, 'substantive': 21962, 'subtract': 21963, 'succumbing': 21964, 'sugarcane': 21965, 'suharto': 21966, 'suitcase': 21967, 'summertime': 21968, 'summits': 21969, 'sumner': 21970, 'sunk': 21971, 'sunken': 21972, 'sunnyvale': 21973, 'sunw': 21974, 'supercenter': 21975, 'superdome': 21976, 'superjumbo': 21977, 'superman': 21978, 'superpages': 21979, 'supertanker': 21980, 'supervisor': 21981, 'supplement': 21982, 'suppressed': 21983, 'surfing': 21984, 'surpasses': 21985, 'surrogates': 21986, 'swamps': 21987, 'swappers': 21988, 'swat': 21989, 'swathes': 21990, 'sways': 21991, 'swaziland': 21992, 'sweater': 21993, 'swedenburg': 21994, 'sweeter': 21995, 'swine': 21996, 'swoopes': 21997, 'symc.o': 21998, 'syndicated': 21999, 'synstar': 22000, 'synthetic': 22001, 'szmajdzinski': 22002, 't.n': 22003, 'ta': 22004, 'tabs': 22005, 'tacitly': 22006, 'tackled': 22007, 'tad': 22008, 'tadao': 22009, 'tagged': 22010, 'taha': 22011, 'tailored': 22012, 'taint': 22013, 'tak': 22014, 'talented': 22015, 'tamer': 22016, 'tampering': 22017, 'tanager': 22018, 'tang': 22019, 'tantalizing': 22020, 'tapering': 22021, 'tarn': 22022, 'tarnish': 22023, 'tarred': 22024, 'tasks': 22025, 'tatters': 22026, 'taverns': 22027, 'taxman': 22028, 'taxpayer': 22029, 'teamster': 22030, 'technologie': 22031, 'techtronic': 22032, 'teeters': 22033, 'tehrans': 22034, 'teleconference': 22035, 'telephones': 22036, 'telescope': 22037, 'tellabs': 22038, 'temperature': 22039, 'tenacious': 22040, 'tenant': 22041, 'tenants': 22042, 'tended': 22043, 'tendencies': 22044, 'tenterhooks': 22045, 'tenths': 22046, 'terje': 22047, 'term\\\\taxable': 22048, 'terminates': 22049, 'terminations': 22050, 'terminator': 22051, 'terrifying': 22052, 'terrorized': 22053, 'testa': 22054, 'testament': 22055, 'testimonies': 22056, 'testy': 22057, 'texaco': 22058, 'thailands': 22059, 'that\\\\would': 22060, 'thawing': 22061, 'the\\\\': 22062, 'the\\\\european': 22063, 'the\\\\first': 22064, 'the\\\\latest': 22065, 'the\\\\northern': 22066, 'the\\\\outcome': 22067, 'the\\\\presidential': 22068, 'the\\\\rebel': 22069, 'the\\\\summer': 22070, 'the\\\\way': 22071, 'theatrical': 22072, 'thefts': 22073, 'themed': 22074, 'therapeutic': 22075, 'thestreet.com': 22076, 'theworld': 22077, 'thinning': 22078, 'this\\\\year': 22079, 'thorn': 22080, 'thoroughly': 22081, 'thrashed': 22082, 'thrashing': 22083, 'thrives': 22084, 'thronged': 22085, 'thugs': 22086, 'tiananmen': 22087, 'tidy': 22088, 'tiki': 22089, 'tilak': 22090, 'timber': 22091, 'timberlands': 22092, 'timeless': 22093, 'timessquare': 22094, 'tinge': 22095, 'tipple': 22096, 'tiscali': 22097, 'tissues': 22098, 'to\\\\higher': 22099, 'to\\\\meet': 22100, 'to\\\\protect': 22101, 'to\\\\send': 22102, 'to\\\\stop': 22103, 'toast': 22104, 'toddlers': 22105, 'toehold': 22106, 'toil': 22107, 'tolerant': 22108, 'tolerate': 22109, 'tom.n': 22110, 'tomatoes': 22111, 'tooele': 22112, 'tooth': 22113, 'torch': 22114, 'torii': 22115, 'tormented': 22116, 'torrent': 22117, 'torrents': 22118, 'torrid': 22119, 'tort': 22120, 'tortuous': 22121, 'tossing': 22122, 'totalitarian': 22123, 'tottenham': 22124, 'toughened': 22125, 'towed': 22126, 'townspeople': 22127, 'toxins': 22128, 'tracksuits': 22129, 'tract': 22130, 'traditions': 22131, 'trafficker': 22132, 'traits': 22133, 'transfusions': 22134, 'transistors': 22135, 'transmissions': 22136, 'transplanted': 22137, 'transporters': 22138, 'transports': 22139, 'traumatic': 22140, 'travelocity': 22141, 'travelzoo': 22142, 'travers': 22143, 'trawler': 22144, 'trc': 22145, 'treasures': 22146, 'treasurys': 22147, 'treats': 22148, 'trembled': 22149, 'tremendously': 22150, 'trendsetter': 22151, 'tribe': 22152, 'tribes': 22153, 'trickled': 22154, 'trilby': 22155, 'tripling': 22156, 'tripura': 22157, 'triumphantly': 22158, 'troughs': 22159, 'trounces': 22160, 'truckloads': 22161, 'trudeau': 22162, 'trumpeted': 22163, 'truscott': 22164, 'tsg.n': 22165, 'tskhinvali': 22166, 'tsv': 22167, 'tuberculosis': 22168, 'tuesday\\\\reported': 22169, 'tull': 22170, 'tunisians': 22171, 'turkmenistan': 22172, 'turnabout': 22173, 'tweeter': 22174, 'twickenham': 22175, 'tyre': 22176, 'u.': 22177, 'u.s.-russian': 22178, 'u.s.-trained': 22179, 'u.s.\\\\economy': 22180, 'u.s.\\\\official': 22181, 'ubiquitous': 22182, 'ul': 22183, 'ulcers': 22184, 'ulr': 22185, 'ultras': 22186, 'unaudited': 22187, 'unborn': 22188, 'uncensored': 22189, 'uncharted': 22190, 'uncomfortable': 22191, 'undelivered': 22192, 'undemocratic': 22193, 'underline': 22194, 'undermines': 22195, 'underneath': 22196, 'underpinning': 22197, 'underreporting': 22198, 'understands': 22199, 'undertaken': 22200, 'undervalues': 22201, 'underwear': 22202, 'undeterred': 22203, 'undeveloped': 22204, 'undoing': 22205, 'undone': 22206, 'unending': 22207, 'unfathomable': 22208, 'unguarded': 22209, 'unhcr': 22210, 'unimaginable': 22211, 'unintended': 22212, 'unionize': 22213, 'unipost': 22214, 'unisys': 22215, 'unjustly': 22216, 'unlisted': 22217, 'unload': 22218, 'unlocking': 22219, 'unnatural': 22220, 'unprepared': 22221, 'unproven': 22222, 'unraveling': 22223, 'unrepentant': 22224, 'unrivaled': 22225, 'unseemly': 22226, 'unsettled': 22227, 'unsettles': 22228, 'untested': 22229, 'unwieldy': 22230, 'unwillingness': 22231, 'unwitting': 22232, 'update8': 22233, 'uppermost': 22234, 'upsets': 22235, 'upstate': 22236, 'upstream': 22237, 'us-': 22238, 'us\\\\$1.25': 22239, 'us\\\\$12': 22240, 'us\\\\$154': 22241, 'us\\\\$300': 22242, 'us\\\\$5': 22243, 'us\\\\$55': 22244, 'usd': 22245, 'ushered': 22246, 'uspaskich': 22247, 'utmost': 22248, 'uttar': 22249, 'utx.n': 22250, 'vacationers': 22251, 'vagrant': 22252, 'vaile': 22253, 'valenti': 22254, 'valentin': 22255, 'vanessa': 22256, 'vanishes': 22257, 'variable': 22258, 'variations': 22259, 'vastly': 22260, 'vaults': 22261, 'vc.n': 22262, 'vehemently': 22263, 'veiled': 22264, 'veils': 22265, 'velupillai': 22266, 'vengeance': 22267, 'vernon': 22268, 'vero': 22269, 'veterinary': 22270, 'via.n': 22271, 'vic': 22272, 'vicinity': 22273, 'victorian': 22274, 'vied': 22275, 'viewpoint': 22276, 'vilified': 22277, 'vinci': 22278, 'vineyards': 22279, 'violators': 22280, 'viral': 22281, 'virtualization': 22282, 'vitality': 22283, 'vivid': 22284, 'volunteered': 22285, 'vomiting': 22286, 'vos': 22287, 'votorantim': 22288, 'voyager': 22289, 'vpns': 22290, 'vt': 22291, 'vulnerabilities': 22292, 'vz': 22293, 'w.bank': 22294, 'w.t.o.': 22295, 'wading': 22296, 'wails': 22297, 'waist': 22298, 'waking': 22299, 'walloon': 22300, 'walton': 22301, 'warden': 22302, 'wares': 22303, 'warily': 22304, 'warms': 22305, 'warpath': 22306, 'warranties': 22307, 'warrants': 22308, 'wasteland': 22309, 'waterhouse': 22310, 'watertight': 22311, 'weave': 22312, 'webber&lt;/p&gt;&lt;p&gt': 22313, 'websphere': 22314, 'webster': 22315, 'weddings': 22316, 'wednesday\\\\it': 22317, 'wee': 22318, 'weed': 22319, 'weisglass': 22320, 'westjet': 22321, 'westminster': 22322, 'weston': 22323, 'wetherspoon': 22324, 'whaling': 22325, 'whatsoever': 22326, 'whip': 22327, 'whirlpool': 22328, 'whisker': 22329, 'whistling': 22330, 'whittling': 22331, 'whooshing': 22332, 'wilderness': 22333, 'wildfire': 22334, 'wilhelm': 22335, 'wilt': 22336, 'win.n': 22337, 'windward': 22338, 'winemakers': 22339, 'winless': 22340, 'winnings': 22341, 'wiping': 22342, 'wireline': 22343, 'withdrawals': 22344, 'wobbly': 22345, 'wolverhampton': 22346, 'won25,000bn': 22347, 'woodbridge': 22348, \"world's\\\\biggest\": 22349, 'worley': 22350, 'worship': 22351, 'worthiness': 22352, 'worthless': 22353, 'wpo.n': 22354, 'wrangle': 22355, 'wrangled': 22356, 'wreaths': 22357, 'wrists': 22358, 'wrongheaded': 22359, 'wu': 22360, 'wurld': 22361, 'ww2': 22362, 'wwi': 22363, 'wwy.n': 22364, 'wyndham': 22365, 'xiaochuan': 22366, 'ya': 22367, 'yale': 22368, 'yamulky': 22369, 'yangtze': 22370, 'yarmouk': 22371, 'yassar': 22372, 'yawns': 22373, 'year\\\\earnings': 22374, 'yellen': 22375, 'yeltsin': 22376, 'yemenis': 22377, 'yhoo.o': 22378, 'yielded': 22379, 'yorkcrude': 22380, 'yorker': 22381, 'yr': 22382, 'zacarias': 22383, 'zakayev': 22384, 'zalmay': 22385, 'zam': 22386, 'zawahiri': 22387, 'zenit.org).-': 22388, 'zhaoxing': 22389, 'zinc': 22390, 'zine': 22391, 'zionist': 22392})\n",
            "--------------- \n",
            "\n",
            "defaultdict(None, {'3': 0, '1': 1})\n"
          ],
          "name": "stdout"
        }
      ]
    },
    {
      "cell_type": "code",
      "metadata": {
        "id": "PIRNQHH3xkLz"
      },
      "source": [
        "# set devide to \"cuda\"\n",
        "device = torch.device('cuda' if torch.cuda.is_available() else 'cpu')  \n",
        "\n",
        "#set batch size\n",
        "BATCH_SIZE = 64\n",
        "\n",
        "#Load an iterator\n",
        "train_iterator, valid_iterator = BucketIterator.splits(\n",
        "    (train_data, valid_data), \n",
        "    batch_size = BATCH_SIZE,\n",
        "    sort_key = lambda x: len(x.text),\n",
        "    sort_within_batch=True,\n",
        "    device = device)"
      ],
      "execution_count": 47,
      "outputs": []
    },
    {
      "cell_type": "code",
      "metadata": {
        "id": "gmsQb6aIbkJc"
      },
      "source": [
        "# define classifier\n",
        "\n",
        "class classifier(nn.Module):\n",
        "    \n",
        "    #define all the layers used in model\n",
        "    def __init__(self, vocab_size, embedding_dim, hidden_dim, output_dim, n_layers, \n",
        "                 bidirectional, dropout):\n",
        "        \n",
        "        #Constructor\n",
        "        super().__init__()          \n",
        "        \n",
        "        #embedding layer\n",
        "        self.embedding = nn.Embedding(vocab_size, embedding_dim)\n",
        "        \n",
        "        #lstm layer\n",
        "        self.lstm = nn.LSTM(embedding_dim, \n",
        "                           hidden_dim, \n",
        "                           num_layers=n_layers, \n",
        "                           bidirectional=bidirectional, \n",
        "                           dropout=dropout,\n",
        "                           batch_first=True)\n",
        "        \n",
        "        #dense layer\n",
        "        self.fc = nn.Linear(hidden_dim * 2, output_dim)\n",
        "        \n",
        "        #activation function\n",
        "        self.act = nn.Sigmoid()\n",
        "        \n",
        "    def forward(self, text, text_lengths):\n",
        "        \n",
        "        # pass sequences through embedding layer\n",
        "        embedded = self.embedding(text)\n",
        "      \n",
        "        #packed sequence\n",
        "        packed_embedded = nn.utils.rnn.pack_padded_sequence(embedded, text_lengths.cpu(), batch_first=True)\n",
        "            \n",
        "        #pass sequences through LSTM\n",
        "        packed_output, (hidden, cell) = self.lstm(packed_embedded)\n",
        "        \n",
        "        #concat the final forward and backward hidden state\n",
        "        hidden = torch.cat((hidden[-2,:,:], hidden[-1,:,:]), dim = 1)\n",
        "                \n",
        "        #pass hidden state through fully connected layer\n",
        "        dense_outputs=self.fc(hidden)\n",
        "\n",
        "        #Final activation function\n",
        "        outputs=self.act(dense_outputs)\n",
        "        \n",
        "        return outputs"
      ],
      "execution_count": 48,
      "outputs": []
    },
    {
      "cell_type": "code",
      "metadata": {
        "id": "KwJnpCMoxlZu"
      },
      "source": [
        "#define hyperparameters\n",
        "size_of_vocab = len(TEXT.vocab)\n",
        "embedding_dim = 100\n",
        "num_hidden_nodes = 32\n",
        "num_output_nodes = 1\n",
        "num_layers = 2\n",
        "bidirection = True\n",
        "dropout = 0.2\n",
        "\n",
        "#instantiate the model\n",
        "model = classifier(size_of_vocab, embedding_dim, num_hidden_nodes,num_output_nodes, num_layers, \n",
        "                   bidirectional = True, dropout = dropout)"
      ],
      "execution_count": 49,
      "outputs": []
    },
    {
      "cell_type": "code",
      "metadata": {
        "id": "tNRYw3U4yZ3C",
        "colab": {
          "base_uri": "https://localhost:8080/"
        },
        "outputId": "02401def-cdbd-4cd1-d121-22f1e429a0c7"
      },
      "source": [
        "print(model)\n",
        "\n",
        "#No. of trianable parameters\n",
        "def count_parameters(model):\n",
        "    return sum(p.numel() for p in model.parameters() if p.requires_grad)\n",
        "    \n",
        "print(f'The model has {count_parameters(model):,} trainable parameters')\n",
        "\n",
        "#Initialize the pretrained embedding\n",
        "pretrained_embeddings = TEXT.vocab.vectors\n",
        "model.embedding.weight.data.copy_(pretrained_embeddings)\n",
        "\n",
        "print(pretrained_embeddings.shape)"
      ],
      "execution_count": 50,
      "outputs": [
        {
          "output_type": "stream",
          "text": [
            "classifier(\n",
            "  (embedding): Embedding(22393, 100)\n",
            "  (lstm): LSTM(100, 32, num_layers=2, batch_first=True, dropout=0.2, bidirectional=True)\n",
            "  (fc): Linear(in_features=64, out_features=1, bias=True)\n",
            "  (act): Sigmoid()\n",
            ")\n",
            "The model has 2,298,757 trainable parameters\n",
            "torch.Size([22393, 100])\n"
          ],
          "name": "stdout"
        }
      ]
    },
    {
      "cell_type": "code",
      "metadata": {
        "id": "E0RsPJ0JnA98"
      },
      "source": [
        "!pip install transformers"
      ],
      "execution_count": null,
      "outputs": []
    },
    {
      "cell_type": "code",
      "metadata": {
        "id": "KTj4dJSmyeQ3"
      },
      "source": [
        "# optimizer from hugging face transformers\n",
        "from transformers import AdamW\n",
        "\n",
        "# define the optimizer\n",
        "optimizer = AdamW(model.parameters(), lr = 1e-4)\n",
        "\n",
        "#define the loss\n",
        "criterion = nn.BCELoss()\n",
        "\n",
        "#define metric\n",
        "def binary_accuracy(preds, y):\n",
        "    #round predictions to the closest integer\n",
        "    rounded_preds = torch.round(preds)\n",
        "    \n",
        "    correct = (rounded_preds == y).float() \n",
        "    acc = correct.sum() / len(correct)\n",
        "    return acc\n",
        "    \n",
        "#push to cuda if available\n",
        "model = model.to(device)\n",
        "criterion = criterion.to(device)"
      ],
      "execution_count": 53,
      "outputs": []
    },
    {
      "cell_type": "code",
      "metadata": {
        "id": "-BGdMZnDyor0"
      },
      "source": [
        "def train(model, iterator, optimizer, criterion):\n",
        "    \n",
        "    #initialize every epoch \n",
        "    epoch_loss = 0\n",
        "    epoch_acc = 0\n",
        "    \n",
        "    #set the model in training phase\n",
        "    model.train()  \n",
        "    \n",
        "    for batch in iterator:\n",
        "        \n",
        "        #resets the gradients after every batch\n",
        "        optimizer.zero_grad()   \n",
        "        \n",
        "        #retrieve text and no. of words\n",
        "        text, text_lengths = batch.text   \n",
        "        \n",
        "        #convert to 1D tensor\n",
        "        predictions = model(text, text_lengths).squeeze()  \n",
        "        \n",
        "        #compute the loss\n",
        "        loss = criterion(predictions, batch.label)        \n",
        "        \n",
        "        #compute the binary accuracy\n",
        "        acc = binary_accuracy(predictions, batch.label)   \n",
        "        \n",
        "        #backpropage the loss and compute the gradients\n",
        "        loss.backward()       \n",
        "        \n",
        "        #update the weights\n",
        "        optimizer.step()      \n",
        "        \n",
        "        #loss and accuracy\n",
        "        epoch_loss += loss.item()  \n",
        "        epoch_acc += acc.item()    \n",
        "        \n",
        "    return epoch_loss / len(iterator), epoch_acc / len(iterator)"
      ],
      "execution_count": 54,
      "outputs": []
    },
    {
      "cell_type": "code",
      "metadata": {
        "id": "NIns65hzdpw_"
      },
      "source": [
        "def evaluate(model, iterator, criterion):\n",
        "    \n",
        "    #initialize every epoch\n",
        "    epoch_loss = 0\n",
        "    epoch_acc = 0\n",
        "\n",
        "    #deactivating dropout layers\n",
        "    model.eval()\n",
        "    \n",
        "    #deactivates autograd\n",
        "    with torch.no_grad():\n",
        "    \n",
        "        for batch in iterator:\n",
        "        \n",
        "            #retrieve text and no. of words\n",
        "            text, text_lengths = batch.text\n",
        "            \n",
        "            #convert to 1d tensor\n",
        "            predictions = model(text, text_lengths).squeeze()\n",
        "            \n",
        "            #compute loss and accuracy\n",
        "            loss = criterion(predictions, batch.label)\n",
        "            acc = binary_accuracy(predictions, batch.label)\n",
        "            \n",
        "            #keep track of loss and accuracy\n",
        "            epoch_loss += loss.item()\n",
        "            epoch_acc += acc.item()\n",
        "        \n",
        "    return epoch_loss / len(iterator), epoch_acc / len(iterator)"
      ],
      "execution_count": 55,
      "outputs": []
    },
    {
      "cell_type": "code",
      "metadata": {
        "id": "D9NlV4Qmyrc7"
      },
      "source": [
        "N_EPOCHS = 15\n",
        "best_valid_loss = float('inf')\n",
        "best_valid_accuracy = 0\n",
        "\n",
        "for epoch in range(N_EPOCHS):\n",
        "     \n",
        "    #train the model\n",
        "    train_loss, train_acc = train(model, train_iterator, optimizer, criterion)\n",
        "    \n",
        "    #evaluate the model\n",
        "    valid_loss, valid_acc = evaluate(model, valid_iterator, criterion)\n",
        "    \n",
        "    #save the best model\n",
        "    if valid_loss < best_valid_loss:\n",
        "        best_valid_loss = valid_loss\n",
        "        torch.save(model.state_dict(), 'saved_weights.pt')\n",
        "    \n",
        "    print(f'\\tTrain Loss: {train_loss:.3f} | Train Acc: {train_acc*100:.2f}%')\n",
        "    print(f'\\t Val. Loss: {valid_loss:.3f} |  Val. Acc: {valid_acc*100:.2f}%')\n",
        "\n",
        "    if valid_acc > best_valid_accuracy:\n",
        "      best_valid_accuracy = valid_acc "
      ],
      "execution_count": null,
      "outputs": []
    },
    {
      "cell_type": "code",
      "metadata": {
        "id": "Tg_SPWLXy3Dc",
        "colab": {
          "base_uri": "https://localhost:8080/"
        },
        "outputId": "6718c7bc-f61e-47d8-a28e-655fdfeae7fe"
      },
      "source": [
        "print(best_valid_accuracy)"
      ],
      "execution_count": 59,
      "outputs": [
        {
          "output_type": "stream",
          "text": [
            "0.9614322918653488\n"
          ],
          "name": "stdout"
        }
      ]
    },
    {
      "cell_type": "markdown",
      "metadata": {
        "id": "4WZ57VEqew4M"
      },
      "source": [
        "## BERT"
      ]
    },
    {
      "cell_type": "code",
      "metadata": {
        "id": "Gc7UY1zmcDDw"
      },
      "source": [
        "from sklearn import preprocessing\n",
        "from sklearn.model_selection import train_test_split\n",
        "import transformers\n",
        "from transformers import AutoModel, BertTokenizerFast\n",
        "\n",
        "pd.set_option('display.max_colwidth', 200)\n",
        "# specify GPU\n",
        "device = torch.device(\"cuda\")"
      ],
      "execution_count": 60,
      "outputs": []
    },
    {
      "cell_type": "code",
      "metadata": {
        "colab": {
          "base_uri": "https://localhost:8080/"
        },
        "id": "cy3C8DMtcHV9",
        "outputId": "29fd057d-0ae3-4d13-e045-b329b61ff38c"
      },
      "source": [
        "# encode labels\n",
        "le = preprocessing.LabelEncoder()\n",
        "\"\"\"df is the same dataframe as in LSTM, which is 2-class data.\n",
        "Model can be adapted by changing the dimension of output layer)\"\"\"\n",
        "le.fit(df['Class Index'])"
      ],
      "execution_count": 61,
      "outputs": [
        {
          "output_type": "execute_result",
          "data": {
            "text/plain": [
              "LabelEncoder()"
            ]
          },
          "metadata": {
            "tags": []
          },
          "execution_count": 61
        }
      ]
    },
    {
      "cell_type": "code",
      "metadata": {
        "id": "bvatVqxgcHZT"
      },
      "source": [
        "y = le.transform(df['Class Index'])"
      ],
      "execution_count": 62,
      "outputs": []
    },
    {
      "cell_type": "code",
      "metadata": {
        "id": "j411s79ScNTl"
      },
      "source": [
        "# split data\n",
        "train_text, val_text, train_labels, val_labels = train_test_split(df['Title'], y, \n",
        "                                                                    random_state= 42, \n",
        "                                                                    test_size=0.2, \n",
        "                                                                    stratify=y)"
      ],
      "execution_count": 65,
      "outputs": []
    },
    {
      "cell_type": "code",
      "metadata": {
        "colab": {
          "base_uri": "https://localhost:8080/",
          "height": 164,
          "referenced_widgets": [
            "722571ec922b4156bfafc204e58d7645",
            "b8fdfa99293a46588b3ebf48bdcd04b5",
            "7ef8cd1273f64900be53012269e0e37d",
            "d3addfd2b6de4e77bdbfbe9901b437da",
            "8311038a7cb84358a5e713d84ced3027",
            "e50c4de6e887451589565d8e94ea0082",
            "b7901cf7f1144d469e5a316eec2ab47d",
            "7790bd5467e0483fbd57cfa8e1520fa2",
            "ddd834ddcc6246649897f767dc841f87",
            "7671ee2c5861495bb7cfe5a3eaa50379",
            "cb54cb48c9224d1d8f18df154b15a69b",
            "62f7f9f6c8ef4d9aaaaa39911d72a7f6",
            "31fd28121beb409d9f9a4a63c2951964",
            "28dc49c993054c3eaeda032ff4aa9747",
            "d9c53e5430324c19957c4ecec614f2e6",
            "da8598f4d1264b7bb04b106551cb27f4",
            "bebc0bec99b44ae5aff235264a46624b",
            "1c981956b0394e37840345d05710b8d4",
            "79422b1aa1a64ab59c1b84c5186273cc",
            "d934046cc36443f0a8ab4131aa48faac",
            "f157e3b7a21249788e3bf93b0dde7d32",
            "35a6fce1f0eb479d932bfae012669841",
            "3a18ae91ad4540008333d52cda201158",
            "ea5d52bc52b9421d82f32d037b5ffd75"
          ]
        },
        "id": "kpOZriSKcQlH",
        "outputId": "6345799b-92e9-4066-fb77-75b34be3622f"
      },
      "source": [
        "# download tokenizer\n",
        "tokenizer = BertTokenizerFast.from_pretrained('bert-base-uncased')"
      ],
      "execution_count": 66,
      "outputs": [
        {
          "output_type": "display_data",
          "data": {
            "application/vnd.jupyter.widget-view+json": {
              "model_id": "722571ec922b4156bfafc204e58d7645",
              "version_minor": 0,
              "version_major": 2
            },
            "text/plain": [
              "HBox(children=(FloatProgress(value=0.0, description='Downloading', max=231508.0, style=ProgressStyle(descripti…"
            ]
          },
          "metadata": {
            "tags": []
          }
        },
        {
          "output_type": "stream",
          "text": [
            "\n"
          ],
          "name": "stdout"
        },
        {
          "output_type": "display_data",
          "data": {
            "application/vnd.jupyter.widget-view+json": {
              "model_id": "ddd834ddcc6246649897f767dc841f87",
              "version_minor": 0,
              "version_major": 2
            },
            "text/plain": [
              "HBox(children=(FloatProgress(value=0.0, description='Downloading', max=466062.0, style=ProgressStyle(descripti…"
            ]
          },
          "metadata": {
            "tags": []
          }
        },
        {
          "output_type": "stream",
          "text": [
            "\n"
          ],
          "name": "stdout"
        },
        {
          "output_type": "display_data",
          "data": {
            "application/vnd.jupyter.widget-view+json": {
              "model_id": "bebc0bec99b44ae5aff235264a46624b",
              "version_minor": 0,
              "version_major": 2
            },
            "text/plain": [
              "HBox(children=(FloatProgress(value=0.0, description='Downloading', max=28.0, style=ProgressStyle(description_w…"
            ]
          },
          "metadata": {
            "tags": []
          }
        },
        {
          "output_type": "stream",
          "text": [
            "\n"
          ],
          "name": "stdout"
        }
      ]
    },
    {
      "cell_type": "code",
      "metadata": {
        "colab": {
          "base_uri": "https://localhost:8080/"
        },
        "id": "adRO88R5cQog",
        "outputId": "1cb00db8-9357-4727-ac21-42e6e269d304"
      },
      "source": [
        "# get maximum length for max_len parameter\n",
        "seq_len = [len(i.split()) for i in train_text]\n",
        "maxlen = max(seq_len)\n",
        "print(maxlen)"
      ],
      "execution_count": 67,
      "outputs": [
        {
          "output_type": "stream",
          "text": [
            "145\n"
          ],
          "name": "stdout"
        }
      ]
    },
    {
      "cell_type": "code",
      "metadata": {
        "id": "uk2V4Vu0zYGK"
      },
      "source": [
        "# tokenize and encode sequences in the training set\n",
        "tokens_train = tokenizer.batch_encode_plus(\n",
        "    train_text.tolist(),\n",
        "    max_length = maxlen,\n",
        "    padding='max_length',\n",
        "    truncation=True\n",
        ")\n",
        "\n",
        "# tokenize and encode sequences in the validation set\n",
        "tokens_val = tokenizer.batch_encode_plus(\n",
        "    val_text.tolist(),\n",
        "    max_length = maxlen,\n",
        "    padding='max_length',\n",
        "    truncation=True\n",
        ")"
      ],
      "execution_count": 68,
      "outputs": []
    },
    {
      "cell_type": "code",
      "metadata": {
        "id": "a6vLD6pfzbhB"
      },
      "source": [
        "# convert lists to tensors\n",
        "\n",
        "train_seq = torch.tensor(tokens_train['input_ids'])\n",
        "train_mask = torch.tensor(tokens_train['attention_mask'])\n",
        "train_y = torch.tensor(train_labels.tolist())\n",
        "\n",
        "val_seq = torch.tensor(tokens_val['input_ids'])\n",
        "val_mask = torch.tensor(tokens_val['attention_mask'])\n",
        "val_y = torch.tensor(val_labels.tolist())\n"
      ],
      "execution_count": 69,
      "outputs": []
    },
    {
      "cell_type": "code",
      "metadata": {
        "id": "L9O0D0bRgrmw"
      },
      "source": [
        "from torch.utils.data import TensorDataset, DataLoader, RandomSampler, SequentialSampler\n",
        "\n",
        "#define a batch size\n",
        "batch_size = 32\n",
        "\n",
        "# wrap tensors\n",
        "train_data = TensorDataset(train_seq, train_mask, train_y)\n",
        "\n",
        "# sampler for sampling the data during training\n",
        "train_sampler = RandomSampler(train_data)\n",
        "\n",
        "# dataLoader for train set\n",
        "train_dataloader = DataLoader(train_data, sampler=train_sampler, batch_size=batch_size)\n",
        "\n",
        "# wrap tensors\n",
        "val_data = TensorDataset(val_seq, val_mask, val_y)\n",
        "\n",
        "# sampler for sampling the data during training\n",
        "val_sampler = SequentialSampler(val_data)\n",
        "\n",
        "# dataLoader for validation set\n",
        "val_dataloader = DataLoader(val_data, sampler = val_sampler, batch_size=batch_size)"
      ],
      "execution_count": 70,
      "outputs": []
    },
    {
      "cell_type": "code",
      "metadata": {
        "id": "6w_Mwa7izgT6",
        "colab": {
          "base_uri": "https://localhost:8080/",
          "height": 186,
          "referenced_widgets": [
            "d792349e32c64cf9ac34faf60f58dc0f",
            "3982121d80b24a53a68e6bd08c87e616",
            "85f999b60ee14c16b382bb2bc957598e",
            "af45d23de0d242fd8b0a5df2c232393d",
            "5c9864e406c741089fe9660e52c437c0",
            "7ef30e8fdc294e7d895a8bc86b290fbb",
            "5a4e97898e5b49a498e4359d0ca90f4a",
            "d69c223978b24567a8f4ece66cf089f9",
            "c4188f9f5a0a4a4e9281ede6597200b4",
            "b74343363bea43bda9acaf6692a5e236",
            "1e7ce41edc914b01883372eb8e224162",
            "449587e424564a93b0692740c8d5ac1a",
            "36ddc9fce472439588f83ebc1f022352",
            "98cd6fece903401e9fbb018f3c104b96",
            "06805dc5aa7f48cea2336239e9467d94",
            "7764c893d6c941b790fdda3fddc4e9f3"
          ]
        },
        "outputId": "411ca1ff-b8c4-426a-b8fe-15e9407fc2d8"
      },
      "source": [
        "# download the pre-trained model\n",
        "bert = AutoModel.from_pretrained('bert-base-uncased')"
      ],
      "execution_count": 71,
      "outputs": [
        {
          "output_type": "display_data",
          "data": {
            "application/vnd.jupyter.widget-view+json": {
              "model_id": "d792349e32c64cf9ac34faf60f58dc0f",
              "version_minor": 0,
              "version_major": 2
            },
            "text/plain": [
              "HBox(children=(FloatProgress(value=0.0, description='Downloading', max=570.0, style=ProgressStyle(description_…"
            ]
          },
          "metadata": {
            "tags": []
          }
        },
        {
          "output_type": "stream",
          "text": [
            "\n"
          ],
          "name": "stdout"
        },
        {
          "output_type": "display_data",
          "data": {
            "application/vnd.jupyter.widget-view+json": {
              "model_id": "c4188f9f5a0a4a4e9281ede6597200b4",
              "version_minor": 0,
              "version_major": 2
            },
            "text/plain": [
              "HBox(children=(FloatProgress(value=0.0, description='Downloading', max=440473133.0, style=ProgressStyle(descri…"
            ]
          },
          "metadata": {
            "tags": []
          }
        },
        {
          "output_type": "stream",
          "text": [
            "\n"
          ],
          "name": "stdout"
        },
        {
          "output_type": "stream",
          "text": [
            "Some weights of the model checkpoint at bert-base-uncased were not used when initializing BertModel: ['cls.seq_relationship.bias', 'cls.predictions.transform.dense.weight', 'cls.predictions.transform.LayerNorm.weight', 'cls.predictions.decoder.weight', 'cls.predictions.transform.dense.bias', 'cls.predictions.transform.LayerNorm.bias', 'cls.seq_relationship.weight', 'cls.predictions.bias']\n",
            "- This IS expected if you are initializing BertModel from the checkpoint of a model trained on another task or with another architecture (e.g. initializing a BertForSequenceClassification model from a BertForPreTraining model).\n",
            "- This IS NOT expected if you are initializing BertModel from the checkpoint of a model that you expect to be exactly identical (initializing a BertForSequenceClassification model from a BertForSequenceClassification model).\n"
          ],
          "name": "stderr"
        }
      ]
    },
    {
      "cell_type": "code",
      "metadata": {
        "id": "Ho_IA_2rzsHw"
      },
      "source": [
        "# freeze the parameters\n",
        "for param in bert.parameters():\n",
        "    param.requires_grad = False"
      ],
      "execution_count": 72,
      "outputs": []
    },
    {
      "cell_type": "code",
      "metadata": {
        "id": "F2RUxG2WcmmI"
      },
      "source": [
        "class BERT_Classification(nn.Module):\n",
        "\n",
        "    def __init__(self, bert):\n",
        "      \n",
        "      super(BERT_Classification, self).__init__()\n",
        "\n",
        "      self.bert = bert \n",
        "      \n",
        "      # dropout layer\n",
        "      self.dropout = nn.Dropout(0.1)\n",
        "      \n",
        "      # relu activation function\n",
        "      self.relu =  nn.ReLU()\n",
        "\n",
        "      # dense layer 1\n",
        "      self.fc1 = nn.Linear(768,512)\n",
        "      \n",
        "      # dense layer 2 (Output layer)\n",
        "      self.fc2 = nn.Linear(512,2)\n",
        "\n",
        "      #softmax activation function\n",
        "      self.softmax = nn.LogSoftmax(dim=1)\n",
        "\n",
        "    #define the forward pass\n",
        "    def forward(self, sent_id, mask):\n",
        "\n",
        "      #pass the inputs to the model  \n",
        "      _, cls_hs = self.bert(sent_id, attention_mask=mask, return_dict=False)\n",
        "      \n",
        "      x = self.fc1(cls_hs)\n",
        "\n",
        "      x = self.relu(x)\n",
        "\n",
        "      x = self.dropout(x)\n",
        "\n",
        "      # output layer\n",
        "      x = self.fc2(x)\n",
        "      \n",
        "      # apply softmax activation\n",
        "      x = self.softmax(x)\n",
        "\n",
        "      return x"
      ],
      "execution_count": 73,
      "outputs": []
    },
    {
      "cell_type": "code",
      "metadata": {
        "id": "slvW_7EA1PY_"
      },
      "source": [
        "# pass the pre-trained BERT to our define architecture\n",
        "model = BERT_Classification(bert)\n",
        "\n",
        "# push the model to GPU\n",
        "model = model.to(device)"
      ],
      "execution_count": 74,
      "outputs": []
    },
    {
      "cell_type": "code",
      "metadata": {
        "id": "moW1R-ru1Sta"
      },
      "source": [
        "# optimizer from hugging face transformers\n",
        "from transformers import AdamW\n",
        "\n",
        "# define the optimizer\n",
        "optimizer = AdamW(model.parameters(), lr = 1e-4)\n",
        "\n",
        "# define the loss function\n",
        "cross_entropy  = nn.NLLLoss() \n",
        "\n",
        "# number of training epochs\n",
        "epochs = 5"
      ],
      "execution_count": 75,
      "outputs": []
    },
    {
      "cell_type": "code",
      "metadata": {
        "id": "F11SwpWDlMOR"
      },
      "source": [
        "# function to train the model\n",
        "def train():\n",
        "  \n",
        "  model.train()\n",
        "\n",
        "  total_loss, total_accuracy = 0, 0\n",
        "  \n",
        "  # empty list to save model predictions\n",
        "  total_preds=[]\n",
        "  \n",
        "  # iterate over batches\n",
        "  for step,batch in enumerate(train_dataloader):\n",
        "    \n",
        "    # progress update after every 300 batches.\n",
        "    if step % 300 == 0 and not step == 0:\n",
        "      print('  Batch {:>5,}  of  {:>5,}.'.format(step, len(train_dataloader)))\n",
        "\n",
        "    # push the batch to gpu\n",
        "    batch = [r.to(device) for r in batch]\n",
        " \n",
        "    sent_id, mask, labels = batch\n",
        "\n",
        "    # clear previously calculated gradients \n",
        "    model.zero_grad()        \n",
        "\n",
        "    # get model predictions for the current batch\n",
        "    preds = model(sent_id, mask)\n",
        "\n",
        "    # compute the loss between actual and predicted values\n",
        "    loss = cross_entropy(preds, labels)\n",
        "\n",
        "    # add on to the total loss\n",
        "    total_loss = total_loss + loss.item()\n",
        "\n",
        "    # backward pass to calculate the gradients\n",
        "    loss.backward()\n",
        "\n",
        "    # clip the the gradients to 1.0. It helps in preventing the exploding gradient problem\n",
        "    torch.nn.utils.clip_grad_norm_(model.parameters(), 1.0)\n",
        "\n",
        "    # update parameters\n",
        "    optimizer.step()\n",
        "\n",
        "    # model predictions are stored on GPU. So, push it to CPU\n",
        "    preds=preds.detach().cpu().numpy()\n",
        "\n",
        "    # append the model predictions\n",
        "    total_preds.append(preds)\n",
        "\n",
        "  # compute the training loss of the epoch\n",
        "  avg_loss = total_loss / len(train_dataloader)\n",
        "  \n",
        "  # predictions are in the form of (no. of batches, size of batch, no. of classes).\n",
        "  # reshape the predictions in form of (number of samples, no. of classes)\n",
        "  total_preds  = np.concatenate(total_preds, axis=0)\n",
        "\n",
        "  #returns the loss and predictions\n",
        "  return avg_loss, total_preds"
      ],
      "execution_count": 76,
      "outputs": []
    },
    {
      "cell_type": "code",
      "metadata": {
        "id": "_VMogPvzk6bW"
      },
      "source": [
        "# function for evaluating the model\n",
        "def evaluate():\n",
        "  \n",
        "  print(\"\\nEvaluating...\")\n",
        "  \n",
        "  # deactivate dropout layers\n",
        "  model.eval()\n",
        "\n",
        "  total_loss, total_accuracy = 0, 0\n",
        "  \n",
        "  # empty list to save the model predictions\n",
        "  total_preds = []\n",
        "\n",
        "  # iterate over batches\n",
        "  for step,batch in enumerate(val_dataloader):\n",
        "    \n",
        "    # Progress update every 300 batches.\n",
        "    if step % 300 == 0 and not step == 0:\n",
        "      # Report progress.\n",
        "      print('  Batch {:>5,}  of  {:>5,}.'.format(step, len(val_dataloader)))\n",
        "\n",
        "    # push the batch to gpu\n",
        "    batch = [t.to(device) for t in batch]\n",
        "\n",
        "    sent_id, mask, labels = batch\n",
        "\n",
        "    # deactivate autograd\n",
        "    with torch.no_grad():\n",
        "      \n",
        "      # model predictions\n",
        "      preds = model(sent_id, mask)\n",
        "\n",
        "      # compute the validation loss between actual and predicted values\n",
        "      loss = cross_entropy(preds,labels)\n",
        "\n",
        "      total_loss = total_loss + loss.item()\n",
        "\n",
        "      preds = preds.detach().cpu().numpy()\n",
        "\n",
        "      total_preds.append(preds)\n",
        "\n",
        "  # compute the validation loss of the epoch\n",
        "  avg_loss = total_loss / len(val_dataloader) \n",
        "\n",
        "  # reshape the predictions in form of (number of samples, no. of classes)\n",
        "  total_preds  = np.concatenate(total_preds, axis=0)\n",
        "\n",
        "  return avg_loss, total_preds"
      ],
      "execution_count": 77,
      "outputs": []
    },
    {
      "cell_type": "code",
      "metadata": {
        "id": "tfO7WM2bk6gc",
        "colab": {
          "base_uri": "https://localhost:8080/"
        },
        "outputId": "cfffc636-7fd7-41ec-ea7a-b084286e28fc"
      },
      "source": [
        "# set initial loss to infinite\n",
        "best_valid_loss = float('inf')\n",
        "\n",
        "# empty lists to store training and validation loss of each epoch\n",
        "train_losses=[]\n",
        "valid_losses=[]\n",
        "\n",
        "#for each epoch\n",
        "for epoch in range(epochs):\n",
        "     \n",
        "    print('\\n Epoch {:} / {:}'.format(epoch + 1, epochs))\n",
        "    \n",
        "    #train model\n",
        "    train_loss, _ = train()\n",
        "    \n",
        "    #evaluate model\n",
        "    valid_loss, _ = evaluate()\n",
        "    \n",
        "    #save the best model\n",
        "    if valid_loss < best_valid_loss:\n",
        "        best_valid_loss = valid_loss\n",
        "        torch.save(model.state_dict(), 'saved_weights.pt')\n",
        "    \n",
        "    # append training and validation loss\n",
        "    train_losses.append(train_loss)\n",
        "    valid_losses.append(valid_loss)\n",
        "    \n",
        "    print(f'\\nTraining Loss: {train_loss:.3f}')\n",
        "    print(f'Validation Loss: {valid_loss:.3f}')"
      ],
      "execution_count": 78,
      "outputs": [
        {
          "output_type": "stream",
          "text": [
            "\n",
            " Epoch 1 / 5\n",
            "  Batch   300  of  1,595.\n",
            "  Batch   600  of  1,595.\n",
            "  Batch   900  of  1,595.\n",
            "  Batch 1,200  of  1,595.\n",
            "  Batch 1,500  of  1,595.\n",
            "\n",
            "Evaluating...\n",
            "  Batch   300  of    399.\n",
            "\n",
            "Training Loss: 0.318\n",
            "Validation Loss: 0.224\n",
            "\n",
            " Epoch 2 / 5\n",
            "  Batch   300  of  1,595.\n",
            "  Batch   600  of  1,595.\n",
            "  Batch   900  of  1,595.\n",
            "  Batch 1,200  of  1,595.\n",
            "  Batch 1,500  of  1,595.\n",
            "\n",
            "Evaluating...\n",
            "  Batch   300  of    399.\n",
            "\n",
            "Training Loss: 0.226\n",
            "Validation Loss: 0.196\n",
            "\n",
            " Epoch 3 / 5\n",
            "  Batch   300  of  1,595.\n",
            "  Batch   600  of  1,595.\n",
            "  Batch   900  of  1,595.\n",
            "  Batch 1,200  of  1,595.\n",
            "  Batch 1,500  of  1,595.\n",
            "\n",
            "Evaluating...\n",
            "  Batch   300  of    399.\n",
            "\n",
            "Training Loss: 0.215\n",
            "Validation Loss: 0.187\n",
            "\n",
            " Epoch 4 / 5\n",
            "  Batch   300  of  1,595.\n",
            "  Batch   600  of  1,595.\n",
            "  Batch   900  of  1,595.\n",
            "  Batch 1,200  of  1,595.\n",
            "  Batch 1,500  of  1,595.\n",
            "\n",
            "Evaluating...\n",
            "  Batch   300  of    399.\n",
            "\n",
            "Training Loss: 0.209\n",
            "Validation Loss: 0.199\n",
            "\n",
            " Epoch 5 / 5\n",
            "  Batch   300  of  1,595.\n",
            "  Batch   600  of  1,595.\n",
            "  Batch   900  of  1,595.\n",
            "  Batch 1,200  of  1,595.\n",
            "  Batch 1,500  of  1,595.\n",
            "\n",
            "Evaluating...\n",
            "  Batch   300  of    399.\n",
            "\n",
            "Training Loss: 0.205\n",
            "Validation Loss: 0.182\n"
          ],
          "name": "stdout"
        }
      ]
    },
    {
      "cell_type": "code",
      "metadata": {
        "id": "II31nveN1dOx",
        "colab": {
          "base_uri": "https://localhost:8080/"
        },
        "outputId": "da60f067-afcc-4ec1-a0a4-d362d65ee653"
      },
      "source": [
        "# load weights of best saved model\n",
        "path = 'saved_weights.pt'\n",
        "model.load_state_dict(torch.load(path))"
      ],
      "execution_count": 79,
      "outputs": [
        {
          "output_type": "execute_result",
          "data": {
            "text/plain": [
              "<All keys matched successfully>"
            ]
          },
          "metadata": {
            "tags": []
          },
          "execution_count": 79
        }
      ]
    },
    {
      "cell_type": "code",
      "metadata": {
        "id": "3WNOOkkm1yF6",
        "colab": {
          "base_uri": "https://localhost:8080/"
        },
        "outputId": "b9a4b8e3-8789-4027-b8da-bd9ffbf58659"
      },
      "source": [
        "# get validation predictions\n",
        "valid_loss, preds = evaluate()\n",
        "preds = np.argmax(preds, axis = 1)"
      ],
      "execution_count": 80,
      "outputs": [
        {
          "output_type": "stream",
          "text": [
            "\n",
            "Evaluating...\n",
            "  Batch   300  of    399.\n"
          ],
          "name": "stdout"
        }
      ]
    },
    {
      "cell_type": "code",
      "metadata": {
        "colab": {
          "base_uri": "https://localhost:8080/"
        },
        "id": "Pe8A4Ok41hJX",
        "outputId": "1563b4ef-0d3a-4601-a803-2c30bd747ccc"
      },
      "source": [
        "# classification report\n",
        "print(classification_report(val_y, preds))"
      ],
      "execution_count": 81,
      "outputs": [
        {
          "output_type": "stream",
          "text": [
            "              precision    recall  f1-score   support\n",
            "\n",
            "           0       0.95      0.92      0.93      6380\n",
            "           1       0.92      0.95      0.94      6380\n",
            "\n",
            "    accuracy                           0.94     12760\n",
            "   macro avg       0.94      0.94      0.94     12760\n",
            "weighted avg       0.94      0.94      0.94     12760\n",
            "\n"
          ],
          "name": "stdout"
        }
      ]
    },
    {
      "cell_type": "code",
      "metadata": {
        "id": "zTeWMR2e0w-S"
      },
      "source": [
        ""
      ],
      "execution_count": null,
      "outputs": []
    }
  ]
}